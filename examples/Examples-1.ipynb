{
 "cells": [
  {
   "cell_type": "markdown",
   "metadata": {},
   "source": [
    "# `polars_bloomberg` Examples\n",
    "(c) 2024 Marek Ozana"
   ]
  },
  {
   "cell_type": "code",
   "execution_count": 1,
   "metadata": {},
   "outputs": [],
   "source": [
    "# Imports\n",
    "from polars_bloomberg import BQuery\n",
    "from datetime import date"
   ]
  },
  {
   "cell_type": "markdown",
   "metadata": {},
   "source": [
    "## Bloomberg Data Point\n",
    "```python\n",
    "bdp(securities: List[str],\n",
    "    fields: List[str],\n",
    "    overrides: Optional[Sequence] = None,\n",
    "    options: Optional[Dict] = None\n",
    ")\n",
    "```"
   ]
  },
  {
   "cell_type": "code",
   "execution_count": 2,
   "metadata": {},
   "outputs": [
    {
     "data": {
      "text/html": [
       "<div><style>\n",
       ".dataframe > thead > tr,\n",
       ".dataframe > tbody > tr {\n",
       "  text-align: right;\n",
       "  white-space: pre-wrap;\n",
       "}\n",
       "</style>\n",
       "<small>shape: (2, 3)</small><table border=\"1\" class=\"dataframe\"><thead><tr><th>security</th><th>NAME</th><th>PX_LAST</th></tr><tr><td>str</td><td>str</td><td>f64</td></tr></thead><tbody><tr><td>&quot;SPX Index&quot;</td><td>&quot;S&amp;P 500 INDEX&quot;</td><td>6079.69</td></tr><tr><td>&quot;VIX Index&quot;</td><td>&quot;Cboe Volatility Index&quot;</td><td>13.43</td></tr></tbody></table></div>"
      ],
      "text/plain": [
       "shape: (2, 3)\n",
       "┌───────────┬───────────────────────┬─────────┐\n",
       "│ security  ┆ NAME                  ┆ PX_LAST │\n",
       "│ ---       ┆ ---                   ┆ ---     │\n",
       "│ str       ┆ str                   ┆ f64     │\n",
       "╞═══════════╪═══════════════════════╪═════════╡\n",
       "│ SPX Index ┆ S&P 500 INDEX         ┆ 6079.69 │\n",
       "│ VIX Index ┆ Cboe Volatility Index ┆ 13.43   │\n",
       "└───────────┴───────────────────────┴─────────┘"
      ]
     },
     "execution_count": 2,
     "metadata": {},
     "output_type": "execute_result"
    }
   ],
   "source": [
    "# Bloomberg Data Point\n",
    "with BQuery() as bq:\n",
    "    df = bq.bdp([\"SPX Index\", \"VIX Index\"], [\"NAME\", \"PX_LAST\"])\n",
    "df"
   ]
  },
  {
   "cell_type": "markdown",
   "metadata": {},
   "source": [
    "## Bloomberg Data History\n",
    "```python\n",
    "bdh(securities: List[str],\n",
    "    fields: List[str],\n",
    "    start_date: date,\n",
    "    end_date: date,\n",
    "    overrides: Optional[Sequence] = None,\n",
    "    options: Optional[Dict] = None\n",
    ")\n",
    "\n",
    "```"
   ]
  },
  {
   "cell_type": "code",
   "execution_count": 3,
   "metadata": {},
   "outputs": [
    {
     "data": {
      "text/html": [
       "<div><style>\n",
       ".dataframe > thead > tr,\n",
       ".dataframe > tbody > tr {\n",
       "  text-align: right;\n",
       "  white-space: pre-wrap;\n",
       "}\n",
       "</style>\n",
       "<small>shape: (14, 4)</small><table border=\"1\" class=\"dataframe\"><thead><tr><th>security</th><th>date</th><th>PX_LAST</th><th>VOLUME</th></tr><tr><td>str</td><td>date</td><td>f64</td><td>f64</td></tr></thead><tbody><tr><td>&quot;SPY US Equity&quot;</td><td>2019-01-02</td><td>250.18</td><td>1.26925199e8</td></tr><tr><td>&quot;SPY US Equity&quot;</td><td>2019-01-03</td><td>244.21</td><td>1.44140692e8</td></tr><tr><td>&quot;SPY US Equity&quot;</td><td>2019-01-04</td><td>252.39</td><td>1.42628834e8</td></tr><tr><td>&quot;SPY US Equity&quot;</td><td>2019-01-07</td><td>254.38</td><td>1.031391e8</td></tr><tr><td>&quot;SPY US Equity&quot;</td><td>2019-01-08</td><td>256.77</td><td>1.02512587e8</td></tr><tr><td>&hellip;</td><td>&hellip;</td><td>&hellip;</td><td>&hellip;</td></tr><tr><td>&quot;TLT US Equity&quot;</td><td>2019-01-04</td><td>122.11</td><td>1.2970226e7</td></tr><tr><td>&quot;TLT US Equity&quot;</td><td>2019-01-07</td><td>121.75</td><td>8.498104e6</td></tr><tr><td>&quot;TLT US Equity&quot;</td><td>2019-01-08</td><td>121.43</td><td>7.737103e6</td></tr><tr><td>&quot;TLT US Equity&quot;</td><td>2019-01-09</td><td>121.24</td><td>9.349245e6</td></tr><tr><td>&quot;TLT US Equity&quot;</td><td>2019-01-10</td><td>120.46</td><td>8.22286e6</td></tr></tbody></table></div>"
      ],
      "text/plain": [
       "shape: (14, 4)\n",
       "┌───────────────┬────────────┬─────────┬──────────────┐\n",
       "│ security      ┆ date       ┆ PX_LAST ┆ VOLUME       │\n",
       "│ ---           ┆ ---        ┆ ---     ┆ ---          │\n",
       "│ str           ┆ date       ┆ f64     ┆ f64          │\n",
       "╞═══════════════╪════════════╪═════════╪══════════════╡\n",
       "│ SPY US Equity ┆ 2019-01-02 ┆ 250.18  ┆ 1.26925199e8 │\n",
       "│ SPY US Equity ┆ 2019-01-03 ┆ 244.21  ┆ 1.44140692e8 │\n",
       "│ SPY US Equity ┆ 2019-01-04 ┆ 252.39  ┆ 1.42628834e8 │\n",
       "│ SPY US Equity ┆ 2019-01-07 ┆ 254.38  ┆ 1.031391e8   │\n",
       "│ SPY US Equity ┆ 2019-01-08 ┆ 256.77  ┆ 1.02512587e8 │\n",
       "│ …             ┆ …          ┆ …       ┆ …            │\n",
       "│ TLT US Equity ┆ 2019-01-04 ┆ 122.11  ┆ 1.2970226e7  │\n",
       "│ TLT US Equity ┆ 2019-01-07 ┆ 121.75  ┆ 8.498104e6   │\n",
       "│ TLT US Equity ┆ 2019-01-08 ┆ 121.43  ┆ 7.737103e6   │\n",
       "│ TLT US Equity ┆ 2019-01-09 ┆ 121.24  ┆ 9.349245e6   │\n",
       "│ TLT US Equity ┆ 2019-01-10 ┆ 120.46  ┆ 8.22286e6    │\n",
       "└───────────────┴────────────┴─────────┴──────────────┘"
      ]
     },
     "execution_count": 3,
     "metadata": {},
     "output_type": "execute_result"
    }
   ],
   "source": [
    "# Bloomberg Data History\n",
    "with BQuery() as bq:\n",
    "    df = bq.bdh(\n",
    "        [\"SPY US Equity\", \"TLT US Equity\"],\n",
    "        [\"PX_LAST\", \"VOLUME\"],\n",
    "        start_date=date(2019, 1, 1),\n",
    "        end_date=date(2019, 1, 10),\n",
    "        options={\"adjustmentSplit\": True},\n",
    "    )\n",
    "df\n"
   ]
  },
  {
   "cell_type": "markdown",
   "metadata": {},
   "source": [
    "## Bloomberg Query Language\n",
    "```python\n",
    "bql(expression: str)\n",
    "```"
   ]
  },
  {
   "cell_type": "code",
   "execution_count": 4,
   "metadata": {},
   "outputs": [
    {
     "data": {
      "text/html": [
       "<div><style>\n",
       ".dataframe > thead > tr,\n",
       ".dataframe > tbody > tr {\n",
       "  text-align: right;\n",
       "  white-space: pre-wrap;\n",
       "}\n",
       "</style>\n",
       "<small>shape: (11, 7)</small><table border=\"1\" class=\"dataframe\"><thead><tr><th>ID</th><th>#avg_pe</th><th>#avg_pe.REVISION_DATE</th><th>#avg_pe.AS_OF_DATE</th><th>#avg_pe.PERIOD_END_DATE</th><th>#avg_pe.ORIG_IDS</th><th>#avg_pe.GICS_SECTOR_NAME()</th></tr><tr><td>str</td><td>f64</td><td>date</td><td>date</td><td>date</td><td>str</td><td>str</td></tr></thead><tbody><tr><td>&quot;Communication Services&quot;</td><td>26.664228</td><td>2024-11-14</td><td>2024-12-04</td><td>2024-09-30</td><td>null</td><td>&quot;Communication Services&quot;</td></tr><tr><td>&quot;Consumer Discretionary&quot;</td><td>25.798281</td><td>2024-11-27</td><td>2024-12-04</td><td>2024-11-02</td><td>null</td><td>&quot;Consumer Discretionary&quot;</td></tr><tr><td>&quot;Consumer Staples&quot;</td><td>19.562332</td><td>2024-12-04</td><td>2024-12-04</td><td>2024-11-02</td><td>null</td><td>&quot;Consumer Staples&quot;</td></tr><tr><td>&quot;Energy&quot;</td><td>19.171636</td><td>2024-11-12</td><td>2024-12-04</td><td>2024-09-30</td><td>null</td><td>&quot;Energy&quot;</td></tr><tr><td>&quot;Financials&quot;</td><td>38.011491</td><td>2024-11-26</td><td>2024-12-04</td><td>2024-09-30</td><td>null</td><td>&quot;Financials&quot;</td></tr><tr><td>&hellip;</td><td>&hellip;</td><td>&hellip;</td><td>&hellip;</td><td>&hellip;</td><td>&hellip;</td><td>&hellip;</td></tr><tr><td>&quot;Industrials&quot;</td><td>38.41907</td><td>2024-11-26</td><td>2024-12-04</td><td>2024-10-31</td><td>null</td><td>&quot;Industrials&quot;</td></tr><tr><td>&quot;Information Technology&quot;</td><td>57.617628</td><td>2024-12-03</td><td>2024-12-04</td><td>2024-11-02</td><td>null</td><td>&quot;Information Technology&quot;</td></tr><tr><td>&quot;Materials&quot;</td><td>25.683113</td><td>2024-11-21</td><td>2024-12-04</td><td>2024-09-30</td><td>null</td><td>&quot;Materials&quot;</td></tr><tr><td>&quot;Real Estate&quot;</td><td>87.59985</td><td>2024-11-12</td><td>2024-12-04</td><td>2024-09-30</td><td>null</td><td>&quot;Real Estate&quot;</td></tr><tr><td>&quot;Utilities&quot;</td><td>20.36759</td><td>2024-11-08</td><td>2024-12-04</td><td>2024-09-30</td><td>null</td><td>&quot;Utilities&quot;</td></tr></tbody></table></div>"
      ],
      "text/plain": [
       "shape: (11, 7)\n",
       "┌──────────────┬───────────┬──────────────┬──────────────┬─────────────┬─────────────┬─────────────┐\n",
       "│ ID           ┆ #avg_pe   ┆ #avg_pe.REVI ┆ #avg_pe.AS_O ┆ #avg_pe.PER ┆ #avg_pe.ORI ┆ #avg_pe.GIC │\n",
       "│ ---          ┆ ---       ┆ SION_DATE    ┆ F_DATE       ┆ IOD_END_DAT ┆ G_IDS       ┆ S_SECTOR_NA │\n",
       "│ str          ┆ f64       ┆ ---          ┆ ---          ┆ E           ┆ ---         ┆ ME()        │\n",
       "│              ┆           ┆ date         ┆ date         ┆ ---         ┆ str         ┆ ---         │\n",
       "│              ┆           ┆              ┆              ┆ date        ┆             ┆ str         │\n",
       "╞══════════════╪═══════════╪══════════════╪══════════════╪═════════════╪═════════════╪═════════════╡\n",
       "│ Communicatio ┆ 26.664228 ┆ 2024-11-14   ┆ 2024-12-04   ┆ 2024-09-30  ┆ null        ┆ Communicati │\n",
       "│ n Services   ┆           ┆              ┆              ┆             ┆             ┆ on Services │\n",
       "│ Consumer Dis ┆ 25.798281 ┆ 2024-11-27   ┆ 2024-12-04   ┆ 2024-11-02  ┆ null        ┆ Consumer    │\n",
       "│ cretionary   ┆           ┆              ┆              ┆             ┆             ┆ Discretiona │\n",
       "│              ┆           ┆              ┆              ┆             ┆             ┆ ry          │\n",
       "│ Consumer     ┆ 19.562332 ┆ 2024-12-04   ┆ 2024-12-04   ┆ 2024-11-02  ┆ null        ┆ Consumer    │\n",
       "│ Staples      ┆           ┆              ┆              ┆             ┆             ┆ Staples     │\n",
       "│ Energy       ┆ 19.171636 ┆ 2024-11-12   ┆ 2024-12-04   ┆ 2024-09-30  ┆ null        ┆ Energy      │\n",
       "│ Financials   ┆ 38.011491 ┆ 2024-11-26   ┆ 2024-12-04   ┆ 2024-09-30  ┆ null        ┆ Financials  │\n",
       "│ …            ┆ …         ┆ …            ┆ …            ┆ …           ┆ …           ┆ …           │\n",
       "│ Industrials  ┆ 38.41907  ┆ 2024-11-26   ┆ 2024-12-04   ┆ 2024-10-31  ┆ null        ┆ Industrials │\n",
       "│ Information  ┆ 57.617628 ┆ 2024-12-03   ┆ 2024-12-04   ┆ 2024-11-02  ┆ null        ┆ Information │\n",
       "│ Technology   ┆           ┆              ┆              ┆             ┆             ┆ Technology  │\n",
       "│ Materials    ┆ 25.683113 ┆ 2024-11-21   ┆ 2024-12-04   ┆ 2024-09-30  ┆ null        ┆ Materials   │\n",
       "│ Real Estate  ┆ 87.59985  ┆ 2024-11-12   ┆ 2024-12-04   ┆ 2024-09-30  ┆ null        ┆ Real Estate │\n",
       "│ Utilities    ┆ 20.36759  ┆ 2024-11-08   ┆ 2024-12-04   ┆ 2024-09-30  ┆ null        ┆ Utilities   │\n",
       "└──────────────┴───────────┴──────────────┴──────────────┴─────────────┴─────────────┴─────────────┘"
      ]
     },
     "execution_count": 4,
     "metadata": {},
     "output_type": "execute_result"
    }
   ],
   "source": [
    "# Example: average PE ratio per sector\n",
    "query = \"\"\"\n",
    "let(#avg_pe=avg(group(pe_ratio(), gics_sector_name()));)\n",
    "get(#avg_pe) \n",
    "for(members('SPX Index'))\n",
    "\"\"\"\n",
    "with BQuery() as bq:\n",
    "    df = bq.bql(query)\n",
    "df"
   ]
  },
  {
   "cell_type": "code",
   "execution_count": 5,
   "metadata": {},
   "outputs": [
    {
     "data": {
      "text/html": [
       "<div><style>\n",
       ".dataframe > thead > tr,\n",
       ".dataframe > tbody > tr {\n",
       "  text-align: right;\n",
       "  white-space: pre-wrap;\n",
       "}\n",
       "</style>\n",
       "<small>shape: (991, 6)</small><table border=\"1\" class=\"dataframe\"><thead><tr><th>ID</th><th>name()</th><th>#dur</th><th>#dur.DATE</th><th>#zsprd</th><th>#zsprd.DATE</th></tr><tr><td>str</td><td>str</td><td>f64</td><td>date</td><td>f64</td><td>date</td></tr></thead><tbody><tr><td>&quot;YT389519 Corp&quot;</td><td>&quot;AKYATI 48 02/11/25&quot;</td><td>null</td><td>2024-12-04</td><td>null</td><td>2024-12-04</td></tr><tr><td>&quot;ZO366943 Corp&quot;</td><td>&quot;SBIIN 7.74 PERP&quot;</td><td>null</td><td>2024-12-04</td><td>null</td><td>2024-12-04</td></tr><tr><td>&quot;ZO417246 Corp&quot;</td><td>&quot;NAERIN Float PERP&quot;</td><td>null</td><td>2024-12-04</td><td>null</td><td>2024-12-04</td></tr><tr><td>&quot;ZO455769 Corp&quot;</td><td>&quot;CBKIN 8.3 PERP&quot;</td><td>null</td><td>2024-12-04</td><td>null</td><td>2024-12-04</td></tr><tr><td>&quot;ZO684719 Corp&quot;</td><td>&quot;NORC 6 ½ PERP&quot;</td><td>null</td><td>2024-12-04</td><td>null</td><td>2024-12-04</td></tr><tr><td>&hellip;</td><td>&hellip;</td><td>&hellip;</td><td>&hellip;</td><td>&hellip;</td><td>&hellip;</td></tr><tr><td>&quot;ZN373952 Corp&quot;</td><td>&quot;SOCGEN 9 ⅜ PERP&quot;</td><td>2.921201</td><td>2024-12-04</td><td>415.14048</td><td>2024-12-04</td></tr><tr><td>&quot;ZN448028 Corp&quot;</td><td>&quot;MINGNO Float PERP&quot;</td><td>0.222819</td><td>2024-12-04</td><td>254.114</td><td>2024-12-04</td></tr><tr><td>&quot;ZN449141 Corp&quot;</td><td>&quot;MINGNO 7.12 PERP&quot;</td><td>2.603761</td><td>2024-12-04</td><td>253.508096</td><td>2024-12-04</td></tr><tr><td>&quot;ZN485589 Corp&quot;</td><td>&quot;INSTAS Float PERP&quot;</td><td>0.261656</td><td>2024-12-04</td><td>131.772</td><td>2024-12-04</td></tr><tr><td>&quot;ZN486306 Corp&quot;</td><td>&quot;SKGRRK Float PERP&quot;</td><td>0.240176</td><td>2024-12-04</td><td>55.6586</td><td>2024-12-04</td></tr></tbody></table></div>"
      ],
      "text/plain": [
       "shape: (991, 6)\n",
       "┌───────────────┬────────────────────┬──────────┬────────────┬────────────┬─────────────┐\n",
       "│ ID            ┆ name()             ┆ #dur     ┆ #dur.DATE  ┆ #zsprd     ┆ #zsprd.DATE │\n",
       "│ ---           ┆ ---                ┆ ---      ┆ ---        ┆ ---        ┆ ---         │\n",
       "│ str           ┆ str                ┆ f64      ┆ date       ┆ f64        ┆ date        │\n",
       "╞═══════════════╪════════════════════╪══════════╪════════════╪════════════╪═════════════╡\n",
       "│ YT389519 Corp ┆ AKYATI 48 02/11/25 ┆ null     ┆ 2024-12-04 ┆ null       ┆ 2024-12-04  │\n",
       "│ ZO366943 Corp ┆ SBIIN 7.74 PERP    ┆ null     ┆ 2024-12-04 ┆ null       ┆ 2024-12-04  │\n",
       "│ ZO417246 Corp ┆ NAERIN Float PERP  ┆ null     ┆ 2024-12-04 ┆ null       ┆ 2024-12-04  │\n",
       "│ ZO455769 Corp ┆ CBKIN 8.3 PERP     ┆ null     ┆ 2024-12-04 ┆ null       ┆ 2024-12-04  │\n",
       "│ ZO684719 Corp ┆ NORC 6 ½ PERP      ┆ null     ┆ 2024-12-04 ┆ null       ┆ 2024-12-04  │\n",
       "│ …             ┆ …                  ┆ …        ┆ …          ┆ …          ┆ …           │\n",
       "│ ZN373952 Corp ┆ SOCGEN 9 ⅜ PERP    ┆ 2.921201 ┆ 2024-12-04 ┆ 415.14048  ┆ 2024-12-04  │\n",
       "│ ZN448028 Corp ┆ MINGNO Float PERP  ┆ 0.222819 ┆ 2024-12-04 ┆ 254.114    ┆ 2024-12-04  │\n",
       "│ ZN449141 Corp ┆ MINGNO 7.12 PERP   ┆ 2.603761 ┆ 2024-12-04 ┆ 253.508096 ┆ 2024-12-04  │\n",
       "│ ZN485589 Corp ┆ INSTAS Float PERP  ┆ 0.261656 ┆ 2024-12-04 ┆ 131.772    ┆ 2024-12-04  │\n",
       "│ ZN486306 Corp ┆ SKGRRK Float PERP  ┆ 0.240176 ┆ 2024-12-04 ┆ 55.6586    ┆ 2024-12-04  │\n",
       "└───────────────┴────────────────────┴──────────┴────────────┴────────────┴─────────────┘"
      ]
     },
     "execution_count": 5,
     "metadata": {},
     "output_type": "execute_result"
    }
   ],
   "source": [
    "# Example: Duration and ZSpread for search results\n",
    "query=\"\"\"\n",
    "let(#dur=duration(duration_type=MODIFIED); \n",
    "    #zsprd=spread(spread_type=Z);) \n",
    "get(name(), #dur, #zsprd) \n",
    "for(screenresults(type=SRCH, screen_name='@COCO'))\n",
    "\"\"\"\n",
    "\n",
    "with BQuery() as bq:\n",
    "    df = bq.bql(query)\n",
    "df"
   ]
  },
  {
   "cell_type": "code",
   "execution_count": null,
   "metadata": {},
   "outputs": [],
   "source": []
  }
 ],
 "metadata": {
  "kernelspec": {
   "display_name": "v312",
   "language": "python",
   "name": "python3"
  },
  "language_info": {
   "codemirror_mode": {
    "name": "ipython",
    "version": 3
   },
   "file_extension": ".py",
   "mimetype": "text/x-python",
   "name": "python",
   "nbconvert_exporter": "python",
   "pygments_lexer": "ipython3",
   "version": "3.12.7"
  }
 },
 "nbformat": 4,
 "nbformat_minor": 2
}
