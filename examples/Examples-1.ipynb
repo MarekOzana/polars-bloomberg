{
 "cells": [
  {
   "cell_type": "markdown",
   "metadata": {},
   "source": [
    "# `polars_bloomberg` Examples\n",
    "(c) 2024 Marek Ozana"
   ]
  },
  {
   "cell_type": "code",
   "execution_count": 1,
   "metadata": {},
   "outputs": [],
   "source": [
    "# Imports\n",
    "from datetime import date\n",
    "\n",
    "from polars_bloomberg import BQuery"
   ]
  },
  {
   "cell_type": "markdown",
   "metadata": {},
   "source": [
    "## Bloomberg Data Point\n",
    "API:\n",
    "```python\n",
    "bdp(securities: List[str],\n",
    "    fields: List[str],\n",
    "    overrides: Optional[Sequence] = None,\n",
    "    options: Optional[Dict] = None\n",
    ")\n",
    "```"
   ]
  },
  {
   "cell_type": "code",
   "execution_count": 2,
   "metadata": {},
   "outputs": [
    {
     "name": "stdout",
     "output_type": "stream",
     "text": [
      "shape: (1, 2)\n",
      "┌────────────────┬─────────┐\n",
      "│ security       ┆ PX_LAST │\n",
      "│ ---            ┆ ---     │\n",
      "│ str            ┆ f64     │\n",
      "╞════════════════╪═════════╡\n",
      "│ AAPL US Equity ┆ 248.13  │\n",
      "└────────────────┴─────────┘\n"
     ]
    }
   ],
   "source": [
    "# Bloomberg Data Point\n",
    "with BQuery() as bq:\n",
    "    df = bq.bdp([\"AAPL US Equity\"], [\"PX_LAST\"])\n",
    "    print(df)"
   ]
  },
  {
   "cell_type": "code",
   "execution_count": 4,
   "metadata": {},
   "outputs": [
    {
     "name": "stdout",
     "output_type": "stream",
     "text": [
      "shape: (2, 3)\n",
      "┌────────────────┬─────────┬───────┐\n",
      "│ security       ┆ PX_LAST ┆ CRNCY │\n",
      "│ ---            ┆ ---     ┆ ---   │\n",
      "│ str            ┆ f64     ┆ str   │\n",
      "╞════════════════╪═════════╪═══════╡\n",
      "│ AAPL US Equity ┆ 248.13  ┆ USD   │\n",
      "│ SEBA SS Equity ┆ 155.2   ┆ SEK   │\n",
      "└────────────────┴─────────┴───────┘\n"
     ]
    }
   ],
   "source": [
    "with BQuery() as bq:\n",
    "    df = bq.bdp([\"AAPL US Equity\", \"SEBA SS Equity\"], [\"PX_LAST\", \"CRNCY\"])\n",
    "    print(df)"
   ]
  },
  {
   "cell_type": "code",
   "execution_count": 5,
   "metadata": {},
   "outputs": [
    {
     "name": "stdout",
     "output_type": "stream",
     "text": [
      "shape: (2, 5)\n",
      "┌───────────────────┬────────────────┬─────────────┬───────┬─────────────┐\n",
      "│ security          ┆ SECURITY_DES   ┆ YAS_ZSPREAD ┆ CRNCY ┆ NXT_CALL_DT │\n",
      "│ ---               ┆ ---            ┆ ---         ┆ ---   ┆ ---         │\n",
      "│ str               ┆ str            ┆ f64         ┆ str   ┆ date        │\n",
      "╞═══════════════════╪════════════════╪═════════════╪═══════╪═════════════╡\n",
      "│ XS2930103580 Corp ┆ SEB 6 3/4 PERP ┆ 304.676112  ┆ USD   ┆ 2031-11-04  │\n",
      "│ USX60003AC87 Corp ┆ NDAFH 6.3 PERP ┆ 292.477506  ┆ USD   ┆ 2031-09-25  │\n",
      "└───────────────────┴────────────────┴─────────────┴───────┴─────────────┘\n"
     ]
    }
   ],
   "source": [
    "with BQuery() as bq:\n",
    "    df = bq.bdp(\n",
    "        [\"XS2930103580 Corp\", \"USX60003AC87 Corp\"],\n",
    "        [\"SECURITY_DES\", \"YAS_ZSPREAD\", \"CRNCY\", \"NXT_CALL_DT\"],\n",
    "    )\n",
    "    print(df)"
   ]
  },
  {
   "cell_type": "code",
   "execution_count": 7,
   "metadata": {},
   "outputs": [
    {
     "name": "stdout",
     "output_type": "stream",
     "text": [
      "shape: (1, 3)\n",
      "┌───────────────┬─────────┬───────────────────┐\n",
      "│ security      ┆ PX_LAST ┆ CRNCY_ADJ_PX_LAST │\n",
      "│ ---           ┆ ---     ┆ ---               │\n",
      "│ str           ┆ f64     ┆ f64               │\n",
      "╞═══════════════╪═════════╪═══════════════════╡\n",
      "│ IBM US Equity ┆ 230.82  ┆ 2535.174          │\n",
      "└───────────────┴─────────┴───────────────────┘\n"
     ]
    }
   ],
   "source": [
    "with BQuery() as bq:\n",
    "    df = bq.bdp(\n",
    "        [\"IBM US Equity\"],\n",
    "        [\"PX_LAST\", \"CRNCY_ADJ_PX_LAST\"],\n",
    "        overrides=[(\"EQY_FUND_CRNCY\", \"SEK\")],\n",
    "    )\n",
    "    print(df)"
   ]
  },
  {
   "cell_type": "code",
   "execution_count": 8,
   "metadata": {},
   "outputs": [
    {
     "name": "stdout",
     "output_type": "stream",
     "text": [
      "shape: (1, 2)\n",
      "┌───────────────────┬────────────┐\n",
      "│ security          ┆ SETTLE_DT  │\n",
      "│ ---               ┆ ---        │\n",
      "│ str               ┆ date       │\n",
      "╞═══════════════════╪════════════╡\n",
      "│ USX60003AC87 Corp ┆ 2024-10-15 │\n",
      "└───────────────────┴────────────┘\n"
     ]
    }
   ],
   "source": [
    "# Override string dates in format YYYYMMDD\n",
    "with BQuery() as bq:\n",
    "    df = bq.bdp(\n",
    "        [\"USX60003AC87 Corp\"], [\"SETTLE_DT\"],\n",
    "        overrides=[(\"USER_LOCAL_TRADE_DATE\", \"20241014\")],\n",
    "    )\n",
    "    print(df)"
   ]
  },
  {
   "cell_type": "code",
   "execution_count": 9,
   "metadata": {},
   "outputs": [
    {
     "name": "stdout",
     "output_type": "stream",
     "text": [
      "shape: (2, 3)\n",
      "┌───────────────┬────────────┬─────────┐\n",
      "│ security      ┆ SETTLE_DT  ┆ PX_LAST │\n",
      "│ ---           ┆ ---        ┆ ---     │\n",
      "│ str           ┆ date       ┆ f64     │\n",
      "╞═══════════════╪════════════╪═════════╡\n",
      "│ USDSEK Curncy ┆ 2020-07-17 ┆ 10.9778 │\n",
      "│ SEKCZK Curncy ┆ 2020-07-17 ┆ 2.1698  │\n",
      "└───────────────┴────────────┴─────────┘\n"
     ]
    }
   ],
   "source": [
    "# Another override example\n",
    "with BQuery() as bq:\n",
    "    df = bq.bdp(\n",
    "        [\"USDSEK Curncy\", \"SEKCZK Curncy\"],\n",
    "        [\"SETTLE_DT\", \"PX_LAST\"],\n",
    "        overrides=[(\"REFERENCE_DATE\", \"20200715\")],\n",
    "    )\n",
    "    print(df)"
   ]
  },
  {
   "cell_type": "markdown",
   "metadata": {},
   "source": [
    "## Bloomberg Data History\n",
    "```python\n",
    "bdh(securities: List[str],\n",
    "    fields: List[str],\n",
    "    start_date: date,\n",
    "    end_date: date,\n",
    "    overrides: Optional[Sequence] = None,\n",
    "    options: Optional[Dict] = None\n",
    ")\n",
    "\n",
    "```"
   ]
  },
  {
   "cell_type": "code",
   "execution_count": 8,
   "metadata": {},
   "outputs": [
    {
     "data": {
      "text/html": [
       "<div><style>\n",
       ".dataframe > thead > tr,\n",
       ".dataframe > tbody > tr {\n",
       "  text-align: right;\n",
       "  white-space: pre-wrap;\n",
       "}\n",
       "</style>\n",
       "<small>shape: (5, 4)</small><table border=\"1\" class=\"dataframe\"><thead><tr><th>security</th><th>date</th><th>PX_LAST</th><th>VOLUME</th></tr><tr><td>str</td><td>date</td><td>f64</td><td>f64</td></tr></thead><tbody><tr><td>&quot;TLT US Equity&quot;</td><td>2019-01-04</td><td>122.11</td><td>1.2970226e7</td></tr><tr><td>&quot;TLT US Equity&quot;</td><td>2019-01-07</td><td>121.75</td><td>8.498104e6</td></tr><tr><td>&quot;TLT US Equity&quot;</td><td>2019-01-08</td><td>121.43</td><td>7.737103e6</td></tr><tr><td>&quot;TLT US Equity&quot;</td><td>2019-01-09</td><td>121.24</td><td>9.349245e6</td></tr><tr><td>&quot;TLT US Equity&quot;</td><td>2019-01-10</td><td>120.46</td><td>8.22286e6</td></tr></tbody></table></div>"
      ],
      "text/plain": [
       "shape: (5, 4)\n",
       "┌───────────────┬────────────┬─────────┬─────────────┐\n",
       "│ security      ┆ date       ┆ PX_LAST ┆ VOLUME      │\n",
       "│ ---           ┆ ---        ┆ ---     ┆ ---         │\n",
       "│ str           ┆ date       ┆ f64     ┆ f64         │\n",
       "╞═══════════════╪════════════╪═════════╪═════════════╡\n",
       "│ TLT US Equity ┆ 2019-01-04 ┆ 122.11  ┆ 1.2970226e7 │\n",
       "│ TLT US Equity ┆ 2019-01-07 ┆ 121.75  ┆ 8.498104e6  │\n",
       "│ TLT US Equity ┆ 2019-01-08 ┆ 121.43  ┆ 7.737103e6  │\n",
       "│ TLT US Equity ┆ 2019-01-09 ┆ 121.24  ┆ 9.349245e6  │\n",
       "│ TLT US Equity ┆ 2019-01-10 ┆ 120.46  ┆ 8.22286e6   │\n",
       "└───────────────┴────────────┴─────────┴─────────────┘"
      ]
     },
     "execution_count": 8,
     "metadata": {},
     "output_type": "execute_result"
    }
   ],
   "source": [
    "# Bloomberg Data History\n",
    "with BQuery() as bq:\n",
    "    df = bq.bdh(\n",
    "        [\"SPY US Equity\", \"TLT US Equity\"],\n",
    "        [\"PX_LAST\", \"VOLUME\"],\n",
    "        start_date=date(2019, 1, 1),\n",
    "        end_date=date(2019, 1, 10),\n",
    "        options={\"adjustmentSplit\": True},\n",
    "    )\n",
    "df.tail(5)"
   ]
  },
  {
   "cell_type": "code",
   "execution_count": null,
   "metadata": {},
   "outputs": [
    {
     "data": {
      "text/html": [
       "<div><style>\n",
       ".dataframe > thead > tr,\n",
       ".dataframe > tbody > tr {\n",
       "  text-align: right;\n",
       "  white-space: pre-wrap;\n",
       "}\n",
       "</style>\n",
       "<small>shape: (3, 3)</small><table border=\"1\" class=\"dataframe\"><thead><tr><th>security</th><th>date</th><th>PX_LAST</th></tr><tr><td>str</td><td>date</td><td>f64</td></tr></thead><tbody><tr><td>&quot;AAPL US Equity&quot;</td><td>2019-01-31</td><td>41.61</td></tr><tr><td>&quot;AAPL US Equity&quot;</td><td>2019-02-28</td><td>43.288</td></tr><tr><td>&quot;AAPL US Equity&quot;</td><td>2019-03-29</td><td>47.488</td></tr></tbody></table></div>"
      ],
      "text/plain": [
       "shape: (3, 3)\n",
       "┌────────────────┬────────────┬─────────┐\n",
       "│ security       ┆ date       ┆ PX_LAST │\n",
       "│ ---            ┆ ---        ┆ ---     │\n",
       "│ str            ┆ date       ┆ f64     │\n",
       "╞════════════════╪════════════╪═════════╡\n",
       "│ AAPL US Equity ┆ 2019-01-31 ┆ 41.61   │\n",
       "│ AAPL US Equity ┆ 2019-02-28 ┆ 43.288  │\n",
       "│ AAPL US Equity ┆ 2019-03-29 ┆ 47.488  │\n",
       "└────────────────┴────────────┴─────────┘"
      ]
     },
     "execution_count": 9,
     "metadata": {},
     "output_type": "execute_result"
    }
   ],
   "source": [
    "with BQuery() as bq:\n",
    "    df = bq.bdh(\n",
    "        [\"AAPL US Equity\"],\n",
    "        [\"PX_LAST\"],\n",
    "        start_date=date(2019, 1, 1),\n",
    "        end_date=date(2019, 3, 29),\n",
    "        options={\"periodicitySelection\": \"MONTHLY\"},\n",
    "    )\n",
    "df"
   ]
  },
  {
   "cell_type": "markdown",
   "metadata": {},
   "source": [
    "## Bloomberg Query Language\n",
    "```python\n",
    "bql(expression: str)\n",
    "```"
   ]
  },
  {
   "cell_type": "code",
   "execution_count": null,
   "metadata": {},
   "outputs": [
    {
     "name": "stdout",
     "output_type": "stream",
     "text": [
      "shape: (2, 4)\n",
      "┌───────────────┬────────────┬──────────────┬──────────────────┐\n",
      "│ ID            ┆ px_last    ┆ px_last.DATE ┆ px_last.CURRENCY │\n",
      "│ ---           ┆ ---        ┆ ---          ┆ ---              │\n",
      "│ str           ┆ f64        ┆ date         ┆ str              │\n",
      "╞═══════════════╪════════════╪══════════════╪══════════════════╡\n",
      "│ IBM US Equity ┆ 231.024994 ┆ 2024-12-10   ┆ USD              │\n",
      "│ OMX Index     ┆ 2602.806   ┆ 2024-12-10   ┆ SEK              │\n",
      "└───────────────┴────────────┴──────────────┴──────────────────┘\n"
     ]
    }
   ],
   "source": [
    "with BQuery() as bq:\n",
    "    df = bq.bql(\"get(px_last) for(['IBM US Equity', 'OMX Index'])\")\n",
    "df"
   ]
  },
  {
   "cell_type": "code",
   "execution_count": null,
   "metadata": {},
   "outputs": [
    {
     "data": {
      "text/html": [
       "<div><style>\n",
       ".dataframe > thead > tr,\n",
       ".dataframe > tbody > tr {\n",
       "  text-align: right;\n",
       "  white-space: pre-wrap;\n",
       "}\n",
       "</style>\n",
       "<small>shape: (11, 7)</small><table border=\"1\" class=\"dataframe\"><thead><tr><th>ID</th><th>#avg_pe</th><th>#avg_pe.REVISION_DATE</th><th>#avg_pe.AS_OF_DATE</th><th>#avg_pe.PERIOD_END_DATE</th><th>#avg_pe.ORIG_IDS</th><th>#avg_pe.GICS_SECTOR_NAME()</th></tr><tr><td>str</td><td>f64</td><td>date</td><td>date</td><td>date</td><td>str</td><td>str</td></tr></thead><tbody><tr><td>&quot;Communication Services&quot;</td><td>26.418942</td><td>2024-11-14</td><td>2024-12-10</td><td>2024-09-30</td><td>null</td><td>&quot;Communication Services&quot;</td></tr><tr><td>&quot;Consumer Discretionary&quot;</td><td>26.388028</td><td>2024-12-10</td><td>2024-12-10</td><td>2024-11-23</td><td>null</td><td>&quot;Consumer Discretionary&quot;</td></tr><tr><td>&quot;Consumer Staples&quot;</td><td>19.591445</td><td>2024-12-06</td><td>2024-12-10</td><td>2024-11-09</td><td>null</td><td>&quot;Consumer Staples&quot;</td></tr><tr><td>&quot;Energy&quot;</td><td>18.772598</td><td>2024-11-12</td><td>2024-12-10</td><td>2024-09-30</td><td>null</td><td>&quot;Energy&quot;</td></tr><tr><td>&quot;Financials&quot;</td><td>37.344488</td><td>2024-11-26</td><td>2024-12-10</td><td>2024-09-30</td><td>null</td><td>&quot;Financials&quot;</td></tr><tr><td>&hellip;</td><td>&hellip;</td><td>&hellip;</td><td>&hellip;</td><td>&hellip;</td><td>&hellip;</td><td>&hellip;</td></tr><tr><td>&quot;Industrials&quot;</td><td>37.453192</td><td>2024-11-26</td><td>2024-12-10</td><td>2024-10-31</td><td>null</td><td>&quot;Industrials&quot;</td></tr><tr><td>&quot;Information Technology&quot;</td><td>57.043857</td><td>2024-12-09</td><td>2024-12-10</td><td>2024-11-30</td><td>null</td><td>&quot;Information Technology&quot;</td></tr><tr><td>&quot;Materials&quot;</td><td>24.861414</td><td>2024-11-21</td><td>2024-12-10</td><td>2024-09-30</td><td>null</td><td>&quot;Materials&quot;</td></tr><tr><td>&quot;Real Estate&quot;</td><td>86.210904</td><td>2024-11-12</td><td>2024-12-10</td><td>2024-09-30</td><td>null</td><td>&quot;Real Estate&quot;</td></tr><tr><td>&quot;Utilities&quot;</td><td>19.667885</td><td>2024-11-08</td><td>2024-12-10</td><td>2024-09-30</td><td>null</td><td>&quot;Utilities&quot;</td></tr></tbody></table></div>"
      ],
      "text/plain": [
       "shape: (11, 7)\n",
       "┌──────────────┬───────────┬──────────────┬──────────────┬─────────────┬─────────────┬─────────────┐\n",
       "│ ID           ┆ #avg_pe   ┆ #avg_pe.REVI ┆ #avg_pe.AS_O ┆ #avg_pe.PER ┆ #avg_pe.ORI ┆ #avg_pe.GIC │\n",
       "│ ---          ┆ ---       ┆ SION_DATE    ┆ F_DATE       ┆ IOD_END_DAT ┆ G_IDS       ┆ S_SECTOR_NA │\n",
       "│ str          ┆ f64       ┆ ---          ┆ ---          ┆ E           ┆ ---         ┆ ME()        │\n",
       "│              ┆           ┆ date         ┆ date         ┆ ---         ┆ str         ┆ ---         │\n",
       "│              ┆           ┆              ┆              ┆ date        ┆             ┆ str         │\n",
       "╞══════════════╪═══════════╪══════════════╪══════════════╪═════════════╪═════════════╪═════════════╡\n",
       "│ Communicatio ┆ 26.418942 ┆ 2024-11-14   ┆ 2024-12-10   ┆ 2024-09-30  ┆ null        ┆ Communicati │\n",
       "│ n Services   ┆           ┆              ┆              ┆             ┆             ┆ on Services │\n",
       "│ Consumer Dis ┆ 26.388028 ┆ 2024-12-10   ┆ 2024-12-10   ┆ 2024-11-23  ┆ null        ┆ Consumer    │\n",
       "│ cretionary   ┆           ┆              ┆              ┆             ┆             ┆ Discretiona │\n",
       "│              ┆           ┆              ┆              ┆             ┆             ┆ ry          │\n",
       "│ Consumer     ┆ 19.591445 ┆ 2024-12-06   ┆ 2024-12-10   ┆ 2024-11-09  ┆ null        ┆ Consumer    │\n",
       "│ Staples      ┆           ┆              ┆              ┆             ┆             ┆ Staples     │\n",
       "│ Energy       ┆ 18.772598 ┆ 2024-11-12   ┆ 2024-12-10   ┆ 2024-09-30  ┆ null        ┆ Energy      │\n",
       "│ Financials   ┆ 37.344488 ┆ 2024-11-26   ┆ 2024-12-10   ┆ 2024-09-30  ┆ null        ┆ Financials  │\n",
       "│ …            ┆ …         ┆ …            ┆ …            ┆ …           ┆ …           ┆ …           │\n",
       "│ Industrials  ┆ 37.453192 ┆ 2024-11-26   ┆ 2024-12-10   ┆ 2024-10-31  ┆ null        ┆ Industrials │\n",
       "│ Information  ┆ 57.043857 ┆ 2024-12-09   ┆ 2024-12-10   ┆ 2024-11-30  ┆ null        ┆ Information │\n",
       "│ Technology   ┆           ┆              ┆              ┆             ┆             ┆ Technology  │\n",
       "│ Materials    ┆ 24.861414 ┆ 2024-11-21   ┆ 2024-12-10   ┆ 2024-09-30  ┆ null        ┆ Materials   │\n",
       "│ Real Estate  ┆ 86.210904 ┆ 2024-11-12   ┆ 2024-12-10   ┆ 2024-09-30  ┆ null        ┆ Real Estate │\n",
       "│ Utilities    ┆ 19.667885 ┆ 2024-11-08   ┆ 2024-12-10   ┆ 2024-09-30  ┆ null        ┆ Utilities   │\n",
       "└──────────────┴───────────┴──────────────┴──────────────┴─────────────┴─────────────┴─────────────┘"
      ]
     },
     "execution_count": 27,
     "metadata": {},
     "output_type": "execute_result"
    }
   ],
   "source": [
    "# Example: average PE ratio per sector\n",
    "query = \"\"\"\n",
    "let(#avg_pe=avg(group(pe_ratio(), gics_sector_name()));)\n",
    "get(#avg_pe)\n",
    "for(members('SPX Index'))\n",
    "\"\"\"\n",
    "with BQuery() as bq:\n",
    "    df = bq.bql(query)\n",
    "df"
   ]
  },
  {
   "cell_type": "code",
   "execution_count": null,
   "metadata": {},
   "outputs": [
    {
     "name": "stdout",
     "output_type": "stream",
     "text": [
      "shape: (6, 6)\n",
      "┌───────────────┬─────────────────┬──────────┬────────────┬────────────┬─────────────┐\n",
      "│ ID            ┆ name()          ┆ #dur     ┆ #dur.DATE  ┆ #zsprd     ┆ #zsprd.DATE │\n",
      "│ ---           ┆ ---             ┆ ---      ┆ ---        ┆ ---        ┆ ---         │\n",
      "│ str           ┆ str             ┆ f64      ┆ date       ┆ f64        ┆ date        │\n",
      "╞═══════════════╪═════════════════╪══════════╪════════════╪════════════╪═════════════╡\n",
      "│ BW924993 Corp ┆ SEB 6 ⅞ PERP    ┆ 2.244382 ┆ 2024-12-10 ┆ 229.930933 ┆ 2024-12-10  │\n",
      "│ ZO703956 Corp ┆ SHBASS 4 ¾ PERP ┆ 4.958582 ┆ 2024-12-10 ┆ 269.963777 ┆ 2024-12-10  │\n",
      "│ ZO703315 Corp ┆ SHBASS 4 ⅜ PERP ┆ 1.968658 ┆ 2024-12-10 ┆ 232.839648 ┆ 2024-12-10  │\n",
      "│ YU819930 Corp ┆ SEB 6 ¾ PERP    ┆ 5.388785 ┆ 2024-12-10 ┆ 324.70196  ┆ 2024-12-10  │\n",
      "│ ZQ349286 Corp ┆ SEB 5 ⅛ PERP    ┆ 0.409083 ┆ 2024-12-10 ┆ 165.405465 ┆ 2024-12-10  │\n",
      "│ YV402592 Corp ┆ SEB Float PERP  ┆ 0.22527  ┆ 2024-12-10 ┆ 248.756    ┆ 2024-12-10  │\n",
      "└───────────────┴─────────────────┴──────────┴────────────┴────────────┴─────────────┘\n"
     ]
    }
   ],
   "source": [
    "# Example: Duration and ZSpread for search results\n",
    "query=\"\"\"\n",
    "let(#dur=duration(duration_type=MODIFIED);\n",
    "    #zsprd=spread(spread_type=Z);)\n",
    "get(name(), #dur, #zsprd)\n",
    "for(filter(screenresults(type=SRCH, screen_name='@COCO'),\n",
    "           ticker in ['SEB', 'SHBASS']))\n",
    "\"\"\"\n",
    "\n",
    "with BQuery() as bq:\n",
    "    df = bq.bql(query)\n",
    "df"
   ]
  },
  {
   "cell_type": "code",
   "execution_count": null,
   "metadata": {},
   "outputs": [
    {
     "name": "stdout",
     "output_type": "stream",
     "text": [
      "shape: (5, 5)\n",
      "┌───────────┬─────────────────┬──────────────────────┬──────────────────────┬──────────────────────┐\n",
      "│ ID        ┆ #average_spread ┆ #average_spread.DATE ┆ #average_spread.ORIG ┆ #average_spread.#BIN │\n",
      "│ ---       ┆ ---             ┆ ---                  ┆ _IDS                 ┆ S                    │\n",
      "│ str       ┆ f64             ┆ date                 ┆ ---                  ┆ ---                  │\n",
      "│           ┆                 ┆                      ┆ str                  ┆ str                  │\n",
      "╞═══════════╪═════════════════╪══════════════════════╪══════════════════════╪══════════════════════╡\n",
      "│ (1) 0-3   ┆ 30.638311       ┆ 2024-12-10           ┆ QZ552396 Corp        ┆ (1) 0-3              │\n",
      "│ (2) 3-9   ┆ 59.772151       ┆ 2024-12-10           ┆ null                 ┆ (2) 3-9              │\n",
      "│ (3) 9-18  ┆ 106.722341      ┆ 2024-12-10           ┆ BH393780 Corp        ┆ (3) 9-18             │\n",
      "│ (4) 18-30 ┆ 129.945414      ┆ 2024-12-10           ┆ BH393781 Corp        ┆ (4) 18-30            │\n",
      "│ (5) 30+   ┆ 151.318634      ┆ 2024-12-10           ┆ BH393782 Corp        ┆ (5) 30+              │\n",
      "└───────────┴─────────────────┴──────────────────────┴──────────────────────┴──────────────────────┘\n"
     ]
    },
    {
     "data": {
      "text/html": [
       "\n",
       "<style>\n",
       "  #altair-viz-bea197446d264e4b9b4a3e098b4392a8.vega-embed {\n",
       "    width: 100%;\n",
       "    display: flex;\n",
       "  }\n",
       "\n",
       "  #altair-viz-bea197446d264e4b9b4a3e098b4392a8.vega-embed details,\n",
       "  #altair-viz-bea197446d264e4b9b4a3e098b4392a8.vega-embed details summary {\n",
       "    position: relative;\n",
       "  }\n",
       "</style>\n",
       "<div id=\"altair-viz-bea197446d264e4b9b4a3e098b4392a8\"></div>\n",
       "<script type=\"text/javascript\">\n",
       "  var VEGA_DEBUG = (typeof VEGA_DEBUG == \"undefined\") ? {} : VEGA_DEBUG;\n",
       "  (function(spec, embedOpt){\n",
       "    let outputDiv = document.currentScript.previousElementSibling;\n",
       "    if (outputDiv.id !== \"altair-viz-bea197446d264e4b9b4a3e098b4392a8\") {\n",
       "      outputDiv = document.getElementById(\"altair-viz-bea197446d264e4b9b4a3e098b4392a8\");\n",
       "    }\n",
       "    const paths = {\n",
       "      \"vega\": \"https://cdn.jsdelivr.net/npm/vega@5?noext\",\n",
       "      \"vega-lib\": \"https://cdn.jsdelivr.net/npm/vega-lib?noext\",\n",
       "      \"vega-lite\": \"https://cdn.jsdelivr.net/npm/vega-lite@5.20.1?noext\",\n",
       "      \"vega-embed\": \"https://cdn.jsdelivr.net/npm/vega-embed@6?noext\",\n",
       "    };\n",
       "\n",
       "    function maybeLoadScript(lib, version) {\n",
       "      var key = `${lib.replace(\"-\", \"\")}_version`;\n",
       "      return (VEGA_DEBUG[key] == version) ?\n",
       "        Promise.resolve(paths[lib]) :\n",
       "        new Promise(function(resolve, reject) {\n",
       "          var s = document.createElement('script');\n",
       "          document.getElementsByTagName(\"head\")[0].appendChild(s);\n",
       "          s.async = true;\n",
       "          s.onload = () => {\n",
       "            VEGA_DEBUG[key] = version;\n",
       "            return resolve(paths[lib]);\n",
       "          };\n",
       "          s.onerror = () => reject(`Error loading script: ${paths[lib]}`);\n",
       "          s.src = paths[lib];\n",
       "        });\n",
       "    }\n",
       "\n",
       "    function showError(err) {\n",
       "      outputDiv.innerHTML = `<div class=\"error\" style=\"color:red;\">${err}</div>`;\n",
       "      throw err;\n",
       "    }\n",
       "\n",
       "    function displayChart(vegaEmbed) {\n",
       "      vegaEmbed(outputDiv, spec, embedOpt)\n",
       "        .catch(err => showError(`Javascript Error: ${err.message}<br>This usually means there's a typo in your chart specification. See the javascript console for the full traceback.`));\n",
       "    }\n",
       "\n",
       "    if(typeof define === \"function\" && define.amd) {\n",
       "      requirejs.config({paths});\n",
       "      require([\"vega-embed\"], displayChart, err => showError(`Error loading script: ${err.message}`));\n",
       "    } else {\n",
       "      maybeLoadScript(\"vega\", \"5\")\n",
       "        .then(() => maybeLoadScript(\"vega-lite\", \"5.20.1\"))\n",
       "        .then(() => maybeLoadScript(\"vega-embed\", \"6\"))\n",
       "        .catch(showError)\n",
       "        .then(() => displayChart(vegaEmbed));\n",
       "    }\n",
       "  })({\"config\": {\"view\": {\"continuousWidth\": 300, \"continuousHeight\": 300}}, \"data\": {\"name\": \"data-801f0105c2f137aacf83e68239930d6c\"}, \"mark\": {\"type\": \"bar\"}, \"encoding\": {\"tooltip\": [{\"field\": \"ID\", \"type\": \"nominal\"}, {\"field\": \"#average_spread\", \"type\": \"quantitative\"}], \"x\": {\"field\": \"ID\", \"type\": \"nominal\"}, \"y\": {\"field\": \"#average_spread\", \"type\": \"quantitative\"}}, \"params\": [{\"name\": \"param_1\", \"select\": {\"type\": \"interval\", \"encodings\": [\"x\", \"y\"]}, \"bind\": \"scales\"}], \"$schema\": \"https://vega.github.io/schema/vega-lite/v5.20.1.json\", \"datasets\": {\"data-801f0105c2f137aacf83e68239930d6c\": [{\"ID\": \"(1) 0-3\", \"#average_spread\": 30.6383108, \"#average_spread.DATE\": \"2024-12-10T00:00:00\", \"#average_spread.ORIG_IDS\": \"QZ552396 Corp\", \"#average_spread.#BINS\": \"(1) 0-3\"}, {\"ID\": \"(2) 3-9\", \"#average_spread\": 59.772150996666674, \"#average_spread.DATE\": \"2024-12-10T00:00:00\", \"#average_spread.ORIG_IDS\": null, \"#average_spread.#BINS\": \"(2) 3-9\"}, {\"ID\": \"(3) 9-18\", \"#average_spread\": 106.72234053, \"#average_spread.DATE\": \"2024-12-10T00:00:00\", \"#average_spread.ORIG_IDS\": \"BH393780 Corp\", \"#average_spread.#BINS\": \"(3) 9-18\"}, {\"ID\": \"(4) 18-30\", \"#average_spread\": 129.94541384, \"#average_spread.DATE\": \"2024-12-10T00:00:00\", \"#average_spread.ORIG_IDS\": \"BH393781 Corp\", \"#average_spread.#BINS\": \"(4) 18-30\"}, {\"ID\": \"(5) 30+\", \"#average_spread\": 151.31863442, \"#average_spread.DATE\": \"2024-12-10T00:00:00\", \"#average_spread.ORIG_IDS\": \"BH393782 Corp\", \"#average_spread.#BINS\": \"(5) 30+\"}]}}, {\"mode\": \"vega-lite\"});\n",
       "</script>"
      ],
      "text/plain": [
       "alt.Chart(...)"
      ]
     },
     "metadata": {},
     "output_type": "display_data"
    }
   ],
   "source": [
    "# Example: Average spread for an issuer\n",
    "query = \"\"\"\n",
    "let(\n",
    "    #bins = bins(maturity_years,\n",
    "                 [3,9,18,30],\n",
    "                 ['(1) 0-3','(2) 3-9','(3) 9-18','(4) 18-30','(5) 30+']);\n",
    "    #average_spread = avg(group(spread(st=oas),#bins));\n",
    ")\n",
    "get(#average_spread)\n",
    "for(filter(bonds('NVDA US Equity', issuedby = 'ENTITY'),\n",
    "           maturity_years != NA))\n",
    "\"\"\"\n",
    "\n",
    "with BQuery() as bq:\n",
    "    df = bq.bql(query)\n",
    "df.head(5)"
   ]
  },
  {
   "cell_type": "code",
   "execution_count": null,
   "metadata": {},
   "outputs": [
    {
     "data": {
      "text/html": [
       "<div><style>\n",
       ".dataframe > thead > tr,\n",
       ".dataframe > tbody > tr {\n",
       "  text-align: right;\n",
       "  white-space: pre-wrap;\n",
       "}\n",
       "</style>\n",
       "<small>shape: (2, 10)</small><table border=\"1\" class=\"dataframe\"><thead><tr><th>ID</th><th>name()</th><th>#ema20</th><th>#ema20.DATE</th><th>#ema20.CURRENCY</th><th>#ema200</th><th>#ema200.DATE</th><th>#ema200.CURRENCY</th><th>#rsi</th><th>#rsi.DATE</th></tr><tr><td>str</td><td>str</td><td>f64</td><td>date</td><td>str</td><td>f64</td><td>date</td><td>str</td><td>f64</td><td>date</td></tr></thead><tbody><tr><td>&quot;VOLVB SS Equity&quot;</td><td>&quot;Volvo AB&quot;</td><td>278.632944</td><td>2024-12-10</td><td>&quot;SEK&quot;</td><td>268.314068</td><td>2024-12-10</td><td>&quot;SEK&quot;</td><td>71.328102</td><td>2024-12-10</td></tr><tr><td>&quot;SKFB SS Equity&quot;</td><td>&quot;SKF AB&quot;</td><td>212.787284</td><td>2024-12-10</td><td>&quot;SEK&quot;</td><td>204.591927</td><td>2024-12-10</td><td>&quot;SEK&quot;</td><td>75.07462</td><td>2024-12-10</td></tr></tbody></table></div>"
      ],
      "text/plain": [
       "shape: (2, 10)\n",
       "┌───────────┬──────────┬───────────┬───────────┬───┬───────────┬───────────┬───────────┬───────────┐\n",
       "│ ID        ┆ name()   ┆ #ema20    ┆ #ema20.DA ┆ … ┆ #ema200.D ┆ #ema200.C ┆ #rsi      ┆ #rsi.DATE │\n",
       "│ ---       ┆ ---      ┆ ---       ┆ TE        ┆   ┆ ATE       ┆ URRENCY   ┆ ---       ┆ ---       │\n",
       "│ str       ┆ str      ┆ f64       ┆ ---       ┆   ┆ ---       ┆ ---       ┆ f64       ┆ date      │\n",
       "│           ┆          ┆           ┆ date      ┆   ┆ date      ┆ str       ┆           ┆           │\n",
       "╞═══════════╪══════════╪═══════════╪═══════════╪═══╪═══════════╪═══════════╪═══════════╪═══════════╡\n",
       "│ VOLVB SS  ┆ Volvo AB ┆ 278.63294 ┆ 2024-12-1 ┆ … ┆ 2024-12-1 ┆ SEK       ┆ 71.328102 ┆ 2024-12-1 │\n",
       "│ Equity    ┆          ┆ 4         ┆ 0         ┆   ┆ 0         ┆           ┆           ┆ 0         │\n",
       "│ SKFB SS   ┆ SKF AB   ┆ 212.78728 ┆ 2024-12-1 ┆ … ┆ 2024-12-1 ┆ SEK       ┆ 75.07462  ┆ 2024-12-1 │\n",
       "│ Equity    ┆          ┆ 4         ┆ 0         ┆   ┆ 0         ┆           ┆           ┆ 0         │\n",
       "└───────────┴──────────┴───────────┴───────────┴───┴───────────┴───────────┴───────────┴───────────┘"
      ]
     },
     "execution_count": 13,
     "metadata": {},
     "output_type": "execute_result"
    }
   ],
   "source": [
    "# stocks with 20d EMA above 200d EMA and RSI > 70\n",
    "with BQuery() as bq:\n",
    "    df = bq.bql(\n",
    "        \"\"\"\n",
    "        let(#ema20=emavg(period=20);\n",
    "            #ema200=emavg(period=200);\n",
    "            #rsi=rsi(close=px_last());)\n",
    "        get(name(), #ema20, #ema200, #rsi)\n",
    "        for(filter(members('OMX Index'),\n",
    "                    and(#ema20 > #ema200, #rsi > 70)))\n",
    "        with(fill=PREV)\n",
    "        \"\"\"\n",
    "    )\n",
    "df"
   ]
  },
  {
   "cell_type": "code",
   "execution_count": null,
   "metadata": {},
   "outputs": [
    {
     "data": {
      "text/html": [
       "<div><style>\n",
       ".dataframe > thead > tr,\n",
       ".dataframe > tbody > tr {\n",
       "  text-align: right;\n",
       "  white-space: pre-wrap;\n",
       "}\n",
       "</style>\n",
       "<small>shape: (5, 11)</small><table border=\"1\" class=\"dataframe\"><thead><tr><th>ID</th><th>ticker</th><th>cpn()</th><th>cpn().MULTIPLIER</th><th>cpn().CPN_TYP</th><th>nxt_call_dt()</th><th>#ax</th><th>#ax.ASK_DEPTH</th><th>#ax.BID_DEPTH</th><th>#ax.ASK_TOTAL_SIZE</th><th>#ax.BID_TOTAL_SIZE</th></tr><tr><td>str</td><td>str</td><td>f64</td><td>f64</td><td>str</td><td>date</td><td>str</td><td>i64</td><td>i64</td><td>f64</td><td>f64</td></tr></thead><tbody><tr><td>&quot;YU819930 Corp&quot;</td><td>&quot;SEB&quot;</td><td>6.75</td><td>1.0</td><td>&quot;VARIABLE&quot;</td><td>2031-11-04</td><td>&quot;Y&quot;</td><td>2</td><td>3</td><td>6e6</td><td>3.8e6</td></tr><tr><td>&quot;ZF859199 Corp&quot;</td><td>&quot;SWEDA&quot;</td><td>7.75</td><td>1.0</td><td>&quot;VARIABLE&quot;</td><td>2030-03-17</td><td>&quot;Y&quot;</td><td>2</td><td>3</td><td>7e6</td><td>1.1e7</td></tr><tr><td>&quot;ZL122341 Corp&quot;</td><td>&quot;SWEDA&quot;</td><td>7.625</td><td>1.0</td><td>&quot;VARIABLE&quot;</td><td>2028-03-17</td><td>&quot;Y&quot;</td><td>1</td><td>8</td><td>2e6</td><td>3.34e7</td></tr><tr><td>&quot;ZO703315 Corp&quot;</td><td>&quot;SHBASS&quot;</td><td>4.375</td><td>1.0</td><td>&quot;VARIABLE&quot;</td><td>2027-03-01</td><td>&quot;Y&quot;</td><td>null</td><td>3</td><td>null</td><td>1.14e7</td></tr><tr><td>&quot;ZQ349286 Corp&quot;</td><td>&quot;SEB&quot;</td><td>5.125</td><td>1.0</td><td>&quot;VARIABLE&quot;</td><td>2025-05-13</td><td>&quot;Y&quot;</td><td>3</td><td>9</td><td>6.7e6</td><td>5.02e7</td></tr></tbody></table></div>"
      ],
      "text/plain": [
       "shape: (5, 11)\n",
       "┌────────────┬────────┬───────┬────────────┬───┬────────────┬────────────┬────────────┬────────────┐\n",
       "│ ID         ┆ ticker ┆ cpn() ┆ cpn().MULT ┆ … ┆ #ax.ASK_DE ┆ #ax.BID_DE ┆ #ax.ASK_TO ┆ #ax.BID_TO │\n",
       "│ ---        ┆ ---    ┆ ---   ┆ IPLIER     ┆   ┆ PTH        ┆ PTH        ┆ TAL_SIZE   ┆ TAL_SIZE   │\n",
       "│ str        ┆ str    ┆ f64   ┆ ---        ┆   ┆ ---        ┆ ---        ┆ ---        ┆ ---        │\n",
       "│            ┆        ┆       ┆ f64        ┆   ┆ i64        ┆ i64        ┆ f64        ┆ f64        │\n",
       "╞════════════╪════════╪═══════╪════════════╪═══╪════════════╪════════════╪════════════╪════════════╡\n",
       "│ YU819930   ┆ SEB    ┆ 6.75  ┆ 1.0        ┆ … ┆ 2          ┆ 3          ┆ 6e6        ┆ 3.8e6      │\n",
       "│ Corp       ┆        ┆       ┆            ┆   ┆            ┆            ┆            ┆            │\n",
       "│ ZF859199   ┆ SWEDA  ┆ 7.75  ┆ 1.0        ┆ … ┆ 2          ┆ 3          ┆ 7e6        ┆ 1.1e7      │\n",
       "│ Corp       ┆        ┆       ┆            ┆   ┆            ┆            ┆            ┆            │\n",
       "│ ZL122341   ┆ SWEDA  ┆ 7.625 ┆ 1.0        ┆ … ┆ 1          ┆ 8          ┆ 2e6        ┆ 3.34e7     │\n",
       "│ Corp       ┆        ┆       ┆            ┆   ┆            ┆            ┆            ┆            │\n",
       "│ ZO703315   ┆ SHBASS ┆ 4.375 ┆ 1.0        ┆ … ┆ null       ┆ 3          ┆ null       ┆ 1.14e7     │\n",
       "│ Corp       ┆        ┆       ┆            ┆   ┆            ┆            ┆            ┆            │\n",
       "│ ZQ349286   ┆ SEB    ┆ 5.125 ┆ 1.0        ┆ … ┆ 3          ┆ 9          ┆ 6.7e6      ┆ 5.02e7     │\n",
       "│ Corp       ┆        ┆       ┆            ┆   ┆            ┆            ┆            ┆            │\n",
       "└────────────┴────────┴───────┴────────────┴───┴────────────┴────────────┴────────────┴────────────┘"
      ]
     },
     "execution_count": 23,
     "metadata": {},
     "output_type": "execute_result"
    }
   ],
   "source": [
    "query=\"\"\"\n",
    "let(#ax=axes();)\n",
    "get(ticker, cpn(), nxt_call_dt(), #ax)\n",
    "for(filter(bondsuniv(ACTIVE),\n",
    "    crncy()=='USD' and\n",
    "    basel_iii_designation() == 'Additional Tier 1' and\n",
    "    country_iso() == 'SE' and\n",
    "    is_axed('Bid') == True))\n",
    "\"\"\"\n",
    "\n",
    "with BQuery() as bq:\n",
    "    df = bq.bql(query)\n",
    "df.head()"
   ]
  },
  {
   "cell_type": "code",
   "execution_count": null,
   "metadata": {},
   "outputs": [
    {
     "name": "stdout",
     "output_type": "stream",
     "text": [
      "shape: (5, 6)\n",
      "┌───────────────┬───────────────────┬──────────────────┬────────────┬─────────────┬────────────┐\n",
      "│ ID            ┆ name()            ┆ #rank            ┆ #nxt_call  ┆ #oas        ┆ #oas.DATE  │\n",
      "│ ---           ┆ ---               ┆ ---              ┆ ---        ┆ ---         ┆ ---        │\n",
      "│ str           ┆ str               ┆ str              ┆ date       ┆ f64         ┆ date       │\n",
      "╞═══════════════╪═══════════════════╪══════════════════╪════════════╪═════════════╪════════════╡\n",
      "│ YX231113 Corp ┆ GTN 10 ½ 07/15/29 ┆ 1st Lien Secured ┆ 2026-07-15 ┆ 615.798149  ┆ 2024-12-10 │\n",
      "│ BS116983 Corp ┆ GTN 5 ⅜ 11/15/31  ┆ Sr Unsecured     ┆ 2026-11-15 ┆ 1144.393892 ┆ 2024-12-10 │\n",
      "│ AV438089 Corp ┆ GTN 7 05/15/27    ┆ Sr Unsecured     ┆ 2024-12-17 ┆ 389.022271  ┆ 2024-12-10 │\n",
      "│ ZO860846 Corp ┆ GTN 4 ¾ 10/15/30  ┆ Sr Unsecured     ┆ 2025-10-15 ┆ 1184.969597 ┆ 2024-12-10 │\n",
      "│ LW375188 Corp ┆ GTN 5 ⅞ 07/15/26  ┆ Sr Unsecured     ┆ 2025-01-06 ┆ 185.544312  ┆ 2024-12-10 │\n",
      "└───────────────┴───────────────────┴──────────────────┴────────────┴─────────────┴────────────┘\n"
     ]
    },
    {
     "data": {
      "text/html": [
       "\n",
       "<style>\n",
       "  #altair-viz-b20b7a3b040740178cf695dda4294caf.vega-embed {\n",
       "    width: 100%;\n",
       "    display: flex;\n",
       "  }\n",
       "\n",
       "  #altair-viz-b20b7a3b040740178cf695dda4294caf.vega-embed details,\n",
       "  #altair-viz-b20b7a3b040740178cf695dda4294caf.vega-embed details summary {\n",
       "    position: relative;\n",
       "  }\n",
       "</style>\n",
       "<div id=\"altair-viz-b20b7a3b040740178cf695dda4294caf\"></div>\n",
       "<script type=\"text/javascript\">\n",
       "  var VEGA_DEBUG = (typeof VEGA_DEBUG == \"undefined\") ? {} : VEGA_DEBUG;\n",
       "  (function(spec, embedOpt){\n",
       "    let outputDiv = document.currentScript.previousElementSibling;\n",
       "    if (outputDiv.id !== \"altair-viz-b20b7a3b040740178cf695dda4294caf\") {\n",
       "      outputDiv = document.getElementById(\"altair-viz-b20b7a3b040740178cf695dda4294caf\");\n",
       "    }\n",
       "    const paths = {\n",
       "      \"vega\": \"https://cdn.jsdelivr.net/npm/vega@5?noext\",\n",
       "      \"vega-lib\": \"https://cdn.jsdelivr.net/npm/vega-lib?noext\",\n",
       "      \"vega-lite\": \"https://cdn.jsdelivr.net/npm/vega-lite@5.20.1?noext\",\n",
       "      \"vega-embed\": \"https://cdn.jsdelivr.net/npm/vega-embed@6?noext\",\n",
       "    };\n",
       "\n",
       "    function maybeLoadScript(lib, version) {\n",
       "      var key = `${lib.replace(\"-\", \"\")}_version`;\n",
       "      return (VEGA_DEBUG[key] == version) ?\n",
       "        Promise.resolve(paths[lib]) :\n",
       "        new Promise(function(resolve, reject) {\n",
       "          var s = document.createElement('script');\n",
       "          document.getElementsByTagName(\"head\")[0].appendChild(s);\n",
       "          s.async = true;\n",
       "          s.onload = () => {\n",
       "            VEGA_DEBUG[key] = version;\n",
       "            return resolve(paths[lib]);\n",
       "          };\n",
       "          s.onerror = () => reject(`Error loading script: ${paths[lib]}`);\n",
       "          s.src = paths[lib];\n",
       "        });\n",
       "    }\n",
       "\n",
       "    function showError(err) {\n",
       "      outputDiv.innerHTML = `<div class=\"error\" style=\"color:red;\">${err}</div>`;\n",
       "      throw err;\n",
       "    }\n",
       "\n",
       "    function displayChart(vegaEmbed) {\n",
       "      vegaEmbed(outputDiv, spec, embedOpt)\n",
       "        .catch(err => showError(`Javascript Error: ${err.message}<br>This usually means there's a typo in your chart specification. See the javascript console for the full traceback.`));\n",
       "    }\n",
       "\n",
       "    if(typeof define === \"function\" && define.amd) {\n",
       "      requirejs.config({paths});\n",
       "      require([\"vega-embed\"], displayChart, err => showError(`Error loading script: ${err.message}`));\n",
       "    } else {\n",
       "      maybeLoadScript(\"vega\", \"5\")\n",
       "        .then(() => maybeLoadScript(\"vega-lite\", \"5.20.1\"))\n",
       "        .then(() => maybeLoadScript(\"vega-embed\", \"6\"))\n",
       "        .catch(showError)\n",
       "        .then(() => displayChart(vegaEmbed));\n",
       "    }\n",
       "  })({\"config\": {\"view\": {\"continuousWidth\": 300, \"continuousHeight\": 300}}, \"layer\": [{\"mark\": {\"type\": \"point\"}, \"encoding\": {\"shape\": {\"field\": \"#rank\", \"type\": \"nominal\"}, \"tooltip\": [{\"field\": \"#nxt_call\", \"type\": \"temporal\"}, {\"field\": \"#oas\", \"type\": \"quantitative\"}, {\"field\": \"#rank\", \"type\": \"nominal\"}], \"x\": {\"field\": \"#nxt_call\", \"type\": \"temporal\"}, \"y\": {\"field\": \"#oas\", \"type\": \"quantitative\"}}, \"name\": \"view_1\"}, {\"mark\": {\"type\": \"text\", \"baseline\": \"bottom\"}, \"encoding\": {\"shape\": {\"field\": \"#rank\", \"type\": \"nominal\"}, \"text\": {\"field\": \"name()\", \"type\": \"nominal\"}, \"tooltip\": [{\"field\": \"#nxt_call\", \"type\": \"temporal\"}, {\"field\": \"#oas\", \"type\": \"quantitative\"}, {\"field\": \"#rank\", \"type\": \"nominal\"}], \"x\": {\"field\": \"#nxt_call\", \"type\": \"temporal\"}, \"y\": {\"field\": \"#oas\", \"type\": \"quantitative\"}}}], \"data\": {\"name\": \"data-140d99037d9a15bfdfefea22638b9309\"}, \"params\": [{\"name\": \"param_2\", \"select\": {\"type\": \"interval\", \"encodings\": [\"x\", \"y\"]}, \"bind\": \"scales\", \"views\": [\"view_1\"]}], \"$schema\": \"https://vega.github.io/schema/vega-lite/v5.20.1.json\", \"datasets\": {\"data-140d99037d9a15bfdfefea22638b9309\": [{\"ID\": \"YX231113 Corp\", \"name()\": \"GTN 10 \\u00bd 07/15/29\", \"#rank\": \"1st Lien Secured\", \"#nxt_call\": \"2026-07-15T00:00:00\", \"#oas\": 615.7981494, \"#oas.DATE\": \"2024-12-10T00:00:00\"}, {\"ID\": \"BS116983 Corp\", \"name()\": \"GTN 5 \\u215c 11/15/31\", \"#rank\": \"Sr Unsecured\", \"#nxt_call\": \"2026-11-15T00:00:00\", \"#oas\": 1144.39389241, \"#oas.DATE\": \"2024-12-10T00:00:00\"}, {\"ID\": \"AV438089 Corp\", \"name()\": \"GTN 7 05/15/27\", \"#rank\": \"Sr Unsecured\", \"#nxt_call\": \"2024-12-17T00:00:00\", \"#oas\": 389.02227142, \"#oas.DATE\": \"2024-12-10T00:00:00\"}, {\"ID\": \"ZO860846 Corp\", \"name()\": \"GTN 4 \\u00be 10/15/30\", \"#rank\": \"Sr Unsecured\", \"#nxt_call\": \"2025-10-15T00:00:00\", \"#oas\": 1184.96959681, \"#oas.DATE\": \"2024-12-10T00:00:00\"}, {\"ID\": \"LW375188 Corp\", \"name()\": \"GTN 5 \\u215e 07/15/26\", \"#rank\": \"Sr Unsecured\", \"#nxt_call\": \"2025-01-06T00:00:00\", \"#oas\": 185.54431211, \"#oas.DATE\": \"2024-12-10T00:00:00\"}]}}, {\"mode\": \"vega-lite\"});\n",
       "</script>"
      ],
      "text/plain": [
       "alt.LayerChart(...)"
      ]
     },
     "execution_count": 15,
     "metadata": {},
     "output_type": "execute_result"
    }
   ],
   "source": [
    "# Get Bond Universe from Equity Ticker\n",
    "query = \"\"\"\n",
    "let(#rank=normalized_payment_rank();\n",
    "    #oas=spread(st=oas);\n",
    "    #nxt_call=nxt_call_dt();\n",
    "    )\n",
    "get(name(), #rank, #nxt_call, #oas)\n",
    "for(filter(bonds('GTN US Equity'), series() == '144A'))\n",
    "\"\"\"\n",
    "\n",
    "with BQuery() as bq:\n",
    "    df = bq.bql(query)\n",
    "df"
   ]
  },
  {
   "cell_type": "code",
   "execution_count": null,
   "metadata": {},
   "outputs": [
    {
     "name": "stdout",
     "output_type": "stream",
     "text": [
      "shape: (20, 3)\n",
      "┌───────────────┬───────────┬────────────┐\n",
      "│ ID            ┆ #rets     ┆ #rets.DATE │\n",
      "│ ---           ┆ ---       ┆ ---        │\n",
      "│ str           ┆ f64       ┆ date       │\n",
      "╞═══════════════╪═══════════╪════════════╡\n",
      "│ YX231113 Corp ┆ null      ┆ 2024-11-19 │\n",
      "│ YX231113 Corp ┆ 0.005028  ┆ 2024-11-26 │\n",
      "│ YX231113 Corp ┆ 0.000326  ┆ 2024-12-03 │\n",
      "│ YX231113 Corp ┆ 0.000414  ┆ 2024-12-10 │\n",
      "│ BS116983 Corp ┆ null      ┆ 2024-11-19 │\n",
      "│ …             ┆ …         ┆ …          │\n",
      "│ ZO860846 Corp ┆ -0.010198 ┆ 2024-12-10 │\n",
      "│ LW375188 Corp ┆ null      ┆ 2024-11-19 │\n",
      "│ LW375188 Corp ┆ -0.000997 ┆ 2024-11-26 │\n",
      "│ LW375188 Corp ┆ 0.001294  ┆ 2024-12-03 │\n",
      "│ LW375188 Corp ┆ 0.0011    ┆ 2024-12-10 │\n",
      "└───────────────┴───────────┴────────────┘\n"
     ]
    }
   ],
   "source": [
    "# Total Return of GTN Bonds\n",
    "query=\"\"\"\n",
    "let(#rng = range(-3M, 0D);\n",
    "    #rets = return_series(calc_interval=#rng,per=W);\n",
    "    )\n",
    "get(#rets)\n",
    "for(filter(bonds('GTN US Equity'), series() == '144A'))\n",
    "\"\"\"\n",
    "\n",
    "with BQuery() as bq:\n",
    "    df = bq.bql(query)\n",
    "df\n"
   ]
  },
  {
   "cell_type": "code",
   "execution_count": null,
   "metadata": {},
   "outputs": [],
   "source": [
    "# TODO: Fix this query\n",
    "query=\"\"\"\n",
    "    let(#segment=segment_name();\n",
    "        #revenue=sales_Rev_turn(fpt=q, fpr=range(2023Q3, 2024Q3));\n",
    "        )\n",
    "    get(#segment, #revenue)\n",
    "    for(segments('GTN US Equity',type=reported,hierarchy=PRODUCT, level=1))\n",
    "\"\"\"\n",
    "with BQuery() as bq:\n",
    "    df = bq.bql(query)\n",
    "df"
   ]
  }
 ],
 "metadata": {
  "kernelspec": {
   "display_name": ".venv",
   "language": "python",
   "name": "python3"
  },
  "language_info": {
   "codemirror_mode": {
    "name": "ipython",
    "version": 3
   },
   "file_extension": ".py",
   "mimetype": "text/x-python",
   "name": "python",
   "nbconvert_exporter": "python",
   "pygments_lexer": "ipython3",
   "version": "3.12.0"
  }
 },
 "nbformat": 4,
 "nbformat_minor": 4
}
