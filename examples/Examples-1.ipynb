{
 "cells": [
  {
   "cell_type": "markdown",
   "metadata": {},
   "source": [
    "# `polars_bloomberg` Examples\n",
    "(c) 2024 Marek Ozana"
   ]
  },
  {
   "cell_type": "code",
   "execution_count": 2,
   "metadata": {},
   "outputs": [],
   "source": [
    "# Imports\n",
    "from polars_bloomberg import BQuery\n",
    "from datetime import date"
   ]
  },
  {
   "cell_type": "markdown",
   "metadata": {},
   "source": [
    "## Bloomberg Data Point\n",
    "```python\n",
    "bdp(securities: List[str],\n",
    "    fields: List[str],\n",
    "    overrides: Optional[Sequence] = None,\n",
    "    options: Optional[Dict] = None\n",
    ")\n",
    "```"
   ]
  },
  {
   "cell_type": "code",
   "execution_count": 3,
   "metadata": {},
   "outputs": [
    {
     "data": {
      "text/html": [
       "<div><style>\n",
       ".dataframe > thead > tr,\n",
       ".dataframe > tbody > tr {\n",
       "  text-align: right;\n",
       "  white-space: pre-wrap;\n",
       "}\n",
       "</style>\n",
       "<small>shape: (2, 3)</small><table border=\"1\" class=\"dataframe\"><thead><tr><th>security</th><th>NAME</th><th>PX_LAST</th></tr><tr><td>str</td><td>str</td><td>f64</td></tr></thead><tbody><tr><td>&quot;SPX Index&quot;</td><td>&quot;S&amp;P 500 INDEX&quot;</td><td>6044.63</td></tr><tr><td>&quot;VIX Index&quot;</td><td>&quot;Cboe Volatility Index&quot;</td><td>13.41</td></tr></tbody></table></div>"
      ],
      "text/plain": [
       "shape: (2, 3)\n",
       "┌───────────┬───────────────────────┬─────────┐\n",
       "│ security  ┆ NAME                  ┆ PX_LAST │\n",
       "│ ---       ┆ ---                   ┆ ---     │\n",
       "│ str       ┆ str                   ┆ f64     │\n",
       "╞═══════════╪═══════════════════════╪═════════╡\n",
       "│ SPX Index ┆ S&P 500 INDEX         ┆ 6044.63 │\n",
       "│ VIX Index ┆ Cboe Volatility Index ┆ 13.41   │\n",
       "└───────────┴───────────────────────┴─────────┘"
      ]
     },
     "execution_count": 3,
     "metadata": {},
     "output_type": "execute_result"
    }
   ],
   "source": [
    "# Bloomberg Data Point\n",
    "with BQuery() as bq:\n",
    "    df = bq.bdp([\"SPX Index\", \"VIX Index\"], [\"NAME\", \"PX_LAST\"])\n",
    "df"
   ]
  },
  {
   "cell_type": "markdown",
   "metadata": {},
   "source": [
    "## Bloomberg Data History\n",
    "```python\n",
    "bdh(securities: List[str],\n",
    "    fields: List[str],\n",
    "    start_date: date,\n",
    "    end_date: date,\n",
    "    overrides: Optional[Sequence] = None,\n",
    "    options: Optional[Dict] = None\n",
    ")\n",
    "\n",
    "```"
   ]
  },
  {
   "cell_type": "code",
   "execution_count": 4,
   "metadata": {},
   "outputs": [
    {
     "data": {
      "text/html": [
       "<div><style>\n",
       ".dataframe > thead > tr,\n",
       ".dataframe > tbody > tr {\n",
       "  text-align: right;\n",
       "  white-space: pre-wrap;\n",
       "}\n",
       "</style>\n",
       "<small>shape: (14, 4)</small><table border=\"1\" class=\"dataframe\"><thead><tr><th>security</th><th>date</th><th>PX_LAST</th><th>VOLUME</th></tr><tr><td>str</td><td>date</td><td>f64</td><td>f64</td></tr></thead><tbody><tr><td>&quot;SPY US Equity&quot;</td><td>2019-01-02</td><td>250.18</td><td>1.26925199e8</td></tr><tr><td>&quot;SPY US Equity&quot;</td><td>2019-01-03</td><td>244.21</td><td>1.44140692e8</td></tr><tr><td>&quot;SPY US Equity&quot;</td><td>2019-01-04</td><td>252.39</td><td>1.42628834e8</td></tr><tr><td>&quot;SPY US Equity&quot;</td><td>2019-01-07</td><td>254.38</td><td>1.031391e8</td></tr><tr><td>&quot;SPY US Equity&quot;</td><td>2019-01-08</td><td>256.77</td><td>1.02512587e8</td></tr><tr><td>&hellip;</td><td>&hellip;</td><td>&hellip;</td><td>&hellip;</td></tr><tr><td>&quot;TLT US Equity&quot;</td><td>2019-01-04</td><td>122.11</td><td>1.2970226e7</td></tr><tr><td>&quot;TLT US Equity&quot;</td><td>2019-01-07</td><td>121.75</td><td>8.498104e6</td></tr><tr><td>&quot;TLT US Equity&quot;</td><td>2019-01-08</td><td>121.43</td><td>7.737103e6</td></tr><tr><td>&quot;TLT US Equity&quot;</td><td>2019-01-09</td><td>121.24</td><td>9.349245e6</td></tr><tr><td>&quot;TLT US Equity&quot;</td><td>2019-01-10</td><td>120.46</td><td>8.22286e6</td></tr></tbody></table></div>"
      ],
      "text/plain": [
       "shape: (14, 4)\n",
       "┌───────────────┬────────────┬─────────┬──────────────┐\n",
       "│ security      ┆ date       ┆ PX_LAST ┆ VOLUME       │\n",
       "│ ---           ┆ ---        ┆ ---     ┆ ---          │\n",
       "│ str           ┆ date       ┆ f64     ┆ f64          │\n",
       "╞═══════════════╪════════════╪═════════╪══════════════╡\n",
       "│ SPY US Equity ┆ 2019-01-02 ┆ 250.18  ┆ 1.26925199e8 │\n",
       "│ SPY US Equity ┆ 2019-01-03 ┆ 244.21  ┆ 1.44140692e8 │\n",
       "│ SPY US Equity ┆ 2019-01-04 ┆ 252.39  ┆ 1.42628834e8 │\n",
       "│ SPY US Equity ┆ 2019-01-07 ┆ 254.38  ┆ 1.031391e8   │\n",
       "│ SPY US Equity ┆ 2019-01-08 ┆ 256.77  ┆ 1.02512587e8 │\n",
       "│ …             ┆ …          ┆ …       ┆ …            │\n",
       "│ TLT US Equity ┆ 2019-01-04 ┆ 122.11  ┆ 1.2970226e7  │\n",
       "│ TLT US Equity ┆ 2019-01-07 ┆ 121.75  ┆ 8.498104e6   │\n",
       "│ TLT US Equity ┆ 2019-01-08 ┆ 121.43  ┆ 7.737103e6   │\n",
       "│ TLT US Equity ┆ 2019-01-09 ┆ 121.24  ┆ 9.349245e6   │\n",
       "│ TLT US Equity ┆ 2019-01-10 ┆ 120.46  ┆ 8.22286e6    │\n",
       "└───────────────┴────────────┴─────────┴──────────────┘"
      ]
     },
     "execution_count": 4,
     "metadata": {},
     "output_type": "execute_result"
    }
   ],
   "source": [
    "# Bloomberg Data History\n",
    "with BQuery() as bq:\n",
    "    df = bq.bdh(\n",
    "        [\"SPY US Equity\", \"TLT US Equity\"],\n",
    "        [\"PX_LAST\", \"VOLUME\"],\n",
    "        start_date=date(2019, 1, 1),\n",
    "        end_date=date(2019, 1, 10),\n",
    "        options={\"adjustmentSplit\": True},\n",
    "    )\n",
    "df\n"
   ]
  },
  {
   "cell_type": "markdown",
   "metadata": {},
   "source": [
    "## Bloomberg Query Language\n",
    "```python\n",
    "bql(expression: str)\n",
    "```"
   ]
  },
  {
   "cell_type": "code",
   "execution_count": null,
   "metadata": {},
   "outputs": [
    {
     "data": {
      "text/html": [
       "<div><style>\n",
       ".dataframe > thead > tr,\n",
       ".dataframe > tbody > tr {\n",
       "  text-align: right;\n",
       "  white-space: pre-wrap;\n",
       "}\n",
       "</style>\n",
       "<small>shape: (11, 7)</small><table border=\"1\" class=\"dataframe\"><thead><tr><th>ID</th><th>#avg_pe</th><th>#avg_pe.REVISION_DATE</th><th>#avg_pe.AS_OF_DATE</th><th>#avg_pe.PERIOD_END_DATE</th><th>#avg_pe.ORIG_IDS</th><th>#avg_pe.GICS_SECTOR_NAME()</th></tr><tr><td>str</td><td>f64</td><td>str</td><td>str</td><td>str</td><td>null</td><td>str</td></tr></thead><tbody><tr><td>&quot;Communication Services&quot;</td><td>25.779545</td><td>&quot;2024-11-14T00:00:00Z&quot;</td><td>&quot;2024-12-03T00:00:00Z&quot;</td><td>&quot;2024-09-30T00:00:00Z&quot;</td><td>null</td><td>&quot;Communication Services&quot;</td></tr><tr><td>&quot;Consumer Discretionary&quot;</td><td>25.670472</td><td>&quot;2024-11-27T00:00:00Z&quot;</td><td>&quot;2024-12-03T00:00:00Z&quot;</td><td>&quot;2024-11-02T00:00:00Z&quot;</td><td>null</td><td>&quot;Consumer Discretionary&quot;</td></tr><tr><td>&quot;Consumer Staples&quot;</td><td>19.741254</td><td>&quot;2024-11-27T00:00:00Z&quot;</td><td>&quot;2024-12-03T00:00:00Z&quot;</td><td>&quot;2024-11-02T00:00:00Z&quot;</td><td>null</td><td>&quot;Consumer Staples&quot;</td></tr><tr><td>&quot;Energy&quot;</td><td>20.002941</td><td>&quot;2024-11-12T00:00:00Z&quot;</td><td>&quot;2024-12-03T00:00:00Z&quot;</td><td>&quot;2024-09-30T00:00:00Z&quot;</td><td>null</td><td>&quot;Energy&quot;</td></tr><tr><td>&quot;Financials&quot;</td><td>38.209712</td><td>&quot;2024-11-26T00:00:00Z&quot;</td><td>&quot;2024-12-03T00:00:00Z&quot;</td><td>&quot;2024-09-30T00:00:00Z&quot;</td><td>null</td><td>&quot;Financials&quot;</td></tr><tr><td>&hellip;</td><td>&hellip;</td><td>&hellip;</td><td>&hellip;</td><td>&hellip;</td><td>&hellip;</td><td>&hellip;</td></tr><tr><td>&quot;Industrials&quot;</td><td>38.29323</td><td>&quot;2024-11-26T00:00:00Z&quot;</td><td>&quot;2024-12-03T00:00:00Z&quot;</td><td>&quot;2024-10-31T00:00:00Z&quot;</td><td>null</td><td>&quot;Industrials&quot;</td></tr><tr><td>&quot;Information Technology&quot;</td><td>56.769505</td><td>&quot;2024-11-27T00:00:00Z&quot;</td><td>&quot;2024-12-03T00:00:00Z&quot;</td><td>&quot;2024-11-02T00:00:00Z&quot;</td><td>null</td><td>&quot;Information Technology&quot;</td></tr><tr><td>&quot;Materials&quot;</td><td>25.971003</td><td>&quot;2024-11-21T00:00:00Z&quot;</td><td>&quot;2024-12-03T00:00:00Z&quot;</td><td>&quot;2024-09-30T00:00:00Z&quot;</td><td>null</td><td>&quot;Materials&quot;</td></tr><tr><td>&quot;Real Estate&quot;</td><td>87.941056</td><td>&quot;2024-11-12T00:00:00Z&quot;</td><td>&quot;2024-12-03T00:00:00Z&quot;</td><td>&quot;2024-09-30T00:00:00Z&quot;</td><td>null</td><td>&quot;Real Estate&quot;</td></tr><tr><td>&quot;Utilities&quot;</td><td>20.553364</td><td>&quot;2024-11-08T00:00:00Z&quot;</td><td>&quot;2024-12-03T00:00:00Z&quot;</td><td>&quot;2024-09-30T00:00:00Z&quot;</td><td>null</td><td>&quot;Utilities&quot;</td></tr></tbody></table></div>"
      ],
      "text/plain": [
       "shape: (11, 7)\n",
       "┌──────────────┬───────────┬──────────────┬──────────────┬─────────────┬─────────────┬─────────────┐\n",
       "│ ID           ┆ #avg_pe   ┆ #avg_pe.REVI ┆ #avg_pe.AS_O ┆ #avg_pe.PER ┆ #avg_pe.ORI ┆ #avg_pe.GIC │\n",
       "│ ---          ┆ ---       ┆ SION_DATE    ┆ F_DATE       ┆ IOD_END_DAT ┆ G_IDS       ┆ S_SECTOR_NA │\n",
       "│ str          ┆ f64       ┆ ---          ┆ ---          ┆ E           ┆ ---         ┆ ME()        │\n",
       "│              ┆           ┆ str          ┆ str          ┆ ---         ┆ null        ┆ ---         │\n",
       "│              ┆           ┆              ┆              ┆ str         ┆             ┆ str         │\n",
       "╞══════════════╪═══════════╪══════════════╪══════════════╪═════════════╪═════════════╪═════════════╡\n",
       "│ Communicatio ┆ 25.779545 ┆ 2024-11-14T0 ┆ 2024-12-03T0 ┆ 2024-09-30T ┆ null        ┆ Communicati │\n",
       "│ n Services   ┆           ┆ 0:00:00Z     ┆ 0:00:00Z     ┆ 00:00:00Z   ┆             ┆ on Services │\n",
       "│ Consumer Dis ┆ 25.670472 ┆ 2024-11-27T0 ┆ 2024-12-03T0 ┆ 2024-11-02T ┆ null        ┆ Consumer    │\n",
       "│ cretionary   ┆           ┆ 0:00:00Z     ┆ 0:00:00Z     ┆ 00:00:00Z   ┆             ┆ Discretiona │\n",
       "│              ┆           ┆              ┆              ┆             ┆             ┆ ry          │\n",
       "│ Consumer     ┆ 19.741254 ┆ 2024-11-27T0 ┆ 2024-12-03T0 ┆ 2024-11-02T ┆ null        ┆ Consumer    │\n",
       "│ Staples      ┆           ┆ 0:00:00Z     ┆ 0:00:00Z     ┆ 00:00:00Z   ┆             ┆ Staples     │\n",
       "│ Energy       ┆ 20.002941 ┆ 2024-11-12T0 ┆ 2024-12-03T0 ┆ 2024-09-30T ┆ null        ┆ Energy      │\n",
       "│              ┆           ┆ 0:00:00Z     ┆ 0:00:00Z     ┆ 00:00:00Z   ┆             ┆             │\n",
       "│ Financials   ┆ 38.209712 ┆ 2024-11-26T0 ┆ 2024-12-03T0 ┆ 2024-09-30T ┆ null        ┆ Financials  │\n",
       "│              ┆           ┆ 0:00:00Z     ┆ 0:00:00Z     ┆ 00:00:00Z   ┆             ┆             │\n",
       "│ …            ┆ …         ┆ …            ┆ …            ┆ …           ┆ …           ┆ …           │\n",
       "│ Industrials  ┆ 38.29323  ┆ 2024-11-26T0 ┆ 2024-12-03T0 ┆ 2024-10-31T ┆ null        ┆ Industrials │\n",
       "│              ┆           ┆ 0:00:00Z     ┆ 0:00:00Z     ┆ 00:00:00Z   ┆             ┆             │\n",
       "│ Information  ┆ 56.769505 ┆ 2024-11-27T0 ┆ 2024-12-03T0 ┆ 2024-11-02T ┆ null        ┆ Information │\n",
       "│ Technology   ┆           ┆ 0:00:00Z     ┆ 0:00:00Z     ┆ 00:00:00Z   ┆             ┆ Technology  │\n",
       "│ Materials    ┆ 25.971003 ┆ 2024-11-21T0 ┆ 2024-12-03T0 ┆ 2024-09-30T ┆ null        ┆ Materials   │\n",
       "│              ┆           ┆ 0:00:00Z     ┆ 0:00:00Z     ┆ 00:00:00Z   ┆             ┆             │\n",
       "│ Real Estate  ┆ 87.941056 ┆ 2024-11-12T0 ┆ 2024-12-03T0 ┆ 2024-09-30T ┆ null        ┆ Real Estate │\n",
       "│              ┆           ┆ 0:00:00Z     ┆ 0:00:00Z     ┆ 00:00:00Z   ┆             ┆             │\n",
       "│ Utilities    ┆ 20.553364 ┆ 2024-11-08T0 ┆ 2024-12-03T0 ┆ 2024-09-30T ┆ null        ┆ Utilities   │\n",
       "│              ┆           ┆ 0:00:00Z     ┆ 0:00:00Z     ┆ 00:00:00Z   ┆             ┆             │\n",
       "└──────────────┴───────────┴──────────────┴──────────────┴─────────────┴─────────────┴─────────────┘"
      ]
     },
     "execution_count": 6,
     "metadata": {},
     "output_type": "execute_result"
    }
   ],
   "source": [
    "# Example: average PE ratio per sector\n",
    "query = \"\"\"\n",
    "let(#avg_pe=avg(group(pe_ratio(), gics_sector_name()));)\n",
    "get(#avg_pe) \n",
    "for(members('SPX Index'))\n",
    "\"\"\"\n",
    "with BQuery() as bq:\n",
    "    df = bq.bql(query)\n",
    "df"
   ]
  },
  {
   "cell_type": "code",
   "execution_count": 9,
   "metadata": {},
   "outputs": [
    {
     "ename": "ComputeError",
     "evalue": "could not append value: 3.796364 of type: f64 to the builder; make sure that all rows have the same schema or consider increasing `infer_schema_length`\n\nit might also be that a value overflows the data-type's capacity",
     "output_type": "error",
     "traceback": [
      "\u001b[1;31m---------------------------------------------------------------------------\u001b[0m",
      "\u001b[1;31mComputeError\u001b[0m                              Traceback (most recent call last)",
      "Cell \u001b[1;32mIn[9], line 10\u001b[0m\n\u001b[0;32m      2\u001b[0m query\u001b[38;5;241m=\u001b[39m\u001b[38;5;124m\"\"\"\u001b[39m\n\u001b[0;32m      3\u001b[0m \u001b[38;5;124mlet(#dur=duration(duration_type=MODIFIED); \u001b[39m\n\u001b[0;32m      4\u001b[0m \u001b[38;5;124m    #zsprd=spread(spread_type=Z);) \u001b[39m\n\u001b[0;32m      5\u001b[0m \u001b[38;5;124mget(name(), #dur, #zsprd) \u001b[39m\n\u001b[0;32m      6\u001b[0m \u001b[38;5;124mfor(screenresults(type=SRCH, screen_name=\u001b[39m\u001b[38;5;124m'\u001b[39m\u001b[38;5;124m@COCO\u001b[39m\u001b[38;5;124m'\u001b[39m\u001b[38;5;124m))\u001b[39m\n\u001b[0;32m      7\u001b[0m \u001b[38;5;124m\"\"\"\u001b[39m\n\u001b[0;32m      9\u001b[0m \u001b[38;5;28;01mwith\u001b[39;00m BQuery() \u001b[38;5;28;01mas\u001b[39;00m bq:\n\u001b[1;32m---> 10\u001b[0m     df \u001b[38;5;241m=\u001b[39m \u001b[43mbq\u001b[49m\u001b[38;5;241;43m.\u001b[39;49m\u001b[43mbql\u001b[49m\u001b[43m(\u001b[49m\u001b[43mquery\u001b[49m\u001b[43m)\u001b[49m\n\u001b[0;32m     11\u001b[0m df\n",
      "File \u001b[1;32mc:\\Users\\s6981f\\Documents\\Projects\\polars-bloomberg\\polars_bloomberg\\plbbg.py:118\u001b[0m, in \u001b[0;36mBQuery.bql\u001b[1;34m(self, expression, overrides, options)\u001b[0m\n\u001b[0;32m    116\u001b[0m responses \u001b[38;5;241m=\u001b[39m \u001b[38;5;28mself\u001b[39m\u001b[38;5;241m.\u001b[39m_send_request(request)\n\u001b[0;32m    117\u001b[0m data \u001b[38;5;241m=\u001b[39m \u001b[38;5;28mself\u001b[39m\u001b[38;5;241m.\u001b[39m_parse_bql_responses(responses)\n\u001b[1;32m--> 118\u001b[0m \u001b[38;5;28;01mreturn\u001b[39;00m \u001b[43mpl\u001b[49m\u001b[38;5;241;43m.\u001b[39;49m\u001b[43mDataFrame\u001b[49m\u001b[43m(\u001b[49m\u001b[43mdata\u001b[49m\u001b[43m)\u001b[49m\n",
      "File \u001b[1;32mc:\\Users\\s6981f\\Envs\\v312\\Lib\\site-packages\\polars\\dataframe\\frame.py:370\u001b[0m, in \u001b[0;36mDataFrame.__init__\u001b[1;34m(self, data, schema, schema_overrides, strict, orient, infer_schema_length, nan_to_null)\u001b[0m\n\u001b[0;32m    361\u001b[0m     \u001b[38;5;28mself\u001b[39m\u001b[38;5;241m.\u001b[39m_df \u001b[38;5;241m=\u001b[39m dict_to_pydf(\n\u001b[0;32m    362\u001b[0m         data,\n\u001b[0;32m    363\u001b[0m         schema\u001b[38;5;241m=\u001b[39mschema,\n\u001b[1;32m   (...)\u001b[0m\n\u001b[0;32m    366\u001b[0m         nan_to_null\u001b[38;5;241m=\u001b[39mnan_to_null,\n\u001b[0;32m    367\u001b[0m     )\n\u001b[0;32m    369\u001b[0m \u001b[38;5;28;01melif\u001b[39;00m \u001b[38;5;28misinstance\u001b[39m(data, (\u001b[38;5;28mlist\u001b[39m, \u001b[38;5;28mtuple\u001b[39m, Sequence)):\n\u001b[1;32m--> 370\u001b[0m     \u001b[38;5;28mself\u001b[39m\u001b[38;5;241m.\u001b[39m_df \u001b[38;5;241m=\u001b[39m \u001b[43msequence_to_pydf\u001b[49m\u001b[43m(\u001b[49m\n\u001b[0;32m    371\u001b[0m \u001b[43m        \u001b[49m\u001b[43mdata\u001b[49m\u001b[43m,\u001b[49m\n\u001b[0;32m    372\u001b[0m \u001b[43m        \u001b[49m\u001b[43mschema\u001b[49m\u001b[38;5;241;43m=\u001b[39;49m\u001b[43mschema\u001b[49m\u001b[43m,\u001b[49m\n\u001b[0;32m    373\u001b[0m \u001b[43m        \u001b[49m\u001b[43mschema_overrides\u001b[49m\u001b[38;5;241;43m=\u001b[39;49m\u001b[43mschema_overrides\u001b[49m\u001b[43m,\u001b[49m\n\u001b[0;32m    374\u001b[0m \u001b[43m        \u001b[49m\u001b[43mstrict\u001b[49m\u001b[38;5;241;43m=\u001b[39;49m\u001b[43mstrict\u001b[49m\u001b[43m,\u001b[49m\n\u001b[0;32m    375\u001b[0m \u001b[43m        \u001b[49m\u001b[43morient\u001b[49m\u001b[38;5;241;43m=\u001b[39;49m\u001b[43morient\u001b[49m\u001b[43m,\u001b[49m\n\u001b[0;32m    376\u001b[0m \u001b[43m        \u001b[49m\u001b[43minfer_schema_length\u001b[49m\u001b[38;5;241;43m=\u001b[39;49m\u001b[43minfer_schema_length\u001b[49m\u001b[43m,\u001b[49m\n\u001b[0;32m    377\u001b[0m \u001b[43m    \u001b[49m\u001b[43m)\u001b[49m\n\u001b[0;32m    379\u001b[0m \u001b[38;5;28;01melif\u001b[39;00m \u001b[38;5;28misinstance\u001b[39m(data, pl\u001b[38;5;241m.\u001b[39mSeries):\n\u001b[0;32m    380\u001b[0m     \u001b[38;5;28mself\u001b[39m\u001b[38;5;241m.\u001b[39m_df \u001b[38;5;241m=\u001b[39m series_to_pydf(\n\u001b[0;32m    381\u001b[0m         data, schema\u001b[38;5;241m=\u001b[39mschema, schema_overrides\u001b[38;5;241m=\u001b[39mschema_overrides, strict\u001b[38;5;241m=\u001b[39mstrict\n\u001b[0;32m    382\u001b[0m     )\n",
      "File \u001b[1;32mc:\\Users\\s6981f\\Envs\\v312\\Lib\\site-packages\\polars\\_utils\\construction\\dataframe.py:462\u001b[0m, in \u001b[0;36msequence_to_pydf\u001b[1;34m(data, schema, schema_overrides, strict, orient, infer_schema_length)\u001b[0m\n\u001b[0;32m    459\u001b[0m \u001b[38;5;28;01mif\u001b[39;00m \u001b[38;5;129;01mnot\u001b[39;00m data:\n\u001b[0;32m    460\u001b[0m     \u001b[38;5;28;01mreturn\u001b[39;00m dict_to_pydf({}, schema\u001b[38;5;241m=\u001b[39mschema, schema_overrides\u001b[38;5;241m=\u001b[39mschema_overrides)\n\u001b[1;32m--> 462\u001b[0m \u001b[38;5;28;01mreturn\u001b[39;00m \u001b[43m_sequence_to_pydf_dispatcher\u001b[49m\u001b[43m(\u001b[49m\n\u001b[0;32m    463\u001b[0m \u001b[43m    \u001b[49m\u001b[43mdata\u001b[49m\u001b[43m[\u001b[49m\u001b[38;5;241;43m0\u001b[39;49m\u001b[43m]\u001b[49m\u001b[43m,\u001b[49m\n\u001b[0;32m    464\u001b[0m \u001b[43m    \u001b[49m\u001b[43mdata\u001b[49m\u001b[38;5;241;43m=\u001b[39;49m\u001b[43mdata\u001b[49m\u001b[43m,\u001b[49m\n\u001b[0;32m    465\u001b[0m \u001b[43m    \u001b[49m\u001b[43mschema\u001b[49m\u001b[38;5;241;43m=\u001b[39;49m\u001b[43mschema\u001b[49m\u001b[43m,\u001b[49m\n\u001b[0;32m    466\u001b[0m \u001b[43m    \u001b[49m\u001b[43mschema_overrides\u001b[49m\u001b[38;5;241;43m=\u001b[39;49m\u001b[43mschema_overrides\u001b[49m\u001b[43m,\u001b[49m\n\u001b[0;32m    467\u001b[0m \u001b[43m    \u001b[49m\u001b[43mstrict\u001b[49m\u001b[38;5;241;43m=\u001b[39;49m\u001b[43mstrict\u001b[49m\u001b[43m,\u001b[49m\n\u001b[0;32m    468\u001b[0m \u001b[43m    \u001b[49m\u001b[43morient\u001b[49m\u001b[38;5;241;43m=\u001b[39;49m\u001b[43morient\u001b[49m\u001b[43m,\u001b[49m\n\u001b[0;32m    469\u001b[0m \u001b[43m    \u001b[49m\u001b[43minfer_schema_length\u001b[49m\u001b[38;5;241;43m=\u001b[39;49m\u001b[43minfer_schema_length\u001b[49m\u001b[43m,\u001b[49m\n\u001b[0;32m    470\u001b[0m \u001b[43m\u001b[49m\u001b[43m)\u001b[49m\n",
      "File \u001b[1;32m~\\AppData\\Local\\Programs\\Python\\Python312\\Lib\\functools.py:907\u001b[0m, in \u001b[0;36msingledispatch.<locals>.wrapper\u001b[1;34m(*args, **kw)\u001b[0m\n\u001b[0;32m    903\u001b[0m \u001b[38;5;28;01mif\u001b[39;00m \u001b[38;5;129;01mnot\u001b[39;00m args:\n\u001b[0;32m    904\u001b[0m     \u001b[38;5;28;01mraise\u001b[39;00m \u001b[38;5;167;01mTypeError\u001b[39;00m(\u001b[38;5;124mf\u001b[39m\u001b[38;5;124m'\u001b[39m\u001b[38;5;132;01m{\u001b[39;00mfuncname\u001b[38;5;132;01m}\u001b[39;00m\u001b[38;5;124m requires at least \u001b[39m\u001b[38;5;124m'\u001b[39m\n\u001b[0;32m    905\u001b[0m                     \u001b[38;5;124m'\u001b[39m\u001b[38;5;124m1 positional argument\u001b[39m\u001b[38;5;124m'\u001b[39m)\n\u001b[1;32m--> 907\u001b[0m \u001b[38;5;28;01mreturn\u001b[39;00m \u001b[43mdispatch\u001b[49m\u001b[43m(\u001b[49m\u001b[43margs\u001b[49m\u001b[43m[\u001b[49m\u001b[38;5;241;43m0\u001b[39;49m\u001b[43m]\u001b[49m\u001b[38;5;241;43m.\u001b[39;49m\u001b[38;5;18;43m__class__\u001b[39;49m\u001b[43m)\u001b[49m\u001b[43m(\u001b[49m\u001b[38;5;241;43m*\u001b[39;49m\u001b[43margs\u001b[49m\u001b[43m,\u001b[49m\u001b[43m \u001b[49m\u001b[38;5;241;43m*\u001b[39;49m\u001b[38;5;241;43m*\u001b[39;49m\u001b[43mkw\u001b[49m\u001b[43m)\u001b[49m\n",
      "File \u001b[1;32mc:\\Users\\s6981f\\Envs\\v312\\Lib\\site-packages\\polars\\_utils\\construction\\dataframe.py:714\u001b[0m, in \u001b[0;36m_sequence_of_dict_to_pydf\u001b[1;34m(first_element, data, schema, schema_overrides, strict, infer_schema_length, **kwargs)\u001b[0m\n\u001b[0;32m    711\u001b[0m \u001b[38;5;28;01mif\u001b[39;00m tz_overrides:\n\u001b[0;32m    712\u001b[0m     schema_overrides \u001b[38;5;241m=\u001b[39m {\u001b[38;5;241m*\u001b[39m\u001b[38;5;241m*\u001b[39mschema_overrides, \u001b[38;5;241m*\u001b[39m\u001b[38;5;241m*\u001b[39mtz_overrides}\n\u001b[1;32m--> 714\u001b[0m pydf \u001b[38;5;241m=\u001b[39m \u001b[43mPyDataFrame\u001b[49m\u001b[38;5;241;43m.\u001b[39;49m\u001b[43mfrom_dicts\u001b[49m\u001b[43m(\u001b[49m\n\u001b[0;32m    715\u001b[0m \u001b[43m    \u001b[49m\u001b[43mdata\u001b[49m\u001b[43m,\u001b[49m\n\u001b[0;32m    716\u001b[0m \u001b[43m    \u001b[49m\u001b[43mdicts_schema\u001b[49m\u001b[43m,\u001b[49m\n\u001b[0;32m    717\u001b[0m \u001b[43m    \u001b[49m\u001b[43mschema_overrides\u001b[49m\u001b[43m,\u001b[49m\n\u001b[0;32m    718\u001b[0m \u001b[43m    \u001b[49m\u001b[43mstrict\u001b[49m\u001b[38;5;241;43m=\u001b[39;49m\u001b[43mstrict\u001b[49m\u001b[43m,\u001b[49m\n\u001b[0;32m    719\u001b[0m \u001b[43m    \u001b[49m\u001b[43minfer_schema_length\u001b[49m\u001b[38;5;241;43m=\u001b[39;49m\u001b[43minfer_schema_length\u001b[49m\u001b[43m,\u001b[49m\n\u001b[0;32m    720\u001b[0m \u001b[43m\u001b[49m\u001b[43m)\u001b[49m\n\u001b[0;32m    722\u001b[0m \u001b[38;5;66;03m# TODO: we can remove this `schema_overrides` block completely\u001b[39;00m\n\u001b[0;32m    723\u001b[0m \u001b[38;5;66;03m#  once https://github.com/pola-rs/polars/issues/11044 is fixed\u001b[39;00m\n\u001b[0;32m    724\u001b[0m \u001b[38;5;28;01mif\u001b[39;00m schema_overrides:\n",
      "\u001b[1;31mComputeError\u001b[0m: could not append value: 3.796364 of type: f64 to the builder; make sure that all rows have the same schema or consider increasing `infer_schema_length`\n\nit might also be that a value overflows the data-type's capacity"
     ]
    }
   ],
   "source": [
    "# Example: Duration and ZSpread for search results\n",
    "query=\"\"\"\n",
    "let(#dur=duration(duration_type=MODIFIED); \n",
    "    #zsprd=spread(spread_type=Z);) \n",
    "get(name(), #dur, #zsprd) \n",
    "for(screenresults(type=SRCH, screen_name='@COCO'))\n",
    "\"\"\"\n",
    "\n",
    "with BQuery() as bq:\n",
    "    df = bq.bql(query)\n",
    "df"
   ]
  },
  {
   "cell_type": "code",
   "execution_count": null,
   "metadata": {},
   "outputs": [],
   "source": []
  }
 ],
 "metadata": {
  "kernelspec": {
   "display_name": "v312",
   "language": "python",
   "name": "python3"
  },
  "language_info": {
   "codemirror_mode": {
    "name": "ipython",
    "version": 3
   },
   "file_extension": ".py",
   "mimetype": "text/x-python",
   "name": "python",
   "nbconvert_exporter": "python",
   "pygments_lexer": "ipython3",
   "version": "3.12.7"
  }
 },
 "nbformat": 4,
 "nbformat_minor": 2
}
