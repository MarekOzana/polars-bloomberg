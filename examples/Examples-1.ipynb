{
 "cells": [
  {
   "cell_type": "markdown",
   "metadata": {},
   "source": [
    "# `polars_bloomberg` Examples\n",
    "(c) 2024 Marek Ozana"
   ]
  },
  {
   "cell_type": "code",
   "execution_count": 1,
   "metadata": {},
   "outputs": [],
   "source": [
    "# Imports\n",
    "from polars_bloomberg import BQuery\n",
    "from datetime import date\n"
   ]
  },
  {
   "cell_type": "markdown",
   "metadata": {},
   "source": [
    "## Bloomberg Data Point\n",
    "API:\n",
    "```python\n",
    "bdp(securities: List[str],\n",
    "    fields: List[str],\n",
    "    overrides: Optional[Sequence] = None,\n",
    "    options: Optional[Dict] = None\n",
    ")\n",
    "```"
   ]
  },
  {
   "cell_type": "code",
   "execution_count": 2,
   "metadata": {},
   "outputs": [
    {
     "data": {
      "text/html": [
       "<div><style>\n",
       ".dataframe > thead > tr,\n",
       ".dataframe > tbody > tr {\n",
       "  text-align: right;\n",
       "  white-space: pre-wrap;\n",
       "}\n",
       "</style>\n",
       "<small>shape: (2, 2)</small><table border=\"1\" class=\"dataframe\"><thead><tr><th>security</th><th>PX_LAST</th></tr><tr><td>str</td><td>f64</td></tr></thead><tbody><tr><td>&quot;AAPL US Equity&quot;</td><td>242.84</td></tr><tr><td>&quot;MSFT US Equity&quot;</td><td>443.57</td></tr></tbody></table></div>"
      ],
      "text/plain": [
       "shape: (2, 2)\n",
       "┌────────────────┬─────────┐\n",
       "│ security       ┆ PX_LAST │\n",
       "│ ---            ┆ ---     │\n",
       "│ str            ┆ f64     │\n",
       "╞════════════════╪═════════╡\n",
       "│ AAPL US Equity ┆ 242.84  │\n",
       "│ MSFT US Equity ┆ 443.57  │\n",
       "└────────────────┴─────────┘"
      ]
     },
     "execution_count": 2,
     "metadata": {},
     "output_type": "execute_result"
    }
   ],
   "source": [
    "# Bloomberg Data Point\n",
    "with BQuery() as bq:\n",
    "    df = bq.bdp(['AAPL US Equity', 'MSFT US Equity'], ['PX_LAST'])\n",
    "df"
   ]
  },
  {
   "cell_type": "code",
   "execution_count": 3,
   "metadata": {},
   "outputs": [
    {
     "data": {
      "text/html": [
       "<div><style>\n",
       ".dataframe > thead > tr,\n",
       ".dataframe > tbody > tr {\n",
       "  text-align: right;\n",
       "  white-space: pre-wrap;\n",
       "}\n",
       "</style>\n",
       "<small>shape: (2, 5)</small><table border=\"1\" class=\"dataframe\"><thead><tr><th>security</th><th>SECURITY_DES</th><th>YAS_ZSPREAD</th><th>CRNCY</th><th>NXT_CALL_DT</th></tr><tr><td>str</td><td>str</td><td>f64</td><td>str</td><td>date</td></tr></thead><tbody><tr><td>&quot;XS2930103580 Corp&quot;</td><td>&quot;SEB 6 3/4 PERP&quot;</td><td>327.309349</td><td>&quot;USD&quot;</td><td>2031-11-04</td></tr><tr><td>&quot;USX60003AC87 Corp&quot;</td><td>&quot;NDAFH 6.3 PERP&quot;</td><td>315.539222</td><td>&quot;USD&quot;</td><td>2031-09-25</td></tr></tbody></table></div>"
      ],
      "text/plain": [
       "shape: (2, 5)\n",
       "┌───────────────────┬────────────────┬─────────────┬───────┬─────────────┐\n",
       "│ security          ┆ SECURITY_DES   ┆ YAS_ZSPREAD ┆ CRNCY ┆ NXT_CALL_DT │\n",
       "│ ---               ┆ ---            ┆ ---         ┆ ---   ┆ ---         │\n",
       "│ str               ┆ str            ┆ f64         ┆ str   ┆ date        │\n",
       "╞═══════════════════╪════════════════╪═════════════╪═══════╪═════════════╡\n",
       "│ XS2930103580 Corp ┆ SEB 6 3/4 PERP ┆ 327.309349  ┆ USD   ┆ 2031-11-04  │\n",
       "│ USX60003AC87 Corp ┆ NDAFH 6.3 PERP ┆ 315.539222  ┆ USD   ┆ 2031-09-25  │\n",
       "└───────────────────┴────────────────┴─────────────┴───────┴─────────────┘"
      ]
     },
     "execution_count": 3,
     "metadata": {},
     "output_type": "execute_result"
    }
   ],
   "source": [
    "with BQuery() as bq:\n",
    "    df = bq.bdp([\"XS2930103580 Corp\", \"USX60003AC87 Corp\"], [\"SECURITY_DES\", \"YAS_ZSPREAD\", \"CRNCY\", \"NXT_CALL_DT\"])\n",
    "df"
   ]
  },
  {
   "cell_type": "code",
   "execution_count": 4,
   "metadata": {},
   "outputs": [
    {
     "data": {
      "text/html": [
       "<div><style>\n",
       ".dataframe > thead > tr,\n",
       ".dataframe > tbody > tr {\n",
       "  text-align: right;\n",
       "  white-space: pre-wrap;\n",
       "}\n",
       "</style>\n",
       "<small>shape: (1, 3)</small><table border=\"1\" class=\"dataframe\"><thead><tr><th>security</th><th>PX_LAST</th><th>CRNCY_ADJ_PX_LAST</th></tr><tr><td>str</td><td>f64</td><td>f64</td></tr></thead><tbody><tr><td>&quot;IBM US Equity&quot;</td><td>238.04</td><td>2607.401</td></tr></tbody></table></div>"
      ],
      "text/plain": [
       "shape: (1, 3)\n",
       "┌───────────────┬─────────┬───────────────────┐\n",
       "│ security      ┆ PX_LAST ┆ CRNCY_ADJ_PX_LAST │\n",
       "│ ---           ┆ ---     ┆ ---               │\n",
       "│ str           ┆ f64     ┆ f64               │\n",
       "╞═══════════════╪═════════╪═══════════════════╡\n",
       "│ IBM US Equity ┆ 238.04  ┆ 2607.401          │\n",
       "└───────────────┴─────────┴───────────────────┘"
      ]
     },
     "execution_count": 4,
     "metadata": {},
     "output_type": "execute_result"
    }
   ],
   "source": [
    "with BQuery() as bq:\n",
    "    df = bq.bdp([\"IBM US Equity\"], [\"PX_LAST\", \"CRNCY_ADJ_PX_LAST\"], overrides=[(\"EQY_FUND_CRNCY\", \"SEK\")])\n",
    "df"
   ]
  },
  {
   "cell_type": "code",
   "execution_count": 5,
   "metadata": {},
   "outputs": [
    {
     "data": {
      "text/html": [
       "<div><style>\n",
       ".dataframe > thead > tr,\n",
       ".dataframe > tbody > tr {\n",
       "  text-align: right;\n",
       "  white-space: pre-wrap;\n",
       "}\n",
       "</style>\n",
       "<small>shape: (1, 2)</small><table border=\"1\" class=\"dataframe\"><thead><tr><th>security</th><th>SETTLE_DT</th></tr><tr><td>str</td><td>date</td></tr></thead><tbody><tr><td>&quot;USX60003AC87 Corp&quot;</td><td>2024-10-15</td></tr></tbody></table></div>"
      ],
      "text/plain": [
       "shape: (1, 2)\n",
       "┌───────────────────┬────────────┐\n",
       "│ security          ┆ SETTLE_DT  │\n",
       "│ ---               ┆ ---        │\n",
       "│ str               ┆ date       │\n",
       "╞═══════════════════╪════════════╡\n",
       "│ USX60003AC87 Corp ┆ 2024-10-15 │\n",
       "└───────────────────┴────────────┘"
      ]
     },
     "execution_count": 5,
     "metadata": {},
     "output_type": "execute_result"
    }
   ],
   "source": [
    "# Override string dates in format YYYYMMDD\n",
    "with BQuery() as bq:\n",
    "    df = bq.bdp([\"USX60003AC87 Corp\"], [\"SETTLE_DT\"], overrides=[(\"USER_LOCAL_TRADE_DATE\", \"20241014\")])\n",
    "df"
   ]
  },
  {
   "cell_type": "code",
   "execution_count": 6,
   "metadata": {},
   "outputs": [
    {
     "data": {
      "text/html": [
       "<div><style>\n",
       ".dataframe > thead > tr,\n",
       ".dataframe > tbody > tr {\n",
       "  text-align: right;\n",
       "  white-space: pre-wrap;\n",
       "}\n",
       "</style>\n",
       "<small>shape: (2, 3)</small><table border=\"1\" class=\"dataframe\"><thead><tr><th>security</th><th>SETTLE_DT</th><th>PX_LAST</th></tr><tr><td>str</td><td>date</td><td>f64</td></tr></thead><tbody><tr><td>&quot;USDSEK Curncy&quot;</td><td>2020-07-17</td><td>10.9343</td></tr><tr><td>&quot;SEKCZK Curncy&quot;</td><td>2020-07-17</td><td>2.1718</td></tr></tbody></table></div>"
      ],
      "text/plain": [
       "shape: (2, 3)\n",
       "┌───────────────┬────────────┬─────────┐\n",
       "│ security      ┆ SETTLE_DT  ┆ PX_LAST │\n",
       "│ ---           ┆ ---        ┆ ---     │\n",
       "│ str           ┆ date       ┆ f64     │\n",
       "╞═══════════════╪════════════╪═════════╡\n",
       "│ USDSEK Curncy ┆ 2020-07-17 ┆ 10.9343 │\n",
       "│ SEKCZK Curncy ┆ 2020-07-17 ┆ 2.1718  │\n",
       "└───────────────┴────────────┴─────────┘"
      ]
     },
     "execution_count": 6,
     "metadata": {},
     "output_type": "execute_result"
    }
   ],
   "source": [
    "# Another override example\n",
    "with BQuery() as bq:\n",
    "    df = bq.bdp(['USDSEK Curncy', 'SEKCZK Curncy'], \n",
    "                ['SETTLE_DT', 'PX_LAST'], \n",
    "                overrides=[('REFERENCE_DATE', '20200715')]\n",
    "               )\n",
    "df"
   ]
  },
  {
   "cell_type": "markdown",
   "metadata": {},
   "source": [
    "## Bloomberg Data History\n",
    "```python\n",
    "bdh(securities: List[str],\n",
    "    fields: List[str],\n",
    "    start_date: date,\n",
    "    end_date: date,\n",
    "    overrides: Optional[Sequence] = None,\n",
    "    options: Optional[Dict] = None\n",
    ")\n",
    "\n",
    "```"
   ]
  },
  {
   "cell_type": "code",
   "execution_count": 7,
   "metadata": {},
   "outputs": [
    {
     "data": {
      "text/html": [
       "<div><style>\n",
       ".dataframe > thead > tr,\n",
       ".dataframe > tbody > tr {\n",
       "  text-align: right;\n",
       "  white-space: pre-wrap;\n",
       "}\n",
       "</style>\n",
       "<small>shape: (5, 4)</small><table border=\"1\" class=\"dataframe\"><thead><tr><th>security</th><th>date</th><th>PX_LAST</th><th>VOLUME</th></tr><tr><td>str</td><td>date</td><td>f64</td><td>f64</td></tr></thead><tbody><tr><td>&quot;TLT US Equity&quot;</td><td>2019-01-04</td><td>122.11</td><td>1.2970226e7</td></tr><tr><td>&quot;TLT US Equity&quot;</td><td>2019-01-07</td><td>121.75</td><td>8.498104e6</td></tr><tr><td>&quot;TLT US Equity&quot;</td><td>2019-01-08</td><td>121.43</td><td>7.737103e6</td></tr><tr><td>&quot;TLT US Equity&quot;</td><td>2019-01-09</td><td>121.24</td><td>9.349245e6</td></tr><tr><td>&quot;TLT US Equity&quot;</td><td>2019-01-10</td><td>120.46</td><td>8.22286e6</td></tr></tbody></table></div>"
      ],
      "text/plain": [
       "shape: (5, 4)\n",
       "┌───────────────┬────────────┬─────────┬─────────────┐\n",
       "│ security      ┆ date       ┆ PX_LAST ┆ VOLUME      │\n",
       "│ ---           ┆ ---        ┆ ---     ┆ ---         │\n",
       "│ str           ┆ date       ┆ f64     ┆ f64         │\n",
       "╞═══════════════╪════════════╪═════════╪═════════════╡\n",
       "│ TLT US Equity ┆ 2019-01-04 ┆ 122.11  ┆ 1.2970226e7 │\n",
       "│ TLT US Equity ┆ 2019-01-07 ┆ 121.75  ┆ 8.498104e6  │\n",
       "│ TLT US Equity ┆ 2019-01-08 ┆ 121.43  ┆ 7.737103e6  │\n",
       "│ TLT US Equity ┆ 2019-01-09 ┆ 121.24  ┆ 9.349245e6  │\n",
       "│ TLT US Equity ┆ 2019-01-10 ┆ 120.46  ┆ 8.22286e6   │\n",
       "└───────────────┴────────────┴─────────┴─────────────┘"
      ]
     },
     "execution_count": 7,
     "metadata": {},
     "output_type": "execute_result"
    }
   ],
   "source": [
    "# Bloomberg Data History\n",
    "with BQuery() as bq:\n",
    "    df = bq.bdh(\n",
    "        [\"SPY US Equity\", \"TLT US Equity\"],\n",
    "        [\"PX_LAST\", \"VOLUME\"],\n",
    "        start_date=date(2019, 1, 1),\n",
    "        end_date=date(2019, 1, 10),\n",
    "        options={\"adjustmentSplit\": True},\n",
    "    )\n",
    "df.tail(5)"
   ]
  },
  {
   "cell_type": "code",
   "execution_count": 8,
   "metadata": {},
   "outputs": [
    {
     "data": {
      "text/html": [
       "<div><style>\n",
       ".dataframe > thead > tr,\n",
       ".dataframe > tbody > tr {\n",
       "  text-align: right;\n",
       "  white-space: pre-wrap;\n",
       "}\n",
       "</style>\n",
       "<small>shape: (3, 3)</small><table border=\"1\" class=\"dataframe\"><thead><tr><th>security</th><th>date</th><th>PX_LAST</th></tr><tr><td>str</td><td>date</td><td>f64</td></tr></thead><tbody><tr><td>&quot;AAPL US Equity&quot;</td><td>2019-01-31</td><td>41.61</td></tr><tr><td>&quot;AAPL US Equity&quot;</td><td>2019-02-28</td><td>43.288</td></tr><tr><td>&quot;AAPL US Equity&quot;</td><td>2019-03-29</td><td>47.488</td></tr></tbody></table></div>"
      ],
      "text/plain": [
       "shape: (3, 3)\n",
       "┌────────────────┬────────────┬─────────┐\n",
       "│ security       ┆ date       ┆ PX_LAST │\n",
       "│ ---            ┆ ---        ┆ ---     │\n",
       "│ str            ┆ date       ┆ f64     │\n",
       "╞════════════════╪════════════╪═════════╡\n",
       "│ AAPL US Equity ┆ 2019-01-31 ┆ 41.61   │\n",
       "│ AAPL US Equity ┆ 2019-02-28 ┆ 43.288  │\n",
       "│ AAPL US Equity ┆ 2019-03-29 ┆ 47.488  │\n",
       "└────────────────┴────────────┴─────────┘"
      ]
     },
     "execution_count": 8,
     "metadata": {},
     "output_type": "execute_result"
    }
   ],
   "source": [
    "with BQuery() as bq:\n",
    "    df = bq.bdh(['AAPL US Equity'], \n",
    "                ['PX_LAST'], \n",
    "                start_date=date(2019, 1, 1), \n",
    "                end_date=date(2019, 3, 29),\n",
    "                options={\"periodicitySelection\": \"MONTHLY\"})\n",
    "df"
   ]
  },
  {
   "cell_type": "markdown",
   "metadata": {},
   "source": [
    "## Bloomberg Query Language\n",
    "```python\n",
    "bql(expression: str)\n",
    "```"
   ]
  },
  {
   "cell_type": "code",
   "execution_count": 9,
   "metadata": {},
   "outputs": [
    {
     "data": {
      "text/html": [
       "<div><style>\n",
       ".dataframe > thead > tr,\n",
       ".dataframe > tbody > tr {\n",
       "  text-align: right;\n",
       "  white-space: pre-wrap;\n",
       "}\n",
       "</style>\n",
       "<small>shape: (5, 7)</small><table border=\"1\" class=\"dataframe\"><thead><tr><th>ID</th><th>#avg_pe</th><th>#avg_pe.REVISION_DATE</th><th>#avg_pe.AS_OF_DATE</th><th>#avg_pe.PERIOD_END_DATE</th><th>#avg_pe.ORIG_IDS</th><th>#avg_pe.GICS_SECTOR_NAME()</th></tr><tr><td>str</td><td>f64</td><td>date</td><td>date</td><td>date</td><td>str</td><td>str</td></tr></thead><tbody><tr><td>&quot;Communication Services&quot;</td><td>26.776292</td><td>2024-11-14</td><td>2024-12-08</td><td>2024-09-30</td><td>null</td><td>&quot;Communication Services&quot;</td></tr><tr><td>&quot;Consumer Discretionary&quot;</td><td>26.353003</td><td>2024-12-06</td><td>2024-12-08</td><td>2024-11-02</td><td>null</td><td>&quot;Consumer Discretionary&quot;</td></tr><tr><td>&quot;Consumer Staples&quot;</td><td>19.554049</td><td>2024-12-05</td><td>2024-12-08</td><td>2024-11-09</td><td>null</td><td>&quot;Consumer Staples&quot;</td></tr><tr><td>&quot;Energy&quot;</td><td>18.961063</td><td>2024-11-12</td><td>2024-12-08</td><td>2024-09-30</td><td>null</td><td>&quot;Energy&quot;</td></tr><tr><td>&quot;Financials&quot;</td><td>38.078318</td><td>2024-11-26</td><td>2024-12-08</td><td>2024-09-30</td><td>null</td><td>&quot;Financials&quot;</td></tr></tbody></table></div>"
      ],
      "text/plain": [
       "shape: (5, 7)\n",
       "┌──────────────┬───────────┬──────────────┬──────────────┬─────────────┬─────────────┬─────────────┐\n",
       "│ ID           ┆ #avg_pe   ┆ #avg_pe.REVI ┆ #avg_pe.AS_O ┆ #avg_pe.PER ┆ #avg_pe.ORI ┆ #avg_pe.GIC │\n",
       "│ ---          ┆ ---       ┆ SION_DATE    ┆ F_DATE       ┆ IOD_END_DAT ┆ G_IDS       ┆ S_SECTOR_NA │\n",
       "│ str          ┆ f64       ┆ ---          ┆ ---          ┆ E           ┆ ---         ┆ ME()        │\n",
       "│              ┆           ┆ date         ┆ date         ┆ ---         ┆ str         ┆ ---         │\n",
       "│              ┆           ┆              ┆              ┆ date        ┆             ┆ str         │\n",
       "╞══════════════╪═══════════╪══════════════╪══════════════╪═════════════╪═════════════╪═════════════╡\n",
       "│ Communicatio ┆ 26.776292 ┆ 2024-11-14   ┆ 2024-12-08   ┆ 2024-09-30  ┆ null        ┆ Communicati │\n",
       "│ n Services   ┆           ┆              ┆              ┆             ┆             ┆ on Services │\n",
       "│ Consumer Dis ┆ 26.353003 ┆ 2024-12-06   ┆ 2024-12-08   ┆ 2024-11-02  ┆ null        ┆ Consumer    │\n",
       "│ cretionary   ┆           ┆              ┆              ┆             ┆             ┆ Discretiona │\n",
       "│              ┆           ┆              ┆              ┆             ┆             ┆ ry          │\n",
       "│ Consumer     ┆ 19.554049 ┆ 2024-12-05   ┆ 2024-12-08   ┆ 2024-11-09  ┆ null        ┆ Consumer    │\n",
       "│ Staples      ┆           ┆              ┆              ┆             ┆             ┆ Staples     │\n",
       "│ Energy       ┆ 18.961063 ┆ 2024-11-12   ┆ 2024-12-08   ┆ 2024-09-30  ┆ null        ┆ Energy      │\n",
       "│ Financials   ┆ 38.078318 ┆ 2024-11-26   ┆ 2024-12-08   ┆ 2024-09-30  ┆ null        ┆ Financials  │\n",
       "└──────────────┴───────────┴──────────────┴──────────────┴─────────────┴─────────────┴─────────────┘"
      ]
     },
     "execution_count": 9,
     "metadata": {},
     "output_type": "execute_result"
    }
   ],
   "source": [
    "# Example: average PE ratio per sector\n",
    "query = \"\"\"\n",
    "let(#avg_pe=avg(group(pe_ratio(), gics_sector_name()));)\n",
    "get(#avg_pe) \n",
    "for(members('SPX Index'))\n",
    "\"\"\"\n",
    "with BQuery() as bq:\n",
    "    df = bq.bql(query)\n",
    "df.head(5)"
   ]
  },
  {
   "cell_type": "code",
   "execution_count": 10,
   "metadata": {},
   "outputs": [
    {
     "data": {
      "text/html": [
       "<div><style>\n",
       ".dataframe > thead > tr,\n",
       ".dataframe > tbody > tr {\n",
       "  text-align: right;\n",
       "  white-space: pre-wrap;\n",
       "}\n",
       "</style>\n",
       "<small>shape: (6, 6)</small><table border=\"1\" class=\"dataframe\"><thead><tr><th>ID</th><th>name()</th><th>#dur</th><th>#dur.DATE</th><th>#zsprd</th><th>#zsprd.DATE</th></tr><tr><td>str</td><td>str</td><td>f64</td><td>date</td><td>f64</td><td>date</td></tr></thead><tbody><tr><td>&quot;BW924993 Corp&quot;</td><td>&quot;SEB 6 ⅞ PERP&quot;</td><td>2.249754</td><td>2024-12-08</td><td>234.360153</td><td>2024-12-08</td></tr><tr><td>&quot;ZO703315 Corp&quot;</td><td>&quot;SHBASS 4 ⅜ PERP&quot;</td><td>1.973269</td><td>2024-12-08</td><td>236.420357</td><td>2024-12-08</td></tr><tr><td>&quot;ZO703956 Corp&quot;</td><td>&quot;SHBASS 4 ¾ PERP&quot;</td><td>4.963747</td><td>2024-12-08</td><td>279.221293</td><td>2024-12-08</td></tr><tr><td>&quot;YV402592 Corp&quot;</td><td>&quot;SEB Float PERP&quot;</td><td>0.230748</td><td>2024-12-08</td><td>248.992</td><td>2024-12-08</td></tr><tr><td>&quot;YU819930 Corp&quot;</td><td>&quot;SEB 6 ¾ PERP&quot;</td><td>5.393908</td><td>2024-12-08</td><td>328.792754</td><td>2024-12-08</td></tr><tr><td>&quot;ZQ349286 Corp&quot;</td><td>&quot;SEB 5 ⅛ PERP&quot;</td><td>0.414068</td><td>2024-12-08</td><td>187.97508</td><td>2024-12-08</td></tr></tbody></table></div>"
      ],
      "text/plain": [
       "shape: (6, 6)\n",
       "┌───────────────┬─────────────────┬──────────┬────────────┬────────────┬─────────────┐\n",
       "│ ID            ┆ name()          ┆ #dur     ┆ #dur.DATE  ┆ #zsprd     ┆ #zsprd.DATE │\n",
       "│ ---           ┆ ---             ┆ ---      ┆ ---        ┆ ---        ┆ ---         │\n",
       "│ str           ┆ str             ┆ f64      ┆ date       ┆ f64        ┆ date        │\n",
       "╞═══════════════╪═════════════════╪══════════╪════════════╪════════════╪═════════════╡\n",
       "│ BW924993 Corp ┆ SEB 6 ⅞ PERP    ┆ 2.249754 ┆ 2024-12-08 ┆ 234.360153 ┆ 2024-12-08  │\n",
       "│ ZO703315 Corp ┆ SHBASS 4 ⅜ PERP ┆ 1.973269 ┆ 2024-12-08 ┆ 236.420357 ┆ 2024-12-08  │\n",
       "│ ZO703956 Corp ┆ SHBASS 4 ¾ PERP ┆ 4.963747 ┆ 2024-12-08 ┆ 279.221293 ┆ 2024-12-08  │\n",
       "│ YV402592 Corp ┆ SEB Float PERP  ┆ 0.230748 ┆ 2024-12-08 ┆ 248.992    ┆ 2024-12-08  │\n",
       "│ YU819930 Corp ┆ SEB 6 ¾ PERP    ┆ 5.393908 ┆ 2024-12-08 ┆ 328.792754 ┆ 2024-12-08  │\n",
       "│ ZQ349286 Corp ┆ SEB 5 ⅛ PERP    ┆ 0.414068 ┆ 2024-12-08 ┆ 187.97508  ┆ 2024-12-08  │\n",
       "└───────────────┴─────────────────┴──────────┴────────────┴────────────┴─────────────┘"
      ]
     },
     "execution_count": 10,
     "metadata": {},
     "output_type": "execute_result"
    }
   ],
   "source": [
    "# Example: Duration and ZSpread for search results\n",
    "query=\"\"\"\n",
    "let(#dur=duration(duration_type=MODIFIED); \n",
    "    #zsprd=spread(spread_type=Z);) \n",
    "get(name(), #dur, #zsprd) \n",
    "for(filter(screenresults(type=SRCH, screen_name='@COCO'), \n",
    "           ticker in ['SEB', 'SHBASS']))\n",
    "\"\"\"\n",
    "\n",
    "with BQuery() as bq:\n",
    "    df = bq.bql(query)\n",
    "df"
   ]
  },
  {
   "cell_type": "code",
   "execution_count": 11,
   "metadata": {},
   "outputs": [
    {
     "data": {
      "text/html": [
       "\n",
       "<style>\n",
       "  #altair-viz-9a2110e3b6bb4837bbdfae995c365064.vega-embed {\n",
       "    width: 100%;\n",
       "    display: flex;\n",
       "  }\n",
       "\n",
       "  #altair-viz-9a2110e3b6bb4837bbdfae995c365064.vega-embed details,\n",
       "  #altair-viz-9a2110e3b6bb4837bbdfae995c365064.vega-embed details summary {\n",
       "    position: relative;\n",
       "  }\n",
       "</style>\n",
       "<div id=\"altair-viz-9a2110e3b6bb4837bbdfae995c365064\"></div>\n",
       "<script type=\"text/javascript\">\n",
       "  var VEGA_DEBUG = (typeof VEGA_DEBUG == \"undefined\") ? {} : VEGA_DEBUG;\n",
       "  (function(spec, embedOpt){\n",
       "    let outputDiv = document.currentScript.previousElementSibling;\n",
       "    if (outputDiv.id !== \"altair-viz-9a2110e3b6bb4837bbdfae995c365064\") {\n",
       "      outputDiv = document.getElementById(\"altair-viz-9a2110e3b6bb4837bbdfae995c365064\");\n",
       "    }\n",
       "    const paths = {\n",
       "      \"vega\": \"https://cdn.jsdelivr.net/npm/vega@5?noext\",\n",
       "      \"vega-lib\": \"https://cdn.jsdelivr.net/npm/vega-lib?noext\",\n",
       "      \"vega-lite\": \"https://cdn.jsdelivr.net/npm/vega-lite@5.20.1?noext\",\n",
       "      \"vega-embed\": \"https://cdn.jsdelivr.net/npm/vega-embed@6?noext\",\n",
       "    };\n",
       "\n",
       "    function maybeLoadScript(lib, version) {\n",
       "      var key = `${lib.replace(\"-\", \"\")}_version`;\n",
       "      return (VEGA_DEBUG[key] == version) ?\n",
       "        Promise.resolve(paths[lib]) :\n",
       "        new Promise(function(resolve, reject) {\n",
       "          var s = document.createElement('script');\n",
       "          document.getElementsByTagName(\"head\")[0].appendChild(s);\n",
       "          s.async = true;\n",
       "          s.onload = () => {\n",
       "            VEGA_DEBUG[key] = version;\n",
       "            return resolve(paths[lib]);\n",
       "          };\n",
       "          s.onerror = () => reject(`Error loading script: ${paths[lib]}`);\n",
       "          s.src = paths[lib];\n",
       "        });\n",
       "    }\n",
       "\n",
       "    function showError(err) {\n",
       "      outputDiv.innerHTML = `<div class=\"error\" style=\"color:red;\">${err}</div>`;\n",
       "      throw err;\n",
       "    }\n",
       "\n",
       "    function displayChart(vegaEmbed) {\n",
       "      vegaEmbed(outputDiv, spec, embedOpt)\n",
       "        .catch(err => showError(`Javascript Error: ${err.message}<br>This usually means there's a typo in your chart specification. See the javascript console for the full traceback.`));\n",
       "    }\n",
       "\n",
       "    if(typeof define === \"function\" && define.amd) {\n",
       "      requirejs.config({paths});\n",
       "      require([\"vega-embed\"], displayChart, err => showError(`Error loading script: ${err.message}`));\n",
       "    } else {\n",
       "      maybeLoadScript(\"vega\", \"5\")\n",
       "        .then(() => maybeLoadScript(\"vega-lite\", \"5.20.1\"))\n",
       "        .then(() => maybeLoadScript(\"vega-embed\", \"6\"))\n",
       "        .catch(showError)\n",
       "        .then(() => displayChart(vegaEmbed));\n",
       "    }\n",
       "  })({\"config\": {\"view\": {\"continuousWidth\": 300, \"continuousHeight\": 300}}, \"data\": {\"name\": \"data-0dcd9683990143b20e589a04f1e0f661\"}, \"mark\": {\"type\": \"bar\"}, \"encoding\": {\"tooltip\": [{\"field\": \"ID\", \"type\": \"nominal\"}, {\"field\": \"#average_spread\", \"type\": \"quantitative\"}], \"x\": {\"field\": \"ID\", \"type\": \"nominal\"}, \"y\": {\"field\": \"#average_spread\", \"type\": \"quantitative\"}}, \"params\": [{\"name\": \"param_1\", \"select\": {\"type\": \"interval\", \"encodings\": [\"x\", \"y\"]}, \"bind\": \"scales\"}], \"$schema\": \"https://vega.github.io/schema/vega-lite/v5.20.1.json\", \"datasets\": {\"data-0dcd9683990143b20e589a04f1e0f661\": [{\"ID\": \"(1) 0-3\", \"#average_spread\": 30.74339924, \"#average_spread.DATE\": \"2024-12-08T00:00:00\", \"#average_spread.ORIG_IDS\": \"QZ552396 Corp\", \"#average_spread.#BINS\": \"(1) 0-3\"}, {\"ID\": \"(2) 3-9\", \"#average_spread\": 59.796561739999994, \"#average_spread.DATE\": \"2024-12-08T00:00:00\", \"#average_spread.ORIG_IDS\": null, \"#average_spread.#BINS\": \"(2) 3-9\"}, {\"ID\": \"(3) 9-18\", \"#average_spread\": 105.39336041, \"#average_spread.DATE\": \"2024-12-08T00:00:00\", \"#average_spread.ORIG_IDS\": \"BH393780 Corp\", \"#average_spread.#BINS\": \"(3) 9-18\"}, {\"ID\": \"(4) 18-30\", \"#average_spread\": 131.72793756, \"#average_spread.DATE\": \"2024-12-08T00:00:00\", \"#average_spread.ORIG_IDS\": \"BH393781 Corp\", \"#average_spread.#BINS\": \"(4) 18-30\"}, {\"ID\": \"(5) 30+\", \"#average_spread\": 150.33605297, \"#average_spread.DATE\": \"2024-12-08T00:00:00\", \"#average_spread.ORIG_IDS\": \"BH393782 Corp\", \"#average_spread.#BINS\": \"(5) 30+\"}]}}, {\"mode\": \"vega-lite\"});\n",
       "</script>"
      ],
      "text/plain": [
       "alt.Chart(...)"
      ]
     },
     "metadata": {},
     "output_type": "display_data"
    },
    {
     "data": {
      "text/html": [
       "<div><style>\n",
       ".dataframe > thead > tr,\n",
       ".dataframe > tbody > tr {\n",
       "  text-align: right;\n",
       "  white-space: pre-wrap;\n",
       "}\n",
       "</style>\n",
       "<small>shape: (5, 5)</small><table border=\"1\" class=\"dataframe\"><thead><tr><th>ID</th><th>#average_spread</th><th>#average_spread.DATE</th><th>#average_spread.ORIG_IDS</th><th>#average_spread.#BINS</th></tr><tr><td>str</td><td>f64</td><td>date</td><td>str</td><td>str</td></tr></thead><tbody><tr><td>&quot;(1) 0-3&quot;</td><td>30.743399</td><td>2024-12-08</td><td>&quot;QZ552396 Corp&quot;</td><td>&quot;(1) 0-3&quot;</td></tr><tr><td>&quot;(2) 3-9&quot;</td><td>59.796562</td><td>2024-12-08</td><td>null</td><td>&quot;(2) 3-9&quot;</td></tr><tr><td>&quot;(3) 9-18&quot;</td><td>105.39336</td><td>2024-12-08</td><td>&quot;BH393780 Corp&quot;</td><td>&quot;(3) 9-18&quot;</td></tr><tr><td>&quot;(4) 18-30&quot;</td><td>131.727938</td><td>2024-12-08</td><td>&quot;BH393781 Corp&quot;</td><td>&quot;(4) 18-30&quot;</td></tr><tr><td>&quot;(5) 30+&quot;</td><td>150.336053</td><td>2024-12-08</td><td>&quot;BH393782 Corp&quot;</td><td>&quot;(5) 30+&quot;</td></tr></tbody></table></div>"
      ],
      "text/plain": [
       "shape: (5, 5)\n",
       "┌───────────┬─────────────────┬──────────────────────┬──────────────────────┬──────────────────────┐\n",
       "│ ID        ┆ #average_spread ┆ #average_spread.DATE ┆ #average_spread.ORIG ┆ #average_spread.#BIN │\n",
       "│ ---       ┆ ---             ┆ ---                  ┆ _IDS                 ┆ S                    │\n",
       "│ str       ┆ f64             ┆ date                 ┆ ---                  ┆ ---                  │\n",
       "│           ┆                 ┆                      ┆ str                  ┆ str                  │\n",
       "╞═══════════╪═════════════════╪══════════════════════╪══════════════════════╪══════════════════════╡\n",
       "│ (1) 0-3   ┆ 30.743399       ┆ 2024-12-08           ┆ QZ552396 Corp        ┆ (1) 0-3              │\n",
       "│ (2) 3-9   ┆ 59.796562       ┆ 2024-12-08           ┆ null                 ┆ (2) 3-9              │\n",
       "│ (3) 9-18  ┆ 105.39336       ┆ 2024-12-08           ┆ BH393780 Corp        ┆ (3) 9-18             │\n",
       "│ (4) 18-30 ┆ 131.727938      ┆ 2024-12-08           ┆ BH393781 Corp        ┆ (4) 18-30            │\n",
       "│ (5) 30+   ┆ 150.336053      ┆ 2024-12-08           ┆ BH393782 Corp        ┆ (5) 30+              │\n",
       "└───────────┴─────────────────┴──────────────────────┴──────────────────────┴──────────────────────┘"
      ]
     },
     "execution_count": 11,
     "metadata": {},
     "output_type": "execute_result"
    }
   ],
   "source": [
    "# Example: Average spread for an issuer\n",
    "query = \"\"\"\n",
    "let( \n",
    "    #bins = bins(maturity_years,[3,9,18,30],['(1) 0-3','(2) 3-9','(3) 9-18','(4) 18-30','(5) 30+']);\n",
    "    #average_spread = avg(group(spread(st=oas),#bins));\n",
    ")\n",
    "get(#average_spread)\n",
    "for(filter(bonds('NVDA US Equity', issuedby = 'ENTITY'),maturity_years != NA))\n",
    "\"\"\"\n",
    "\n",
    "with BQuery() as bq:\n",
    "    df = bq.bql(query)\n",
    "df.plot.bar(x=\"ID\", y=\"#average_spread\").show()\n",
    "df.head(5)"
   ]
  }
 ],
 "metadata": {
  "kernelspec": {
   "display_name": "v312",
   "language": "python",
   "name": "python3"
  },
  "language_info": {
   "codemirror_mode": {
    "name": "ipython",
    "version": 3
   },
   "file_extension": ".py",
   "mimetype": "text/x-python",
   "name": "python",
   "nbconvert_exporter": "python",
   "pygments_lexer": "ipython3",
   "version": "3.12.7"
  }
 },
 "nbformat": 4,
 "nbformat_minor": 2
}
