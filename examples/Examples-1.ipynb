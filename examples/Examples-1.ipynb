{
 "cells": [
  {
   "cell_type": "markdown",
   "metadata": {},
   "source": [
    "# `polars_bloomberg` Examples\n",
    "(c) 2024 Marek Ozana"
   ]
  },
  {
   "cell_type": "code",
   "execution_count": 1,
   "metadata": {},
   "outputs": [],
   "source": [
    "# Imports\n",
    "from datetime import date\n",
    "\n",
    "from polars_bloomberg import BQuery"
   ]
  },
  {
   "cell_type": "markdown",
   "metadata": {},
   "source": [
    "## Bloomberg Data Point\n",
    "API:\n",
    "```python\n",
    "bdp(securities: List[str],\n",
    "    fields: List[str],\n",
    "    overrides: Optional[Sequence] = None,\n",
    "    options: Optional[Dict] = None\n",
    ")\n",
    "```"
   ]
  },
  {
   "cell_type": "code",
   "execution_count": 2,
   "metadata": {},
   "outputs": [
    {
     "name": "stdout",
     "output_type": "stream",
     "text": [
      "shape: (1, 2)\n",
      "┌────────────────┬─────────┐\n",
      "│ security       ┆ PX_LAST │\n",
      "│ ---            ┆ ---     │\n",
      "│ str            ┆ f64     │\n",
      "╞════════════════╪═════════╡\n",
      "│ AAPL US Equity ┆ 248.13  │\n",
      "└────────────────┴─────────┘\n"
     ]
    }
   ],
   "source": [
    "# Bloomberg Data Point\n",
    "with BQuery() as bq:\n",
    "    df = bq.bdp([\"AAPL US Equity\"], [\"PX_LAST\"])\n",
    "    print(df)"
   ]
  },
  {
   "cell_type": "code",
   "execution_count": 4,
   "metadata": {},
   "outputs": [
    {
     "name": "stdout",
     "output_type": "stream",
     "text": [
      "shape: (2, 3)\n",
      "┌────────────────┬─────────┬───────┐\n",
      "│ security       ┆ PX_LAST ┆ CRNCY │\n",
      "│ ---            ┆ ---     ┆ ---   │\n",
      "│ str            ┆ f64     ┆ str   │\n",
      "╞════════════════╪═════════╪═══════╡\n",
      "│ AAPL US Equity ┆ 248.13  ┆ USD   │\n",
      "│ SEBA SS Equity ┆ 155.2   ┆ SEK   │\n",
      "└────────────────┴─────────┴───────┘\n"
     ]
    }
   ],
   "source": [
    "with BQuery() as bq:\n",
    "    df = bq.bdp([\"AAPL US Equity\", \"SEBA SS Equity\"], [\"PX_LAST\", \"CRNCY\"])\n",
    "    print(df)"
   ]
  },
  {
   "cell_type": "code",
   "execution_count": 5,
   "metadata": {},
   "outputs": [
    {
     "name": "stdout",
     "output_type": "stream",
     "text": [
      "shape: (2, 5)\n",
      "┌───────────────────┬────────────────┬─────────────┬───────┬─────────────┐\n",
      "│ security          ┆ SECURITY_DES   ┆ YAS_ZSPREAD ┆ CRNCY ┆ NXT_CALL_DT │\n",
      "│ ---               ┆ ---            ┆ ---         ┆ ---   ┆ ---         │\n",
      "│ str               ┆ str            ┆ f64         ┆ str   ┆ date        │\n",
      "╞═══════════════════╪════════════════╪═════════════╪═══════╪═════════════╡\n",
      "│ XS2930103580 Corp ┆ SEB 6 3/4 PERP ┆ 304.676112  ┆ USD   ┆ 2031-11-04  │\n",
      "│ USX60003AC87 Corp ┆ NDAFH 6.3 PERP ┆ 292.477506  ┆ USD   ┆ 2031-09-25  │\n",
      "└───────────────────┴────────────────┴─────────────┴───────┴─────────────┘\n"
     ]
    }
   ],
   "source": [
    "with BQuery() as bq:\n",
    "    df = bq.bdp(\n",
    "        [\"XS2930103580 Corp\", \"USX60003AC87 Corp\"],\n",
    "        [\"SECURITY_DES\", \"YAS_ZSPREAD\", \"CRNCY\", \"NXT_CALL_DT\"],\n",
    "    )\n",
    "    print(df)"
   ]
  },
  {
   "cell_type": "code",
   "execution_count": 7,
   "metadata": {},
   "outputs": [
    {
     "name": "stdout",
     "output_type": "stream",
     "text": [
      "shape: (1, 3)\n",
      "┌───────────────┬─────────┬───────────────────┐\n",
      "│ security      ┆ PX_LAST ┆ CRNCY_ADJ_PX_LAST │\n",
      "│ ---           ┆ ---     ┆ ---               │\n",
      "│ str           ┆ f64     ┆ f64               │\n",
      "╞═══════════════╪═════════╪═══════════════════╡\n",
      "│ IBM US Equity ┆ 230.82  ┆ 2535.174          │\n",
      "└───────────────┴─────────┴───────────────────┘\n"
     ]
    }
   ],
   "source": [
    "with BQuery() as bq:\n",
    "    df = bq.bdp(\n",
    "        [\"IBM US Equity\"],\n",
    "        [\"PX_LAST\", \"CRNCY_ADJ_PX_LAST\"],\n",
    "        overrides=[(\"EQY_FUND_CRNCY\", \"SEK\")],\n",
    "    )\n",
    "    print(df)"
   ]
  },
  {
   "cell_type": "code",
   "execution_count": 8,
   "metadata": {},
   "outputs": [
    {
     "name": "stdout",
     "output_type": "stream",
     "text": [
      "shape: (1, 2)\n",
      "┌───────────────────┬────────────┐\n",
      "│ security          ┆ SETTLE_DT  │\n",
      "│ ---               ┆ ---        │\n",
      "│ str               ┆ date       │\n",
      "╞═══════════════════╪════════════╡\n",
      "│ USX60003AC87 Corp ┆ 2024-10-15 │\n",
      "└───────────────────┴────────────┘\n"
     ]
    }
   ],
   "source": [
    "# Override string dates in format YYYYMMDD\n",
    "with BQuery() as bq:\n",
    "    df = bq.bdp(\n",
    "        [\"USX60003AC87 Corp\"], [\"SETTLE_DT\"],\n",
    "        overrides=[(\"USER_LOCAL_TRADE_DATE\", \"20241014\")],\n",
    "    )\n",
    "    print(df)"
   ]
  },
  {
   "cell_type": "code",
   "execution_count": 9,
   "metadata": {},
   "outputs": [
    {
     "name": "stdout",
     "output_type": "stream",
     "text": [
      "shape: (2, 3)\n",
      "┌───────────────┬────────────┬─────────┐\n",
      "│ security      ┆ SETTLE_DT  ┆ PX_LAST │\n",
      "│ ---           ┆ ---        ┆ ---     │\n",
      "│ str           ┆ date       ┆ f64     │\n",
      "╞═══════════════╪════════════╪═════════╡\n",
      "│ USDSEK Curncy ┆ 2020-07-17 ┆ 10.9778 │\n",
      "│ SEKCZK Curncy ┆ 2020-07-17 ┆ 2.1698  │\n",
      "└───────────────┴────────────┴─────────┘\n"
     ]
    }
   ],
   "source": [
    "# Another override example\n",
    "with BQuery() as bq:\n",
    "    df = bq.bdp(\n",
    "        [\"USDSEK Curncy\", \"SEKCZK Curncy\"],\n",
    "        [\"SETTLE_DT\", \"PX_LAST\"],\n",
    "        overrides=[(\"REFERENCE_DATE\", \"20200715\")],\n",
    "    )\n",
    "    print(df)"
   ]
  },
  {
   "cell_type": "markdown",
   "metadata": {},
   "source": [
    "## Bloomberg Data History\n",
    "```python\n",
    "bdh(securities: List[str],\n",
    "    fields: List[str],\n",
    "    start_date: date,\n",
    "    end_date: date,\n",
    "    overrides: Optional[Sequence] = None,\n",
    "    options: Optional[Dict] = None\n",
    ")\n",
    "\n",
    "```"
   ]
  },
  {
   "cell_type": "code",
   "execution_count": 18,
   "metadata": {},
   "outputs": [
    {
     "name": "stdout",
     "output_type": "stream",
     "text": [
      "shape: (7, 3)\n",
      "┌───────────────┬────────────┬─────────┐\n",
      "│ security      ┆ date       ┆ PX_LAST │\n",
      "│ ---           ┆ ---        ┆ ---     │\n",
      "│ str           ┆ date       ┆ f64     │\n",
      "╞═══════════════╪════════════╪═════════╡\n",
      "│ TLT US Equity ┆ 2019-01-02 ┆ 122.15  │\n",
      "│ TLT US Equity ┆ 2019-01-03 ┆ 123.54  │\n",
      "│ TLT US Equity ┆ 2019-01-04 ┆ 122.11  │\n",
      "│ TLT US Equity ┆ 2019-01-07 ┆ 121.75  │\n",
      "│ TLT US Equity ┆ 2019-01-08 ┆ 121.43  │\n",
      "│ TLT US Equity ┆ 2019-01-09 ┆ 121.24  │\n",
      "│ TLT US Equity ┆ 2019-01-10 ┆ 120.46  │\n",
      "└───────────────┴────────────┴─────────┘\n"
     ]
    }
   ],
   "source": [
    "# Bloomberg Data History\n",
    "with BQuery() as bq:\n",
    "    df = bq.bdh(\n",
    "        [\"TLT US Equity\"],\n",
    "        [\"PX_LAST\"],\n",
    "        start_date=date(2019, 1, 1),\n",
    "        end_date=date(2019, 1, 10),\n",
    "    )\n",
    "print(df)"
   ]
  },
  {
   "cell_type": "code",
   "execution_count": 19,
   "metadata": {},
   "outputs": [
    {
     "name": "stdout",
     "output_type": "stream",
     "text": [
      "shape: (14, 4)\n",
      "┌───────────────┬────────────┬─────────┬──────────────┐\n",
      "│ security      ┆ date       ┆ PX_LAST ┆ VOLUME       │\n",
      "│ ---           ┆ ---        ┆ ---     ┆ ---          │\n",
      "│ str           ┆ date       ┆ f64     ┆ f64          │\n",
      "╞═══════════════╪════════════╪═════════╪══════════════╡\n",
      "│ SPY US Equity ┆ 2019-01-02 ┆ 250.18  ┆ 1.26925199e8 │\n",
      "│ SPY US Equity ┆ 2019-01-03 ┆ 244.21  ┆ 1.44140692e8 │\n",
      "│ SPY US Equity ┆ 2019-01-04 ┆ 252.39  ┆ 1.42628834e8 │\n",
      "│ SPY US Equity ┆ 2019-01-07 ┆ 254.38  ┆ 1.031391e8   │\n",
      "│ SPY US Equity ┆ 2019-01-08 ┆ 256.77  ┆ 1.02512587e8 │\n",
      "│ …             ┆ …          ┆ …       ┆ …            │\n",
      "│ TLT US Equity ┆ 2019-01-04 ┆ 122.11  ┆ 1.2970226e7  │\n",
      "│ TLT US Equity ┆ 2019-01-07 ┆ 121.75  ┆ 8.498104e6   │\n",
      "│ TLT US Equity ┆ 2019-01-08 ┆ 121.43  ┆ 7.737103e6   │\n",
      "│ TLT US Equity ┆ 2019-01-09 ┆ 121.24  ┆ 9.349245e6   │\n",
      "│ TLT US Equity ┆ 2019-01-10 ┆ 120.46  ┆ 8.22286e6    │\n",
      "└───────────────┴────────────┴─────────┴──────────────┘\n"
     ]
    }
   ],
   "source": [
    "# Bloomberg Data History\n",
    "with BQuery() as bq:\n",
    "    df = bq.bdh(\n",
    "        securities=[\"SPY US Equity\", \"TLT US Equity\"],\n",
    "        fields=[\"PX_LAST\", \"VOLUME\"],\n",
    "        start_date=date(2019, 1, 1),\n",
    "        end_date=date(2019, 1, 10),\n",
    "        options={\"adjustmentSplit\": True},\n",
    "    )\n",
    "    print(df)"
   ]
  },
  {
   "cell_type": "code",
   "execution_count": 21,
   "metadata": {},
   "outputs": [
    {
     "name": "stdout",
     "output_type": "stream",
     "text": [
      "shape: (3, 3)\n",
      "┌────────────────┬────────────┬─────────┐\n",
      "│ security       ┆ date       ┆ PX_LAST │\n",
      "│ ---            ┆ ---        ┆ ---     │\n",
      "│ str            ┆ date       ┆ f64     │\n",
      "╞════════════════╪════════════╪═════════╡\n",
      "│ AAPL US Equity ┆ 2019-01-31 ┆ 41.61   │\n",
      "│ AAPL US Equity ┆ 2019-02-28 ┆ 43.288  │\n",
      "│ AAPL US Equity ┆ 2019-03-29 ┆ 47.488  │\n",
      "└────────────────┴────────────┴─────────┘\n"
     ]
    }
   ],
   "source": [
    "with BQuery() as bq:\n",
    "    df = bq.bdh(\n",
    "        [\"AAPL US Equity\"],\n",
    "        [\"PX_LAST\"],\n",
    "        start_date=date(2019, 1, 1),\n",
    "        end_date=date(2019, 3, 29),\n",
    "        options={\"periodicitySelection\": \"MONTHLY\"},\n",
    "    )\n",
    "    print(df)"
   ]
  },
  {
   "cell_type": "markdown",
   "metadata": {},
   "source": [
    "## Bloomberg Query Language\n",
    "```python\n",
    "bql(expression: str)\n",
    "```"
   ]
  },
  {
   "cell_type": "code",
   "execution_count": 23,
   "metadata": {},
   "outputs": [
    {
     "name": "stdout",
     "output_type": "stream",
     "text": [
      "shape: (1, 4)\n",
      "┌───────────────┬─────────┬────────────┬──────────┐\n",
      "│ ID            ┆ px_last ┆ DATE       ┆ CURRENCY │\n",
      "│ ---           ┆ ---     ┆ ---        ┆ ---      │\n",
      "│ str           ┆ f64     ┆ date       ┆ str      │\n",
      "╞═══════════════╪═════════╪════════════╪══════════╡\n",
      "│ IBM US Equity ┆ 230.82  ┆ 2024-12-14 ┆ USD      │\n",
      "└───────────────┴─────────┴────────────┴──────────┘\n"
     ]
    }
   ],
   "source": [
    "with BQuery() as bq:\n",
    "    df_lst = bq.bql(\"get(px_last) for(['IBM US Equity'])\")\n",
    "    print(df_lst[0])"
   ]
  },
  {
   "cell_type": "code",
   "execution_count": 28,
   "metadata": {},
   "outputs": [
    {
     "name": "stdout",
     "output_type": "stream",
     "text": [
      "n=1\n",
      "shape: (2, 4)\n",
      "┌────────────────┬─────────┬────────────┬──────────┐\n",
      "│ ID             ┆ px_last ┆ DATE       ┆ CURRENCY │\n",
      "│ ---            ┆ ---     ┆ ---        ┆ ---      │\n",
      "│ str            ┆ f64     ┆ date       ┆ str      │\n",
      "╞════════════════╪═════════╪════════════╪══════════╡\n",
      "│ IBM US Equity  ┆ 230.82  ┆ 2024-12-14 ┆ USD      │\n",
      "│ SEBA SS Equity ┆ 155.2   ┆ 2024-12-14 ┆ SEK      │\n",
      "└────────────────┴─────────┴────────────┴──────────┘\n"
     ]
    }
   ],
   "source": [
    "with BQuery() as bq:\n",
    "    df_lst = bq.bql(\"get(px_last) for(['IBM US Equity', 'SEBA SS Equity'])\")\n",
    "\n",
    "    print(f\"n={len(df_lst)}\")\n",
    "    print(df_lst[0])"
   ]
  },
  {
   "cell_type": "code",
   "execution_count": null,
   "metadata": {},
   "outputs": [
    {
     "name": "stdout",
     "output_type": "stream",
     "text": [
      "n=2\n",
      "shape: (1, 2)\n",
      "┌───────────────┬────────────────────────────────┐\n",
      "│ ID            ┆ name                           │\n",
      "│ ---           ┆ ---                            │\n",
      "│ str           ┆ str                            │\n",
      "╞═══════════════╪════════════════════════════════╡\n",
      "│ IBM US Equity ┆ International Business Machine │\n",
      "└───────────────┴────────────────────────────────┘\n",
      "shape: (1, 4)\n",
      "┌───────────────┬─────────┬────────────┬──────────┐\n",
      "│ ID            ┆ px_last ┆ DATE       ┆ CURRENCY │\n",
      "│ ---           ┆ ---     ┆ ---        ┆ ---      │\n",
      "│ str           ┆ f64     ┆ date       ┆ str      │\n",
      "╞═══════════════╪═════════╪════════════╪══════════╡\n",
      "│ IBM US Equity ┆ 230.82  ┆ 2024-12-14 ┆ USD      │\n",
      "└───────────────┴─────────┴────────────┴──────────┘\n",
      "shape: (1, 5)\n",
      "┌───────────────┬────────────────────────────────┬─────────┬────────────┬──────────┐\n",
      "│ ID            ┆ name                           ┆ px_last ┆ DATE       ┆ CURRENCY │\n",
      "│ ---           ┆ ---                            ┆ ---     ┆ ---        ┆ ---      │\n",
      "│ str           ┆ str                            ┆ f64     ┆ date       ┆ str      │\n",
      "╞═══════════════╪════════════════════════════════╪═════════╪════════════╪══════════╡\n",
      "│ IBM US Equity ┆ International Business Machine ┆ 230.82  ┆ 2024-12-14 ┆ USD      │\n",
      "└───────────────┴────────────────────────────────┴─────────┴────────────┴──────────┘\n"
     ]
    }
   ],
   "source": [
    "# Multiple data-items in get() => multiple pl.DataFrames in list\n",
    "with BQuery() as bq:\n",
    "    df_lst = bq.bql(\"get(name, px_last) for(['IBM US Equity'])\")\n",
    "    print(f\"n={len(df_lst)}\")\n",
    "    print(df_lst[0])\n",
    "    print(df_lst[1])\n",
    "    print(df_lst[0].join(df_lst[1], on='ID'))"
   ]
  },
  {
   "cell_type": "code",
   "execution_count": 38,
   "metadata": {},
   "outputs": [
    {
     "name": "stdout",
     "output_type": "stream",
     "text": [
      "shape: (6, 5)\n",
      "┌───────────────┬─────────────────┬──────────┬────────────┬────────────┐\n",
      "│ ID            ┆ name()          ┆ #dur     ┆ DATE       ┆ #zsprd     │\n",
      "│ ---           ┆ ---             ┆ ---      ┆ ---        ┆ ---        │\n",
      "│ str           ┆ str             ┆ f64      ┆ date       ┆ f64        │\n",
      "╞═══════════════╪═════════════════╪══════════╪════════════╪════════════╡\n",
      "│ ZQ349286 Corp ┆ SEB 5 ⅛ PERP    ┆ 0.395636 ┆ 2024-12-14 ┆ 185.980438 │\n",
      "│ YV402592 Corp ┆ SEB Float PERP  ┆ 0.212973 ┆ 2024-12-14 ┆ 232.71     │\n",
      "│ YU819930 Corp ┆ SEB 6 ¾ PERP    ┆ 5.37363  ┆ 2024-12-14 ┆ 308.810572 │\n",
      "│ ZO703956 Corp ┆ SHBASS 4 ¾ PERP ┆ 4.946231 ┆ 2024-12-14 ┆ 255.85428  │\n",
      "│ ZO703315 Corp ┆ SHBASS 4 ⅜ PERP ┆ 1.956536 ┆ 2024-12-14 ┆ 213.358921 │\n",
      "│ BW924993 Corp ┆ SEB 6 ⅞ PERP    ┆ 2.231859 ┆ 2024-12-14 ┆ 211.55125  │\n",
      "└───────────────┴─────────────────┴──────────┴────────────┴────────────┘\n"
     ]
    }
   ],
   "source": [
    "query=\"\"\"\n",
    "    let(#dur=duration(duration_type=MODIFIED); \n",
    "        #zsprd=spread(spread_type=Z);) \n",
    "    get(name(), #dur, #zsprd) \n",
    "    for(filter(screenresults(type=SRCH, screen_name='@COCO'), \n",
    "            ticker in ['SEB', 'SHBASS']))\n",
    "\"\"\"\n",
    "\n",
    "with BQuery() as bq:\n",
    "    df_lst = bq.bql(query)\n",
    "\n",
    "    df = df_lst[0].join(df_lst[1], on='ID').join(df_lst[2], on=['ID', 'DATE'])\n",
    "    print(df)"
   ]
  },
  {
   "cell_type": "code",
   "execution_count": 42,
   "metadata": {},
   "outputs": [
    {
     "name": "stdout",
     "output_type": "stream",
     "text": [
      "shape: (5, 7)\n",
      "┌──────────────┬───────────┬──────────────┬────────────┬──────────────┬──────────────┬─────────────┐\n",
      "│ ID           ┆ #avg_pe   ┆ REVISION_DAT ┆ AS_OF_DATE ┆ PERIOD_END_D ┆ ORIG_IDS     ┆ GICS_SECTOR │\n",
      "│ ---          ┆ ---       ┆ E            ┆ ---        ┆ ATE          ┆ ---          ┆ _NAME()     │\n",
      "│ str          ┆ f64       ┆ ---          ┆ date       ┆ ---          ┆ str          ┆ ---         │\n",
      "│              ┆           ┆ date         ┆            ┆ date         ┆              ┆ str         │\n",
      "╞══════════════╪═══════════╪══════════════╪════════════╪══════════════╪══════════════╪═════════════╡\n",
      "│ Communicatio ┆ 19.561754 ┆ 2024-10-24   ┆ 2024-12-14 ┆ 2024-09-30   ┆ null         ┆ Communicati │\n",
      "│ n Services   ┆           ┆              ┆            ┆              ┆              ┆ on Services │\n",
      "│ Consumer Dis ┆ 19.117295 ┆ 2024-10-24   ┆ 2024-12-14 ┆ 2024-09-30   ┆ null         ┆ Consumer    │\n",
      "│ cretionary   ┆           ┆              ┆            ┆              ┆              ┆ Discretiona │\n",
      "│              ┆           ┆              ┆            ┆              ┆              ┆ ry          │\n",
      "│ Consumer     ┆ 15.984743 ┆ 2024-10-24   ┆ 2024-12-14 ┆ 2024-09-30   ┆ ESSITYB SS   ┆ Consumer    │\n",
      "│ Staples      ┆           ┆              ┆            ┆              ┆ Equity       ┆ Staples     │\n",
      "│ Financials   ┆ 6.815895  ┆ 2024-10-24   ┆ 2024-12-14 ┆ 2024-09-30   ┆ null         ┆ Financials  │\n",
      "│ Health Care  ┆ 22.00628  ┆ 2024-11-12   ┆ 2024-12-14 ┆ 2024-09-30   ┆ null         ┆ Health Care │\n",
      "└──────────────┴───────────┴──────────────┴────────────┴──────────────┴──────────────┴─────────────┘\n"
     ]
    }
   ],
   "source": [
    "# Example: average PE ratio per sector\n",
    "query = \"\"\"\n",
    "    let(#avg_pe=avg(group(pe_ratio(), gics_sector_name()));)\n",
    "    get(#avg_pe)\n",
    "    for(members('OMX Index'))\n",
    "\"\"\"\n",
    "with BQuery() as bq:\n",
    "    df_lst = bq.bql(query)\n",
    "    print(df_lst[0].head(5))\n"
   ]
  },
  {
   "cell_type": "code",
   "execution_count": 59,
   "metadata": {},
   "outputs": [
    {
     "name": "stdout",
     "output_type": "stream",
     "text": [
      "shape: (7, 6)\n",
      "┌───────────────┬───────┬───────────────┬────────────┬─────────────────┬──────────┐\n",
      "│ ID            ┆ #eps  ┆ REVISION_DATE ┆ AS_OF_DATE ┆ PERIOD_END_DATE ┆ CURRENCY │\n",
      "│ ---           ┆ ---   ┆ ---           ┆ ---        ┆ ---             ┆ ---      │\n",
      "│ str           ┆ f64   ┆ date          ┆ date       ┆ date            ┆ str      │\n",
      "╞═══════════════╪═══════╪═══════════════╪════════════╪═════════════════╪══════════╡\n",
      "│ IBM US Equity ┆ 10.63 ┆ 2022-02-22    ┆ 2024-12-14 ┆ 2019-12-31      ┆ USD      │\n",
      "│ IBM US Equity ┆ 6.28  ┆ 2023-02-28    ┆ 2024-12-14 ┆ 2020-12-31      ┆ USD      │\n",
      "│ IBM US Equity ┆ 6.41  ┆ 2023-02-28    ┆ 2024-12-14 ┆ 2021-12-31      ┆ USD      │\n",
      "│ IBM US Equity ┆ 1.82  ┆ 2024-03-18    ┆ 2024-12-14 ┆ 2022-12-31      ┆ USD      │\n",
      "│ IBM US Equity ┆ 8.23  ┆ 2024-03-18    ┆ 2024-12-14 ┆ 2023-12-31      ┆ USD      │\n",
      "│ IBM US Equity ┆ 7.891 ┆ 2024-12-13    ┆ 2024-12-14 ┆ 2024-12-31      ┆ USD      │\n",
      "│ IBM US Equity ┆ 9.236 ┆ 2024-12-13    ┆ 2024-12-14 ┆ 2025-12-31      ┆ USD      │\n",
      "└───────────────┴───────┴───────────────┴────────────┴─────────────────┴──────────┘\n"
     ]
    }
   ],
   "source": [
    "# historical and forward earning estimates\n",
    "with BQuery() as bq:\n",
    "    df_lst = bq.bql(\"\"\"\n",
    "        let(#eps=is_eps(fa_period_type='A',\n",
    "                        fa_period_offset=range(-4,2));)\n",
    "        get(#eps)\n",
    "        for(['IBM US Equity'])\n",
    "    \"\"\")\n",
    "    print(df_lst[0])\n"
   ]
  },
  {
   "cell_type": "code",
   "execution_count": 60,
   "metadata": {},
   "outputs": [
    {
     "name": "stdout",
     "output_type": "stream",
     "text": [
      "shape: (5, 5)\n",
      "┌───────────┬─────────────────┬────────────┬───────────────┬───────────┐\n",
      "│ ID        ┆ #average_spread ┆ DATE       ┆ ORIG_IDS      ┆ #BINS     │\n",
      "│ ---       ┆ ---             ┆ ---        ┆ ---           ┆ ---       │\n",
      "│ str       ┆ f64             ┆ date       ┆ str           ┆ str       │\n",
      "╞═══════════╪═════════════════╪════════════╪═══════════════╪═══════════╡\n",
      "│ (1) 0-3   ┆ 31.195689       ┆ 2024-12-14 ┆ QZ552396 Corp ┆ (1) 0-3   │\n",
      "│ (2) 3-9   ┆ 59.580383       ┆ 2024-12-14 ┆ null          ┆ (2) 3-9   │\n",
      "│ (3) 9-18  ┆ 110.614416      ┆ 2024-12-14 ┆ BH393780 Corp ┆ (3) 9-18  │\n",
      "│ (4) 18-30 ┆ 135.160279      ┆ 2024-12-14 ┆ BH393781 Corp ┆ (4) 18-30 │\n",
      "│ (5) 30+   ┆ 150.713405      ┆ 2024-12-14 ┆ BH393782 Corp ┆ (5) 30+   │\n",
      "└───────────┴─────────────────┴────────────┴───────────────┴───────────┘\n"
     ]
    }
   ],
   "source": [
    "# Example: Average OAS-spread per maturity bucket\n",
    "query = \"\"\"\n",
    "let(\n",
    "    #bins = bins(maturity_years,\n",
    "                 [3,9,18,30],\n",
    "                 ['(1) 0-3','(2) 3-9','(3) 9-18','(4) 18-30','(5) 30+']);\n",
    "    #average_spread = avg(group(spread(st=oas),#bins));\n",
    ")\n",
    "get(#average_spread)\n",
    "for(filter(bonds('NVDA US Equity', issuedby = 'ENTITY'),\n",
    "           maturity_years != NA))\n",
    "\"\"\"\n",
    "\n",
    "with BQuery() as bq:\n",
    "    df_lst = bq.bql(query)\n",
    "    print(df_lst[0])"
   ]
  },
  {
   "cell_type": "code",
   "execution_count": 73,
   "metadata": {},
   "outputs": [
    {
     "name": "stdout",
     "output_type": "stream",
     "text": [
      "shape: (5, 7)\n",
      "┌─────────────────┬──────────────────┬────────────┬────────────┬──────────┬────────────┬───────────┐\n",
      "│ ID              ┆ name()           ┆ #ema20     ┆ DATE       ┆ CURRENCY ┆ #ema200    ┆ #rsi      │\n",
      "│ ---             ┆ ---              ┆ ---        ┆ ---        ┆ ---      ┆ ---        ┆ ---       │\n",
      "│ str             ┆ str              ┆ f64        ┆ date       ┆ str      ┆ f64        ┆ f64       │\n",
      "╞═════════════════╪══════════════════╪════════════╪════════════╪══════════╪════════════╪═══════════╡\n",
      "│ ERICB SS Equity ┆ Telefonaktiebola ┆ 90.094984  ┆ 2024-12-14 ┆ SEK      ┆ 74.917219  ┆ 57.454412 │\n",
      "│                 ┆ get LM Ericsso   ┆            ┆            ┆          ┆            ┆           │\n",
      "│ SKFB SS Equity  ┆ SKF AB           ┆ 214.383743 ┆ 2024-12-14 ┆ SEK      ┆ 205.174139 ┆ 58.403269 │\n",
      "│ SEBA SS Equity  ┆ Skandinaviska    ┆ 153.680261 ┆ 2024-12-14 ┆ SEK      ┆ 150.720922 ┆ 57.692703 │\n",
      "│                 ┆ Enskilda Banken  ┆            ┆            ┆          ┆            ┆           │\n",
      "│ ASSAB SS Equity ┆ Assa Abloy AB    ┆ 338.829971 ┆ 2024-12-14 ┆ SEK      ┆ 316.8212   ┆ 55.467329 │\n",
      "│ SWEDA SS Equity ┆ Swedbank AB      ┆ 217.380431 ┆ 2024-12-14 ┆ SEK      ┆ 213.776784 ┆ 56.303481 │\n",
      "└─────────────────┴──────────────────┴────────────┴────────────┴──────────┴────────────┴───────────┘\n"
     ]
    }
   ],
   "source": [
    "# stocks with 20d EMA above 200d EMA and RSI > 55\n",
    "with BQuery() as bq:\n",
    "    df_lst = bq.bql(\n",
    "        \"\"\"\n",
    "        let(#ema20=emavg(period=20);\n",
    "            #ema200=emavg(period=200);\n",
    "            #rsi=rsi(close=px_last());)\n",
    "        get(name(), #ema20, #ema200, #rsi)\n",
    "        for(filter(members('OMX Index'),\n",
    "                    and(#ema20 > #ema200, #rsi > 55)))\n",
    "        with(fill=PREV)\n",
    "        \"\"\"\n",
    "    )\n",
    "    df = (\n",
    "        df_lst[0]\n",
    "        .join(df_lst[1], on=\"ID\")\n",
    "        .join(df_lst[2], on=[\"ID\", \"DATE\", \"CURRENCY\"])\n",
    "        .join(df_lst[3], on=[\"ID\", \"DATE\"])\n",
    "    )\n",
    "    print(df)"
   ]
  },
  {
   "cell_type": "code",
   "execution_count": 49,
   "metadata": {},
   "outputs": [
    {
     "name": "stdout",
     "output_type": "stream",
     "text": [
      "shape: (8, 7)\n",
      "┌───────────────┬─────────────────┬─────┬───────────┬───────────┬────────────────┬────────────────┐\n",
      "│ ID            ┆ security_des    ┆ #ax ┆ ASK_DEPTH ┆ BID_DEPTH ┆ ASK_TOTAL_SIZE ┆ BID_TOTAL_SIZE │\n",
      "│ ---           ┆ ---             ┆ --- ┆ ---       ┆ ---       ┆ ---            ┆ ---            │\n",
      "│ str           ┆ str             ┆ str ┆ i64       ┆ i64       ┆ f64            ┆ f64            │\n",
      "╞═══════════════╪═════════════════╪═════╪═══════════╪═══════════╪════════════════╪════════════════╡\n",
      "│ YU819930 Corp ┆ SEB 6 ¾ PERP    ┆ N   ┆ null      ┆ null      ┆ null           ┆ null           │\n",
      "│ ZO703315 Corp ┆ SHBASS 4 ⅜ PERP ┆ N   ┆ null      ┆ null      ┆ null           ┆ null           │\n",
      "│ BR069680 Corp ┆ SWEDA 4 PERP    ┆ N   ┆ null      ┆ null      ┆ null           ┆ null           │\n",
      "│ ZL122341 Corp ┆ SWEDA 7 ⅝ PERP  ┆ N   ┆ null      ┆ null      ┆ null           ┆ null           │\n",
      "│ ZQ349286 Corp ┆ SEB 5 ⅛ PERP    ┆ N   ┆ null      ┆ null      ┆ null           ┆ null           │\n",
      "│ ZF859199 Corp ┆ SWEDA 7 ¾ PERP  ┆ N   ┆ null      ┆ null      ┆ null           ┆ null           │\n",
      "│ ZO703956 Corp ┆ SHBASS 4 ¾ PERP ┆ N   ┆ null      ┆ null      ┆ null           ┆ null           │\n",
      "│ BW924993 Corp ┆ SEB 6 ⅞ PERP    ┆ N   ┆ null      ┆ null      ┆ null           ┆ null           │\n",
      "└───────────────┴─────────────────┴─────┴───────────┴───────────┴────────────────┴────────────────┘\n"
     ]
    }
   ],
   "source": [
    "# Get current axes for Swedish AT1 bonds in USD\n",
    "query=\"\"\"\n",
    "    let(#ax=axes();)\n",
    "    get(security_des, #ax)\n",
    "    for(filter(bondsuniv(ACTIVE),\n",
    "        crncy()=='USD' and\n",
    "        basel_iii_designation() == 'Additional Tier 1' and\n",
    "        country_iso() == 'SE'))\n",
    "\"\"\"\n",
    "\n",
    "with BQuery() as bq:\n",
    "    df_lst = bq.bql(query)\n",
    "    print(df_lst[0].join(df_lst[1], on='ID'))"
   ]
  },
  {
   "cell_type": "code",
   "execution_count": null,
   "metadata": {},
   "outputs": [
    {
     "name": "stdout",
     "output_type": "stream",
     "text": [
      "shape: (5, 6)\n",
      "┌───────────────┬───────────────────┬──────────────────┬────────────┬─────────────┬────────────┐\n",
      "│ ID            ┆ name()            ┆ #rank            ┆ #nxt_call  ┆ #oas        ┆ #oas.DATE  │\n",
      "│ ---           ┆ ---               ┆ ---              ┆ ---        ┆ ---         ┆ ---        │\n",
      "│ str           ┆ str               ┆ str              ┆ date       ┆ f64         ┆ date       │\n",
      "╞═══════════════╪═══════════════════╪══════════════════╪════════════╪═════════════╪════════════╡\n",
      "│ YX231113 Corp ┆ GTN 10 ½ 07/15/29 ┆ 1st Lien Secured ┆ 2026-07-15 ┆ 615.798149  ┆ 2024-12-10 │\n",
      "│ BS116983 Corp ┆ GTN 5 ⅜ 11/15/31  ┆ Sr Unsecured     ┆ 2026-11-15 ┆ 1144.393892 ┆ 2024-12-10 │\n",
      "│ AV438089 Corp ┆ GTN 7 05/15/27    ┆ Sr Unsecured     ┆ 2024-12-17 ┆ 389.022271  ┆ 2024-12-10 │\n",
      "│ ZO860846 Corp ┆ GTN 4 ¾ 10/15/30  ┆ Sr Unsecured     ┆ 2025-10-15 ┆ 1184.969597 ┆ 2024-12-10 │\n",
      "│ LW375188 Corp ┆ GTN 5 ⅞ 07/15/26  ┆ Sr Unsecured     ┆ 2025-01-06 ┆ 185.544312  ┆ 2024-12-10 │\n",
      "└───────────────┴───────────────────┴──────────────────┴────────────┴─────────────┴────────────┘\n"
     ]
    },
    {
     "data": {
      "text/html": [
       "\n",
       "<style>\n",
       "  #altair-viz-b20b7a3b040740178cf695dda4294caf.vega-embed {\n",
       "    width: 100%;\n",
       "    display: flex;\n",
       "  }\n",
       "\n",
       "  #altair-viz-b20b7a3b040740178cf695dda4294caf.vega-embed details,\n",
       "  #altair-viz-b20b7a3b040740178cf695dda4294caf.vega-embed details summary {\n",
       "    position: relative;\n",
       "  }\n",
       "</style>\n",
       "<div id=\"altair-viz-b20b7a3b040740178cf695dda4294caf\"></div>\n",
       "<script type=\"text/javascript\">\n",
       "  var VEGA_DEBUG = (typeof VEGA_DEBUG == \"undefined\") ? {} : VEGA_DEBUG;\n",
       "  (function(spec, embedOpt){\n",
       "    let outputDiv = document.currentScript.previousElementSibling;\n",
       "    if (outputDiv.id !== \"altair-viz-b20b7a3b040740178cf695dda4294caf\") {\n",
       "      outputDiv = document.getElementById(\"altair-viz-b20b7a3b040740178cf695dda4294caf\");\n",
       "    }\n",
       "    const paths = {\n",
       "      \"vega\": \"https://cdn.jsdelivr.net/npm/vega@5?noext\",\n",
       "      \"vega-lib\": \"https://cdn.jsdelivr.net/npm/vega-lib?noext\",\n",
       "      \"vega-lite\": \"https://cdn.jsdelivr.net/npm/vega-lite@5.20.1?noext\",\n",
       "      \"vega-embed\": \"https://cdn.jsdelivr.net/npm/vega-embed@6?noext\",\n",
       "    };\n",
       "\n",
       "    function maybeLoadScript(lib, version) {\n",
       "      var key = `${lib.replace(\"-\", \"\")}_version`;\n",
       "      return (VEGA_DEBUG[key] == version) ?\n",
       "        Promise.resolve(paths[lib]) :\n",
       "        new Promise(function(resolve, reject) {\n",
       "          var s = document.createElement('script');\n",
       "          document.getElementsByTagName(\"head\")[0].appendChild(s);\n",
       "          s.async = true;\n",
       "          s.onload = () => {\n",
       "            VEGA_DEBUG[key] = version;\n",
       "            return resolve(paths[lib]);\n",
       "          };\n",
       "          s.onerror = () => reject(`Error loading script: ${paths[lib]}`);\n",
       "          s.src = paths[lib];\n",
       "        });\n",
       "    }\n",
       "\n",
       "    function showError(err) {\n",
       "      outputDiv.innerHTML = `<div class=\"error\" style=\"color:red;\">${err}</div>`;\n",
       "      throw err;\n",
       "    }\n",
       "\n",
       "    function displayChart(vegaEmbed) {\n",
       "      vegaEmbed(outputDiv, spec, embedOpt)\n",
       "        .catch(err => showError(`Javascript Error: ${err.message}<br>This usually means there's a typo in your chart specification. See the javascript console for the full traceback.`));\n",
       "    }\n",
       "\n",
       "    if(typeof define === \"function\" && define.amd) {\n",
       "      requirejs.config({paths});\n",
       "      require([\"vega-embed\"], displayChart, err => showError(`Error loading script: ${err.message}`));\n",
       "    } else {\n",
       "      maybeLoadScript(\"vega\", \"5\")\n",
       "        .then(() => maybeLoadScript(\"vega-lite\", \"5.20.1\"))\n",
       "        .then(() => maybeLoadScript(\"vega-embed\", \"6\"))\n",
       "        .catch(showError)\n",
       "        .then(() => displayChart(vegaEmbed));\n",
       "    }\n",
       "  })({\"config\": {\"view\": {\"continuousWidth\": 300, \"continuousHeight\": 300}}, \"layer\": [{\"mark\": {\"type\": \"point\"}, \"encoding\": {\"shape\": {\"field\": \"#rank\", \"type\": \"nominal\"}, \"tooltip\": [{\"field\": \"#nxt_call\", \"type\": \"temporal\"}, {\"field\": \"#oas\", \"type\": \"quantitative\"}, {\"field\": \"#rank\", \"type\": \"nominal\"}], \"x\": {\"field\": \"#nxt_call\", \"type\": \"temporal\"}, \"y\": {\"field\": \"#oas\", \"type\": \"quantitative\"}}, \"name\": \"view_1\"}, {\"mark\": {\"type\": \"text\", \"baseline\": \"bottom\"}, \"encoding\": {\"shape\": {\"field\": \"#rank\", \"type\": \"nominal\"}, \"text\": {\"field\": \"name()\", \"type\": \"nominal\"}, \"tooltip\": [{\"field\": \"#nxt_call\", \"type\": \"temporal\"}, {\"field\": \"#oas\", \"type\": \"quantitative\"}, {\"field\": \"#rank\", \"type\": \"nominal\"}], \"x\": {\"field\": \"#nxt_call\", \"type\": \"temporal\"}, \"y\": {\"field\": \"#oas\", \"type\": \"quantitative\"}}}], \"data\": {\"name\": \"data-140d99037d9a15bfdfefea22638b9309\"}, \"params\": [{\"name\": \"param_2\", \"select\": {\"type\": \"interval\", \"encodings\": [\"x\", \"y\"]}, \"bind\": \"scales\", \"views\": [\"view_1\"]}], \"$schema\": \"https://vega.github.io/schema/vega-lite/v5.20.1.json\", \"datasets\": {\"data-140d99037d9a15bfdfefea22638b9309\": [{\"ID\": \"YX231113 Corp\", \"name()\": \"GTN 10 \\u00bd 07/15/29\", \"#rank\": \"1st Lien Secured\", \"#nxt_call\": \"2026-07-15T00:00:00\", \"#oas\": 615.7981494, \"#oas.DATE\": \"2024-12-10T00:00:00\"}, {\"ID\": \"BS116983 Corp\", \"name()\": \"GTN 5 \\u215c 11/15/31\", \"#rank\": \"Sr Unsecured\", \"#nxt_call\": \"2026-11-15T00:00:00\", \"#oas\": 1144.39389241, \"#oas.DATE\": \"2024-12-10T00:00:00\"}, {\"ID\": \"AV438089 Corp\", \"name()\": \"GTN 7 05/15/27\", \"#rank\": \"Sr Unsecured\", \"#nxt_call\": \"2024-12-17T00:00:00\", \"#oas\": 389.02227142, \"#oas.DATE\": \"2024-12-10T00:00:00\"}, {\"ID\": \"ZO860846 Corp\", \"name()\": \"GTN 4 \\u00be 10/15/30\", \"#rank\": \"Sr Unsecured\", \"#nxt_call\": \"2025-10-15T00:00:00\", \"#oas\": 1184.96959681, \"#oas.DATE\": \"2024-12-10T00:00:00\"}, {\"ID\": \"LW375188 Corp\", \"name()\": \"GTN 5 \\u215e 07/15/26\", \"#rank\": \"Sr Unsecured\", \"#nxt_call\": \"2025-01-06T00:00:00\", \"#oas\": 185.54431211, \"#oas.DATE\": \"2024-12-10T00:00:00\"}]}}, {\"mode\": \"vega-lite\"});\n",
       "</script>"
      ],
      "text/plain": [
       "alt.LayerChart(...)"
      ]
     },
     "execution_count": 15,
     "metadata": {},
     "output_type": "execute_result"
    }
   ],
   "source": [
    "# Get Bond Universe from Equity Ticker\n",
    "query = \"\"\"\n",
    "let(#rank=normalized_payment_rank();\n",
    "    #oas=spread(st=oas);\n",
    "    #nxt_call=nxt_call_dt();\n",
    "    )\n",
    "get(name(), #rank, #nxt_call, #oas)\n",
    "for(filter(bonds('GTN US Equity'), series() == '144A'))\n",
    "\"\"\"\n",
    "\n",
    "with BQuery() as bq:\n",
    "    df = bq.bql(query)\n",
    "df"
   ]
  },
  {
   "cell_type": "code",
   "execution_count": null,
   "metadata": {},
   "outputs": [
    {
     "name": "stdout",
     "output_type": "stream",
     "text": [
      "shape: (20, 3)\n",
      "┌───────────────┬───────────┬────────────┐\n",
      "│ ID            ┆ #rets     ┆ #rets.DATE │\n",
      "│ ---           ┆ ---       ┆ ---        │\n",
      "│ str           ┆ f64       ┆ date       │\n",
      "╞═══════════════╪═══════════╪════════════╡\n",
      "│ YX231113 Corp ┆ null      ┆ 2024-11-19 │\n",
      "│ YX231113 Corp ┆ 0.005028  ┆ 2024-11-26 │\n",
      "│ YX231113 Corp ┆ 0.000326  ┆ 2024-12-03 │\n",
      "│ YX231113 Corp ┆ 0.000414  ┆ 2024-12-10 │\n",
      "│ BS116983 Corp ┆ null      ┆ 2024-11-19 │\n",
      "│ …             ┆ …         ┆ …          │\n",
      "│ ZO860846 Corp ┆ -0.010198 ┆ 2024-12-10 │\n",
      "│ LW375188 Corp ┆ null      ┆ 2024-11-19 │\n",
      "│ LW375188 Corp ┆ -0.000997 ┆ 2024-11-26 │\n",
      "│ LW375188 Corp ┆ 0.001294  ┆ 2024-12-03 │\n",
      "│ LW375188 Corp ┆ 0.0011    ┆ 2024-12-10 │\n",
      "└───────────────┴───────────┴────────────┘\n"
     ]
    }
   ],
   "source": [
    "# Total Return of GTN Bonds\n",
    "query=\"\"\"\n",
    "let(#rng = range(-3M, 0D);\n",
    "    #rets = return_series(calc_interval=#rng,per=W);\n",
    "    )\n",
    "get(#rets)\n",
    "for(filter(bonds('GTN US Equity'), series() == '144A'))\n",
    "\"\"\"\n",
    "\n",
    "with BQuery() as bq:\n",
    "    df = bq.bql(query)\n",
    "df\n"
   ]
  },
  {
   "cell_type": "code",
   "execution_count": null,
   "metadata": {},
   "outputs": [
    {
     "name": "stdout",
     "output_type": "stream",
     "text": [
      "shape: (5, 5)\n",
      "┌─────────────────┬──────────────┬──────────────────────┬────────┬────────────┐\n",
      "│ PERIOD_END_DATE ┆ Broadcasting ┆ Production Companies ┆ Other  ┆ Adjustment │\n",
      "│ ---             ┆ ---          ┆ ---                  ┆ ---    ┆ ---        │\n",
      "│ date            ┆ f64          ┆ f64                  ┆ f64    ┆ f64        │\n",
      "╞═════════════════╪══════════════╪══════════════════════╪════════╪════════════╡\n",
      "│ 2023-09-30      ┆ 7.83e8       ┆ 2e7                  ┆ 1.6e7  ┆ null       │\n",
      "│ 2023-12-31      ┆ 8.13e8       ┆ 3.2e7                ┆ 1.9e7  ┆ null       │\n",
      "│ 2024-03-31      ┆ 7.8e8        ┆ 2.4e7                ┆ 1.9e7  ┆ null       │\n",
      "│ 2024-06-30      ┆ 8.08e8       ┆ 1.8e7                ┆ 0.0    ┆ null       │\n",
      "│ 2024-09-30      ┆ 9.24e8       ┆ 2.6e7                ┆ 1.7e7  ┆ null       │\n",
      "└─────────────────┴──────────────┴──────────────────────┴────────┴────────────┘\n"
     ]
    }
   ],
   "source": [
    "# revenue per segment\n",
    "query = \"\"\"\n",
    "    let(#segment=segment_name();\n",
    "        #revenue=sales_Rev_turn(fpt=q, fpr=range(2023Q3, 2024Q3));\n",
    "        )\n",
    "    get(#segment, #revenue)\n",
    "    for(segments('GTN US Equity',type=reported,hierarchy=PRODUCT, level=1))\n",
    "\"\"\"\n",
    "with BQuery() as bq:\n",
    "    df_lst = bq.bql(query)\n",
    "    df = (\n",
    "        df_lst[0]\n",
    "        .join(df_lst[1], on=[\"ID\", \"ID_DATE\", \"AS_OF_DATE\"])\n",
    "        .pivot(index=\"PERIOD_END_DATE\", on=\"#segment\", values=\"#revenue\")\n",
    "    )\n",
    "    print(df)"
   ]
  },
  {
   "cell_type": "code",
   "execution_count": null,
   "metadata": {},
   "outputs": [
    {
     "data": {
      "text/html": [
       "<div><style>\n",
       ".dataframe > thead > tr,\n",
       ".dataframe > tbody > tr {\n",
       "  text-align: right;\n",
       "  white-space: pre-wrap;\n",
       "}\n",
       "</style>\n",
       "<small>shape: (5, 5)</small><table border=\"1\" class=\"dataframe\"><thead><tr><th>PERIOD_END_DATE</th><th>Broadcasting</th><th>Production Companies</th><th>Other </th><th>Adjustment</th></tr><tr><td>date</td><td>f64</td><td>f64</td><td>f64</td><td>f64</td></tr></thead><tbody><tr><td>2023-09-30</td><td>7.83e8</td><td>2e7</td><td>1.6e7</td><td>null</td></tr><tr><td>2023-12-31</td><td>8.13e8</td><td>3.2e7</td><td>1.9e7</td><td>null</td></tr><tr><td>2024-03-31</td><td>7.8e8</td><td>2.4e7</td><td>1.9e7</td><td>null</td></tr><tr><td>2024-06-30</td><td>8.08e8</td><td>1.8e7</td><td>0.0</td><td>null</td></tr><tr><td>2024-09-30</td><td>9.24e8</td><td>2.6e7</td><td>1.7e7</td><td>null</td></tr></tbody></table></div>"
      ],
      "text/plain": [
       "shape: (5, 5)\n",
       "┌─────────────────┬──────────────┬──────────────────────┬────────┬────────────┐\n",
       "│ PERIOD_END_DATE ┆ Broadcasting ┆ Production Companies ┆ Other  ┆ Adjustment │\n",
       "│ ---             ┆ ---          ┆ ---                  ┆ ---    ┆ ---        │\n",
       "│ date            ┆ f64          ┆ f64                  ┆ f64    ┆ f64        │\n",
       "╞═════════════════╪══════════════╪══════════════════════╪════════╪════════════╡\n",
       "│ 2023-09-30      ┆ 7.83e8       ┆ 2e7                  ┆ 1.6e7  ┆ null       │\n",
       "│ 2023-12-31      ┆ 8.13e8       ┆ 3.2e7                ┆ 1.9e7  ┆ null       │\n",
       "│ 2024-03-31      ┆ 7.8e8        ┆ 2.4e7                ┆ 1.9e7  ┆ null       │\n",
       "│ 2024-06-30      ┆ 8.08e8       ┆ 1.8e7                ┆ 0.0    ┆ null       │\n",
       "│ 2024-09-30      ┆ 9.24e8       ┆ 2.6e7                ┆ 1.7e7  ┆ null       │\n",
       "└─────────────────┴──────────────┴──────────────────────┴────────┴────────────┘"
      ]
     },
     "execution_count": 57,
     "metadata": {},
     "output_type": "execute_result"
    }
   ],
   "source": []
  },
  {
   "cell_type": "code",
   "execution_count": null,
   "metadata": {},
   "outputs": [],
   "source": []
  }
 ],
 "metadata": {
  "kernelspec": {
   "display_name": ".venv",
   "language": "python",
   "name": "python3"
  },
  "language_info": {
   "codemirror_mode": {
    "name": "ipython",
    "version": 3
   },
   "file_extension": ".py",
   "mimetype": "text/x-python",
   "name": "python",
   "nbconvert_exporter": "python",
   "pygments_lexer": "ipython3",
   "version": "3.12.0"
  }
 },
 "nbformat": 4,
 "nbformat_minor": 4
}
