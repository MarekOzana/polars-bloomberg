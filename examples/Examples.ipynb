{
 "cells": [
  {
   "cell_type": "markdown",
   "metadata": {},
   "source": [
    "# `polars_bloomberg` Examples\n",
    "(c) 2025 Marek Ozana"
   ]
  },
  {
   "cell_type": "code",
   "execution_count": 3,
   "metadata": {},
   "outputs": [],
   "source": [
    "# Imports\n",
    "from datetime import date\n",
    "\n",
    "from polars_bloomberg import BQuery"
   ]
  },
  {
   "cell_type": "markdown",
   "metadata": {},
   "source": [
    "## Bloomberg Data Point\n",
    "API:\n",
    "```python\n",
    "bdp(securities: list[str],\n",
    "    fields: list[str],\n",
    "    overrides: list[tuple] | None = None,\n",
    "    options: dict | None = None,\n",
    ") -> pl.DataFrame\n",
    "```"
   ]
  },
  {
   "cell_type": "code",
   "execution_count": 4,
   "metadata": {},
   "outputs": [
    {
     "name": "stdout",
     "output_type": "stream",
     "text": [
      "shape: (1, 2)\n",
      "┌────────────────┬─────────┐\n",
      "│ security       ┆ PX_LAST │\n",
      "│ ---            ┆ ---     │\n",
      "│ str            ┆ f64     │\n",
      "╞════════════════╪═════════╡\n",
      "│ AAPL US Equity ┆ 224.9   │\n",
      "└────────────────┴─────────┘\n"
     ]
    }
   ],
   "source": [
    "# Bloomberg Data Point\n",
    "with BQuery() as bq:\n",
    "    df = bq.bdp([\"AAPL US Equity\"], [\"PX_LAST\"])\n",
    "    print(df)"
   ]
  },
  {
   "cell_type": "code",
   "execution_count": 5,
   "metadata": {},
   "outputs": [
    {
     "name": "stdout",
     "output_type": "stream",
     "text": [
      "shape: (2, 3)\n",
      "┌────────────────┬─────────┬───────┐\n",
      "│ security       ┆ PX_LAST ┆ CRNCY │\n",
      "│ ---            ┆ ---     ┆ ---   │\n",
      "│ str            ┆ f64     ┆ str   │\n",
      "╞════════════════╪═════════╪═══════╡\n",
      "│ AAPL US Equity ┆ 224.9   ┆ USD   │\n",
      "│ SEBA SS Equity ┆ 179.1   ┆ SEK   │\n",
      "└────────────────┴─────────┴───────┘\n"
     ]
    }
   ],
   "source": [
    "with BQuery() as bq:\n",
    "    df = bq.bdp([\"AAPL US Equity\", \"SEBA SS Equity\"], [\"PX_LAST\", \"CRNCY\"])\n",
    "    print(df)"
   ]
  },
  {
   "cell_type": "code",
   "execution_count": 6,
   "metadata": {},
   "outputs": [
    {
     "name": "stdout",
     "output_type": "stream",
     "text": [
      "shape: (2, 5)\n",
      "┌───────────────────┬────────────────┬─────────────┬───────┬─────────────┐\n",
      "│ security          ┆ SECURITY_DES   ┆ YAS_ZSPREAD ┆ CRNCY ┆ NXT_CALL_DT │\n",
      "│ ---               ┆ ---            ┆ ---         ┆ ---   ┆ ---         │\n",
      "│ str               ┆ str            ┆ f64         ┆ str   ┆ date        │\n",
      "╞═══════════════════╪════════════════╪═════════════╪═══════╪═════════════╡\n",
      "│ XS2930103580 Corp ┆ SEB 6 3/4 PERP ┆ 279.606361  ┆ USD   ┆ 2031-11-04  │\n",
      "│ USX60003AC87 Corp ┆ NDAFH 6.3 PERP ┆ 275.490421  ┆ USD   ┆ 2031-09-25  │\n",
      "└───────────────────┴────────────────┴─────────────┴───────┴─────────────┘\n"
     ]
    }
   ],
   "source": [
    "with BQuery() as bq:\n",
    "    df = bq.bdp(\n",
    "        [\"XS2930103580 Corp\", \"USX60003AC87 Corp\"],\n",
    "        [\"SECURITY_DES\", \"YAS_ZSPREAD\", \"CRNCY\", \"NXT_CALL_DT\"],\n",
    "    )\n",
    "    print(df)"
   ]
  },
  {
   "cell_type": "code",
   "execution_count": 7,
   "metadata": {},
   "outputs": [
    {
     "name": "stdout",
     "output_type": "stream",
     "text": [
      "shape: (1, 3)\n",
      "┌───────────────┬─────────┬───────────────────┐\n",
      "│ security      ┆ PX_LAST ┆ CRNCY_ADJ_PX_LAST │\n",
      "│ ---           ┆ ---     ┆ ---               │\n",
      "│ str           ┆ f64     ┆ f64               │\n",
      "╞═══════════════╪═════════╪═══════════════════╡\n",
      "│ IBM US Equity ┆ 239.4   ┆ 2308.421          │\n",
      "└───────────────┴─────────┴───────────────────┘\n"
     ]
    }
   ],
   "source": [
    "with BQuery() as bq:\n",
    "    df = bq.bdp(\n",
    "        [\"IBM US Equity\"],\n",
    "        [\"PX_LAST\", \"CRNCY_ADJ_PX_LAST\"],\n",
    "        overrides=[(\"EQY_FUND_CRNCY\", \"SEK\")],\n",
    "    )\n",
    "    print(df)"
   ]
  },
  {
   "cell_type": "code",
   "execution_count": 8,
   "metadata": {},
   "outputs": [
    {
     "name": "stdout",
     "output_type": "stream",
     "text": [
      "shape: (1, 2)\n",
      "┌───────────────────┬────────────┐\n",
      "│ security          ┆ SETTLE_DT  │\n",
      "│ ---               ┆ ---        │\n",
      "│ str               ┆ date       │\n",
      "╞═══════════════════╪════════════╡\n",
      "│ USX60003AC87 Corp ┆ 2024-10-15 │\n",
      "└───────────────────┴────────────┘\n"
     ]
    }
   ],
   "source": [
    "# Override string dates in format YYYYMMDD\n",
    "with BQuery() as bq:\n",
    "    df = bq.bdp(\n",
    "        [\"USX60003AC87 Corp\"], [\"SETTLE_DT\"],\n",
    "        overrides=[(\"USER_LOCAL_TRADE_DATE\", \"20241014\")],\n",
    "    )\n",
    "    print(df)"
   ]
  },
  {
   "cell_type": "code",
   "execution_count": 9,
   "metadata": {},
   "outputs": [
    {
     "name": "stdout",
     "output_type": "stream",
     "text": [
      "shape: (2, 3)\n",
      "┌───────────────┬────────────┬─────────┐\n",
      "│ security      ┆ SETTLE_DT  ┆ PX_LAST │\n",
      "│ ---           ┆ ---        ┆ ---     │\n",
      "│ str           ┆ date       ┆ f64     │\n",
      "╞═══════════════╪════════════╪═════════╡\n",
      "│ USDSEK Curncy ┆ 2020-07-17 ┆ 9.6425  │\n",
      "│ SEKCZK Curncy ┆ 2020-07-17 ┆ 2.1984  │\n",
      "└───────────────┴────────────┴─────────┘\n"
     ]
    }
   ],
   "source": [
    "# Another override example\n",
    "with BQuery() as bq:\n",
    "    df = bq.bdp(\n",
    "        [\"USDSEK Curncy\", \"SEKCZK Curncy\"],\n",
    "        [\"SETTLE_DT\", \"PX_LAST\"],\n",
    "        overrides=[(\"REFERENCE_DATE\", \"20200715\")],\n",
    "    )\n",
    "    print(df)"
   ]
  },
  {
   "cell_type": "markdown",
   "metadata": {},
   "source": [
    "## Bloomberg Data History\n",
    "```python\n",
    "def bdh(\n",
    "    self,\n",
    "    securities: list[str],\n",
    "    fields: list[str],\n",
    "    start_date: date,\n",
    "    end_date: date,\n",
    "    overrides: list[tuple] | None = None,\n",
    "    options: dict | None = None,\n",
    ") -> pl.DataFrame:\n",
    "\n",
    "```"
   ]
  },
  {
   "cell_type": "code",
   "execution_count": 10,
   "metadata": {},
   "outputs": [
    {
     "name": "stdout",
     "output_type": "stream",
     "text": [
      "shape: (7, 3)\n",
      "┌───────────────┬────────────┬─────────┐\n",
      "│ security      ┆ date       ┆ PX_LAST │\n",
      "│ ---           ┆ ---        ┆ ---     │\n",
      "│ str           ┆ date       ┆ f64     │\n",
      "╞═══════════════╪════════════╪═════════╡\n",
      "│ TLT US Equity ┆ 2019-01-02 ┆ 122.15  │\n",
      "│ TLT US Equity ┆ 2019-01-03 ┆ 123.54  │\n",
      "│ TLT US Equity ┆ 2019-01-04 ┆ 122.11  │\n",
      "│ TLT US Equity ┆ 2019-01-07 ┆ 121.75  │\n",
      "│ TLT US Equity ┆ 2019-01-08 ┆ 121.43  │\n",
      "│ TLT US Equity ┆ 2019-01-09 ┆ 121.24  │\n",
      "│ TLT US Equity ┆ 2019-01-10 ┆ 120.46  │\n",
      "└───────────────┴────────────┴─────────┘\n"
     ]
    }
   ],
   "source": [
    "# Bloomberg Data History\n",
    "with BQuery() as bq:\n",
    "    df = bq.bdh(\n",
    "        [\"TLT US Equity\"],\n",
    "        [\"PX_LAST\"],\n",
    "        start_date=date(2019, 1, 1),\n",
    "        end_date=date(2019, 1, 10),\n",
    "    )\n",
    "print(df)"
   ]
  },
  {
   "cell_type": "code",
   "execution_count": 11,
   "metadata": {},
   "outputs": [
    {
     "name": "stdout",
     "output_type": "stream",
     "text": [
      "shape: (14, 4)\n",
      "┌───────────────┬────────────┬─────────┬──────────────┐\n",
      "│ security      ┆ date       ┆ PX_LAST ┆ VOLUME       │\n",
      "│ ---           ┆ ---        ┆ ---     ┆ ---          │\n",
      "│ str           ┆ date       ┆ f64     ┆ f64          │\n",
      "╞═══════════════╪════════════╪═════════╪══════════════╡\n",
      "│ SPY US Equity ┆ 2019-01-02 ┆ 250.18  ┆ 1.26925199e8 │\n",
      "│ SPY US Equity ┆ 2019-01-03 ┆ 244.21  ┆ 1.44140692e8 │\n",
      "│ SPY US Equity ┆ 2019-01-04 ┆ 252.39  ┆ 1.42628834e8 │\n",
      "│ SPY US Equity ┆ 2019-01-07 ┆ 254.38  ┆ 1.031391e8   │\n",
      "│ SPY US Equity ┆ 2019-01-08 ┆ 256.77  ┆ 1.02512587e8 │\n",
      "│ …             ┆ …          ┆ …       ┆ …            │\n",
      "│ TLT US Equity ┆ 2019-01-04 ┆ 122.11  ┆ 1.2970226e7  │\n",
      "│ TLT US Equity ┆ 2019-01-07 ┆ 121.75  ┆ 8.498104e6   │\n",
      "│ TLT US Equity ┆ 2019-01-08 ┆ 121.43  ┆ 7.737103e6   │\n",
      "│ TLT US Equity ┆ 2019-01-09 ┆ 121.24  ┆ 9.349245e6   │\n",
      "│ TLT US Equity ┆ 2019-01-10 ┆ 120.46  ┆ 8.22286e6    │\n",
      "└───────────────┴────────────┴─────────┴──────────────┘\n"
     ]
    }
   ],
   "source": [
    "# Bloomberg Data History\n",
    "with BQuery() as bq:\n",
    "    df = bq.bdh(\n",
    "        securities=[\"SPY US Equity\", \"TLT US Equity\"],\n",
    "        fields=[\"PX_LAST\", \"VOLUME\"],\n",
    "        start_date=date(2019, 1, 1),\n",
    "        end_date=date(2019, 1, 10),\n",
    "        options={\"adjustmentSplit\": True},\n",
    "    )\n",
    "    print(df)"
   ]
  },
  {
   "cell_type": "code",
   "execution_count": 12,
   "metadata": {},
   "outputs": [
    {
     "name": "stdout",
     "output_type": "stream",
     "text": [
      "shape: (3, 3)\n",
      "┌────────────────┬────────────┬─────────┐\n",
      "│ security       ┆ date       ┆ PX_LAST │\n",
      "│ ---            ┆ ---        ┆ ---     │\n",
      "│ str            ┆ date       ┆ f64     │\n",
      "╞════════════════╪════════════╪═════════╡\n",
      "│ AAPL US Equity ┆ 2019-01-31 ┆ 41.61   │\n",
      "│ AAPL US Equity ┆ 2019-02-28 ┆ 43.2875 │\n",
      "│ AAPL US Equity ┆ 2019-03-29 ┆ 47.4875 │\n",
      "└────────────────┴────────────┴─────────┘\n"
     ]
    }
   ],
   "source": [
    "with BQuery() as bq:\n",
    "    df = bq.bdh(\n",
    "        [\"AAPL US Equity\"],\n",
    "        [\"PX_LAST\"],\n",
    "        start_date=date(2019, 1, 1),\n",
    "        end_date=date(2019, 3, 29),\n",
    "        options={\"periodicitySelection\": \"MONTHLY\"},\n",
    "    )\n",
    "    print(df)"
   ]
  },
  {
   "cell_type": "markdown",
   "metadata": {},
   "source": [
    "## Bloomberg Query Language\n",
    "```python\n",
    "bql(expression: str)\n",
    "```"
   ]
  },
  {
   "cell_type": "code",
   "execution_count": 13,
   "metadata": {},
   "outputs": [
    {
     "name": "stdout",
     "output_type": "stream",
     "text": [
      "shape: (1, 4)\n",
      "┌───────────────┬─────────┬────────────┬──────────┐\n",
      "│ ID            ┆ px_last ┆ DATE       ┆ CURRENCY │\n",
      "│ ---           ┆ ---     ┆ ---        ┆ ---      │\n",
      "│ str           ┆ f64     ┆ date       ┆ str      │\n",
      "╞═══════════════╪═════════╪════════════╪══════════╡\n",
      "│ IBM US Equity ┆ 239.4   ┆ 2025-08-22 ┆ USD      │\n",
      "└───────────────┴─────────┴────────────┴──────────┘\n"
     ]
    }
   ],
   "source": [
    "with BQuery() as bq:\n",
    "    df_lst = bq.bql(\"get(px_last) for(['IBM US Equity'])\")\n",
    "    print(df_lst[0])"
   ]
  },
  {
   "cell_type": "code",
   "execution_count": 14,
   "metadata": {},
   "outputs": [
    {
     "name": "stdout",
     "output_type": "stream",
     "text": [
      "n=1\n",
      "shape: (2, 4)\n",
      "┌────────────────┬────────────┬────────────┬──────────┐\n",
      "│ ID             ┆ px_last    ┆ DATE       ┆ CURRENCY │\n",
      "│ ---            ┆ ---        ┆ ---        ┆ ---      │\n",
      "│ str            ┆ f64        ┆ date       ┆ str      │\n",
      "╞════════════════╪════════════╪════════════╪══════════╡\n",
      "│ IBM US Equity  ┆ 239.4      ┆ 2025-08-22 ┆ USD      │\n",
      "│ SEBA SS Equity ┆ 179.100006 ┆ 2025-08-22 ┆ SEK      │\n",
      "└────────────────┴────────────┴────────────┴──────────┘\n"
     ]
    }
   ],
   "source": [
    "with BQuery() as bq:\n",
    "    df_lst = bq.bql(\"get(px_last) for(['IBM US Equity', 'SEBA SS Equity'])\")\n",
    "\n",
    "    print(f\"n={len(df_lst)}\")\n",
    "    print(df_lst[0])"
   ]
  },
  {
   "cell_type": "code",
   "execution_count": 15,
   "metadata": {},
   "outputs": [
    {
     "name": "stdout",
     "output_type": "stream",
     "text": [
      "n=2\n",
      "shape: (1, 2)\n",
      "┌───────────────┬────────────────────────────────┐\n",
      "│ ID            ┆ name                           │\n",
      "│ ---           ┆ ---                            │\n",
      "│ str           ┆ str                            │\n",
      "╞═══════════════╪════════════════════════════════╡\n",
      "│ IBM US Equity ┆ International Business Machine │\n",
      "└───────────────┴────────────────────────────────┘\n",
      "shape: (1, 4)\n",
      "┌───────────────┬─────────┬────────────┬──────────┐\n",
      "│ ID            ┆ px_last ┆ DATE       ┆ CURRENCY │\n",
      "│ ---           ┆ ---     ┆ ---        ┆ ---      │\n",
      "│ str           ┆ f64     ┆ date       ┆ str      │\n",
      "╞═══════════════╪═════════╪════════════╪══════════╡\n",
      "│ IBM US Equity ┆ 239.4   ┆ 2025-08-22 ┆ USD      │\n",
      "└───────────────┴─────────┴────────────┴──────────┘\n",
      "shape: (1, 5)\n",
      "┌───────────────┬────────────────────────────────┬─────────┬────────────┬──────────┐\n",
      "│ ID            ┆ name                           ┆ px_last ┆ DATE       ┆ CURRENCY │\n",
      "│ ---           ┆ ---                            ┆ ---     ┆ ---        ┆ ---      │\n",
      "│ str           ┆ str                            ┆ f64     ┆ date       ┆ str      │\n",
      "╞═══════════════╪════════════════════════════════╪═════════╪════════════╪══════════╡\n",
      "│ IBM US Equity ┆ International Business Machine ┆ 239.4   ┆ 2025-08-22 ┆ USD      │\n",
      "└───────────────┴────────────────────────────────┴─────────┴────────────┴──────────┘\n"
     ]
    }
   ],
   "source": [
    "# Multiple data-items in get() => multiple pl.DataFrames in list\n",
    "with BQuery() as bq:\n",
    "    df_lst = bq.bql(\"get(name, px_last) for(['IBM US Equity'])\")\n",
    "    print(f\"n={len(df_lst)}\")\n",
    "    print(df_lst[0])\n",
    "    print(df_lst[1])\n",
    "    print(df_lst[0].join(df_lst[1], on=\"ID\"))"
   ]
  },
  {
   "cell_type": "code",
   "execution_count": 16,
   "metadata": {},
   "outputs": [
    {
     "name": "stdout",
     "output_type": "stream",
     "text": [
      "shape: (5, 5)\n",
      "┌───────────────┬─────────────────┬──────────┬────────────┬────────────┐\n",
      "│ ID            ┆ name()          ┆ #dur     ┆ DATE       ┆ #zsprd     │\n",
      "│ ---           ┆ ---             ┆ ---      ┆ ---        ┆ ---        │\n",
      "│ str           ┆ str             ┆ f64      ┆ date       ┆ f64        │\n",
      "╞═══════════════╪═════════════════╪══════════╪════════════╪════════════╡\n",
      "│ BW924993 Corp ┆ SEB 6 ⅞ PERP    ┆ 1.700374 ┆ 2025-08-22 ┆ 202.430023 │\n",
      "│ ZO703315 Corp ┆ SHBASS 4 ⅜ PERP ┆ 1.390099 ┆ 2025-08-22 ┆ 216.562647 │\n",
      "│ ZO703956 Corp ┆ SHBASS 4 ¾ PERP ┆ 4.561296 ┆ 2025-08-22 ┆ 262.756533 │\n",
      "│ YU819930 Corp ┆ SEB 6 ¾ PERP    ┆ 4.910669 ┆ 2025-08-22 ┆ 280.879691 │\n",
      "│ YV402592 Corp ┆ SEB Float PERP  ┆ 0.022618 ┆ 2025-08-22 ┆ 228.233    │\n",
      "└───────────────┴─────────────────┴──────────┴────────────┴────────────┘\n"
     ]
    }
   ],
   "source": [
    "query = \"\"\"\n",
    "    let(#dur=duration(duration_type=MODIFIED);\n",
    "        #zsprd=spread(spread_type=Z);)\n",
    "    get(name(), #dur, #zsprd)\n",
    "    for(filter(screenresults(type=SRCH, screen_name='@COCO'),\n",
    "            ticker in ['SEB', 'SHBASS']))\n",
    "\"\"\"\n",
    "\n",
    "with BQuery() as bq:\n",
    "    df_lst = bq.bql(query)\n",
    "\n",
    "    df = df_lst[0].join(df_lst[1], on=\"ID\").join(df_lst[2], on=[\"ID\", \"DATE\"])\n",
    "    print(df)"
   ]
  },
  {
   "cell_type": "code",
   "execution_count": 17,
   "metadata": {},
   "outputs": [
    {
     "name": "stdout",
     "output_type": "stream",
     "text": [
      "shape: (5, 7)\n",
      "┌──────────────┬───────────┬──────────────┬────────────┬──────────────┬──────────────┬─────────────┐\n",
      "│ ID           ┆ #avg_pe   ┆ REVISION_DAT ┆ AS_OF_DATE ┆ PERIOD_END_D ┆ ORIG_IDS     ┆ GICS_SECTOR │\n",
      "│ ---          ┆ ---       ┆ E            ┆ ---        ┆ ATE          ┆ ---          ┆ _NAME()     │\n",
      "│ str          ┆ f64       ┆ ---          ┆ date       ┆ ---          ┆ str          ┆ ---         │\n",
      "│              ┆           ┆ date         ┆            ┆ date         ┆              ┆ str         │\n",
      "╞══════════════╪═══════════╪══════════════╪════════════╪══════════════╪══════════════╪═════════════╡\n",
      "│ Communicatio ┆ 23.266487 ┆ 2025-07-18   ┆ 2025-08-22 ┆ 2025-06-30   ┆ null         ┆ Communicati │\n",
      "│ n Services   ┆           ┆              ┆            ┆              ┆              ┆ on Services │\n",
      "│ Consumer Dis ┆ 17.663085 ┆ 2025-07-17   ┆ 2025-08-22 ┆ 2025-06-30   ┆ null         ┆ Consumer    │\n",
      "│ cretionary   ┆           ┆              ┆            ┆              ┆              ┆ Discretiona │\n",
      "│              ┆           ┆              ┆            ┆              ┆              ┆ ry          │\n",
      "│ Consumer     ┆ 13.380065 ┆ 2025-07-17   ┆ 2025-08-22 ┆ 2025-06-30   ┆ ESSITYB SS   ┆ Consumer    │\n",
      "│ Staples      ┆           ┆              ┆            ┆              ┆ Equity       ┆ Staples     │\n",
      "│ Financials   ┆ 23.793544 ┆ 2025-07-17   ┆ 2025-08-22 ┆ 2025-06-30   ┆ null         ┆ Financials  │\n",
      "│ Health Care  ┆ 23.227012 ┆ 2025-07-29   ┆ 2025-08-22 ┆ 2025-06-30   ┆ AZN SS       ┆ Health Care │\n",
      "│              ┆           ┆              ┆            ┆              ┆ Equity       ┆             │\n",
      "└──────────────┴───────────┴──────────────┴────────────┴──────────────┴──────────────┴─────────────┘\n"
     ]
    }
   ],
   "source": [
    "# Example: average PE ratio per sector\n",
    "query = \"\"\"\n",
    "    let(#avg_pe=avg(group(pe_ratio(), gics_sector_name()));)\n",
    "    get(#avg_pe)\n",
    "    for(members('OMX Index'))\n",
    "\"\"\"\n",
    "with BQuery() as bq:\n",
    "    df_lst = bq.bql(query)\n",
    "    print(df_lst[0].head(5))\n"
   ]
  },
  {
   "cell_type": "code",
   "execution_count": 18,
   "metadata": {},
   "outputs": [
    {
     "name": "stdout",
     "output_type": "stream",
     "text": [
      "shape: (7, 6)\n",
      "┌───────────────┬──────────┬───────────────┬────────────┬─────────────────┬──────────┐\n",
      "│ ID            ┆ #eps     ┆ REVISION_DATE ┆ AS_OF_DATE ┆ PERIOD_END_DATE ┆ CURRENCY │\n",
      "│ ---           ┆ ---      ┆ ---           ┆ ---        ┆ ---             ┆ ---      │\n",
      "│ str           ┆ f64      ┆ date          ┆ date       ┆ date            ┆ str      │\n",
      "╞═══════════════╪══════════╪═══════════════╪════════════╪═════════════════╪══════════╡\n",
      "│ IBM US Equity ┆ 6.28     ┆ 2023-02-28    ┆ 2025-08-22 ┆ 2020-12-31      ┆ USD      │\n",
      "│ IBM US Equity ┆ 6.41     ┆ 2023-02-28    ┆ 2025-08-22 ┆ 2021-12-31      ┆ USD      │\n",
      "│ IBM US Equity ┆ 1.82     ┆ 2024-03-18    ┆ 2025-08-22 ┆ 2022-12-31      ┆ USD      │\n",
      "│ IBM US Equity ┆ 8.23     ┆ 2025-02-25    ┆ 2025-08-22 ┆ 2023-12-31      ┆ USD      │\n",
      "│ IBM US Equity ┆ 6.53     ┆ 2025-02-25    ┆ 2025-08-22 ┆ 2024-12-31      ┆ USD      │\n",
      "│ IBM US Equity ┆ 9.092857 ┆ 2025-08-18    ┆ 2025-08-22 ┆ 2025-12-31      ┆ USD      │\n",
      "│ IBM US Equity ┆ 9.968571 ┆ 2025-08-18    ┆ 2025-08-22 ┆ 2026-12-31      ┆ USD      │\n",
      "└───────────────┴──────────┴───────────────┴────────────┴─────────────────┴──────────┘\n"
     ]
    }
   ],
   "source": [
    "# historical and forward earning estimates\n",
    "with BQuery() as bq:\n",
    "    df_lst = bq.bql(\"\"\"\n",
    "        let(#eps=is_eps(fa_period_type='A',\n",
    "                        fa_period_offset=range(-4,2));)\n",
    "        get(#eps)\n",
    "        for(['IBM US Equity'])\n",
    "    \"\"\")\n",
    "    print(df_lst[0])\n"
   ]
  },
  {
   "cell_type": "code",
   "execution_count": 19,
   "metadata": {},
   "outputs": [
    {
     "name": "stdout",
     "output_type": "stream",
     "text": [
      "shape: (5, 5)\n",
      "┌───────────┬─────────────────┬────────────┬───────────────┬───────────┐\n",
      "│ ID        ┆ #average_spread ┆ DATE       ┆ ORIG_IDS      ┆ #BINS     │\n",
      "│ ---       ┆ ---             ┆ ---        ┆ ---           ┆ ---       │\n",
      "│ str       ┆ f64             ┆ date       ┆ str           ┆ str       │\n",
      "╞═══════════╪═════════════════╪════════════╪═══════════════╪═══════════╡\n",
      "│ (1) 0-3   ┆ 29.322016       ┆ 2025-08-22 ┆ null          ┆ (1) 0-3   │\n",
      "│ (2) 3-9   ┆ 60.170282       ┆ 2025-08-22 ┆ null          ┆ (2) 3-9   │\n",
      "│ (3) 9-18  ┆ 105.302141      ┆ 2025-08-22 ┆ BH393780 Corp ┆ (3) 9-18  │\n",
      "│ (4) 18-30 ┆ 125.492053      ┆ 2025-08-22 ┆ BH393781 Corp ┆ (4) 18-30 │\n",
      "│ (5) 30+   ┆ 141.218258      ┆ 2025-08-22 ┆ BH393782 Corp ┆ (5) 30+   │\n",
      "└───────────┴─────────────────┴────────────┴───────────────┴───────────┘\n"
     ]
    }
   ],
   "source": [
    "# Example: Average OAS-spread per maturity bucket\n",
    "query = \"\"\"\n",
    "let(\n",
    "    #bins = bins(maturity_years,\n",
    "                 [3,9,18,30],\n",
    "                 ['(1) 0-3','(2) 3-9','(3) 9-18','(4) 18-30','(5) 30+']);\n",
    "    #average_spread = avg(group(spread(st=oas),#bins));\n",
    ")\n",
    "get(#average_spread)\n",
    "for(filter(bonds('NVDA US Equity', issuedby = 'ENTITY'),\n",
    "           maturity_years != NA))\n",
    "\"\"\"\n",
    "\n",
    "with BQuery() as bq:\n",
    "    df_lst = bq.bql(query)\n",
    "    print(df_lst[0])"
   ]
  },
  {
   "cell_type": "code",
   "execution_count": 20,
   "metadata": {},
   "outputs": [
    {
     "name": "stdout",
     "output_type": "stream",
     "text": [
      "shape: (16, 7)\n",
      "┌─────────────────┬──────────────────┬────────────┬────────────┬──────────┬────────────┬───────────┐\n",
      "│ ID              ┆ name()           ┆ #ema20     ┆ DATE       ┆ CURRENCY ┆ #ema200    ┆ #rsi      │\n",
      "│ ---             ┆ ---              ┆ ---        ┆ ---        ┆ ---      ┆ ---        ┆ ---       │\n",
      "│ str             ┆ str              ┆ f64        ┆ date       ┆ str      ┆ f64        ┆ f64       │\n",
      "╞═════════════════╪══════════════════╪════════════╪════════════╪══════════╪════════════╪═══════════╡\n",
      "│ VOLVB SS Equity ┆ Volvo AB         ┆ 287.345489 ┆ 2025-08-22 ┆ SEK      ┆ 277.89565  ┆ 63.85464  │\n",
      "│ TEL2B SS Equity ┆ Tele2 AB         ┆ 157.804797 ┆ 2025-08-22 ┆ SEK      ┆ 133.916747 ┆ 79.284705 │\n",
      "│ TELIA SS Equity ┆ Telia Co AB      ┆ 35.175325  ┆ 2025-08-22 ┆ SEK      ┆ 33.921623  ┆ 67.479623 │\n",
      "│ SKAB SS Equity  ┆ Skanska AB       ┆ 235.72182  ┆ 2025-08-22 ┆ SEK      ┆ 226.008311 ┆ 60.714568 │\n",
      "│ INDUC SS Equity ┆ Industrivarden   ┆ 369.343332 ┆ 2025-08-22 ┆ SEK      ┆ 359.802592 ┆ 62.961606 │\n",
      "│                 ┆ AB               ┆            ┆            ┆          ┆            ┆           │\n",
      "│ …               ┆ …                ┆ …          ┆ …          ┆ …        ┆ …          ┆ …         │\n",
      "│ SHBA SS Equity  ┆ Svenska          ┆ 123.33001  ┆ 2025-08-22 ┆ SEK      ┆ 120.472774 ┆ 69.07849  │\n",
      "│                 ┆ Handelsbanken AB ┆            ┆            ┆          ┆            ┆           │\n",
      "│ ASSAB SS Equity ┆ Assa Abloy AB    ┆ 328.510521 ┆ 2025-08-22 ┆ SEK      ┆ 313.058188 ┆ 69.755083 │\n",
      "│ SWEDA SS Equity ┆ Swedbank AB      ┆ 267.703855 ┆ 2025-08-22 ┆ SEK      ┆ 243.477904 ┆ 72.097299 │\n",
      "│ NDA SS Equity   ┆ Nordea Bank Abp  ┆ 147.47611  ┆ 2025-08-22 ┆ SEK      ┆ 135.154195 ┆ 58.824461 │\n",
      "│ ADDTB SS Equity ┆ AddTech AB       ┆ 336.804398 ┆ 2025-08-22 ┆ SEK      ┆ 316.867151 ┆ 56.803533 │\n",
      "└─────────────────┴──────────────────┴────────────┴────────────┴──────────┴────────────┴───────────┘\n"
     ]
    }
   ],
   "source": [
    "# stocks with 20d EMA above 200d EMA and RSI > 55\n",
    "with BQuery() as bq:\n",
    "    df_lst = bq.bql(\n",
    "        \"\"\"\n",
    "        let(#ema20=emavg(period=20);\n",
    "            #ema200=emavg(period=200);\n",
    "            #rsi=rsi(close=px_last());)\n",
    "        get(name(), #ema20, #ema200, #rsi)\n",
    "        for(filter(members('OMX Index'),\n",
    "                    and(#ema20 > #ema200, #rsi > 55)))\n",
    "        with(fill=PREV)\n",
    "        \"\"\"\n",
    "    )\n",
    "    df = (\n",
    "        df_lst[0]\n",
    "        .join(df_lst[1], on=\"ID\")\n",
    "        .join(df_lst[2], on=[\"ID\", \"DATE\", \"CURRENCY\"])\n",
    "        .join(df_lst[3], on=[\"ID\", \"DATE\"])\n",
    "    )\n",
    "    print(df)"
   ]
  },
  {
   "cell_type": "code",
   "execution_count": 21,
   "metadata": {},
   "outputs": [
    {
     "name": "stdout",
     "output_type": "stream",
     "text": [
      "shape: (7, 7)\n",
      "┌───────────────┬─────────────────┬─────┬───────────┬───────────┬────────────────┬────────────────┐\n",
      "│ ID            ┆ security_des    ┆ #ax ┆ ASK_DEPTH ┆ BID_DEPTH ┆ ASK_TOTAL_SIZE ┆ BID_TOTAL_SIZE │\n",
      "│ ---           ┆ ---             ┆ --- ┆ ---       ┆ ---       ┆ ---            ┆ ---            │\n",
      "│ str           ┆ str             ┆ str ┆ i64       ┆ i64       ┆ f64            ┆ f64            │\n",
      "╞═══════════════╪═════════════════╪═════╪═══════════╪═══════════╪════════════════╪════════════════╡\n",
      "│ BR069680 Corp ┆ SWEDA 4 PERP    ┆ Y   ┆ 3         ┆ 10        ┆ 5.8e6          ┆ 3.44e7         │\n",
      "│ YU819930 Corp ┆ SEB 6 ¾ PERP    ┆ Y   ┆ 6         ┆ 1         ┆ 1.88e7         ┆ 2e6            │\n",
      "│ ZF859199 Corp ┆ SWEDA 7 ¾ PERP  ┆ Y   ┆ null      ┆ 11        ┆ null           ┆ 4.03e7         │\n",
      "│ BW924993 Corp ┆ SEB 6 ⅞ PERP    ┆ Y   ┆ 8         ┆ 2         ┆ 2.26e7         ┆ 1.2e7          │\n",
      "│ ZO703956 Corp ┆ SHBASS 4 ¾ PERP ┆ Y   ┆ null      ┆ 9         ┆ null           ┆ 3.52e7         │\n",
      "│ ZO703315 Corp ┆ SHBASS 4 ⅜ PERP ┆ Y   ┆ 1         ┆ 7         ┆ 3e6            ┆ 2.98e7         │\n",
      "│ ZL122341 Corp ┆ SWEDA 7 ⅝ PERP  ┆ Y   ┆ null      ┆ 7         ┆ null           ┆ 2e7            │\n",
      "└───────────────┴─────────────────┴─────┴───────────┴───────────┴────────────────┴────────────────┘\n"
     ]
    }
   ],
   "source": [
    "# Get current axes for Swedish AT1 bonds in USD\n",
    "query = \"\"\"\n",
    "    let(#ax=axes();)\n",
    "    get(security_des, #ax)\n",
    "    for(filter(bondsuniv(ACTIVE),\n",
    "        crncy()=='USD' and\n",
    "        basel_iii_designation() == 'Additional Tier 1' and\n",
    "        country_iso() == 'SE'))\n",
    "\"\"\"\n",
    "\n",
    "with BQuery() as bq:\n",
    "    df_lst = bq.bql(query)\n",
    "    print(df_lst[0].join(df_lst[1], on=\"ID\"))"
   ]
  },
  {
   "cell_type": "code",
   "execution_count": 22,
   "metadata": {},
   "outputs": [
    {
     "name": "stdout",
     "output_type": "stream",
     "text": [
      "shape: (6, 6)\n",
      "┌───────────────┬───────────────────┬──────────────────┬────────────┬────────────┬────────────┐\n",
      "│ ID            ┆ name()            ┆ #rank            ┆ #nxt_call  ┆ #oas       ┆ DATE       │\n",
      "│ ---           ┆ ---               ┆ ---              ┆ ---        ┆ ---        ┆ ---        │\n",
      "│ str           ┆ str               ┆ str              ┆ date       ┆ f64        ┆ date       │\n",
      "╞═══════════════╪═══════════════════╪══════════════════╪════════════╪════════════╪════════════╡\n",
      "│ YM129635 Corp ┆ GTN 9 ⅝ 07/15/32  ┆ 2nd Lien Secured ┆ 2028-07-15 ┆ 605.907737 ┆ 2025-08-22 │\n",
      "│ YM619872 Corp ┆ GTN 7 ¼ 08/15/33  ┆ 1st Lien Secured ┆ 2028-08-15 ┆ 384.618006 ┆ 2025-08-22 │\n",
      "│ BS116983 Corp ┆ GTN 5 ⅜ 11/15/31  ┆ Sr Unsecured     ┆ 2026-11-15 ┆ 819.610431 ┆ 2025-08-22 │\n",
      "│ ZO860846 Corp ┆ GTN 4 ¾ 10/15/30  ┆ Sr Unsecured     ┆ 2025-10-15 ┆ 796.397353 ┆ 2025-08-22 │\n",
      "│ YX231113 Corp ┆ GTN 10 ½ 07/15/29 ┆ 1st Lien Secured ┆ 2026-07-15 ┆ 264.495991 ┆ 2025-08-22 │\n",
      "│ LW375188 Corp ┆ GTN 5 ⅞ 07/15/26  ┆ Sr Unsecured     ┆ 2025-09-19 ┆ 250.920332 ┆ 2025-08-22 │\n",
      "└───────────────┴───────────────────┴──────────────────┴────────────┴────────────┴────────────┘\n"
     ]
    }
   ],
   "source": [
    "# Get Bond Universe from Equity Ticker\n",
    "query = \"\"\"\n",
    "let(#rank=normalized_payment_rank();\n",
    "    #oas=spread(st=oas);\n",
    "    #nxt_call=nxt_call_dt();\n",
    "    )\n",
    "get(name(), #rank, #nxt_call, #oas)\n",
    "for(filter(bonds('GTN US Equity'), series() == '144A'))\n",
    "\"\"\"\n",
    "\n",
    "with BQuery() as bq:\n",
    "    df_lst = bq.bql(query)\n",
    "\n",
    "    df = (\n",
    "        df_lst[0]\n",
    "        .join(df_lst[1], on=\"ID\")\n",
    "        .join(df_lst[2], on=\"ID\")\n",
    "        .join(df_lst[3], on=\"ID\")\n",
    "    )\n",
    "    print(df)"
   ]
  },
  {
   "cell_type": "code",
   "execution_count": 23,
   "metadata": {},
   "outputs": [
    {
     "name": "stdout",
     "output_type": "stream",
     "text": [
      "shape: (11, 7)\n",
      "┌────────────┬──────────────┬──────────────┬─────────────┬─────────────┬─────────────┬─────────────┐\n",
      "│ DATE       ┆ YM129635     ┆ YM619872     ┆ BS116983    ┆ ZO860846    ┆ YX231113    ┆ LW375188    │\n",
      "│ ---        ┆ Corp         ┆ Corp         ┆ Corp        ┆ Corp        ┆ Corp        ┆ Corp        │\n",
      "│ date       ┆ ---          ┆ ---          ┆ ---         ┆ ---         ┆ ---         ┆ ---         │\n",
      "│            ┆ f64          ┆ f64          ┆ f64         ┆ f64         ┆ f64         ┆ f64         │\n",
      "╞════════════╪══════════════╪══════════════╪═════════════╪═════════════╪═════════════╪═════════════╡\n",
      "│ 2025-07-22 ┆ null         ┆ null         ┆ null        ┆ null        ┆ null        ┆ null        │\n",
      "│ 2025-07-29 ┆ -0.008434    ┆ null         ┆ -0.025143   ┆ -0.029104   ┆ -0.000515   ┆ -0.007133   │\n",
      "│ 2025-08-05 ┆ -0.003596    ┆ null         ┆ -0.013314   ┆ -0.012318   ┆ 0.002844    ┆ 0.0017      │\n",
      "│ 2025-08-12 ┆ -0.013934    ┆ null         ┆ -0.012204   ┆ -0.010261   ┆ 0.001663    ┆ 0.002381    │\n",
      "│ 2025-08-19 ┆ 0.013899     ┆ null         ┆ 0.017953    ┆ 0.026933    ┆ 0.002651    ┆ 0.008354    │\n",
      "│ …          ┆ …            ┆ …            ┆ …           ┆ …           ┆ …           ┆ …           │\n",
      "│ 2025-07-23 ┆ null         ┆ null         ┆ null        ┆ null        ┆ null        ┆ null        │\n",
      "│ 2025-07-30 ┆ null         ┆ -0.006509    ┆ null        ┆ null        ┆ null        ┆ null        │\n",
      "│ 2025-08-06 ┆ null         ┆ -0.000087    ┆ null        ┆ null        ┆ null        ┆ null        │\n",
      "│ 2025-08-13 ┆ null         ┆ -0.011654    ┆ null        ┆ null        ┆ null        ┆ null        │\n",
      "│ 2025-08-20 ┆ null         ┆ 0.001804     ┆ null        ┆ null        ┆ null        ┆ null        │\n",
      "└────────────┴──────────────┴──────────────┴─────────────┴─────────────┴─────────────┴─────────────┘\n"
     ]
    }
   ],
   "source": [
    "# Total Return of GTN Bonds\n",
    "query = \"\"\"\n",
    "let(#rng = range(-1M, 0D);\n",
    "    #rets = return_series(calc_interval=#rng,per=W);)\n",
    "get(#rets)\n",
    "for(filter(bonds('GTN US Equity'), series() == '144A'))\n",
    "\"\"\"\n",
    "\n",
    "with BQuery() as bq:\n",
    "    df_lst = bq.bql(query)\n",
    "    df = df_lst[0].pivot(on=\"ID\", index=\"DATE\", values=\"#rets\")\n",
    "    print(df)"
   ]
  },
  {
   "cell_type": "code",
   "execution_count": 24,
   "metadata": {},
   "outputs": [
    {
     "name": "stdout",
     "output_type": "stream",
     "text": [
      "shape: (5, 5)\n",
      "┌─────────────────┬──────────────┬──────────────────────┬────────┬────────────┐\n",
      "│ PERIOD_END_DATE ┆ Broadcasting ┆ Production Companies ┆ Other  ┆ Adjustment │\n",
      "│ ---             ┆ ---          ┆ ---                  ┆ ---    ┆ ---        │\n",
      "│ date            ┆ f64          ┆ f64                  ┆ f64    ┆ f64        │\n",
      "╞═════════════════╪══════════════╪══════════════════════╪════════╪════════════╡\n",
      "│ 2023-09-30      ┆ 7.83e8       ┆ 2e7                  ┆ 1.6e7  ┆ null       │\n",
      "│ 2023-12-31      ┆ 7.97e8       ┆ 3.2e7                ┆ 3.5e7  ┆ null       │\n",
      "│ 2024-03-31      ┆ 7.8e8        ┆ 2.4e7                ┆ 1.9e7  ┆ null       │\n",
      "│ 2024-06-30      ┆ 8.08e8       ┆ 1.8e7                ┆ 0.0    ┆ null       │\n",
      "│ 2024-09-30      ┆ 9.24e8       ┆ 2.6e7                ┆ 1.7e7  ┆ null       │\n",
      "└─────────────────┴──────────────┴──────────────────────┴────────┴────────────┘\n"
     ]
    }
   ],
   "source": [
    "# revenue per segment\n",
    "query = \"\"\"\n",
    "    let(#segment=segment_name();\n",
    "        #revenue=sales_Rev_turn(fpt=q, fpr=range(2023Q3, 2024Q3));\n",
    "        )\n",
    "    get(#segment, #revenue)\n",
    "    for(segments('GTN US Equity',type=reported,hierarchy=PRODUCT, level=1))\n",
    "\"\"\"\n",
    "with BQuery() as bq:\n",
    "    df_lst = bq.bql(query)\n",
    "    df = (\n",
    "        df_lst[0]\n",
    "        .join(df_lst[1], on=[\"ID\", \"ID_DATE\", \"AS_OF_DATE\"])\n",
    "        .pivot(index=\"PERIOD_END_DATE\", on=\"#segment\", values=\"#revenue\")\n",
    "    )\n",
    "    print(df)"
   ]
  },
  {
   "cell_type": "code",
   "execution_count": 25,
   "metadata": {},
   "outputs": [
    {
     "name": "stdout",
     "output_type": "stream",
     "text": [
      "shape: (1, 2)\n",
      "┌────────────────┬──────────────────┐\n",
      "│ ID             ┆ name             │\n",
      "│ ---            ┆ ---              │\n",
      "│ str            ┆ str              │\n",
      "╞════════════════╪══════════════════╡\n",
      "│ BFOR US Equity ┆ Barron's 400 ETF │\n",
      "└────────────────┴──────────────────┘\n"
     ]
    }
   ],
   "source": [
    "# https://github.com/MarekOzana/polars-bloomberg/issues/7\n",
    "\n",
    "with BQuery() as bq:\n",
    "    result = bq.bql(\"for(['BFOR US Equity']) get(name)\") #   BARRON'S 400 ETF\n",
    "\n",
    "print(result.combine())\n"
   ]
  },
  {
   "cell_type": "code",
   "execution_count": 33,
   "metadata": {},
   "outputs": [
    {
     "name": "stdout",
     "output_type": "stream",
     "text": [
      "shape: (70, 5)\n",
      "┌────────────────┬──────────┬───────────────┬────────────┬─────────────────┐\n",
      "│ ID             ┆ #pe      ┆ REVISION_DATE ┆ AS_OF_DATE ┆ PERIOD_END_DATE │\n",
      "│ ---            ┆ ---      ┆ ---           ┆ ---        ┆ ---             │\n",
      "│ str            ┆ f64      ┆ date          ┆ date       ┆ date            │\n",
      "╞════════════════╪══════════╪═══════════════╪════════════╪═════════════════╡\n",
      "│ SEBA SS Equity ┆ 8.58479  ┆ 2024-12-16    ┆ 2024-12-31 ┆ 2024-12-31      │\n",
      "│ SEBA SS Equity ┆ 8.83669  ┆ 2025-01-06    ┆ 2025-01-07 ┆ 2024-12-31      │\n",
      "│ SEBA SS Equity ┆ 8.951247 ┆ 2025-01-14    ┆ 2025-01-14 ┆ 2024-12-31      │\n",
      "│ SEBA SS Equity ┆ 9.236453 ┆ 2025-01-21    ┆ 2025-01-21 ┆ 2024-12-31      │\n",
      "│ SEBA SS Equity ┆ 9.361501 ┆ 2025-01-28    ┆ 2025-01-28 ┆ 2024-12-31      │\n",
      "│ …              ┆ …        ┆ …             ┆ …          ┆ …               │\n",
      "│ NDA FH Equity  ┆ 9.346752 ┆ 2025-07-28    ┆ 2025-07-29 ┆ 2025-12-31      │\n",
      "│ NDA FH Equity  ┆ 9.293775 ┆ 2025-07-30    ┆ 2025-08-05 ┆ 2025-12-31      │\n",
      "│ NDA FH Equity  ┆ 9.643247 ┆ 2025-08-08    ┆ 2025-08-12 ┆ 2025-12-31      │\n",
      "│ NDA FH Equity  ┆ 9.876779 ┆ 2025-08-13    ┆ 2025-08-19 ┆ 2025-12-31      │\n",
      "│ NDA FH Equity  ┆ 9.781521 ┆ 2025-08-20    ┆ 2025-08-22 ┆ 2025-12-31      │\n",
      "└────────────────┴──────────┴───────────────┴────────────┴─────────────────┘\n"
     ]
    }
   ],
   "source": [
    "# How to get the PE Ratio forward 1y\n",
    "# https://github.com/MarekOzana/polars-bloomberg/issues/8\n",
    "\n",
    "query = \"\"\"\n",
    "let(#pe=pe_ratio(fpt=A, fpo='1', dates=range(2024-12-31, today(), frq=W), fill=PREV);)\n",
    "get(#pe)\n",
    "for(['SEBA SS Equity', 'NDA FH Equity'])\n",
    "\"\"\"\n",
    "with BQuery() as bq:\n",
    "    df = bq.bql(query)[0]\n",
    "print(df)\n"
   ]
  }
 ],
 "metadata": {
  "kernelspec": {
   "display_name": "polars-bloomberg",
   "language": "python",
   "name": "python3"
  },
  "language_info": {
   "codemirror_mode": {
    "name": "ipython",
    "version": 3
   },
   "file_extension": ".py",
   "mimetype": "text/x-python",
   "name": "python",
   "nbconvert_exporter": "python",
   "pygments_lexer": "ipython3",
   "version": "3.13.7"
  }
 },
 "nbformat": 4,
 "nbformat_minor": 4
}
