{
 "cells": [
  {
   "cell_type": "markdown",
   "metadata": {},
   "source": [
    "# `polars_bloomberg` Examples\n",
    "(c) 2024 Marek Ozana"
   ]
  },
  {
   "cell_type": "code",
   "execution_count": 1,
   "metadata": {},
   "outputs": [],
   "source": [
    "# Imports\n",
    "from datetime import date\n",
    "\n",
    "from polars_bloomberg import BQuery"
   ]
  },
  {
   "cell_type": "markdown",
   "metadata": {},
   "source": [
    "## Bloomberg Data Point\n",
    "API:\n",
    "```python\n",
    "bdp(securities: list[str],\n",
    "    fields: list[str],\n",
    "    overrides: list[tuple] | None = None,\n",
    "    options: dict | None = None,\n",
    ") -> pl.DataFrame\n",
    "```"
   ]
  },
  {
   "cell_type": "code",
   "execution_count": 23,
   "metadata": {},
   "outputs": [
    {
     "name": "stdout",
     "output_type": "stream",
     "text": [
      "shape: (1, 2)\n",
      "┌────────────────┬─────────┐\n",
      "│ security       ┆ PX_LAST │\n",
      "│ ---            ┆ ---     │\n",
      "│ str            ┆ f64     │\n",
      "╞════════════════╪═════════╡\n",
      "│ AAPL US Equity ┆ 248.13  │\n",
      "└────────────────┴─────────┘\n"
     ]
    }
   ],
   "source": [
    "# Bloomberg Data Point\n",
    "with BQuery() as bq:\n",
    "    df = bq.bdp([\"AAPL US Equity\"], [\"PX_LAST\"])\n",
    "    print(df)"
   ]
  },
  {
   "cell_type": "code",
   "execution_count": 24,
   "metadata": {},
   "outputs": [
    {
     "name": "stdout",
     "output_type": "stream",
     "text": [
      "shape: (2, 3)\n",
      "┌────────────────┬─────────┬───────┐\n",
      "│ security       ┆ PX_LAST ┆ CRNCY │\n",
      "│ ---            ┆ ---     ┆ ---   │\n",
      "│ str            ┆ f64     ┆ str   │\n",
      "╞════════════════╪═════════╪═══════╡\n",
      "│ AAPL US Equity ┆ 248.13  ┆ USD   │\n",
      "│ SEBA SS Equity ┆ 155.2   ┆ SEK   │\n",
      "└────────────────┴─────────┴───────┘\n"
     ]
    }
   ],
   "source": [
    "with BQuery() as bq:\n",
    "    df = bq.bdp([\"AAPL US Equity\", \"SEBA SS Equity\"], [\"PX_LAST\", \"CRNCY\"])\n",
    "    print(df)"
   ]
  },
  {
   "cell_type": "code",
   "execution_count": 25,
   "metadata": {},
   "outputs": [
    {
     "name": "stdout",
     "output_type": "stream",
     "text": [
      "shape: (2, 5)\n",
      "┌───────────────────┬────────────────┬─────────────┬───────┬─────────────┐\n",
      "│ security          ┆ SECURITY_DES   ┆ YAS_ZSPREAD ┆ CRNCY ┆ NXT_CALL_DT │\n",
      "│ ---               ┆ ---            ┆ ---         ┆ ---   ┆ ---         │\n",
      "│ str               ┆ str            ┆ f64         ┆ str   ┆ date        │\n",
      "╞═══════════════════╪════════════════╪═════════════╪═══════╪═════════════╡\n",
      "│ XS2930103580 Corp ┆ SEB 6 3/4 PERP ┆ 304.676112  ┆ USD   ┆ 2031-11-04  │\n",
      "│ USX60003AC87 Corp ┆ NDAFH 6.3 PERP ┆ 292.477506  ┆ USD   ┆ 2031-09-25  │\n",
      "└───────────────────┴────────────────┴─────────────┴───────┴─────────────┘\n"
     ]
    }
   ],
   "source": [
    "with BQuery() as bq:\n",
    "    df = bq.bdp(\n",
    "        [\"XS2930103580 Corp\", \"USX60003AC87 Corp\"],\n",
    "        [\"SECURITY_DES\", \"YAS_ZSPREAD\", \"CRNCY\", \"NXT_CALL_DT\"],\n",
    "    )\n",
    "    print(df)"
   ]
  },
  {
   "cell_type": "code",
   "execution_count": 26,
   "metadata": {},
   "outputs": [
    {
     "name": "stdout",
     "output_type": "stream",
     "text": [
      "shape: (1, 3)\n",
      "┌───────────────┬─────────┬───────────────────┐\n",
      "│ security      ┆ PX_LAST ┆ CRNCY_ADJ_PX_LAST │\n",
      "│ ---           ┆ ---     ┆ ---               │\n",
      "│ str           ┆ f64     ┆ f64               │\n",
      "╞═══════════════╪═════════╪═══════════════════╡\n",
      "│ IBM US Equity ┆ 230.82  ┆ 2535.168          │\n",
      "└───────────────┴─────────┴───────────────────┘\n"
     ]
    }
   ],
   "source": [
    "with BQuery() as bq:\n",
    "    df = bq.bdp(\n",
    "        [\"IBM US Equity\"],\n",
    "        [\"PX_LAST\", \"CRNCY_ADJ_PX_LAST\"],\n",
    "        overrides=[(\"EQY_FUND_CRNCY\", \"SEK\")],\n",
    "    )\n",
    "    print(df)"
   ]
  },
  {
   "cell_type": "code",
   "execution_count": 27,
   "metadata": {},
   "outputs": [
    {
     "name": "stdout",
     "output_type": "stream",
     "text": [
      "shape: (1, 2)\n",
      "┌───────────────────┬────────────┐\n",
      "│ security          ┆ SETTLE_DT  │\n",
      "│ ---               ┆ ---        │\n",
      "│ str               ┆ date       │\n",
      "╞═══════════════════╪════════════╡\n",
      "│ USX60003AC87 Corp ┆ 2024-10-15 │\n",
      "└───────────────────┴────────────┘\n"
     ]
    }
   ],
   "source": [
    "# Override string dates in format YYYYMMDD\n",
    "with BQuery() as bq:\n",
    "    df = bq.bdp(\n",
    "        [\"USX60003AC87 Corp\"], [\"SETTLE_DT\"],\n",
    "        overrides=[(\"USER_LOCAL_TRADE_DATE\", \"20241014\")],\n",
    "    )\n",
    "    print(df)"
   ]
  },
  {
   "cell_type": "code",
   "execution_count": 28,
   "metadata": {},
   "outputs": [
    {
     "name": "stdout",
     "output_type": "stream",
     "text": [
      "shape: (2, 3)\n",
      "┌───────────────┬────────────┬─────────┐\n",
      "│ security      ┆ SETTLE_DT  ┆ PX_LAST │\n",
      "│ ---           ┆ ---        ┆ ---     │\n",
      "│ str           ┆ date       ┆ f64     │\n",
      "╞═══════════════╪════════════╪═════════╡\n",
      "│ USDSEK Curncy ┆ 2020-07-17 ┆ 10.9778 │\n",
      "│ SEKCZK Curncy ┆ 2020-07-17 ┆ 2.1698  │\n",
      "└───────────────┴────────────┴─────────┘\n"
     ]
    }
   ],
   "source": [
    "# Another override example\n",
    "with BQuery() as bq:\n",
    "    df = bq.bdp(\n",
    "        [\"USDSEK Curncy\", \"SEKCZK Curncy\"],\n",
    "        [\"SETTLE_DT\", \"PX_LAST\"],\n",
    "        overrides=[(\"REFERENCE_DATE\", \"20200715\")],\n",
    "    )\n",
    "    print(df)"
   ]
  },
  {
   "cell_type": "markdown",
   "metadata": {},
   "source": [
    "## Bloomberg Data History\n",
    "```python\n",
    "def bdh(\n",
    "    self,\n",
    "    securities: list[str],\n",
    "    fields: list[str],\n",
    "    start_date: date,\n",
    "    end_date: date,\n",
    "    overrides: list[tuple] | None = None,\n",
    "    options: dict | None = None,\n",
    ") -> pl.DataFrame:\n",
    "\n",
    "```"
   ]
  },
  {
   "cell_type": "code",
   "execution_count": 8,
   "metadata": {},
   "outputs": [
    {
     "name": "stdout",
     "output_type": "stream",
     "text": [
      "shape: (7, 3)\n",
      "┌───────────────┬────────────┬─────────┐\n",
      "│ security      ┆ date       ┆ PX_LAST │\n",
      "│ ---           ┆ ---        ┆ ---     │\n",
      "│ str           ┆ date       ┆ f64     │\n",
      "╞═══════════════╪════════════╪═════════╡\n",
      "│ TLT US Equity ┆ 2019-01-02 ┆ 122.15  │\n",
      "│ TLT US Equity ┆ 2019-01-03 ┆ 123.54  │\n",
      "│ TLT US Equity ┆ 2019-01-04 ┆ 122.11  │\n",
      "│ TLT US Equity ┆ 2019-01-07 ┆ 121.75  │\n",
      "│ TLT US Equity ┆ 2019-01-08 ┆ 121.43  │\n",
      "│ TLT US Equity ┆ 2019-01-09 ┆ 121.24  │\n",
      "│ TLT US Equity ┆ 2019-01-10 ┆ 120.46  │\n",
      "└───────────────┴────────────┴─────────┘\n"
     ]
    }
   ],
   "source": [
    "# Bloomberg Data History\n",
    "with BQuery() as bq:\n",
    "    df = bq.bdh(\n",
    "        [\"TLT US Equity\"],\n",
    "        [\"PX_LAST\"],\n",
    "        start_date=date(2019, 1, 1),\n",
    "        end_date=date(2019, 1, 10),\n",
    "    )\n",
    "print(df)"
   ]
  },
  {
   "cell_type": "code",
   "execution_count": 9,
   "metadata": {},
   "outputs": [
    {
     "name": "stdout",
     "output_type": "stream",
     "text": [
      "shape: (14, 4)\n",
      "┌───────────────┬────────────┬─────────┬──────────────┐\n",
      "│ security      ┆ date       ┆ PX_LAST ┆ VOLUME       │\n",
      "│ ---           ┆ ---        ┆ ---     ┆ ---          │\n",
      "│ str           ┆ date       ┆ f64     ┆ f64          │\n",
      "╞═══════════════╪════════════╪═════════╪══════════════╡\n",
      "│ SPY US Equity ┆ 2019-01-02 ┆ 250.18  ┆ 1.26925199e8 │\n",
      "│ SPY US Equity ┆ 2019-01-03 ┆ 244.21  ┆ 1.44140692e8 │\n",
      "│ SPY US Equity ┆ 2019-01-04 ┆ 252.39  ┆ 1.42628834e8 │\n",
      "│ SPY US Equity ┆ 2019-01-07 ┆ 254.38  ┆ 1.031391e8   │\n",
      "│ SPY US Equity ┆ 2019-01-08 ┆ 256.77  ┆ 1.02512587e8 │\n",
      "│ …             ┆ …          ┆ …       ┆ …            │\n",
      "│ TLT US Equity ┆ 2019-01-04 ┆ 122.11  ┆ 1.2970226e7  │\n",
      "│ TLT US Equity ┆ 2019-01-07 ┆ 121.75  ┆ 8.498104e6   │\n",
      "│ TLT US Equity ┆ 2019-01-08 ┆ 121.43  ┆ 7.737103e6   │\n",
      "│ TLT US Equity ┆ 2019-01-09 ┆ 121.24  ┆ 9.349245e6   │\n",
      "│ TLT US Equity ┆ 2019-01-10 ┆ 120.46  ┆ 8.22286e6    │\n",
      "└───────────────┴────────────┴─────────┴──────────────┘\n"
     ]
    }
   ],
   "source": [
    "# Bloomberg Data History\n",
    "with BQuery() as bq:\n",
    "    df = bq.bdh(\n",
    "        securities=[\"SPY US Equity\", \"TLT US Equity\"],\n",
    "        fields=[\"PX_LAST\", \"VOLUME\"],\n",
    "        start_date=date(2019, 1, 1),\n",
    "        end_date=date(2019, 1, 10),\n",
    "        options={\"adjustmentSplit\": True},\n",
    "    )\n",
    "    print(df)"
   ]
  },
  {
   "cell_type": "code",
   "execution_count": 10,
   "metadata": {},
   "outputs": [
    {
     "name": "stdout",
     "output_type": "stream",
     "text": [
      "shape: (3, 3)\n",
      "┌────────────────┬────────────┬─────────┐\n",
      "│ security       ┆ date       ┆ PX_LAST │\n",
      "│ ---            ┆ ---        ┆ ---     │\n",
      "│ str            ┆ date       ┆ f64     │\n",
      "╞════════════════╪════════════╪═════════╡\n",
      "│ AAPL US Equity ┆ 2019-01-31 ┆ 41.61   │\n",
      "│ AAPL US Equity ┆ 2019-02-28 ┆ 43.288  │\n",
      "│ AAPL US Equity ┆ 2019-03-29 ┆ 47.488  │\n",
      "└────────────────┴────────────┴─────────┘\n"
     ]
    }
   ],
   "source": [
    "with BQuery() as bq:\n",
    "    df = bq.bdh(\n",
    "        [\"AAPL US Equity\"],\n",
    "        [\"PX_LAST\"],\n",
    "        start_date=date(2019, 1, 1),\n",
    "        end_date=date(2019, 3, 29),\n",
    "        options={\"periodicitySelection\": \"MONTHLY\"},\n",
    "    )\n",
    "    print(df)"
   ]
  },
  {
   "cell_type": "markdown",
   "metadata": {},
   "source": [
    "## Bloomberg Query Language\n",
    "```python\n",
    "bql(expression: str)\n",
    "```"
   ]
  },
  {
   "cell_type": "code",
   "execution_count": 11,
   "metadata": {},
   "outputs": [
    {
     "name": "stdout",
     "output_type": "stream",
     "text": [
      "shape: (1, 4)\n",
      "┌───────────────┬─────────┬────────────┬──────────┐\n",
      "│ ID            ┆ px_last ┆ DATE       ┆ CURRENCY │\n",
      "│ ---           ┆ ---     ┆ ---        ┆ ---      │\n",
      "│ str           ┆ f64     ┆ date       ┆ str      │\n",
      "╞═══════════════╪═════════╪════════════╪══════════╡\n",
      "│ IBM US Equity ┆ 230.82  ┆ 2024-12-14 ┆ USD      │\n",
      "└───────────────┴─────────┴────────────┴──────────┘\n"
     ]
    }
   ],
   "source": [
    "with BQuery() as bq:\n",
    "    df_lst = bq.bql(\"get(px_last) for(['IBM US Equity'])\")\n",
    "    print(df_lst[0])"
   ]
  },
  {
   "cell_type": "code",
   "execution_count": 12,
   "metadata": {},
   "outputs": [
    {
     "name": "stdout",
     "output_type": "stream",
     "text": [
      "n=1\n",
      "shape: (2, 4)\n",
      "┌────────────────┬─────────┬────────────┬──────────┐\n",
      "│ ID             ┆ px_last ┆ DATE       ┆ CURRENCY │\n",
      "│ ---            ┆ ---     ┆ ---        ┆ ---      │\n",
      "│ str            ┆ f64     ┆ date       ┆ str      │\n",
      "╞════════════════╪═════════╪════════════╪══════════╡\n",
      "│ IBM US Equity  ┆ 230.82  ┆ 2024-12-14 ┆ USD      │\n",
      "│ SEBA SS Equity ┆ 155.2   ┆ 2024-12-14 ┆ SEK      │\n",
      "└────────────────┴─────────┴────────────┴──────────┘\n"
     ]
    }
   ],
   "source": [
    "with BQuery() as bq:\n",
    "    df_lst = bq.bql(\"get(px_last) for(['IBM US Equity', 'SEBA SS Equity'])\")\n",
    "\n",
    "    print(f\"n={len(df_lst)}\")\n",
    "    print(df_lst[0])"
   ]
  },
  {
   "cell_type": "code",
   "execution_count": 13,
   "metadata": {},
   "outputs": [
    {
     "name": "stdout",
     "output_type": "stream",
     "text": [
      "n=2\n",
      "shape: (1, 2)\n",
      "┌───────────────┬────────────────────────────────┐\n",
      "│ ID            ┆ name                           │\n",
      "│ ---           ┆ ---                            │\n",
      "│ str           ┆ str                            │\n",
      "╞═══════════════╪════════════════════════════════╡\n",
      "│ IBM US Equity ┆ International Business Machine │\n",
      "└───────────────┴────────────────────────────────┘\n",
      "shape: (1, 4)\n",
      "┌───────────────┬─────────┬────────────┬──────────┐\n",
      "│ ID            ┆ px_last ┆ DATE       ┆ CURRENCY │\n",
      "│ ---           ┆ ---     ┆ ---        ┆ ---      │\n",
      "│ str           ┆ f64     ┆ date       ┆ str      │\n",
      "╞═══════════════╪═════════╪════════════╪══════════╡\n",
      "│ IBM US Equity ┆ 230.82  ┆ 2024-12-14 ┆ USD      │\n",
      "└───────────────┴─────────┴────────────┴──────────┘\n",
      "shape: (1, 5)\n",
      "┌───────────────┬────────────────────────────────┬─────────┬────────────┬──────────┐\n",
      "│ ID            ┆ name                           ┆ px_last ┆ DATE       ┆ CURRENCY │\n",
      "│ ---           ┆ ---                            ┆ ---     ┆ ---        ┆ ---      │\n",
      "│ str           ┆ str                            ┆ f64     ┆ date       ┆ str      │\n",
      "╞═══════════════╪════════════════════════════════╪═════════╪════════════╪══════════╡\n",
      "│ IBM US Equity ┆ International Business Machine ┆ 230.82  ┆ 2024-12-14 ┆ USD      │\n",
      "└───────────────┴────────────────────────────────┴─────────┴────────────┴──────────┘\n"
     ]
    }
   ],
   "source": [
    "# Multiple data-items in get() => multiple pl.DataFrames in list\n",
    "with BQuery() as bq:\n",
    "    df_lst = bq.bql(\"get(name, px_last) for(['IBM US Equity'])\")\n",
    "    print(f\"n={len(df_lst)}\")\n",
    "    print(df_lst[0])\n",
    "    print(df_lst[1])\n",
    "    print(df_lst[0].join(df_lst[1], on=\"ID\"))"
   ]
  },
  {
   "cell_type": "code",
   "execution_count": 14,
   "metadata": {},
   "outputs": [
    {
     "name": "stdout",
     "output_type": "stream",
     "text": [
      "shape: (6, 5)\n",
      "┌───────────────┬─────────────────┬──────────┬────────────┬────────────┐\n",
      "│ ID            ┆ name()          ┆ #dur     ┆ DATE       ┆ #zsprd     │\n",
      "│ ---           ┆ ---             ┆ ---      ┆ ---        ┆ ---        │\n",
      "│ str           ┆ str             ┆ f64      ┆ date       ┆ f64        │\n",
      "╞═══════════════╪═════════════════╪══════════╪════════════╪════════════╡\n",
      "│ YU819930 Corp ┆ SEB 6 ¾ PERP    ┆ 5.37363  ┆ 2024-12-14 ┆ 308.810572 │\n",
      "│ ZQ349286 Corp ┆ SEB 5 ⅛ PERP    ┆ 0.395636 ┆ 2024-12-14 ┆ 185.980438 │\n",
      "│ ZO703315 Corp ┆ SHBASS 4 ⅜ PERP ┆ 1.956536 ┆ 2024-12-14 ┆ 213.358921 │\n",
      "│ ZO703956 Corp ┆ SHBASS 4 ¾ PERP ┆ 4.946231 ┆ 2024-12-14 ┆ 255.85428  │\n",
      "│ BW924993 Corp ┆ SEB 6 ⅞ PERP    ┆ 2.231859 ┆ 2024-12-14 ┆ 211.55125  │\n",
      "│ YV402592 Corp ┆ SEB Float PERP  ┆ 0.212973 ┆ 2024-12-14 ┆ 232.71     │\n",
      "└───────────────┴─────────────────┴──────────┴────────────┴────────────┘\n"
     ]
    }
   ],
   "source": [
    "query = \"\"\"\n",
    "    let(#dur=duration(duration_type=MODIFIED);\n",
    "        #zsprd=spread(spread_type=Z);)\n",
    "    get(name(), #dur, #zsprd)\n",
    "    for(filter(screenresults(type=SRCH, screen_name='@COCO'),\n",
    "            ticker in ['SEB', 'SHBASS']))\n",
    "\"\"\"\n",
    "\n",
    "with BQuery() as bq:\n",
    "    df_lst = bq.bql(query)\n",
    "\n",
    "    df = df_lst[0].join(df_lst[1], on=\"ID\").join(df_lst[2], on=[\"ID\", \"DATE\"])\n",
    "    print(df)"
   ]
  },
  {
   "cell_type": "code",
   "execution_count": 15,
   "metadata": {},
   "outputs": [
    {
     "name": "stdout",
     "output_type": "stream",
     "text": [
      "shape: (5, 7)\n",
      "┌──────────────┬───────────┬──────────────┬────────────┬──────────────┬──────────────┬─────────────┐\n",
      "│ ID           ┆ #avg_pe   ┆ REVISION_DAT ┆ AS_OF_DATE ┆ PERIOD_END_D ┆ ORIG_IDS     ┆ GICS_SECTOR │\n",
      "│ ---          ┆ ---       ┆ E            ┆ ---        ┆ ATE          ┆ ---          ┆ _NAME()     │\n",
      "│ str          ┆ f64       ┆ ---          ┆ date       ┆ ---          ┆ str          ┆ ---         │\n",
      "│              ┆           ┆ date         ┆            ┆ date         ┆              ┆ str         │\n",
      "╞══════════════╪═══════════╪══════════════╪════════════╪══════════════╪══════════════╪═════════════╡\n",
      "│ Communicatio ┆ 19.561754 ┆ 2024-10-24   ┆ 2024-12-14 ┆ 2024-09-30   ┆ null         ┆ Communicati │\n",
      "│ n Services   ┆           ┆              ┆            ┆              ┆              ┆ on Services │\n",
      "│ Consumer Dis ┆ 19.117295 ┆ 2024-10-24   ┆ 2024-12-14 ┆ 2024-09-30   ┆ null         ┆ Consumer    │\n",
      "│ cretionary   ┆           ┆              ┆            ┆              ┆              ┆ Discretiona │\n",
      "│              ┆           ┆              ┆            ┆              ┆              ┆ ry          │\n",
      "│ Consumer     ┆ 15.984743 ┆ 2024-10-24   ┆ 2024-12-14 ┆ 2024-09-30   ┆ ESSITYB SS   ┆ Consumer    │\n",
      "│ Staples      ┆           ┆              ┆            ┆              ┆ Equity       ┆ Staples     │\n",
      "│ Financials   ┆ 6.815895  ┆ 2024-10-24   ┆ 2024-12-14 ┆ 2024-09-30   ┆ null         ┆ Financials  │\n",
      "│ Health Care  ┆ 22.00628  ┆ 2024-11-12   ┆ 2024-12-14 ┆ 2024-09-30   ┆ null         ┆ Health Care │\n",
      "└──────────────┴───────────┴──────────────┴────────────┴──────────────┴──────────────┴─────────────┘\n"
     ]
    }
   ],
   "source": [
    "# Example: average PE ratio per sector\n",
    "query = \"\"\"\n",
    "    let(#avg_pe=avg(group(pe_ratio(), gics_sector_name()));)\n",
    "    get(#avg_pe)\n",
    "    for(members('OMX Index'))\n",
    "\"\"\"\n",
    "with BQuery() as bq:\n",
    "    df_lst = bq.bql(query)\n",
    "    print(df_lst[0].head(5))\n"
   ]
  },
  {
   "cell_type": "code",
   "execution_count": 16,
   "metadata": {},
   "outputs": [
    {
     "name": "stdout",
     "output_type": "stream",
     "text": [
      "shape: (7, 6)\n",
      "┌───────────────┬───────┬───────────────┬────────────┬─────────────────┬──────────┐\n",
      "│ ID            ┆ #eps  ┆ REVISION_DATE ┆ AS_OF_DATE ┆ PERIOD_END_DATE ┆ CURRENCY │\n",
      "│ ---           ┆ ---   ┆ ---           ┆ ---        ┆ ---             ┆ ---      │\n",
      "│ str           ┆ f64   ┆ date          ┆ date       ┆ date            ┆ str      │\n",
      "╞═══════════════╪═══════╪═══════════════╪════════════╪═════════════════╪══════════╡\n",
      "│ IBM US Equity ┆ 10.63 ┆ 2022-02-22    ┆ 2024-12-14 ┆ 2019-12-31      ┆ USD      │\n",
      "│ IBM US Equity ┆ 6.28  ┆ 2023-02-28    ┆ 2024-12-14 ┆ 2020-12-31      ┆ USD      │\n",
      "│ IBM US Equity ┆ 6.41  ┆ 2023-02-28    ┆ 2024-12-14 ┆ 2021-12-31      ┆ USD      │\n",
      "│ IBM US Equity ┆ 1.82  ┆ 2024-03-18    ┆ 2024-12-14 ┆ 2022-12-31      ┆ USD      │\n",
      "│ IBM US Equity ┆ 8.23  ┆ 2024-03-18    ┆ 2024-12-14 ┆ 2023-12-31      ┆ USD      │\n",
      "│ IBM US Equity ┆ 7.891 ┆ 2024-12-13    ┆ 2024-12-14 ┆ 2024-12-31      ┆ USD      │\n",
      "│ IBM US Equity ┆ 9.236 ┆ 2024-12-13    ┆ 2024-12-14 ┆ 2025-12-31      ┆ USD      │\n",
      "└───────────────┴───────┴───────────────┴────────────┴─────────────────┴──────────┘\n"
     ]
    }
   ],
   "source": [
    "# historical and forward earning estimates\n",
    "with BQuery() as bq:\n",
    "    df_lst = bq.bql(\"\"\"\n",
    "        let(#eps=is_eps(fa_period_type='A',\n",
    "                        fa_period_offset=range(-4,2));)\n",
    "        get(#eps)\n",
    "        for(['IBM US Equity'])\n",
    "    \"\"\")\n",
    "    print(df_lst[0])\n"
   ]
  },
  {
   "cell_type": "code",
   "execution_count": 17,
   "metadata": {},
   "outputs": [
    {
     "name": "stdout",
     "output_type": "stream",
     "text": [
      "shape: (5, 5)\n",
      "┌───────────┬─────────────────┬────────────┬───────────────┬───────────┐\n",
      "│ ID        ┆ #average_spread ┆ DATE       ┆ ORIG_IDS      ┆ #BINS     │\n",
      "│ ---       ┆ ---             ┆ ---        ┆ ---           ┆ ---       │\n",
      "│ str       ┆ f64             ┆ date       ┆ str           ┆ str       │\n",
      "╞═══════════╪═════════════════╪════════════╪═══════════════╪═══════════╡\n",
      "│ (1) 0-3   ┆ 31.195689       ┆ 2024-12-14 ┆ QZ552396 Corp ┆ (1) 0-3   │\n",
      "│ (2) 3-9   ┆ 59.580383       ┆ 2024-12-14 ┆ null          ┆ (2) 3-9   │\n",
      "│ (3) 9-18  ┆ 110.614416      ┆ 2024-12-14 ┆ BH393780 Corp ┆ (3) 9-18  │\n",
      "│ (4) 18-30 ┆ 135.160279      ┆ 2024-12-14 ┆ BH393781 Corp ┆ (4) 18-30 │\n",
      "│ (5) 30+   ┆ 150.713405      ┆ 2024-12-14 ┆ BH393782 Corp ┆ (5) 30+   │\n",
      "└───────────┴─────────────────┴────────────┴───────────────┴───────────┘\n"
     ]
    }
   ],
   "source": [
    "# Example: Average OAS-spread per maturity bucket\n",
    "query = \"\"\"\n",
    "let(\n",
    "    #bins = bins(maturity_years,\n",
    "                 [3,9,18,30],\n",
    "                 ['(1) 0-3','(2) 3-9','(3) 9-18','(4) 18-30','(5) 30+']);\n",
    "    #average_spread = avg(group(spread(st=oas),#bins));\n",
    ")\n",
    "get(#average_spread)\n",
    "for(filter(bonds('NVDA US Equity', issuedby = 'ENTITY'),\n",
    "           maturity_years != NA))\n",
    "\"\"\"\n",
    "\n",
    "with BQuery() as bq:\n",
    "    df_lst = bq.bql(query)\n",
    "    print(df_lst[0])"
   ]
  },
  {
   "cell_type": "code",
   "execution_count": 18,
   "metadata": {},
   "outputs": [
    {
     "name": "stdout",
     "output_type": "stream",
     "text": [
      "shape: (5, 7)\n",
      "┌─────────────────┬──────────────────┬────────────┬────────────┬──────────┬────────────┬───────────┐\n",
      "│ ID              ┆ name()           ┆ #ema20     ┆ DATE       ┆ CURRENCY ┆ #ema200    ┆ #rsi      │\n",
      "│ ---             ┆ ---              ┆ ---        ┆ ---        ┆ ---      ┆ ---        ┆ ---       │\n",
      "│ str             ┆ str              ┆ f64        ┆ date       ┆ str      ┆ f64        ┆ f64       │\n",
      "╞═════════════════╪══════════════════╪════════════╪════════════╪══════════╪════════════╪═══════════╡\n",
      "│ ERICB SS Equity ┆ Telefonaktiebola ┆ 90.094984  ┆ 2024-12-14 ┆ SEK      ┆ 74.917219  ┆ 57.454412 │\n",
      "│                 ┆ get LM Ericsso   ┆            ┆            ┆          ┆            ┆           │\n",
      "│ SKFB SS Equity  ┆ SKF AB           ┆ 214.383743 ┆ 2024-12-14 ┆ SEK      ┆ 205.174139 ┆ 58.403269 │\n",
      "│ SEBA SS Equity  ┆ Skandinaviska    ┆ 153.680261 ┆ 2024-12-14 ┆ SEK      ┆ 150.720922 ┆ 57.692703 │\n",
      "│                 ┆ Enskilda Banken  ┆            ┆            ┆          ┆            ┆           │\n",
      "│ ASSAB SS Equity ┆ Assa Abloy AB    ┆ 338.829971 ┆ 2024-12-14 ┆ SEK      ┆ 316.8212   ┆ 55.467329 │\n",
      "│ SWEDA SS Equity ┆ Swedbank AB      ┆ 217.380431 ┆ 2024-12-14 ┆ SEK      ┆ 213.776784 ┆ 56.303481 │\n",
      "└─────────────────┴──────────────────┴────────────┴────────────┴──────────┴────────────┴───────────┘\n"
     ]
    }
   ],
   "source": [
    "# stocks with 20d EMA above 200d EMA and RSI > 55\n",
    "with BQuery() as bq:\n",
    "    df_lst = bq.bql(\n",
    "        \"\"\"\n",
    "        let(#ema20=emavg(period=20);\n",
    "            #ema200=emavg(period=200);\n",
    "            #rsi=rsi(close=px_last());)\n",
    "        get(name(), #ema20, #ema200, #rsi)\n",
    "        for(filter(members('OMX Index'),\n",
    "                    and(#ema20 > #ema200, #rsi > 55)))\n",
    "        with(fill=PREV)\n",
    "        \"\"\"\n",
    "    )\n",
    "    df = (\n",
    "        df_lst[0]\n",
    "        .join(df_lst[1], on=\"ID\")\n",
    "        .join(df_lst[2], on=[\"ID\", \"DATE\", \"CURRENCY\"])\n",
    "        .join(df_lst[3], on=[\"ID\", \"DATE\"])\n",
    "    )\n",
    "    print(df)"
   ]
  },
  {
   "cell_type": "code",
   "execution_count": 19,
   "metadata": {},
   "outputs": [
    {
     "name": "stdout",
     "output_type": "stream",
     "text": [
      "shape: (8, 7)\n",
      "┌───────────────┬─────────────────┬─────┬───────────┬───────────┬────────────────┬────────────────┐\n",
      "│ ID            ┆ security_des    ┆ #ax ┆ ASK_DEPTH ┆ BID_DEPTH ┆ ASK_TOTAL_SIZE ┆ BID_TOTAL_SIZE │\n",
      "│ ---           ┆ ---             ┆ --- ┆ ---       ┆ ---       ┆ ---            ┆ ---            │\n",
      "│ str           ┆ str             ┆ str ┆ i64       ┆ i64       ┆ f64            ┆ f64            │\n",
      "╞═══════════════╪═════════════════╪═════╪═══════════╪═══════════╪════════════════╪════════════════╡\n",
      "│ YU819930 Corp ┆ SEB 6 ¾ PERP    ┆ N   ┆ null      ┆ null      ┆ null           ┆ null           │\n",
      "│ ZO703315 Corp ┆ SHBASS 4 ⅜ PERP ┆ N   ┆ null      ┆ null      ┆ null           ┆ null           │\n",
      "│ BR069680 Corp ┆ SWEDA 4 PERP    ┆ N   ┆ null      ┆ null      ┆ null           ┆ null           │\n",
      "│ ZL122341 Corp ┆ SWEDA 7 ⅝ PERP  ┆ N   ┆ null      ┆ null      ┆ null           ┆ null           │\n",
      "│ ZQ349286 Corp ┆ SEB 5 ⅛ PERP    ┆ N   ┆ null      ┆ null      ┆ null           ┆ null           │\n",
      "│ ZF859199 Corp ┆ SWEDA 7 ¾ PERP  ┆ N   ┆ null      ┆ null      ┆ null           ┆ null           │\n",
      "│ ZO703956 Corp ┆ SHBASS 4 ¾ PERP ┆ N   ┆ null      ┆ null      ┆ null           ┆ null           │\n",
      "│ BW924993 Corp ┆ SEB 6 ⅞ PERP    ┆ N   ┆ null      ┆ null      ┆ null           ┆ null           │\n",
      "└───────────────┴─────────────────┴─────┴───────────┴───────────┴────────────────┴────────────────┘\n"
     ]
    }
   ],
   "source": [
    "# Get current axes for Swedish AT1 bonds in USD\n",
    "query = \"\"\"\n",
    "    let(#ax=axes();)\n",
    "    get(security_des, #ax)\n",
    "    for(filter(bondsuniv(ACTIVE),\n",
    "        crncy()=='USD' and\n",
    "        basel_iii_designation() == 'Additional Tier 1' and\n",
    "        country_iso() == 'SE'))\n",
    "\"\"\"\n",
    "\n",
    "with BQuery() as bq:\n",
    "    df_lst = bq.bql(query)\n",
    "    print(df_lst[0].join(df_lst[1], on=\"ID\"))"
   ]
  },
  {
   "cell_type": "code",
   "execution_count": 20,
   "metadata": {},
   "outputs": [
    {
     "name": "stdout",
     "output_type": "stream",
     "text": [
      "shape: (5, 6)\n",
      "┌───────────────┬───────────────────┬──────────────────┬────────────┬─────────────┬────────────┐\n",
      "│ ID            ┆ name()            ┆ #rank            ┆ #nxt_call  ┆ #oas        ┆ DATE       │\n",
      "│ ---           ┆ ---               ┆ ---              ┆ ---        ┆ ---         ┆ ---        │\n",
      "│ str           ┆ str               ┆ str              ┆ date       ┆ f64         ┆ date       │\n",
      "╞═══════════════╪═══════════════════╪══════════════════╪════════════╪═════════════╪════════════╡\n",
      "│ YX231113 Corp ┆ GTN 10 ½ 07/15/29 ┆ 1st Lien Secured ┆ 2026-07-15 ┆ 597.329513  ┆ 2024-12-14 │\n",
      "│ BS116983 Corp ┆ GTN 5 ⅜ 11/15/31  ┆ Sr Unsecured     ┆ 2026-11-15 ┆ 1192.83614  ┆ 2024-12-14 │\n",
      "│ AV438089 Corp ┆ GTN 7 05/15/27    ┆ Sr Unsecured     ┆ 2024-12-23 ┆ 391.133436  ┆ 2024-12-14 │\n",
      "│ ZO860846 Corp ┆ GTN 4 ¾ 10/15/30  ┆ Sr Unsecured     ┆ 2025-10-15 ┆ 1232.554695 ┆ 2024-12-14 │\n",
      "│ LW375188 Corp ┆ GTN 5 ⅞ 07/15/26  ┆ Sr Unsecured     ┆ 2025-01-12 ┆ 171.708702  ┆ 2024-12-14 │\n",
      "└───────────────┴───────────────────┴──────────────────┴────────────┴─────────────┴────────────┘\n"
     ]
    }
   ],
   "source": [
    "# Get Bond Universe from Equity Ticker\n",
    "query = \"\"\"\n",
    "let(#rank=normalized_payment_rank();\n",
    "    #oas=spread(st=oas);\n",
    "    #nxt_call=nxt_call_dt();\n",
    "    )\n",
    "get(name(), #rank, #nxt_call, #oas)\n",
    "for(filter(bonds('GTN US Equity'), series() == '144A'))\n",
    "\"\"\"\n",
    "\n",
    "with BQuery() as bq:\n",
    "    df_lst = bq.bql(query)\n",
    "\n",
    "    df = (\n",
    "        df_lst[0]\n",
    "        .join(df_lst[1], on=\"ID\")\n",
    "        .join(df_lst[2], on=\"ID\")\n",
    "        .join(df_lst[3], on=\"ID\")\n",
    "    )\n",
    "    print(df)"
   ]
  },
  {
   "cell_type": "code",
   "execution_count": 21,
   "metadata": {},
   "outputs": [
    {
     "name": "stdout",
     "output_type": "stream",
     "text": [
      "shape: (6, 6)\n",
      "┌────────────┬───────────────┬───────────────┬───────────────┬───────────────┬───────────────┐\n",
      "│ DATE       ┆ YX231113 Corp ┆ BS116983 Corp ┆ AV438089 Corp ┆ ZO860846 Corp ┆ LW375188 Corp │\n",
      "│ ---        ┆ ---           ┆ ---           ┆ ---           ┆ ---           ┆ ---           │\n",
      "│ date       ┆ f64           ┆ f64           ┆ f64           ┆ f64           ┆ f64           │\n",
      "╞════════════╪═══════════════╪═══════════════╪═══════════════╪═══════════════╪═══════════════╡\n",
      "│ 2024-11-14 ┆ null          ┆ null          ┆ null          ┆ null          ┆ null          │\n",
      "│ 2024-11-21 ┆ -0.002378     ┆ 0.016565      ┆ 0.022831      ┆ 0.000987      ┆ -0.002815     │\n",
      "│ 2024-11-28 ┆ 0.002345      ┆ -0.005489     ┆ -0.004105     ┆ 0.011748      ┆ 0.00037       │\n",
      "│ 2024-12-05 ┆ 0.001403      ┆ 0.016999      ┆ 0.002058      ┆ 0.013095      ┆ 0.001003      │\n",
      "│ 2024-12-12 ┆ -0.000485     ┆ -0.040228     ┆ -0.000872     ┆ -0.038048     ┆ 0.001122      │\n",
      "│ 2024-12-14 ┆ 0.000988      ┆ -0.003833     ┆ 0.000247      ┆ -0.004818     ┆ 0.00136       │\n",
      "└────────────┴───────────────┴───────────────┴───────────────┴───────────────┴───────────────┘\n"
     ]
    }
   ],
   "source": [
    "# Total Return of GTN Bonds\n",
    "query = \"\"\"\n",
    "let(#rng = range(-1M, 0D);\n",
    "    #rets = return_series(calc_interval=#rng,per=W);)\n",
    "get(#rets)\n",
    "for(filter(bonds('GTN US Equity'), series() == '144A'))\n",
    "\"\"\"\n",
    "\n",
    "with BQuery() as bq:\n",
    "    df_lst = bq.bql(query)\n",
    "    df = df_lst[0].pivot(on=\"ID\", index=\"DATE\", values=\"#rets\")\n",
    "    print(df)"
   ]
  },
  {
   "cell_type": "code",
   "execution_count": 22,
   "metadata": {},
   "outputs": [
    {
     "name": "stdout",
     "output_type": "stream",
     "text": [
      "shape: (5, 5)\n",
      "┌─────────────────┬──────────────┬──────────────────────┬────────┬────────────┐\n",
      "│ PERIOD_END_DATE ┆ Broadcasting ┆ Production Companies ┆ Other  ┆ Adjustment │\n",
      "│ ---             ┆ ---          ┆ ---                  ┆ ---    ┆ ---        │\n",
      "│ date            ┆ f64          ┆ f64                  ┆ f64    ┆ f64        │\n",
      "╞═════════════════╪══════════════╪══════════════════════╪════════╪════════════╡\n",
      "│ 2023-09-30      ┆ 7.83e8       ┆ 2e7                  ┆ 1.6e7  ┆ null       │\n",
      "│ 2023-12-31      ┆ 8.13e8       ┆ 3.2e7                ┆ 1.9e7  ┆ null       │\n",
      "│ 2024-03-31      ┆ 7.8e8        ┆ 2.4e7                ┆ 1.9e7  ┆ null       │\n",
      "│ 2024-06-30      ┆ 8.08e8       ┆ 1.8e7                ┆ 0.0    ┆ null       │\n",
      "│ 2024-09-30      ┆ 9.24e8       ┆ 2.6e7                ┆ 1.7e7  ┆ null       │\n",
      "└─────────────────┴──────────────┴──────────────────────┴────────┴────────────┘\n"
     ]
    }
   ],
   "source": [
    "# revenue per segment\n",
    "query = \"\"\"\n",
    "    let(#segment=segment_name();\n",
    "        #revenue=sales_Rev_turn(fpt=q, fpr=range(2023Q3, 2024Q3));\n",
    "        )\n",
    "    get(#segment, #revenue)\n",
    "    for(segments('GTN US Equity',type=reported,hierarchy=PRODUCT, level=1))\n",
    "\"\"\"\n",
    "with BQuery() as bq:\n",
    "    df_lst = bq.bql(query)\n",
    "    df = (\n",
    "        df_lst[0]\n",
    "        .join(df_lst[1], on=[\"ID\", \"ID_DATE\", \"AS_OF_DATE\"])\n",
    "        .pivot(index=\"PERIOD_END_DATE\", on=\"#segment\", values=\"#revenue\")\n",
    "    )\n",
    "    print(df)"
   ]
  }
 ],
 "metadata": {
  "kernelspec": {
   "display_name": ".venv",
   "language": "python",
   "name": "python3"
  },
  "language_info": {
   "codemirror_mode": {
    "name": "ipython",
    "version": 3
   },
   "file_extension": ".py",
   "mimetype": "text/x-python",
   "name": "python",
   "nbconvert_exporter": "python",
   "pygments_lexer": "ipython3",
   "version": "3.12.0"
  }
 },
 "nbformat": 4,
 "nbformat_minor": 4
}
