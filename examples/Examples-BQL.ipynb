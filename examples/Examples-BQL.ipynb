{
 "cells": [
  {
   "cell_type": "markdown",
   "metadata": {},
   "source": [
    "# BQL Examples"
   ]
  },
  {
   "cell_type": "code",
   "execution_count": 1,
   "metadata": {},
   "outputs": [],
   "source": [
    "# Imports\n",
    "from polars_bloomberg import BQuery"
   ]
  },
  {
   "cell_type": "code",
   "execution_count": 2,
   "metadata": {},
   "outputs": [
    {
     "data": {
      "text/html": [
       "<div><style>\n",
       ".dataframe > thead > tr,\n",
       ".dataframe > tbody > tr {\n",
       "  text-align: right;\n",
       "  white-space: pre-wrap;\n",
       "}\n",
       "</style>\n",
       "<small>shape: (2, 4)</small><table border=\"1\" class=\"dataframe\"><thead><tr><th>ID</th><th>px_last</th><th>DATE</th><th>CURRENCY</th></tr><tr><td>str</td><td>f64</td><td>date</td><td>str</td></tr></thead><tbody><tr><td>&quot;IBM US Equity&quot;</td><td>229.33</td><td>2024-12-17</td><td>&quot;USD&quot;</td></tr><tr><td>&quot;OMX Index&quot;</td><td>2544.604</td><td>2024-12-17</td><td>&quot;SEK&quot;</td></tr></tbody></table></div>"
      ],
      "text/plain": [
       "shape: (2, 4)\n",
       "┌───────────────┬──────────┬────────────┬──────────┐\n",
       "│ ID            ┆ px_last  ┆ DATE       ┆ CURRENCY │\n",
       "│ ---           ┆ ---      ┆ ---        ┆ ---      │\n",
       "│ str           ┆ f64      ┆ date       ┆ str      │\n",
       "╞═══════════════╪══════════╪════════════╪══════════╡\n",
       "│ IBM US Equity ┆ 229.33   ┆ 2024-12-17 ┆ USD      │\n",
       "│ OMX Index     ┆ 2544.604 ┆ 2024-12-17 ┆ SEK      │\n",
       "└───────────────┴──────────┴────────────┴──────────┘"
      ]
     },
     "execution_count": 2,
     "metadata": {},
     "output_type": "execute_result"
    }
   ],
   "source": [
    "# Basic example with signle data point\n",
    "with BQuery() as bq:\n",
    "    df_lst = bq.bql(\"get(px_last) for(['IBM US Equity', 'OMX Index'])\")\n",
    "df_lst[0]"
   ]
  },
  {
   "cell_type": "code",
   "execution_count": 3,
   "metadata": {},
   "outputs": [
    {
     "data": {
      "text/html": [
       "<div><style>\n",
       ".dataframe > thead > tr,\n",
       ".dataframe > tbody > tr {\n",
       "  text-align: right;\n",
       "  white-space: pre-wrap;\n",
       "}\n",
       "</style>\n",
       "<small>shape: (5, 7)</small><table border=\"1\" class=\"dataframe\"><thead><tr><th>ID</th><th>#avg_pe</th><th>REVISION_DATE</th><th>AS_OF_DATE</th><th>PERIOD_END_DATE</th><th>ORIG_IDS</th><th>GICS_SECTOR_NAME()</th></tr><tr><td>str</td><td>f64</td><td>date</td><td>date</td><td>date</td><td>str</td><td>str</td></tr></thead><tbody><tr><td>&quot;Communication Services&quot;</td><td>26.324383</td><td>2024-11-14</td><td>2024-12-17</td><td>2024-09-30</td><td>null</td><td>&quot;Communication Services&quot;</td></tr><tr><td>&quot;Consumer Discretionary&quot;</td><td>26.605797</td><td>2024-12-11</td><td>2024-12-17</td><td>2024-11-23</td><td>null</td><td>&quot;Consumer Discretionary&quot;</td></tr><tr><td>&quot;Consumer Staples&quot;</td><td>19.362589</td><td>2024-12-13</td><td>2024-12-17</td><td>2024-11-24</td><td>null</td><td>&quot;Consumer Staples&quot;</td></tr><tr><td>&quot;Energy&quot;</td><td>18.155505</td><td>2024-11-12</td><td>2024-12-17</td><td>2024-09-30</td><td>null</td><td>&quot;Energy&quot;</td></tr><tr><td>&quot;Financials&quot;</td><td>37.120773</td><td>2024-11-26</td><td>2024-12-17</td><td>2024-09-30</td><td>null</td><td>&quot;Financials&quot;</td></tr></tbody></table></div>"
      ],
      "text/plain": [
       "shape: (5, 7)\n",
       "┌───────────────┬───────────┬───────────────┬────────────┬───────────────┬──────────┬──────────────┐\n",
       "│ ID            ┆ #avg_pe   ┆ REVISION_DATE ┆ AS_OF_DATE ┆ PERIOD_END_DA ┆ ORIG_IDS ┆ GICS_SECTOR_ │\n",
       "│ ---           ┆ ---       ┆ ---           ┆ ---        ┆ TE            ┆ ---      ┆ NAME()       │\n",
       "│ str           ┆ f64       ┆ date          ┆ date       ┆ ---           ┆ str      ┆ ---          │\n",
       "│               ┆           ┆               ┆            ┆ date          ┆          ┆ str          │\n",
       "╞═══════════════╪═══════════╪═══════════════╪════════════╪═══════════════╪══════════╪══════════════╡\n",
       "│ Communication ┆ 26.324383 ┆ 2024-11-14    ┆ 2024-12-17 ┆ 2024-09-30    ┆ null     ┆ Communicatio │\n",
       "│ Services      ┆           ┆               ┆            ┆               ┆          ┆ n Services   │\n",
       "│ Consumer      ┆ 26.605797 ┆ 2024-12-11    ┆ 2024-12-17 ┆ 2024-11-23    ┆ null     ┆ Consumer Dis │\n",
       "│ Discretionary ┆           ┆               ┆            ┆               ┆          ┆ cretionary   │\n",
       "│ Consumer      ┆ 19.362589 ┆ 2024-12-13    ┆ 2024-12-17 ┆ 2024-11-24    ┆ null     ┆ Consumer     │\n",
       "│ Staples       ┆           ┆               ┆            ┆               ┆          ┆ Staples      │\n",
       "│ Energy        ┆ 18.155505 ┆ 2024-11-12    ┆ 2024-12-17 ┆ 2024-09-30    ┆ null     ┆ Energy       │\n",
       "│ Financials    ┆ 37.120773 ┆ 2024-11-26    ┆ 2024-12-17 ┆ 2024-09-30    ┆ null     ┆ Financials   │\n",
       "└───────────────┴───────────┴───────────────┴────────────┴───────────────┴──────────┴──────────────┘"
      ]
     },
     "execution_count": 3,
     "metadata": {},
     "output_type": "execute_result"
    }
   ],
   "source": [
    "# Average PE ratio per sector\n",
    "query = \"\"\"\n",
    "let(#avg_pe=avg(group(pe_ratio(), gics_sector_name()));)\n",
    "get(#avg_pe)\n",
    "for(members('SPX Index'))\n",
    "\"\"\"\n",
    "with BQuery() as bq:\n",
    "    df_lst = bq.bql(query)\n",
    "df_lst[0].head()"
   ]
  },
  {
   "cell_type": "code",
   "execution_count": 4,
   "metadata": {},
   "outputs": [
    {
     "data": {
      "text/html": [
       "<div><style>\n",
       ".dataframe > thead > tr,\n",
       ".dataframe > tbody > tr {\n",
       "  text-align: right;\n",
       "  white-space: pre-wrap;\n",
       "}\n",
       "</style>\n",
       "<small>shape: (6, 5)</small><table border=\"1\" class=\"dataframe\"><thead><tr><th>ID</th><th>name()</th><th>#dur</th><th>DATE</th><th>#zsprd</th></tr><tr><td>str</td><td>str</td><td>f64</td><td>date</td><td>f64</td></tr></thead><tbody><tr><td>&quot;BW924993 Corp&quot;</td><td>&quot;SEB 6 ⅞ PERP&quot;</td><td>2.224876</td><td>2024-12-17</td><td>219.962108</td></tr><tr><td>&quot;YU819930 Corp&quot;</td><td>&quot;SEB 6 ¾ PERP&quot;</td><td>5.366166</td><td>2024-12-17</td><td>309.154337</td></tr><tr><td>&quot;ZO703315 Corp&quot;</td><td>&quot;SHBASS 4 ⅜ PERP&quot;</td><td>1.950612</td><td>2024-12-17</td><td>214.664365</td></tr><tr><td>&quot;ZO703956 Corp&quot;</td><td>&quot;SHBASS 4 ¾ PERP&quot;</td><td>4.939148</td><td>2024-12-17</td><td>256.163102</td></tr><tr><td>&quot;ZQ349286 Corp&quot;</td><td>&quot;SEB 5 ⅛ PERP&quot;</td><td>0.389946</td><td>2024-12-17</td><td>200.569138</td></tr><tr><td>&quot;YV402592 Corp&quot;</td><td>&quot;SEB Float PERP&quot;</td><td>0.206908</td><td>2024-12-17</td><td>235.23</td></tr></tbody></table></div>"
      ],
      "text/plain": [
       "shape: (6, 5)\n",
       "┌───────────────┬─────────────────┬──────────┬────────────┬────────────┐\n",
       "│ ID            ┆ name()          ┆ #dur     ┆ DATE       ┆ #zsprd     │\n",
       "│ ---           ┆ ---             ┆ ---      ┆ ---        ┆ ---        │\n",
       "│ str           ┆ str             ┆ f64      ┆ date       ┆ f64        │\n",
       "╞═══════════════╪═════════════════╪══════════╪════════════╪════════════╡\n",
       "│ BW924993 Corp ┆ SEB 6 ⅞ PERP    ┆ 2.224876 ┆ 2024-12-17 ┆ 219.962108 │\n",
       "│ YU819930 Corp ┆ SEB 6 ¾ PERP    ┆ 5.366166 ┆ 2024-12-17 ┆ 309.154337 │\n",
       "│ ZO703315 Corp ┆ SHBASS 4 ⅜ PERP ┆ 1.950612 ┆ 2024-12-17 ┆ 214.664365 │\n",
       "│ ZO703956 Corp ┆ SHBASS 4 ¾ PERP ┆ 4.939148 ┆ 2024-12-17 ┆ 256.163102 │\n",
       "│ ZQ349286 Corp ┆ SEB 5 ⅛ PERP    ┆ 0.389946 ┆ 2024-12-17 ┆ 200.569138 │\n",
       "│ YV402592 Corp ┆ SEB Float PERP  ┆ 0.206908 ┆ 2024-12-17 ┆ 235.23     │\n",
       "└───────────────┴─────────────────┴──────────┴────────────┴────────────┘"
      ]
     },
     "execution_count": 4,
     "metadata": {},
     "output_type": "execute_result"
    }
   ],
   "source": [
    "# Duration and ZSpread for search results\n",
    "query = \"\"\"\n",
    "let(#dur=duration(duration_type=MODIFIED);\n",
    "    #zsprd=spread(spread_type=Z);)\n",
    "get(name(), #dur, #zsprd)\n",
    "for(filter(screenresults(type=SRCH, screen_name='@COCO'),\n",
    "           ticker in ['SEB', 'SHBASS']))\n",
    "\"\"\"\n",
    "\n",
    "with BQuery() as bq:\n",
    "    df_lst = bq.bql(query)\n",
    "df_lst.combine()"
   ]
  },
  {
   "cell_type": "code",
   "execution_count": 8,
   "metadata": {},
   "outputs": [
    {
     "data": {
      "text/html": [
       "<div><style>\n",
       ".dataframe > thead > tr,\n",
       ".dataframe > tbody > tr {\n",
       "  text-align: right;\n",
       "  white-space: pre-wrap;\n",
       "}\n",
       "</style>\n",
       "<small>shape: (5, 5)</small><table border=\"1\" class=\"dataframe\"><thead><tr><th>ID</th><th>#average_spread</th><th>DATE</th><th>ORIG_IDS</th><th>#BINS</th></tr><tr><td>str</td><td>f64</td><td>date</td><td>str</td><td>str</td></tr></thead><tbody><tr><td>&quot;(1) 0-3&quot;</td><td>29.476654</td><td>2024-12-17</td><td>&quot;QZ552396 Corp&quot;</td><td>&quot;(1) 0-3&quot;</td></tr><tr><td>&quot;(2) 3-9&quot;</td><td>58.500884</td><td>2024-12-17</td><td>null</td><td>&quot;(2) 3-9&quot;</td></tr><tr><td>&quot;(3) 9-18&quot;</td><td>107.83985</td><td>2024-12-17</td><td>&quot;BH393780 Corp&quot;</td><td>&quot;(3) 9-18&quot;</td></tr><tr><td>&quot;(4) 18-30&quot;</td><td>133.525275</td><td>2024-12-17</td><td>&quot;BH393781 Corp&quot;</td><td>&quot;(4) 18-30&quot;</td></tr><tr><td>&quot;(5) 30+&quot;</td><td>149.245693</td><td>2024-12-17</td><td>&quot;BH393782 Corp&quot;</td><td>&quot;(5) 30+&quot;</td></tr></tbody></table></div>"
      ],
      "text/plain": [
       "shape: (5, 5)\n",
       "┌───────────┬─────────────────┬────────────┬───────────────┬───────────┐\n",
       "│ ID        ┆ #average_spread ┆ DATE       ┆ ORIG_IDS      ┆ #BINS     │\n",
       "│ ---       ┆ ---             ┆ ---        ┆ ---           ┆ ---       │\n",
       "│ str       ┆ f64             ┆ date       ┆ str           ┆ str       │\n",
       "╞═══════════╪═════════════════╪════════════╪═══════════════╪═══════════╡\n",
       "│ (1) 0-3   ┆ 29.476654       ┆ 2024-12-17 ┆ QZ552396 Corp ┆ (1) 0-3   │\n",
       "│ (2) 3-9   ┆ 58.500884       ┆ 2024-12-17 ┆ null          ┆ (2) 3-9   │\n",
       "│ (3) 9-18  ┆ 107.83985       ┆ 2024-12-17 ┆ BH393780 Corp ┆ (3) 9-18  │\n",
       "│ (4) 18-30 ┆ 133.525275      ┆ 2024-12-17 ┆ BH393781 Corp ┆ (4) 18-30 │\n",
       "│ (5) 30+   ┆ 149.245693      ┆ 2024-12-17 ┆ BH393782 Corp ┆ (5) 30+   │\n",
       "└───────────┴─────────────────┴────────────┴───────────────┴───────────┘"
      ]
     },
     "execution_count": 8,
     "metadata": {},
     "output_type": "execute_result"
    }
   ],
   "source": [
    "# Average OAS spread for Nvidia bonds per maturity bucket\n",
    "query = \"\"\"\n",
    "let(\n",
    "    #bins = bins(maturity_years,\n",
    "                 [3,9,18,30],\n",
    "                 ['(1) 0-3','(2) 3-9','(3) 9-18','(4) 18-30','(5) 30+']);\n",
    "    #average_spread = avg(group(spread(st=oas),#bins));\n",
    ")\n",
    "get(#average_spread)\n",
    "for(filter(bonds('NVDA US Equity', issuedby = 'ENTITY'),\n",
    "           maturity_years != NA))\n",
    "\"\"\"\n",
    "\n",
    "with BQuery() as bq:\n",
    "    df_lst = bq.bql(query)\n",
    "df_lst[0]"
   ]
  },
  {
   "cell_type": "code",
   "execution_count": 9,
   "metadata": {},
   "outputs": [
    {
     "data": {
      "text/html": [
       "<div><style>\n",
       ".dataframe > thead > tr,\n",
       ".dataframe > tbody > tr {\n",
       "  text-align: right;\n",
       "  white-space: pre-wrap;\n",
       "}\n",
       "</style>\n",
       "<small>shape: (4, 7)</small><table border=\"1\" class=\"dataframe\"><thead><tr><th>ID</th><th>name()</th><th>#ema20</th><th>DATE</th><th>CURRENCY</th><th>#ema200</th><th>#rsi</th></tr><tr><td>str</td><td>str</td><td>f64</td><td>date</td><td>str</td><td>f64</td><td>f64</td></tr></thead><tbody><tr><td>&quot;ERICB SS Equity&quot;</td><td>&quot;Telefonaktiebolaget LM Ericsso&quot;</td><td>90.152605</td><td>2024-12-17</td><td>&quot;SEK&quot;</td><td>75.073609</td><td>56.010064</td></tr><tr><td>&quot;ABB SS Equity&quot;</td><td>&quot;ABB Ltd&quot;</td><td>630.622467</td><td>2024-12-17</td><td>&quot;SEK&quot;</td><td>566.585769</td><td>53.763079</td></tr><tr><td>&quot;SEBA SS Equity&quot;</td><td>&quot;Skandinaviska Enskilda Banken&quot;</td><td>153.80595</td><td>2024-12-17</td><td>&quot;SEK&quot;</td><td>150.750809</td><td>56.460733</td></tr><tr><td>&quot;ASSAB SS Equity&quot;</td><td>&quot;Assa Abloy AB&quot;</td><td>339.017593</td><td>2024-12-17</td><td>&quot;SEK&quot;</td><td>317.074403</td><td>53.351646</td></tr></tbody></table></div>"
      ],
      "text/plain": [
       "shape: (4, 7)\n",
       "┌─────────────────┬──────────────────┬────────────┬────────────┬──────────┬────────────┬───────────┐\n",
       "│ ID              ┆ name()           ┆ #ema20     ┆ DATE       ┆ CURRENCY ┆ #ema200    ┆ #rsi      │\n",
       "│ ---             ┆ ---              ┆ ---        ┆ ---        ┆ ---      ┆ ---        ┆ ---       │\n",
       "│ str             ┆ str              ┆ f64        ┆ date       ┆ str      ┆ f64        ┆ f64       │\n",
       "╞═════════════════╪══════════════════╪════════════╪════════════╪══════════╪════════════╪═══════════╡\n",
       "│ ERICB SS Equity ┆ Telefonaktiebola ┆ 90.152605  ┆ 2024-12-17 ┆ SEK      ┆ 75.073609  ┆ 56.010064 │\n",
       "│                 ┆ get LM Ericsso   ┆            ┆            ┆          ┆            ┆           │\n",
       "│ ABB SS Equity   ┆ ABB Ltd          ┆ 630.622467 ┆ 2024-12-17 ┆ SEK      ┆ 566.585769 ┆ 53.763079 │\n",
       "│ SEBA SS Equity  ┆ Skandinaviska    ┆ 153.80595  ┆ 2024-12-17 ┆ SEK      ┆ 150.750809 ┆ 56.460733 │\n",
       "│                 ┆ Enskilda Banken  ┆            ┆            ┆          ┆            ┆           │\n",
       "│ ASSAB SS Equity ┆ Assa Abloy AB    ┆ 339.017593 ┆ 2024-12-17 ┆ SEK      ┆ 317.074403 ┆ 53.351646 │\n",
       "└─────────────────┴──────────────────┴────────────┴────────────┴──────────┴────────────┴───────────┘"
      ]
     },
     "execution_count": 9,
     "metadata": {},
     "output_type": "execute_result"
    }
   ],
   "source": [
    "# stocks with 20d EMA above 200d EMA and RSI > 53\n",
    "with BQuery() as bq:\n",
    "    df_lst = bq.bql(\n",
    "        \"\"\"\n",
    "        let(#ema20=emavg(period=20);\n",
    "            #ema200=emavg(period=200);\n",
    "            #rsi=rsi(close=px_last());)\n",
    "        get(name(), #ema20, #ema200, #rsi)\n",
    "        for(filter(members('OMX Index'),\n",
    "                    and(#ema20 > #ema200, #rsi > 53)))\n",
    "        with(fill=PREV)\n",
    "        \"\"\"\n",
    "    )\n",
    "df_lst.combine()"
   ]
  },
  {
   "cell_type": "code",
   "execution_count": 13,
   "metadata": {},
   "outputs": [
    {
     "data": {
      "text/html": [
       "<div><style>\n",
       ".dataframe > thead > tr,\n",
       ".dataframe > tbody > tr {\n",
       "  text-align: right;\n",
       "  white-space: pre-wrap;\n",
       "}\n",
       "</style>\n",
       "<small>shape: (5, 7)</small><table border=\"1\" class=\"dataframe\"><thead><tr><th>ID</th><th>name</th><th>#ax</th><th>ASK_DEPTH</th><th>BID_DEPTH</th><th>ASK_TOTAL_SIZE</th><th>BID_TOTAL_SIZE</th></tr><tr><td>str</td><td>str</td><td>str</td><td>i64</td><td>i64</td><td>f64</td><td>f64</td></tr></thead><tbody><tr><td>&quot;ZO703315 Corp&quot;</td><td>&quot;SHBASS 4 ⅜ PERP&quot;</td><td>&quot;Y&quot;</td><td>null</td><td>1</td><td>null</td><td>5e6</td></tr><tr><td>&quot;ZL122341 Corp&quot;</td><td>&quot;SWEDA 7 ⅝ PERP&quot;</td><td>&quot;Y&quot;</td><td>null</td><td>1</td><td>null</td><td>1.4e6</td></tr><tr><td>&quot;ZQ349286 Corp&quot;</td><td>&quot;SEB 5 ⅛ PERP&quot;</td><td>&quot;Y&quot;</td><td>1</td><td>3</td><td>5e6</td><td>2.02e7</td></tr><tr><td>&quot;ZO703956 Corp&quot;</td><td>&quot;SHBASS 4 ¾ PERP&quot;</td><td>&quot;Y&quot;</td><td>2</td><td>2</td><td>3.2e6</td><td>6e6</td></tr><tr><td>&quot;BW924993 Corp&quot;</td><td>&quot;SEB 6 ⅞ PERP&quot;</td><td>&quot;Y&quot;</td><td>1</td><td>1</td><td>5e6</td><td>5e6</td></tr></tbody></table></div>"
      ],
      "text/plain": [
       "shape: (5, 7)\n",
       "┌───────────────┬─────────────────┬─────┬───────────┬───────────┬────────────────┬────────────────┐\n",
       "│ ID            ┆ name            ┆ #ax ┆ ASK_DEPTH ┆ BID_DEPTH ┆ ASK_TOTAL_SIZE ┆ BID_TOTAL_SIZE │\n",
       "│ ---           ┆ ---             ┆ --- ┆ ---       ┆ ---       ┆ ---            ┆ ---            │\n",
       "│ str           ┆ str             ┆ str ┆ i64       ┆ i64       ┆ f64            ┆ f64            │\n",
       "╞═══════════════╪═════════════════╪═════╪═══════════╪═══════════╪════════════════╪════════════════╡\n",
       "│ ZO703315 Corp ┆ SHBASS 4 ⅜ PERP ┆ Y   ┆ null      ┆ 1         ┆ null           ┆ 5e6            │\n",
       "│ ZL122341 Corp ┆ SWEDA 7 ⅝ PERP  ┆ Y   ┆ null      ┆ 1         ┆ null           ┆ 1.4e6          │\n",
       "│ ZQ349286 Corp ┆ SEB 5 ⅛ PERP    ┆ Y   ┆ 1         ┆ 3         ┆ 5e6            ┆ 2.02e7         │\n",
       "│ ZO703956 Corp ┆ SHBASS 4 ¾ PERP ┆ Y   ┆ 2         ┆ 2         ┆ 3.2e6          ┆ 6e6            │\n",
       "│ BW924993 Corp ┆ SEB 6 ⅞ PERP    ┆ Y   ┆ 1         ┆ 1         ┆ 5e6            ┆ 5e6            │\n",
       "└───────────────┴─────────────────┴─────┴───────────┴───────────┴────────────────┴────────────────┘"
      ]
     },
     "execution_count": 13,
     "metadata": {},
     "output_type": "execute_result"
    }
   ],
   "source": [
    "# Axes for Swedish AT1 bonds with bids\n",
    "query = \"\"\"\n",
    "let(#ax=axes();)\n",
    "get(name, #ax)\n",
    "for(filter(bondsuniv(ACTIVE),\n",
    "    crncy()=='USD' and\n",
    "    basel_iii_designation() == 'Additional Tier 1' and\n",
    "    country_iso() == 'SE' and\n",
    "    is_axed('Bid') == True))\n",
    "with(aggregateby=SECURITY)\n",
    "\"\"\"\n",
    "\n",
    "with BQuery() as bq:\n",
    "    df_lst = bq.bql(query)\n",
    "df_lst.combine()"
   ]
  },
  {
   "cell_type": "code",
   "execution_count": null,
   "metadata": {},
   "outputs": [
    {
     "data": {
      "text/html": [
       "<div><style>\n",
       ".dataframe > thead > tr,\n",
       ".dataframe > tbody > tr {\n",
       "  text-align: right;\n",
       "  white-space: pre-wrap;\n",
       "}\n",
       "</style>\n",
       "<small>shape: (5, 6)</small><table border=\"1\" class=\"dataframe\"><thead><tr><th>ID</th><th>name()</th><th>#rank</th><th>#nxt_call</th><th>#oas</th><th>DATE</th></tr><tr><td>str</td><td>str</td><td>str</td><td>date</td><td>f64</td><td>date</td></tr></thead><tbody><tr><td>&quot;YX231113 Corp&quot;</td><td>&quot;GTN 10 ½ 07/15/29&quot;</td><td>&quot;1st Lien Secured&quot;</td><td>2026-07-15</td><td>598.66491</td><td>2024-12-17</td></tr><tr><td>&quot;BS116983 Corp&quot;</td><td>&quot;GTN 5 ⅜ 11/15/31&quot;</td><td>&quot;Sr Unsecured&quot;</td><td>2026-11-15</td><td>1193.17529</td><td>2024-12-17</td></tr><tr><td>&quot;AV438089 Corp&quot;</td><td>&quot;GTN 7 05/15/27&quot;</td><td>&quot;Sr Unsecured&quot;</td><td>2024-12-24</td><td>400.340456</td><td>2024-12-17</td></tr><tr><td>&quot;ZO860846 Corp&quot;</td><td>&quot;GTN 4 ¾ 10/15/30&quot;</td><td>&quot;Sr Unsecured&quot;</td><td>2025-10-15</td><td>1249.34346</td><td>2024-12-17</td></tr><tr><td>&quot;LW375188 Corp&quot;</td><td>&quot;GTN 5 ⅞ 07/15/26&quot;</td><td>&quot;Sr Unsecured&quot;</td><td>2025-01-13</td><td>173.761744</td><td>2024-12-17</td></tr></tbody></table></div>"
      ],
      "text/plain": [
       "shape: (5, 6)\n",
       "┌───────────────┬───────────────────┬──────────────────┬────────────┬────────────┬────────────┐\n",
       "│ ID            ┆ name()            ┆ #rank            ┆ #nxt_call  ┆ #oas       ┆ DATE       │\n",
       "│ ---           ┆ ---               ┆ ---              ┆ ---        ┆ ---        ┆ ---        │\n",
       "│ str           ┆ str               ┆ str              ┆ date       ┆ f64        ┆ date       │\n",
       "╞═══════════════╪═══════════════════╪══════════════════╪════════════╪════════════╪════════════╡\n",
       "│ YX231113 Corp ┆ GTN 10 ½ 07/15/29 ┆ 1st Lien Secured ┆ 2026-07-15 ┆ 598.66491  ┆ 2024-12-17 │\n",
       "│ BS116983 Corp ┆ GTN 5 ⅜ 11/15/31  ┆ Sr Unsecured     ┆ 2026-11-15 ┆ 1193.17529 ┆ 2024-12-17 │\n",
       "│ AV438089 Corp ┆ GTN 7 05/15/27    ┆ Sr Unsecured     ┆ 2024-12-24 ┆ 400.340456 ┆ 2024-12-17 │\n",
       "│ ZO860846 Corp ┆ GTN 4 ¾ 10/15/30  ┆ Sr Unsecured     ┆ 2025-10-15 ┆ 1249.34346 ┆ 2024-12-17 │\n",
       "│ LW375188 Corp ┆ GTN 5 ⅞ 07/15/26  ┆ Sr Unsecured     ┆ 2025-01-13 ┆ 173.761744 ┆ 2024-12-17 │\n",
       "└───────────────┴───────────────────┴──────────────────┴────────────┴────────────┴────────────┘"
      ]
     },
     "execution_count": 14,
     "metadata": {},
     "output_type": "execute_result"
    }
   ],
   "source": [
    "# Get Bond Universe from Equity Ticker\n",
    "query = \"\"\"\n",
    "let(#rank=normalized_payment_rank();\n",
    "    #oas=spread(st=oas);\n",
    "    #nxt_call=nxt_call_dt();\n",
    "    )\n",
    "get(name(), #rank, #nxt_call, #oas)\n",
    "for(filter(bonds('GTN US Equity'), series() == '144A'))\n",
    "\"\"\"\n",
    "\n",
    "with BQuery() as bq:\n",
    "    df_lst = bq.bql(query)\n",
    "df_lst.combine()"
   ]
  },
  {
   "cell_type": "code",
   "execution_count": 16,
   "metadata": {},
   "outputs": [
    {
     "data": {
      "text/html": [
       "<div><style>\n",
       ".dataframe > thead > tr,\n",
       ".dataframe > tbody > tr {\n",
       "  text-align: right;\n",
       "  white-space: pre-wrap;\n",
       "}\n",
       "</style>\n",
       "<small>shape: (5, 6)</small><table border=\"1\" class=\"dataframe\"><thead><tr><th>DATE</th><th>YX231113 Corp</th><th>BS116983 Corp</th><th>AV438089 Corp</th><th>ZO860846 Corp</th><th>LW375188 Corp</th></tr><tr><td>date</td><td>f64</td><td>f64</td><td>f64</td><td>f64</td><td>f64</td></tr></thead><tbody><tr><td>2024-11-19</td><td>0.004504</td><td>-0.002104</td><td>0.004853</td><td>0.000759</td><td>-0.001737</td></tr><tr><td>2024-11-26</td><td>0.005028</td><td>0.047219</td><td>0.021587</td><td>0.037382</td><td>-0.000997</td></tr><tr><td>2024-12-03</td><td>0.000326</td><td>0.019322</td><td>-0.001086</td><td>0.013854</td><td>0.001294</td></tr><tr><td>2024-12-10</td><td>0.000299</td><td>-0.029059</td><td>-0.00054</td><td>-0.024435</td><td>0.001059</td></tr><tr><td>2024-12-17</td><td>0.002799</td><td>-0.019907</td><td>-0.001082</td><td>-0.018603</td><td>0.001641</td></tr></tbody></table></div>"
      ],
      "text/plain": [
       "shape: (5, 6)\n",
       "┌────────────┬───────────────┬───────────────┬───────────────┬───────────────┬───────────────┐\n",
       "│ DATE       ┆ YX231113 Corp ┆ BS116983 Corp ┆ AV438089 Corp ┆ ZO860846 Corp ┆ LW375188 Corp │\n",
       "│ ---        ┆ ---           ┆ ---           ┆ ---           ┆ ---           ┆ ---           │\n",
       "│ date       ┆ f64           ┆ f64           ┆ f64           ┆ f64           ┆ f64           │\n",
       "╞════════════╪═══════════════╪═══════════════╪═══════════════╪═══════════════╪═══════════════╡\n",
       "│ 2024-11-19 ┆ 0.004504      ┆ -0.002104     ┆ 0.004853      ┆ 0.000759      ┆ -0.001737     │\n",
       "│ 2024-11-26 ┆ 0.005028      ┆ 0.047219      ┆ 0.021587      ┆ 0.037382      ┆ -0.000997     │\n",
       "│ 2024-12-03 ┆ 0.000326      ┆ 0.019322      ┆ -0.001086     ┆ 0.013854      ┆ 0.001294      │\n",
       "│ 2024-12-10 ┆ 0.000299      ┆ -0.029059     ┆ -0.00054      ┆ -0.024435     ┆ 0.001059      │\n",
       "│ 2024-12-17 ┆ 0.002799      ┆ -0.019907     ┆ -0.001082     ┆ -0.018603     ┆ 0.001641      │\n",
       "└────────────┴───────────────┴───────────────┴───────────────┴───────────────┴───────────────┘"
      ]
     },
     "execution_count": 16,
     "metadata": {},
     "output_type": "execute_result"
    }
   ],
   "source": [
    "# Total Return of GTN Bonds\n",
    "query = \"\"\"\n",
    "let(#rng = range(-3M, 0D);\n",
    "    #rets = return_series(calc_interval=#rng,per=W);\n",
    "    )\n",
    "get(#rets)\n",
    "for(filter(bonds('GTN US Equity'), series() == '144A'))\n",
    "\"\"\"\n",
    "\n",
    "with BQuery() as bq:\n",
    "    df_lst = bq.bql(query)\n",
    "df = df_lst[0].pivot(on=\"ID\", index=\"DATE\", values=\"#rets\")\n",
    "df.tail()"
   ]
  },
  {
   "cell_type": "code",
   "execution_count": 17,
   "metadata": {},
   "outputs": [
    {
     "data": {
      "text/html": [
       "<div><style>\n",
       ".dataframe > thead > tr,\n",
       ".dataframe > tbody > tr {\n",
       "  text-align: right;\n",
       "  white-space: pre-wrap;\n",
       "}\n",
       "</style>\n",
       "<small>shape: (5, 5)</small><table border=\"1\" class=\"dataframe\"><thead><tr><th>PERIOD_END_DATE</th><th>Broadcasting</th><th>Production Companies</th><th>Other </th><th>Adjustment</th></tr><tr><td>date</td><td>f64</td><td>f64</td><td>f64</td><td>f64</td></tr></thead><tbody><tr><td>2023-09-30</td><td>7.83e8</td><td>2e7</td><td>1.6e7</td><td>null</td></tr><tr><td>2023-12-31</td><td>8.13e8</td><td>3.2e7</td><td>1.9e7</td><td>null</td></tr><tr><td>2024-03-31</td><td>7.8e8</td><td>2.4e7</td><td>1.9e7</td><td>null</td></tr><tr><td>2024-06-30</td><td>8.08e8</td><td>1.8e7</td><td>0.0</td><td>null</td></tr><tr><td>2024-09-30</td><td>9.24e8</td><td>2.6e7</td><td>1.7e7</td><td>null</td></tr></tbody></table></div>"
      ],
      "text/plain": [
       "shape: (5, 5)\n",
       "┌─────────────────┬──────────────┬──────────────────────┬────────┬────────────┐\n",
       "│ PERIOD_END_DATE ┆ Broadcasting ┆ Production Companies ┆ Other  ┆ Adjustment │\n",
       "│ ---             ┆ ---          ┆ ---                  ┆ ---    ┆ ---        │\n",
       "│ date            ┆ f64          ┆ f64                  ┆ f64    ┆ f64        │\n",
       "╞═════════════════╪══════════════╪══════════════════════╪════════╪════════════╡\n",
       "│ 2023-09-30      ┆ 7.83e8       ┆ 2e7                  ┆ 1.6e7  ┆ null       │\n",
       "│ 2023-12-31      ┆ 8.13e8       ┆ 3.2e7                ┆ 1.9e7  ┆ null       │\n",
       "│ 2024-03-31      ┆ 7.8e8        ┆ 2.4e7                ┆ 1.9e7  ┆ null       │\n",
       "│ 2024-06-30      ┆ 8.08e8       ┆ 1.8e7                ┆ 0.0    ┆ null       │\n",
       "│ 2024-09-30      ┆ 9.24e8       ┆ 2.6e7                ┆ 1.7e7  ┆ null       │\n",
       "└─────────────────┴──────────────┴──────────────────────┴────────┴────────────┘"
      ]
     },
     "execution_count": 17,
     "metadata": {},
     "output_type": "execute_result"
    }
   ],
   "source": [
    "# Revenue per segment\n",
    "query = \"\"\"\n",
    "    let(#segment=segment_name();\n",
    "        #revenue=sales_Rev_turn(fpt=q, fpr=range(2023Q3, 2024Q3));\n",
    "        )\n",
    "    get(#segment, #revenue)\n",
    "    for(segments('GTN US Equity',type=reported,hierarchy=PRODUCT, level=1))\n",
    "\"\"\"\n",
    "with BQuery() as bq:\n",
    "    df_lst = bq.bql(query)\n",
    "df_lst.combine().pivot(on=\"#segment\", index=\"PERIOD_END_DATE\", values=\"#revenue\")"
   ]
  }
 ],
 "metadata": {
  "kernelspec": {
   "display_name": "v312",
   "language": "python",
   "name": "python3"
  },
  "language_info": {
   "codemirror_mode": {
    "name": "ipython",
    "version": 3
   },
   "file_extension": ".py",
   "mimetype": "text/x-python",
   "name": "python",
   "nbconvert_exporter": "python",
   "pygments_lexer": "ipython3",
   "version": "3.12.7"
  }
 },
 "nbformat": 4,
 "nbformat_minor": 2
}
