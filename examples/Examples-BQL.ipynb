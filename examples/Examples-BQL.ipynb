{
 "cells": [
  {
   "cell_type": "markdown",
   "metadata": {},
   "source": [
    "# BQL Examples"
   ]
  },
  {
   "cell_type": "code",
   "execution_count": null,
   "metadata": {},
   "outputs": [
    {
     "data": {
      "text/plain": [
       "RendererRegistry.enable('html')"
      ]
     },
     "execution_count": 18,
     "metadata": {},
     "output_type": "execute_result"
    }
   ],
   "source": [
    "# Imports\n",
    "from polars_bloomberg import BQuery"
   ]
  },
  {
   "cell_type": "code",
   "execution_count": 6,
   "metadata": {},
   "outputs": [
    {
     "data": {
      "text/html": [
       "<div><style>\n",
       ".dataframe > thead > tr,\n",
       ".dataframe > tbody > tr {\n",
       "  text-align: right;\n",
       "  white-space: pre-wrap;\n",
       "}\n",
       "</style>\n",
       "<small>shape: (2, 4)</small><table border=\"1\" class=\"dataframe\"><thead><tr><th>ID</th><th>px_last</th><th>DATE</th><th>CURRENCY</th></tr><tr><td>str</td><td>f64</td><td>date</td><td>str</td></tr></thead><tbody><tr><td>&quot;IBM US Equity&quot;</td><td>231.264999</td><td>2024-12-11</td><td>&quot;USD&quot;</td></tr><tr><td>&quot;OMX Index&quot;</td><td>2588.439</td><td>2024-12-11</td><td>&quot;SEK&quot;</td></tr></tbody></table></div>"
      ],
      "text/plain": [
       "shape: (2, 4)\n",
       "┌───────────────┬────────────┬────────────┬──────────┐\n",
       "│ ID            ┆ px_last    ┆ DATE       ┆ CURRENCY │\n",
       "│ ---           ┆ ---        ┆ ---        ┆ ---      │\n",
       "│ str           ┆ f64        ┆ date       ┆ str      │\n",
       "╞═══════════════╪════════════╪════════════╪══════════╡\n",
       "│ IBM US Equity ┆ 231.264999 ┆ 2024-12-11 ┆ USD      │\n",
       "│ OMX Index     ┆ 2588.439   ┆ 2024-12-11 ┆ SEK      │\n",
       "└───────────────┴────────────┴────────────┴──────────┘"
      ]
     },
     "execution_count": 6,
     "metadata": {},
     "output_type": "execute_result"
    }
   ],
   "source": [
    "# Basic example with signle data point\n",
    "with BQuery() as bq:\n",
    "    df_lst = bq.bql(\"get(px_last) for(['IBM US Equity', 'OMX Index'])\")\n",
    "df_lst[0]"
   ]
  },
  {
   "cell_type": "code",
   "execution_count": null,
   "metadata": {},
   "outputs": [
    {
     "data": {
      "text/html": [
       "<div><style>\n",
       ".dataframe > thead > tr,\n",
       ".dataframe > tbody > tr {\n",
       "  text-align: right;\n",
       "  white-space: pre-wrap;\n",
       "}\n",
       "</style>\n",
       "<small>shape: (5, 7)</small><table border=\"1\" class=\"dataframe\"><thead><tr><th>ID</th><th>#avg_pe</th><th>REVISION_DATE</th><th>AS_OF_DATE</th><th>PERIOD_END_DATE</th><th>ORIG_IDS</th><th>GICS_SECTOR_NAME()</th></tr><tr><td>str</td><td>f64</td><td>date</td><td>date</td><td>date</td><td>str</td><td>str</td></tr></thead><tbody><tr><td>&quot;Communication Services&quot;</td><td>26.523162</td><td>2024-11-14</td><td>2024-12-11</td><td>2024-09-30</td><td>null</td><td>&quot;Communication Services&quot;</td></tr><tr><td>&quot;Consumer Discretionary&quot;</td><td>26.645955</td><td>2024-12-11</td><td>2024-12-11</td><td>2024-11-23</td><td>null</td><td>&quot;Consumer Discretionary&quot;</td></tr><tr><td>&quot;Consumer Staples&quot;</td><td>19.681978</td><td>2024-12-06</td><td>2024-12-11</td><td>2024-11-09</td><td>null</td><td>&quot;Consumer Staples&quot;</td></tr><tr><td>&quot;Energy&quot;</td><td>18.671814</td><td>2024-11-12</td><td>2024-12-11</td><td>2024-09-30</td><td>null</td><td>&quot;Energy&quot;</td></tr><tr><td>&quot;Financials&quot;</td><td>37.359908</td><td>2024-11-26</td><td>2024-12-11</td><td>2024-09-30</td><td>null</td><td>&quot;Financials&quot;</td></tr></tbody></table></div>"
      ],
      "text/plain": [
       "shape: (5, 7)\n",
       "┌───────────────┬───────────┬───────────────┬────────────┬───────────────┬──────────┬──────────────┐\n",
       "│ ID            ┆ #avg_pe   ┆ REVISION_DATE ┆ AS_OF_DATE ┆ PERIOD_END_DA ┆ ORIG_IDS ┆ GICS_SECTOR_ │\n",
       "│ ---           ┆ ---       ┆ ---           ┆ ---        ┆ TE            ┆ ---      ┆ NAME()       │\n",
       "│ str           ┆ f64       ┆ date          ┆ date       ┆ ---           ┆ str      ┆ ---          │\n",
       "│               ┆           ┆               ┆            ┆ date          ┆          ┆ str          │\n",
       "╞═══════════════╪═══════════╪═══════════════╪════════════╪═══════════════╪══════════╪══════════════╡\n",
       "│ Communication ┆ 26.523162 ┆ 2024-11-14    ┆ 2024-12-11 ┆ 2024-09-30    ┆ null     ┆ Communicatio │\n",
       "│ Services      ┆           ┆               ┆            ┆               ┆          ┆ n Services   │\n",
       "│ Consumer      ┆ 26.645955 ┆ 2024-12-11    ┆ 2024-12-11 ┆ 2024-11-23    ┆ null     ┆ Consumer Dis │\n",
       "│ Discretionary ┆           ┆               ┆            ┆               ┆          ┆ cretionary   │\n",
       "│ Consumer      ┆ 19.681978 ┆ 2024-12-06    ┆ 2024-12-11 ┆ 2024-11-09    ┆ null     ┆ Consumer     │\n",
       "│ Staples       ┆           ┆               ┆            ┆               ┆          ┆ Staples      │\n",
       "│ Energy        ┆ 18.671814 ┆ 2024-11-12    ┆ 2024-12-11 ┆ 2024-09-30    ┆ null     ┆ Energy       │\n",
       "│ Financials    ┆ 37.359908 ┆ 2024-11-26    ┆ 2024-12-11 ┆ 2024-09-30    ┆ null     ┆ Financials   │\n",
       "└───────────────┴───────────┴───────────────┴────────────┴───────────────┴──────────┴──────────────┘"
      ]
     },
     "execution_count": 14,
     "metadata": {},
     "output_type": "execute_result"
    }
   ],
   "source": [
    "# Average PE ratio per sector\n",
    "query = \"\"\"\n",
    "let(#avg_pe=avg(group(pe_ratio(), gics_sector_name()));)\n",
    "get(#avg_pe)\n",
    "for(members('SPX Index'))\n",
    "\"\"\"\n",
    "with BQuery() as bq:\n",
    "    df_lst = bq.bql(query)\n",
    "df_lst[0].head()"
   ]
  },
  {
   "cell_type": "code",
   "execution_count": null,
   "metadata": {},
   "outputs": [
    {
     "data": {
      "text/html": [
       "<div><style>\n",
       ".dataframe > thead > tr,\n",
       ".dataframe > tbody > tr {\n",
       "  text-align: right;\n",
       "  white-space: pre-wrap;\n",
       "}\n",
       "</style>\n",
       "<small>shape: (6, 5)</small><table border=\"1\" class=\"dataframe\"><thead><tr><th>ID</th><th>name()</th><th>#dur</th><th>DATE</th><th>#zsprd</th></tr><tr><td>str</td><td>str</td><td>f64</td><td>date</td><td>f64</td></tr></thead><tbody><tr><td>&quot;ZO703315 Corp&quot;</td><td>&quot;SHBASS 4 ⅜ PERP&quot;</td><td>1.966844</td><td>2024-12-11</td><td>225.109217</td></tr><tr><td>&quot;ZO703956 Corp&quot;</td><td>&quot;SHBASS 4 ¾ PERP&quot;</td><td>4.957737</td><td>2024-12-11</td><td>270.034797</td></tr><tr><td>&quot;YV402592 Corp&quot;</td><td>&quot;SEB Float PERP&quot;</td><td>0.222537</td><td>2024-12-11</td><td>248.654</td></tr><tr><td>&quot;ZQ349286 Corp&quot;</td><td>&quot;SEB 5 ⅛ PERP&quot;</td><td>0.406517</td><td>2024-12-11</td><td>167.962798</td></tr><tr><td>&quot;YU819930 Corp&quot;</td><td>&quot;SEB 6 ¾ PERP&quot;</td><td>5.386048</td><td>2024-12-11</td><td>321.976471</td></tr><tr><td>&quot;BW924993 Corp&quot;</td><td>&quot;SEB 6 ⅞ PERP&quot;</td><td>2.242128</td><td>2024-12-11</td><td>225.111115</td></tr></tbody></table></div>"
      ],
      "text/plain": [
       "shape: (6, 5)\n",
       "┌───────────────┬─────────────────┬──────────┬────────────┬────────────┐\n",
       "│ ID            ┆ name()          ┆ #dur     ┆ DATE       ┆ #zsprd     │\n",
       "│ ---           ┆ ---             ┆ ---      ┆ ---        ┆ ---        │\n",
       "│ str           ┆ str             ┆ f64      ┆ date       ┆ f64        │\n",
       "╞═══════════════╪═════════════════╪══════════╪════════════╪════════════╡\n",
       "│ ZO703315 Corp ┆ SHBASS 4 ⅜ PERP ┆ 1.966844 ┆ 2024-12-11 ┆ 225.109217 │\n",
       "│ ZO703956 Corp ┆ SHBASS 4 ¾ PERP ┆ 4.957737 ┆ 2024-12-11 ┆ 270.034797 │\n",
       "│ YV402592 Corp ┆ SEB Float PERP  ┆ 0.222537 ┆ 2024-12-11 ┆ 248.654    │\n",
       "│ ZQ349286 Corp ┆ SEB 5 ⅛ PERP    ┆ 0.406517 ┆ 2024-12-11 ┆ 167.962798 │\n",
       "│ YU819930 Corp ┆ SEB 6 ¾ PERP    ┆ 5.386048 ┆ 2024-12-11 ┆ 321.976471 │\n",
       "│ BW924993 Corp ┆ SEB 6 ⅞ PERP    ┆ 2.242128 ┆ 2024-12-11 ┆ 225.111115 │\n",
       "└───────────────┴─────────────────┴──────────┴────────────┴────────────┘"
      ]
     },
     "execution_count": 13,
     "metadata": {},
     "output_type": "execute_result"
    }
   ],
   "source": [
    "# Duration and ZSpread for search results\n",
    "query = \"\"\"\n",
    "let(#dur=duration(duration_type=MODIFIED);\n",
    "    #zsprd=spread(spread_type=Z);)\n",
    "get(name(), #dur, #zsprd)\n",
    "for(filter(screenresults(type=SRCH, screen_name='@COCO'),\n",
    "           ticker in ['SEB', 'SHBASS']))\n",
    "\"\"\"\n",
    "\n",
    "with BQuery() as bq:\n",
    "    df_lst = bq.bql(query)\n",
    "df = df_lst[0].join(df_lst[1], on=\"ID\").join(df_lst[2], on=[\"ID\", \"DATE\"])\n",
    "df"
   ]
  },
  {
   "cell_type": "code",
   "execution_count": null,
   "metadata": {},
   "outputs": [
    {
     "data": {
      "text/html": [
       "\n",
       "<style>\n",
       "  #altair-viz-5abfa4e5fcfa4bfab5ad92806037afc6.vega-embed {\n",
       "    width: 100%;\n",
       "    display: flex;\n",
       "  }\n",
       "\n",
       "  #altair-viz-5abfa4e5fcfa4bfab5ad92806037afc6.vega-embed details,\n",
       "  #altair-viz-5abfa4e5fcfa4bfab5ad92806037afc6.vega-embed details summary {\n",
       "    position: relative;\n",
       "  }\n",
       "</style>\n",
       "<div id=\"altair-viz-5abfa4e5fcfa4bfab5ad92806037afc6\"></div>\n",
       "<script type=\"text/javascript\">\n",
       "  var VEGA_DEBUG = (typeof VEGA_DEBUG == \"undefined\") ? {} : VEGA_DEBUG;\n",
       "  (function(spec, embedOpt){\n",
       "    let outputDiv = document.currentScript.previousElementSibling;\n",
       "    if (outputDiv.id !== \"altair-viz-5abfa4e5fcfa4bfab5ad92806037afc6\") {\n",
       "      outputDiv = document.getElementById(\"altair-viz-5abfa4e5fcfa4bfab5ad92806037afc6\");\n",
       "    }\n",
       "\n",
       "    const paths = {\n",
       "      \"vega\": \"https://cdn.jsdelivr.net/npm/vega@5?noext\",\n",
       "      \"vega-lib\": \"https://cdn.jsdelivr.net/npm/vega-lib?noext\",\n",
       "      \"vega-lite\": \"https://cdn.jsdelivr.net/npm/vega-lite@5.20.1?noext\",\n",
       "      \"vega-embed\": \"https://cdn.jsdelivr.net/npm/vega-embed@6?noext\",\n",
       "    };\n",
       "\n",
       "    function maybeLoadScript(lib, version) {\n",
       "      var key = `${lib.replace(\"-\", \"\")}_version`;\n",
       "      return (VEGA_DEBUG[key] == version) ?\n",
       "        Promise.resolve(paths[lib]) :\n",
       "        new Promise(function(resolve, reject) {\n",
       "          var s = document.createElement('script');\n",
       "          document.getElementsByTagName(\"head\")[0].appendChild(s);\n",
       "          s.async = true;\n",
       "          s.onload = () => {\n",
       "            VEGA_DEBUG[key] = version;\n",
       "            return resolve(paths[lib]);\n",
       "          };\n",
       "          s.onerror = () => reject(`Error loading script: ${paths[lib]}`);\n",
       "          s.src = paths[lib];\n",
       "        });\n",
       "    }\n",
       "\n",
       "    function showError(err) {\n",
       "      outputDiv.innerHTML = `<div class=\"error\" style=\"color:red;\">${err}</div>`;\n",
       "      throw err;\n",
       "    }\n",
       "\n",
       "    function displayChart(vegaEmbed) {\n",
       "      vegaEmbed(outputDiv, spec, embedOpt)\n",
       "        .catch(err => showError(`Javascript Error: ${err.message}<br>This usually means there's a typo in your chart specification. See the javascript console for the full traceback.`));\n",
       "    }\n",
       "\n",
       "    if(typeof define === \"function\" && define.amd) {\n",
       "      requirejs.config({paths});\n",
       "      let deps = [\"vega-embed\"];\n",
       "      require(deps, displayChart, err => showError(`Error loading script: ${err.message}`));\n",
       "    } else {\n",
       "      maybeLoadScript(\"vega\", \"5\")\n",
       "        .then(() => maybeLoadScript(\"vega-lite\", \"5.20.1\"))\n",
       "        .then(() => maybeLoadScript(\"vega-embed\", \"6\"))\n",
       "        .catch(showError)\n",
       "        .then(() => displayChart(vegaEmbed));\n",
       "    }\n",
       "  })({\"config\": {\"view\": {\"continuousWidth\": 300, \"continuousHeight\": 300}}, \"data\": {\"name\": \"data-f80a98a59226966d640b690a107e4355\"}, \"mark\": {\"type\": \"bar\"}, \"encoding\": {\"x\": {\"field\": \"ID\", \"title\": \"Maturity Bucket\", \"type\": \"nominal\"}, \"y\": {\"field\": \"#average_spread\", \"title\": \"Average Spread\", \"type\": \"quantitative\"}}, \"$schema\": \"https://vega.github.io/schema/vega-lite/v5.20.1.json\", \"datasets\": {\"data-f80a98a59226966d640b690a107e4355\": [{\"ID\": \"(1) 0-3\", \"#average_spread\": 28.39259316, \"DATE\": \"2024-12-11T00:00:00\", \"ORIG_IDS\": \"QZ552396 Corp\", \"#BINS\": \"(1) 0-3\"}, {\"ID\": \"(2) 3-9\", \"#average_spread\": 59.09810332666666, \"DATE\": \"2024-12-11T00:00:00\", \"ORIG_IDS\": null, \"#BINS\": \"(2) 3-9\"}, {\"ID\": \"(3) 9-18\", \"#average_spread\": 107.7066546, \"DATE\": \"2024-12-11T00:00:00\", \"ORIG_IDS\": \"BH393780 Corp\", \"#BINS\": \"(3) 9-18\"}, {\"ID\": \"(4) 18-30\", \"#average_spread\": 131.69789147, \"DATE\": \"2024-12-11T00:00:00\", \"ORIG_IDS\": \"BH393781 Corp\", \"#BINS\": \"(4) 18-30\"}, {\"ID\": \"(5) 30+\", \"#average_spread\": 151.44691773, \"DATE\": \"2024-12-11T00:00:00\", \"ORIG_IDS\": \"BH393782 Corp\", \"#BINS\": \"(5) 30+\"}]}}, {\"mode\": \"vega-lite\"});\n",
       "</script>"
      ],
      "text/plain": [
       "alt.Chart(...)"
      ]
     },
     "metadata": {},
     "output_type": "display_data"
    },
    {
     "name": "stdout",
     "output_type": "stream",
     "text": [
      "shape: (5, 5)\n",
      "┌───────────┬─────────────────┬────────────┬───────────────┬───────────┐\n",
      "│ ID        ┆ #average_spread ┆ DATE       ┆ ORIG_IDS      ┆ #BINS     │\n",
      "│ ---       ┆ ---             ┆ ---        ┆ ---           ┆ ---       │\n",
      "│ str       ┆ f64             ┆ date       ┆ str           ┆ str       │\n",
      "╞═══════════╪═════════════════╪════════════╪═══════════════╪═══════════╡\n",
      "│ (1) 0-3   ┆ 28.392593       ┆ 2024-12-11 ┆ QZ552396 Corp ┆ (1) 0-3   │\n",
      "│ (2) 3-9   ┆ 59.098103       ┆ 2024-12-11 ┆ null          ┆ (2) 3-9   │\n",
      "│ (3) 9-18  ┆ 107.706655      ┆ 2024-12-11 ┆ BH393780 Corp ┆ (3) 9-18  │\n",
      "│ (4) 18-30 ┆ 131.697891      ┆ 2024-12-11 ┆ BH393781 Corp ┆ (4) 18-30 │\n",
      "│ (5) 30+   ┆ 151.446918      ┆ 2024-12-11 ┆ BH393782 Corp ┆ (5) 30+   │\n",
      "└───────────┴─────────────────┴────────────┴───────────────┴───────────┘\n"
     ]
    }
   ],
   "source": [
    "# Average OAS spread for Nvidia bonds per maturity bucket\n",
    "query = \"\"\"\n",
    "let(\n",
    "    #bins = bins(maturity_years,\n",
    "                 [3,9,18,30],\n",
    "                 ['(1) 0-3','(2) 3-9','(3) 9-18','(4) 18-30','(5) 30+']);\n",
    "    #average_spread = avg(group(spread(st=oas),#bins));\n",
    ")\n",
    "get(#average_spread)\n",
    "for(filter(bonds('NVDA US Equity', issuedby = 'ENTITY'),\n",
    "           maturity_years != NA))\n",
    "\"\"\"\n",
    "\n",
    "with BQuery() as bq:\n",
    "    df_lst = bq.bql(query)\n",
    "df_lst[0]"
   ]
  },
  {
   "cell_type": "code",
   "execution_count": null,
   "metadata": {},
   "outputs": [
    {
     "data": {
      "text/html": [
       "<div><style>\n",
       ".dataframe > thead > tr,\n",
       ".dataframe > tbody > tr {\n",
       "  text-align: right;\n",
       "  white-space: pre-wrap;\n",
       "}\n",
       "</style>\n",
       "<small>shape: (4, 7)</small><table border=\"1\" class=\"dataframe\"><thead><tr><th>ID</th><th>name()</th><th>#ema20</th><th>DATE</th><th>CURRENCY</th><th>#ema200</th><th>#rsi</th></tr><tr><td>str</td><td>str</td><td>f64</td><td>date</td><td>str</td><td>f64</td><td>f64</td></tr></thead><tbody><tr><td>&quot;VOLVB SS Equity&quot;</td><td>&quot;Volvo AB&quot;</td><td>278.876972</td><td>2024-12-11</td><td>&quot;SEK&quot;</td><td>268.465157</td><td>60.819949</td></tr><tr><td>&quot;SKFB SS Equity&quot;</td><td>&quot;SKF AB&quot;</td><td>213.401193</td><td>2024-12-11</td><td>&quot;SEK&quot;</td><td>204.778637</td><td>64.216411</td></tr><tr><td>&quot;ABB SS Equity&quot;</td><td>&quot;ABB Ltd&quot;</td><td>628.630335</td><td>2024-12-11</td><td>&quot;SEK&quot;</td><td>564.33019</td><td>65.151768</td></tr><tr><td>&quot;ASSAB SS Equity&quot;</td><td>&quot;Assa Abloy AB&quot;</td><td>337.983426</td><td>2024-12-11</td><td>&quot;SEK&quot;</td><td>316.250387</td><td>60.101639</td></tr></tbody></table></div>"
      ],
      "text/plain": [
       "shape: (4, 7)\n",
       "┌─────────────────┬───────────────┬────────────┬────────────┬──────────┬────────────┬───────────┐\n",
       "│ ID              ┆ name()        ┆ #ema20     ┆ DATE       ┆ CURRENCY ┆ #ema200    ┆ #rsi      │\n",
       "│ ---             ┆ ---           ┆ ---        ┆ ---        ┆ ---      ┆ ---        ┆ ---       │\n",
       "│ str             ┆ str           ┆ f64        ┆ date       ┆ str      ┆ f64        ┆ f64       │\n",
       "╞═════════════════╪═══════════════╪════════════╪════════════╪══════════╪════════════╪═══════════╡\n",
       "│ VOLVB SS Equity ┆ Volvo AB      ┆ 278.876972 ┆ 2024-12-11 ┆ SEK      ┆ 268.465157 ┆ 60.819949 │\n",
       "│ SKFB SS Equity  ┆ SKF AB        ┆ 213.401193 ┆ 2024-12-11 ┆ SEK      ┆ 204.778637 ┆ 64.216411 │\n",
       "│ ABB SS Equity   ┆ ABB Ltd       ┆ 628.630335 ┆ 2024-12-11 ┆ SEK      ┆ 564.33019  ┆ 65.151768 │\n",
       "│ ASSAB SS Equity ┆ Assa Abloy AB ┆ 337.983426 ┆ 2024-12-11 ┆ SEK      ┆ 316.250387 ┆ 60.101639 │\n",
       "└─────────────────┴───────────────┴────────────┴────────────┴──────────┴────────────┴───────────┘"
      ]
     },
     "execution_count": 26,
     "metadata": {},
     "output_type": "execute_result"
    }
   ],
   "source": [
    "# stocks with 20d EMA above 200d EMA and RSI > 70\n",
    "with BQuery() as bq:\n",
    "    df_lst = bq.bql(\n",
    "        \"\"\"\n",
    "        let(#ema20=emavg(period=20);\n",
    "            #ema200=emavg(period=200);\n",
    "            #rsi=rsi(close=px_last());)\n",
    "        get(name(), #ema20, #ema200, #rsi)\n",
    "        for(filter(members('OMX Index'),\n",
    "                    and(#ema20 > #ema200, #rsi > 60)))\n",
    "        with(fill=PREV)\n",
    "        \"\"\"\n",
    "    )\n",
    "df = (\n",
    "    df_lst[0]\n",
    "    .join(df_lst[1], on=\"ID\")\n",
    "    .join(df_lst[2], on=[\"ID\", \"DATE\", \"CURRENCY\"])\n",
    "    .join(df_lst[3], on=[\"ID\", \"DATE\"])\n",
    ")\n",
    "df"
   ]
  },
  {
   "cell_type": "code",
   "execution_count": null,
   "metadata": {},
   "outputs": [
    {
     "data": {
      "text/html": [
       "<div><style>\n",
       ".dataframe > thead > tr,\n",
       ".dataframe > tbody > tr {\n",
       "  text-align: right;\n",
       "  white-space: pre-wrap;\n",
       "}\n",
       "</style>\n",
       "<small>shape: (5, 7)</small><table border=\"1\" class=\"dataframe\"><thead><tr><th>ID</th><th>name</th><th>#ax</th><th>ASK_DEPTH</th><th>BID_DEPTH</th><th>ASK_TOTAL_SIZE</th><th>BID_TOTAL_SIZE</th></tr><tr><td>str</td><td>str</td><td>str</td><td>i64</td><td>i64</td><td>f64</td><td>f64</td></tr></thead><tbody><tr><td>&quot;YU819930 Corp&quot;</td><td>&quot;SEB 6 ¾ PERP&quot;</td><td>&quot;Y&quot;</td><td>1</td><td>2</td><td>5e6</td><td>2.6e6</td></tr><tr><td>&quot;ZF859199 Corp&quot;</td><td>&quot;SWEDA 7 ¾ PERP&quot;</td><td>&quot;Y&quot;</td><td>2</td><td>2</td><td>7e6</td><td>7e6</td></tr><tr><td>&quot;ZL122341 Corp&quot;</td><td>&quot;SWEDA 7 ⅝ PERP&quot;</td><td>&quot;Y&quot;</td><td>1</td><td>7</td><td>5e6</td><td>2.74e7</td></tr><tr><td>&quot;ZO703315 Corp&quot;</td><td>&quot;SHBASS 4 ⅜ PERP&quot;</td><td>&quot;Y&quot;</td><td>null</td><td>4</td><td>null</td><td>1.24e7</td></tr><tr><td>&quot;ZQ349286 Corp&quot;</td><td>&quot;SEB 5 ⅛ PERP&quot;</td><td>&quot;Y&quot;</td><td>3</td><td>8</td><td>6.7e6</td><td>5.52e7</td></tr></tbody></table></div>"
      ],
      "text/plain": [
       "shape: (5, 7)\n",
       "┌───────────────┬─────────────────┬─────┬───────────┬───────────┬────────────────┬────────────────┐\n",
       "│ ID            ┆ name            ┆ #ax ┆ ASK_DEPTH ┆ BID_DEPTH ┆ ASK_TOTAL_SIZE ┆ BID_TOTAL_SIZE │\n",
       "│ ---           ┆ ---             ┆ --- ┆ ---       ┆ ---       ┆ ---            ┆ ---            │\n",
       "│ str           ┆ str             ┆ str ┆ i64       ┆ i64       ┆ f64            ┆ f64            │\n",
       "╞═══════════════╪═════════════════╪═════╪═══════════╪═══════════╪════════════════╪════════════════╡\n",
       "│ YU819930 Corp ┆ SEB 6 ¾ PERP    ┆ Y   ┆ 1         ┆ 2         ┆ 5e6            ┆ 2.6e6          │\n",
       "│ ZF859199 Corp ┆ SWEDA 7 ¾ PERP  ┆ Y   ┆ 2         ┆ 2         ┆ 7e6            ┆ 7e6            │\n",
       "│ ZL122341 Corp ┆ SWEDA 7 ⅝ PERP  ┆ Y   ┆ 1         ┆ 7         ┆ 5e6            ┆ 2.74e7         │\n",
       "│ ZO703315 Corp ┆ SHBASS 4 ⅜ PERP ┆ Y   ┆ null      ┆ 4         ┆ null           ┆ 1.24e7         │\n",
       "│ ZQ349286 Corp ┆ SEB 5 ⅛ PERP    ┆ Y   ┆ 3         ┆ 8         ┆ 6.7e6          ┆ 5.52e7         │\n",
       "└───────────────┴─────────────────┴─────┴───────────┴───────────┴────────────────┴────────────────┘"
      ]
     },
     "execution_count": 40,
     "metadata": {},
     "output_type": "execute_result"
    }
   ],
   "source": [
    "# Axes for Swedish AT1 bonds with bids\n",
    "query = \"\"\"\n",
    "let(#ax=axes();)\n",
    "get(name, #ax)\n",
    "for(filter(bondsuniv(ACTIVE),\n",
    "    crncy()=='USD' and\n",
    "    basel_iii_designation() == 'Additional Tier 1' and\n",
    "    country_iso() == 'SE' and\n",
    "    is_axed('Bid') == True))\n",
    "\"\"\"\n",
    "\n",
    "with BQuery() as bq:\n",
    "    df_lst = bq.bql(query)\n",
    "df = df_lst[0].join(df_lst[1], on=\"ID\")\n",
    "df.head()"
   ]
  },
  {
   "cell_type": "code",
   "execution_count": null,
   "metadata": {},
   "outputs": [
    {
     "data": {
      "text/html": [
       "<div><style>\n",
       ".dataframe > thead > tr,\n",
       ".dataframe > tbody > tr {\n",
       "  text-align: right;\n",
       "  white-space: pre-wrap;\n",
       "}\n",
       "</style>\n",
       "<small>shape: (5, 6)</small><table border=\"1\" class=\"dataframe\"><thead><tr><th>ID</th><th>name()</th><th>#rank</th><th>#nxt_call</th><th>#oas</th><th>DATE</th></tr><tr><td>str</td><td>str</td><td>str</td><td>date</td><td>f64</td><td>date</td></tr></thead><tbody><tr><td>&quot;YX231113 Corp&quot;</td><td>&quot;GTN 10 ½ 07/15/29&quot;</td><td>&quot;1st Lien Secured&quot;</td><td>2026-07-15</td><td>612.527259</td><td>2024-12-11</td></tr><tr><td>&quot;BS116983 Corp&quot;</td><td>&quot;GTN 5 ⅜ 11/15/31&quot;</td><td>&quot;Sr Unsecured&quot;</td><td>2026-11-15</td><td>1164.436869</td><td>2024-12-11</td></tr><tr><td>&quot;AV438089 Corp&quot;</td><td>&quot;GTN 7 05/15/27&quot;</td><td>&quot;Sr Unsecured&quot;</td><td>2024-12-17</td><td>397.46361</td><td>2024-12-11</td></tr><tr><td>&quot;ZO860846 Corp&quot;</td><td>&quot;GTN 4 ¾ 10/15/30&quot;</td><td>&quot;Sr Unsecured&quot;</td><td>2025-10-15</td><td>1202.244214</td><td>2024-12-11</td></tr><tr><td>&quot;LW375188 Corp&quot;</td><td>&quot;GTN 5 ⅞ 07/15/26&quot;</td><td>&quot;Sr Unsecured&quot;</td><td>2025-01-06</td><td>184.717971</td><td>2024-12-11</td></tr></tbody></table></div>"
      ],
      "text/plain": [
       "shape: (5, 6)\n",
       "┌───────────────┬───────────────────┬──────────────────┬────────────┬─────────────┬────────────┐\n",
       "│ ID            ┆ name()            ┆ #rank            ┆ #nxt_call  ┆ #oas        ┆ DATE       │\n",
       "│ ---           ┆ ---               ┆ ---              ┆ ---        ┆ ---         ┆ ---        │\n",
       "│ str           ┆ str               ┆ str              ┆ date       ┆ f64         ┆ date       │\n",
       "╞═══════════════╪═══════════════════╪══════════════════╪════════════╪═════════════╪════════════╡\n",
       "│ YX231113 Corp ┆ GTN 10 ½ 07/15/29 ┆ 1st Lien Secured ┆ 2026-07-15 ┆ 612.527259  ┆ 2024-12-11 │\n",
       "│ BS116983 Corp ┆ GTN 5 ⅜ 11/15/31  ┆ Sr Unsecured     ┆ 2026-11-15 ┆ 1164.436869 ┆ 2024-12-11 │\n",
       "│ AV438089 Corp ┆ GTN 7 05/15/27    ┆ Sr Unsecured     ┆ 2024-12-17 ┆ 397.46361   ┆ 2024-12-11 │\n",
       "│ ZO860846 Corp ┆ GTN 4 ¾ 10/15/30  ┆ Sr Unsecured     ┆ 2025-10-15 ┆ 1202.244214 ┆ 2024-12-11 │\n",
       "│ LW375188 Corp ┆ GTN 5 ⅞ 07/15/26  ┆ Sr Unsecured     ┆ 2025-01-06 ┆ 184.717971  ┆ 2024-12-11 │\n",
       "└───────────────┴───────────────────┴──────────────────┴────────────┴─────────────┴────────────┘"
      ]
     },
     "execution_count": 49,
     "metadata": {},
     "output_type": "execute_result"
    }
   ],
   "source": [
    "# Get Bond Universe from Equity Ticker\n",
    "query = \"\"\"\n",
    "let(#rank=normalized_payment_rank();\n",
    "    #oas=spread(st=oas);\n",
    "    #nxt_call=nxt_call_dt();\n",
    "    )\n",
    "get(name(), #rank, #nxt_call, #oas)\n",
    "for(filter(bonds('GTN US Equity'), series() == '144A'))\n",
    "\"\"\"\n",
    "\n",
    "with BQuery() as bq:\n",
    "    df_lst = bq.bql(query)\n",
    "df = df_lst[0].join(df_lst[1], on=\"ID\").join(df_lst[2], on=\"ID\").join(df_lst[3], on=\"ID\")\n",
    "df.head()"
   ]
  },
  {
   "cell_type": "code",
   "execution_count": null,
   "metadata": {},
   "outputs": [
    {
     "data": {
      "text/html": [
       "<div><style>\n",
       ".dataframe > thead > tr,\n",
       ".dataframe > tbody > tr {\n",
       "  text-align: right;\n",
       "  white-space: pre-wrap;\n",
       "}\n",
       "</style>\n",
       "<small>shape: (5, 6)</small><table border=\"1\" class=\"dataframe\"><thead><tr><th>DATE</th><th>YX231113 Corp</th><th>BS116983 Corp</th><th>AV438089 Corp</th><th>ZO860846 Corp</th><th>LW375188 Corp</th></tr><tr><td>date</td><td>f64</td><td>f64</td><td>f64</td><td>f64</td><td>f64</td></tr></thead><tbody><tr><td>2024-11-13</td><td>-0.01427</td><td>-0.03175</td><td>-0.01165</td><td>-0.030335</td><td>0.001243</td></tr><tr><td>2024-11-20</td><td>-0.002037</td><td>-0.018293</td><td>0.0044</td><td>-0.012467</td><td>-0.002927</td></tr><tr><td>2024-11-27</td><td>0.006718</td><td>0.044034</td><td>0.016076</td><td>0.038166</td><td>0.000209</td></tr><tr><td>2024-12-04</td><td>0.001222</td><td>0.016511</td><td>-0.000664</td><td>0.013262</td><td>0.001091</td></tr><tr><td>2024-12-11</td><td>-0.000379</td><td>-0.021545</td><td>0.004619</td><td>-0.026725</td><td>0.001306</td></tr></tbody></table></div>"
      ],
      "text/plain": [
       "shape: (5, 6)\n",
       "┌────────────┬───────────────┬───────────────┬───────────────┬───────────────┬───────────────┐\n",
       "│ DATE       ┆ YX231113 Corp ┆ BS116983 Corp ┆ AV438089 Corp ┆ ZO860846 Corp ┆ LW375188 Corp │\n",
       "│ ---        ┆ ---           ┆ ---           ┆ ---           ┆ ---           ┆ ---           │\n",
       "│ date       ┆ f64           ┆ f64           ┆ f64           ┆ f64           ┆ f64           │\n",
       "╞════════════╪═══════════════╪═══════════════╪═══════════════╪═══════════════╪═══════════════╡\n",
       "│ 2024-11-13 ┆ -0.01427      ┆ -0.03175      ┆ -0.01165      ┆ -0.030335     ┆ 0.001243      │\n",
       "│ 2024-11-20 ┆ -0.002037     ┆ -0.018293     ┆ 0.0044        ┆ -0.012467     ┆ -0.002927     │\n",
       "│ 2024-11-27 ┆ 0.006718      ┆ 0.044034      ┆ 0.016076      ┆ 0.038166      ┆ 0.000209      │\n",
       "│ 2024-12-04 ┆ 0.001222      ┆ 0.016511      ┆ -0.000664     ┆ 0.013262      ┆ 0.001091      │\n",
       "│ 2024-12-11 ┆ -0.000379     ┆ -0.021545     ┆ 0.004619      ┆ -0.026725     ┆ 0.001306      │\n",
       "└────────────┴───────────────┴───────────────┴───────────────┴───────────────┴───────────────┘"
      ]
     },
     "execution_count": 54,
     "metadata": {},
     "output_type": "execute_result"
    }
   ],
   "source": [
    "# Total Return of GTN Bonds\n",
    "query = \"\"\"\n",
    "let(#rng = range(-3M, 0D);\n",
    "    #rets = return_series(calc_interval=#rng,per=W);\n",
    "    )\n",
    "get(#rets)\n",
    "for(filter(bonds('GTN US Equity'), series() == '144A'))\n",
    "\"\"\"\n",
    "\n",
    "with BQuery() as bq:\n",
    "    df_lst = bq.bql(query)\n",
    "df = df_lst[0].pivot(on=\"ID\", index=\"DATE\", values=\"#rets\")\n",
    "df.tail()"
   ]
  },
  {
   "cell_type": "code",
   "execution_count": null,
   "metadata": {},
   "outputs": [
    {
     "data": {
      "text/html": [
       "<div><style>\n",
       ".dataframe > thead > tr,\n",
       ".dataframe > tbody > tr {\n",
       "  text-align: right;\n",
       "  white-space: pre-wrap;\n",
       "}\n",
       "</style>\n",
       "<small>shape: (5, 5)</small><table border=\"1\" class=\"dataframe\"><thead><tr><th>PERIOD_END_DATE</th><th>Broadcasting</th><th>Production Companies</th><th>Other </th><th>Adjustment</th></tr><tr><td>date</td><td>f64</td><td>f64</td><td>f64</td><td>f64</td></tr></thead><tbody><tr><td>2023-09-30</td><td>7.83e8</td><td>2e7</td><td>1.6e7</td><td>null</td></tr><tr><td>2023-12-31</td><td>8.13e8</td><td>3.2e7</td><td>1.9e7</td><td>null</td></tr><tr><td>2024-03-31</td><td>7.8e8</td><td>2.4e7</td><td>1.9e7</td><td>null</td></tr><tr><td>2024-06-30</td><td>8.08e8</td><td>1.8e7</td><td>0.0</td><td>null</td></tr><tr><td>2024-09-30</td><td>9.24e8</td><td>2.6e7</td><td>1.7e7</td><td>null</td></tr></tbody></table></div>"
      ],
      "text/plain": [
       "shape: (5, 5)\n",
       "┌─────────────────┬──────────────┬──────────────────────┬────────┬────────────┐\n",
       "│ PERIOD_END_DATE ┆ Broadcasting ┆ Production Companies ┆ Other  ┆ Adjustment │\n",
       "│ ---             ┆ ---          ┆ ---                  ┆ ---    ┆ ---        │\n",
       "│ date            ┆ f64          ┆ f64                  ┆ f64    ┆ f64        │\n",
       "╞═════════════════╪══════════════╪══════════════════════╪════════╪════════════╡\n",
       "│ 2023-09-30      ┆ 7.83e8       ┆ 2e7                  ┆ 1.6e7  ┆ null       │\n",
       "│ 2023-12-31      ┆ 8.13e8       ┆ 3.2e7                ┆ 1.9e7  ┆ null       │\n",
       "│ 2024-03-31      ┆ 7.8e8        ┆ 2.4e7                ┆ 1.9e7  ┆ null       │\n",
       "│ 2024-06-30      ┆ 8.08e8       ┆ 1.8e7                ┆ 0.0    ┆ null       │\n",
       "│ 2024-09-30      ┆ 9.24e8       ┆ 2.6e7                ┆ 1.7e7  ┆ null       │\n",
       "└─────────────────┴──────────────┴──────────────────────┴────────┴────────────┘"
      ]
     },
     "execution_count": 60,
     "metadata": {},
     "output_type": "execute_result"
    }
   ],
   "source": [
    "# Revenue per segment\n",
    "query = \"\"\"\n",
    "    let(#segment=segment_name();\n",
    "        #revenue=sales_Rev_turn(fpt=q, fpr=range(2023Q3, 2024Q3));\n",
    "        )\n",
    "    get(#segment, #revenue)\n",
    "    for(segments('GTN US Equity',type=reported,hierarchy=PRODUCT, level=1))\n",
    "\"\"\"\n",
    "with BQuery() as bq:\n",
    "    df_lst = bq.bql(query)\n",
    "df = (\n",
    "    df_lst[1]\n",
    "    .join(df_lst[0].select(\"ID\", \"#segment\"), on=\"ID\")\n",
    "    .pivot(on=\"#segment\", index=\"PERIOD_END_DATE\", values=\"#revenue\")\n",
    ")\n",
    "df"
   ]
  }
 ],
 "metadata": {
  "kernelspec": {
   "display_name": ".venv",
   "language": "python",
   "name": "python3"
  },
  "language_info": {
   "codemirror_mode": {
    "name": "ipython",
    "version": 3
   },
   "file_extension": ".py",
   "mimetype": "text/x-python",
   "name": "python",
   "nbconvert_exporter": "python",
   "pygments_lexer": "ipython3",
   "version": "3.12.8"
  }
 },
 "nbformat": 4,
 "nbformat_minor": 2
}
