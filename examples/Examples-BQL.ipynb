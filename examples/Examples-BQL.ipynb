{
 "cells": [
  {
   "cell_type": "markdown",
   "metadata": {},
   "source": [
    "# BQL Examples"
   ]
  },
  {
   "cell_type": "code",
   "execution_count": 26,
   "metadata": {},
   "outputs": [
    {
     "data": {
      "text/plain": [
       "RendererRegistry.enable('svg')"
      ]
     },
     "execution_count": 26,
     "metadata": {},
     "output_type": "execute_result"
    }
   ],
   "source": [
    "# Imports\n",
    "import altair as alt\n",
    "\n",
    "from polars_bloomberg import BQuery\n",
    "\n",
    "alt.renderers.enable(\"svg\")"
   ]
  },
  {
   "cell_type": "code",
   "execution_count": 2,
   "metadata": {},
   "outputs": [
    {
     "data": {
      "text/html": [
       "<div><style>\n",
       ".dataframe > thead > tr,\n",
       ".dataframe > tbody > tr {\n",
       "  text-align: right;\n",
       "  white-space: pre-wrap;\n",
       "}\n",
       "</style>\n",
       "<small>shape: (2, 4)</small><table border=\"1\" class=\"dataframe\"><thead><tr><th>ID</th><th>px_last</th><th>DATE</th><th>CURRENCY</th></tr><tr><td>str</td><td>f64</td><td>date</td><td>str</td></tr></thead><tbody><tr><td>&quot;IBM US Equity&quot;</td><td>229.33</td><td>2024-12-17</td><td>&quot;USD&quot;</td></tr><tr><td>&quot;OMX Index&quot;</td><td>2544.604</td><td>2024-12-17</td><td>&quot;SEK&quot;</td></tr></tbody></table></div>"
      ],
      "text/plain": [
       "shape: (2, 4)\n",
       "┌───────────────┬──────────┬────────────┬──────────┐\n",
       "│ ID            ┆ px_last  ┆ DATE       ┆ CURRENCY │\n",
       "│ ---           ┆ ---      ┆ ---        ┆ ---      │\n",
       "│ str           ┆ f64      ┆ date       ┆ str      │\n",
       "╞═══════════════╪══════════╪════════════╪══════════╡\n",
       "│ IBM US Equity ┆ 229.33   ┆ 2024-12-17 ┆ USD      │\n",
       "│ OMX Index     ┆ 2544.604 ┆ 2024-12-17 ┆ SEK      │\n",
       "└───────────────┴──────────┴────────────┴──────────┘"
      ]
     },
     "execution_count": 2,
     "metadata": {},
     "output_type": "execute_result"
    }
   ],
   "source": [
    "# Basic example with signle data point\n",
    "with BQuery() as bq:\n",
    "    df_lst = bq.bql(\"get(px_last) for(['IBM US Equity', 'OMX Index'])\")\n",
    "df_lst[0]"
   ]
  },
  {
   "cell_type": "code",
   "execution_count": 3,
   "metadata": {},
   "outputs": [
    {
     "data": {
      "text/html": [
       "<div><style>\n",
       ".dataframe > thead > tr,\n",
       ".dataframe > tbody > tr {\n",
       "  text-align: right;\n",
       "  white-space: pre-wrap;\n",
       "}\n",
       "</style>\n",
       "<small>shape: (5, 7)</small><table border=\"1\" class=\"dataframe\"><thead><tr><th>ID</th><th>#avg_pe</th><th>REVISION_DATE</th><th>AS_OF_DATE</th><th>PERIOD_END_DATE</th><th>ORIG_IDS</th><th>GICS_SECTOR_NAME()</th></tr><tr><td>str</td><td>f64</td><td>date</td><td>date</td><td>date</td><td>str</td><td>str</td></tr></thead><tbody><tr><td>&quot;Communication Services&quot;</td><td>26.324383</td><td>2024-11-14</td><td>2024-12-17</td><td>2024-09-30</td><td>null</td><td>&quot;Communication Services&quot;</td></tr><tr><td>&quot;Consumer Discretionary&quot;</td><td>26.605797</td><td>2024-12-11</td><td>2024-12-17</td><td>2024-11-23</td><td>null</td><td>&quot;Consumer Discretionary&quot;</td></tr><tr><td>&quot;Consumer Staples&quot;</td><td>19.362589</td><td>2024-12-13</td><td>2024-12-17</td><td>2024-11-24</td><td>null</td><td>&quot;Consumer Staples&quot;</td></tr><tr><td>&quot;Energy&quot;</td><td>18.155505</td><td>2024-11-12</td><td>2024-12-17</td><td>2024-09-30</td><td>null</td><td>&quot;Energy&quot;</td></tr><tr><td>&quot;Financials&quot;</td><td>37.120773</td><td>2024-11-26</td><td>2024-12-17</td><td>2024-09-30</td><td>null</td><td>&quot;Financials&quot;</td></tr></tbody></table></div>"
      ],
      "text/plain": [
       "shape: (5, 7)\n",
       "┌───────────────┬───────────┬───────────────┬────────────┬───────────────┬──────────┬──────────────┐\n",
       "│ ID            ┆ #avg_pe   ┆ REVISION_DATE ┆ AS_OF_DATE ┆ PERIOD_END_DA ┆ ORIG_IDS ┆ GICS_SECTOR_ │\n",
       "│ ---           ┆ ---       ┆ ---           ┆ ---        ┆ TE            ┆ ---      ┆ NAME()       │\n",
       "│ str           ┆ f64       ┆ date          ┆ date       ┆ ---           ┆ str      ┆ ---          │\n",
       "│               ┆           ┆               ┆            ┆ date          ┆          ┆ str          │\n",
       "╞═══════════════╪═══════════╪═══════════════╪════════════╪═══════════════╪══════════╪══════════════╡\n",
       "│ Communication ┆ 26.324383 ┆ 2024-11-14    ┆ 2024-12-17 ┆ 2024-09-30    ┆ null     ┆ Communicatio │\n",
       "│ Services      ┆           ┆               ┆            ┆               ┆          ┆ n Services   │\n",
       "│ Consumer      ┆ 26.605797 ┆ 2024-12-11    ┆ 2024-12-17 ┆ 2024-11-23    ┆ null     ┆ Consumer Dis │\n",
       "│ Discretionary ┆           ┆               ┆            ┆               ┆          ┆ cretionary   │\n",
       "│ Consumer      ┆ 19.362589 ┆ 2024-12-13    ┆ 2024-12-17 ┆ 2024-11-24    ┆ null     ┆ Consumer     │\n",
       "│ Staples       ┆           ┆               ┆            ┆               ┆          ┆ Staples      │\n",
       "│ Energy        ┆ 18.155505 ┆ 2024-11-12    ┆ 2024-12-17 ┆ 2024-09-30    ┆ null     ┆ Energy       │\n",
       "│ Financials    ┆ 37.120773 ┆ 2024-11-26    ┆ 2024-12-17 ┆ 2024-09-30    ┆ null     ┆ Financials   │\n",
       "└───────────────┴───────────┴───────────────┴────────────┴───────────────┴──────────┴──────────────┘"
      ]
     },
     "execution_count": 3,
     "metadata": {},
     "output_type": "execute_result"
    }
   ],
   "source": [
    "# Average PE ratio per sector\n",
    "query = \"\"\"\n",
    "let(#avg_pe=avg(group(pe_ratio(), gics_sector_name()));)\n",
    "get(#avg_pe)\n",
    "for(members('SPX Index'))\n",
    "\"\"\"\n",
    "with BQuery() as bq:\n",
    "    df_lst = bq.bql(query)\n",
    "df_lst[0].head()"
   ]
  },
  {
   "cell_type": "code",
   "execution_count": 4,
   "metadata": {},
   "outputs": [
    {
     "data": {
      "text/html": [
       "<div><style>\n",
       ".dataframe > thead > tr,\n",
       ".dataframe > tbody > tr {\n",
       "  text-align: right;\n",
       "  white-space: pre-wrap;\n",
       "}\n",
       "</style>\n",
       "<small>shape: (6, 5)</small><table border=\"1\" class=\"dataframe\"><thead><tr><th>ID</th><th>name()</th><th>#dur</th><th>DATE</th><th>#zsprd</th></tr><tr><td>str</td><td>str</td><td>f64</td><td>date</td><td>f64</td></tr></thead><tbody><tr><td>&quot;BW924993 Corp&quot;</td><td>&quot;SEB 6 ⅞ PERP&quot;</td><td>2.224876</td><td>2024-12-17</td><td>219.962108</td></tr><tr><td>&quot;YU819930 Corp&quot;</td><td>&quot;SEB 6 ¾ PERP&quot;</td><td>5.366166</td><td>2024-12-17</td><td>309.154337</td></tr><tr><td>&quot;ZO703315 Corp&quot;</td><td>&quot;SHBASS 4 ⅜ PERP&quot;</td><td>1.950612</td><td>2024-12-17</td><td>214.664365</td></tr><tr><td>&quot;ZO703956 Corp&quot;</td><td>&quot;SHBASS 4 ¾ PERP&quot;</td><td>4.939148</td><td>2024-12-17</td><td>256.163102</td></tr><tr><td>&quot;ZQ349286 Corp&quot;</td><td>&quot;SEB 5 ⅛ PERP&quot;</td><td>0.389946</td><td>2024-12-17</td><td>200.569138</td></tr><tr><td>&quot;YV402592 Corp&quot;</td><td>&quot;SEB Float PERP&quot;</td><td>0.206908</td><td>2024-12-17</td><td>235.23</td></tr></tbody></table></div>"
      ],
      "text/plain": [
       "shape: (6, 5)\n",
       "┌───────────────┬─────────────────┬──────────┬────────────┬────────────┐\n",
       "│ ID            ┆ name()          ┆ #dur     ┆ DATE       ┆ #zsprd     │\n",
       "│ ---           ┆ ---             ┆ ---      ┆ ---        ┆ ---        │\n",
       "│ str           ┆ str             ┆ f64      ┆ date       ┆ f64        │\n",
       "╞═══════════════╪═════════════════╪══════════╪════════════╪════════════╡\n",
       "│ BW924993 Corp ┆ SEB 6 ⅞ PERP    ┆ 2.224876 ┆ 2024-12-17 ┆ 219.962108 │\n",
       "│ YU819930 Corp ┆ SEB 6 ¾ PERP    ┆ 5.366166 ┆ 2024-12-17 ┆ 309.154337 │\n",
       "│ ZO703315 Corp ┆ SHBASS 4 ⅜ PERP ┆ 1.950612 ┆ 2024-12-17 ┆ 214.664365 │\n",
       "│ ZO703956 Corp ┆ SHBASS 4 ¾ PERP ┆ 4.939148 ┆ 2024-12-17 ┆ 256.163102 │\n",
       "│ ZQ349286 Corp ┆ SEB 5 ⅛ PERP    ┆ 0.389946 ┆ 2024-12-17 ┆ 200.569138 │\n",
       "│ YV402592 Corp ┆ SEB Float PERP  ┆ 0.206908 ┆ 2024-12-17 ┆ 235.23     │\n",
       "└───────────────┴─────────────────┴──────────┴────────────┴────────────┘"
      ]
     },
     "execution_count": 4,
     "metadata": {},
     "output_type": "execute_result"
    }
   ],
   "source": [
    "# Duration and ZSpread for search results\n",
    "query = \"\"\"\n",
    "let(#dur=duration(duration_type=MODIFIED);\n",
    "    #zsprd=spread(spread_type=Z);)\n",
    "get(name(), #dur, #zsprd)\n",
    "for(filter(screenresults(type=SRCH, screen_name='@COCO'),\n",
    "           ticker in ['SEB', 'SHBASS']))\n",
    "\"\"\"\n",
    "\n",
    "with BQuery() as bq:\n",
    "    df_lst = bq.bql(query)\n",
    "df_lst.combine()"
   ]
  },
  {
   "cell_type": "code",
   "execution_count": 8,
   "metadata": {},
   "outputs": [
    {
     "data": {
      "text/html": [
       "<div><style>\n",
       ".dataframe > thead > tr,\n",
       ".dataframe > tbody > tr {\n",
       "  text-align: right;\n",
       "  white-space: pre-wrap;\n",
       "}\n",
       "</style>\n",
       "<small>shape: (5, 5)</small><table border=\"1\" class=\"dataframe\"><thead><tr><th>ID</th><th>#average_spread</th><th>DATE</th><th>ORIG_IDS</th><th>#BINS</th></tr><tr><td>str</td><td>f64</td><td>date</td><td>str</td><td>str</td></tr></thead><tbody><tr><td>&quot;(1) 0-3&quot;</td><td>29.476654</td><td>2024-12-17</td><td>&quot;QZ552396 Corp&quot;</td><td>&quot;(1) 0-3&quot;</td></tr><tr><td>&quot;(2) 3-9&quot;</td><td>58.500884</td><td>2024-12-17</td><td>null</td><td>&quot;(2) 3-9&quot;</td></tr><tr><td>&quot;(3) 9-18&quot;</td><td>107.83985</td><td>2024-12-17</td><td>&quot;BH393780 Corp&quot;</td><td>&quot;(3) 9-18&quot;</td></tr><tr><td>&quot;(4) 18-30&quot;</td><td>133.525275</td><td>2024-12-17</td><td>&quot;BH393781 Corp&quot;</td><td>&quot;(4) 18-30&quot;</td></tr><tr><td>&quot;(5) 30+&quot;</td><td>149.245693</td><td>2024-12-17</td><td>&quot;BH393782 Corp&quot;</td><td>&quot;(5) 30+&quot;</td></tr></tbody></table></div>"
      ],
      "text/plain": [
       "shape: (5, 5)\n",
       "┌───────────┬─────────────────┬────────────┬───────────────┬───────────┐\n",
       "│ ID        ┆ #average_spread ┆ DATE       ┆ ORIG_IDS      ┆ #BINS     │\n",
       "│ ---       ┆ ---             ┆ ---        ┆ ---           ┆ ---       │\n",
       "│ str       ┆ f64             ┆ date       ┆ str           ┆ str       │\n",
       "╞═══════════╪═════════════════╪════════════╪═══════════════╪═══════════╡\n",
       "│ (1) 0-3   ┆ 29.476654       ┆ 2024-12-17 ┆ QZ552396 Corp ┆ (1) 0-3   │\n",
       "│ (2) 3-9   ┆ 58.500884       ┆ 2024-12-17 ┆ null          ┆ (2) 3-9   │\n",
       "│ (3) 9-18  ┆ 107.83985       ┆ 2024-12-17 ┆ BH393780 Corp ┆ (3) 9-18  │\n",
       "│ (4) 18-30 ┆ 133.525275      ┆ 2024-12-17 ┆ BH393781 Corp ┆ (4) 18-30 │\n",
       "│ (5) 30+   ┆ 149.245693      ┆ 2024-12-17 ┆ BH393782 Corp ┆ (5) 30+   │\n",
       "└───────────┴─────────────────┴────────────┴───────────────┴───────────┘"
      ]
     },
     "execution_count": 8,
     "metadata": {},
     "output_type": "execute_result"
    }
   ],
   "source": [
    "# Average OAS spread for Nvidia bonds per maturity bucket\n",
    "query = \"\"\"\n",
    "let(\n",
    "    #bins = bins(maturity_years,\n",
    "                 [3,9,18,30],\n",
    "                 ['(1) 0-3','(2) 3-9','(3) 9-18','(4) 18-30','(5) 30+']);\n",
    "    #average_spread = avg(group(spread(st=oas),#bins));\n",
    ")\n",
    "get(#average_spread)\n",
    "for(filter(bonds('NVDA US Equity', issuedby = 'ENTITY'),\n",
    "           maturity_years != NA))\n",
    "\"\"\"\n",
    "\n",
    "with BQuery() as bq:\n",
    "    df_lst = bq.bql(query)\n",
    "df_lst[0]"
   ]
  },
  {
   "cell_type": "code",
   "execution_count": 9,
   "metadata": {},
   "outputs": [
    {
     "data": {
      "text/html": [
       "<div><style>\n",
       ".dataframe > thead > tr,\n",
       ".dataframe > tbody > tr {\n",
       "  text-align: right;\n",
       "  white-space: pre-wrap;\n",
       "}\n",
       "</style>\n",
       "<small>shape: (4, 7)</small><table border=\"1\" class=\"dataframe\"><thead><tr><th>ID</th><th>name()</th><th>#ema20</th><th>DATE</th><th>CURRENCY</th><th>#ema200</th><th>#rsi</th></tr><tr><td>str</td><td>str</td><td>f64</td><td>date</td><td>str</td><td>f64</td><td>f64</td></tr></thead><tbody><tr><td>&quot;ERICB SS Equity&quot;</td><td>&quot;Telefonaktiebolaget LM Ericsso&quot;</td><td>90.152605</td><td>2024-12-17</td><td>&quot;SEK&quot;</td><td>75.073609</td><td>56.010064</td></tr><tr><td>&quot;ABB SS Equity&quot;</td><td>&quot;ABB Ltd&quot;</td><td>630.622467</td><td>2024-12-17</td><td>&quot;SEK&quot;</td><td>566.585769</td><td>53.763079</td></tr><tr><td>&quot;SEBA SS Equity&quot;</td><td>&quot;Skandinaviska Enskilda Banken&quot;</td><td>153.80595</td><td>2024-12-17</td><td>&quot;SEK&quot;</td><td>150.750809</td><td>56.460733</td></tr><tr><td>&quot;ASSAB SS Equity&quot;</td><td>&quot;Assa Abloy AB&quot;</td><td>339.017593</td><td>2024-12-17</td><td>&quot;SEK&quot;</td><td>317.074403</td><td>53.351646</td></tr></tbody></table></div>"
      ],
      "text/plain": [
       "shape: (4, 7)\n",
       "┌─────────────────┬──────────────────┬────────────┬────────────┬──────────┬────────────┬───────────┐\n",
       "│ ID              ┆ name()           ┆ #ema20     ┆ DATE       ┆ CURRENCY ┆ #ema200    ┆ #rsi      │\n",
       "│ ---             ┆ ---              ┆ ---        ┆ ---        ┆ ---      ┆ ---        ┆ ---       │\n",
       "│ str             ┆ str              ┆ f64        ┆ date       ┆ str      ┆ f64        ┆ f64       │\n",
       "╞═════════════════╪══════════════════╪════════════╪════════════╪══════════╪════════════╪═══════════╡\n",
       "│ ERICB SS Equity ┆ Telefonaktiebola ┆ 90.152605  ┆ 2024-12-17 ┆ SEK      ┆ 75.073609  ┆ 56.010064 │\n",
       "│                 ┆ get LM Ericsso   ┆            ┆            ┆          ┆            ┆           │\n",
       "│ ABB SS Equity   ┆ ABB Ltd          ┆ 630.622467 ┆ 2024-12-17 ┆ SEK      ┆ 566.585769 ┆ 53.763079 │\n",
       "│ SEBA SS Equity  ┆ Skandinaviska    ┆ 153.80595  ┆ 2024-12-17 ┆ SEK      ┆ 150.750809 ┆ 56.460733 │\n",
       "│                 ┆ Enskilda Banken  ┆            ┆            ┆          ┆            ┆           │\n",
       "│ ASSAB SS Equity ┆ Assa Abloy AB    ┆ 339.017593 ┆ 2024-12-17 ┆ SEK      ┆ 317.074403 ┆ 53.351646 │\n",
       "└─────────────────┴──────────────────┴────────────┴────────────┴──────────┴────────────┴───────────┘"
      ]
     },
     "execution_count": 9,
     "metadata": {},
     "output_type": "execute_result"
    }
   ],
   "source": [
    "# stocks with 20d EMA above 200d EMA and RSI > 53\n",
    "with BQuery() as bq:\n",
    "    df_lst = bq.bql(\n",
    "        \"\"\"\n",
    "        let(#ema20=emavg(period=20);\n",
    "            #ema200=emavg(period=200);\n",
    "            #rsi=rsi(close=px_last());)\n",
    "        get(name(), #ema20, #ema200, #rsi)\n",
    "        for(filter(members('OMX Index'),\n",
    "                    and(#ema20 > #ema200, #rsi > 53)))\n",
    "        with(fill=PREV)\n",
    "        \"\"\"\n",
    "    )\n",
    "df_lst.combine()"
   ]
  },
  {
   "cell_type": "code",
   "execution_count": 13,
   "metadata": {},
   "outputs": [
    {
     "data": {
      "text/html": [
       "<div><style>\n",
       ".dataframe > thead > tr,\n",
       ".dataframe > tbody > tr {\n",
       "  text-align: right;\n",
       "  white-space: pre-wrap;\n",
       "}\n",
       "</style>\n",
       "<small>shape: (5, 7)</small><table border=\"1\" class=\"dataframe\"><thead><tr><th>ID</th><th>name</th><th>#ax</th><th>ASK_DEPTH</th><th>BID_DEPTH</th><th>ASK_TOTAL_SIZE</th><th>BID_TOTAL_SIZE</th></tr><tr><td>str</td><td>str</td><td>str</td><td>i64</td><td>i64</td><td>f64</td><td>f64</td></tr></thead><tbody><tr><td>&quot;ZO703315 Corp&quot;</td><td>&quot;SHBASS 4 ⅜ PERP&quot;</td><td>&quot;Y&quot;</td><td>null</td><td>1</td><td>null</td><td>5e6</td></tr><tr><td>&quot;ZL122341 Corp&quot;</td><td>&quot;SWEDA 7 ⅝ PERP&quot;</td><td>&quot;Y&quot;</td><td>null</td><td>1</td><td>null</td><td>1.4e6</td></tr><tr><td>&quot;ZQ349286 Corp&quot;</td><td>&quot;SEB 5 ⅛ PERP&quot;</td><td>&quot;Y&quot;</td><td>1</td><td>3</td><td>5e6</td><td>2.02e7</td></tr><tr><td>&quot;ZO703956 Corp&quot;</td><td>&quot;SHBASS 4 ¾ PERP&quot;</td><td>&quot;Y&quot;</td><td>2</td><td>2</td><td>3.2e6</td><td>6e6</td></tr><tr><td>&quot;BW924993 Corp&quot;</td><td>&quot;SEB 6 ⅞ PERP&quot;</td><td>&quot;Y&quot;</td><td>1</td><td>1</td><td>5e6</td><td>5e6</td></tr></tbody></table></div>"
      ],
      "text/plain": [
       "shape: (5, 7)\n",
       "┌───────────────┬─────────────────┬─────┬───────────┬───────────┬────────────────┬────────────────┐\n",
       "│ ID            ┆ name            ┆ #ax ┆ ASK_DEPTH ┆ BID_DEPTH ┆ ASK_TOTAL_SIZE ┆ BID_TOTAL_SIZE │\n",
       "│ ---           ┆ ---             ┆ --- ┆ ---       ┆ ---       ┆ ---            ┆ ---            │\n",
       "│ str           ┆ str             ┆ str ┆ i64       ┆ i64       ┆ f64            ┆ f64            │\n",
       "╞═══════════════╪═════════════════╪═════╪═══════════╪═══════════╪════════════════╪════════════════╡\n",
       "│ ZO703315 Corp ┆ SHBASS 4 ⅜ PERP ┆ Y   ┆ null      ┆ 1         ┆ null           ┆ 5e6            │\n",
       "│ ZL122341 Corp ┆ SWEDA 7 ⅝ PERP  ┆ Y   ┆ null      ┆ 1         ┆ null           ┆ 1.4e6          │\n",
       "│ ZQ349286 Corp ┆ SEB 5 ⅛ PERP    ┆ Y   ┆ 1         ┆ 3         ┆ 5e6            ┆ 2.02e7         │\n",
       "│ ZO703956 Corp ┆ SHBASS 4 ¾ PERP ┆ Y   ┆ 2         ┆ 2         ┆ 3.2e6          ┆ 6e6            │\n",
       "│ BW924993 Corp ┆ SEB 6 ⅞ PERP    ┆ Y   ┆ 1         ┆ 1         ┆ 5e6            ┆ 5e6            │\n",
       "└───────────────┴─────────────────┴─────┴───────────┴───────────┴────────────────┴────────────────┘"
      ]
     },
     "execution_count": 13,
     "metadata": {},
     "output_type": "execute_result"
    }
   ],
   "source": [
    "# Axes for Swedish AT1 bonds with bids\n",
    "query = \"\"\"\n",
    "let(#ax=axes();)\n",
    "get(name, #ax)\n",
    "for(filter(bondsuniv(ACTIVE),\n",
    "    crncy()=='USD' and\n",
    "    basel_iii_designation() == 'Additional Tier 1' and\n",
    "    country_iso() == 'SE' and\n",
    "    is_axed('Bid') == True))\n",
    "with(aggregateby=SECURITY)\n",
    "\"\"\"\n",
    "\n",
    "with BQuery() as bq:\n",
    "    df_lst = bq.bql(query)\n",
    "df_lst.combine()"
   ]
  },
  {
   "cell_type": "code",
   "execution_count": 25,
   "metadata": {},
   "outputs": [
    {
     "name": "stdout",
     "output_type": "stream",
     "text": [
      "shape: (5, 6)\n",
      "┌───────────────┬───────────────────┬──────────────────┬────────────┬────────────┬────────────┐\n",
      "│ ID            ┆ name()            ┆ #rank            ┆ #nxt_call  ┆ #oas       ┆ DATE       │\n",
      "│ ---           ┆ ---               ┆ ---              ┆ ---        ┆ ---        ┆ ---        │\n",
      "│ str           ┆ str               ┆ str              ┆ date       ┆ f64        ┆ date       │\n",
      "╞═══════════════╪═══════════════════╪══════════════════╪════════════╪════════════╪════════════╡\n",
      "│ YX231113 Corp ┆ GTN 10 ½ 07/15/29 ┆ 1st Lien Secured ┆ 2026-07-15 ┆ 598.66491  ┆ 2024-12-17 │\n",
      "│ BS116983 Corp ┆ GTN 5 ⅜ 11/15/31  ┆ Sr Unsecured     ┆ 2026-11-15 ┆ 1193.17529 ┆ 2024-12-17 │\n",
      "│ AV438089 Corp ┆ GTN 7 05/15/27    ┆ Sr Unsecured     ┆ 2024-12-24 ┆ 400.340456 ┆ 2024-12-17 │\n",
      "│ ZO860846 Corp ┆ GTN 4 ¾ 10/15/30  ┆ Sr Unsecured     ┆ 2025-10-15 ┆ 1249.34346 ┆ 2024-12-17 │\n",
      "│ LW375188 Corp ┆ GTN 5 ⅞ 07/15/26  ┆ Sr Unsecured     ┆ 2025-01-13 ┆ 173.761744 ┆ 2024-12-17 │\n",
      "└───────────────┴───────────────────┴──────────────────┴────────────┴────────────┴────────────┘\n"
     ]
    }
   ],
   "source": [
    "# Get Bond Universe from Equity Ticker\n",
    "query = \"\"\"\n",
    "let(#rank=normalized_payment_rank();\n",
    "    #oas=spread(st=oas);\n",
    "    #nxt_call=nxt_call_dt();\n",
    "    )\n",
    "get(name(), #rank, #nxt_call, #oas)\n",
    "for(filter(bonds('GTN US Equity'), series() == '144A'))\n",
    "\"\"\"\n",
    "\n",
    "with BQuery() as bq:\n",
    "    results = bq.bql(query)\n",
    "    df = results.combine()\n",
    "    print(df)"
   ]
  },
  {
   "cell_type": "code",
   "execution_count": 27,
   "metadata": {},
   "outputs": [
    {
     "name": "stdout",
     "output_type": "stream",
     "text": [
      "shape: (6, 6)\n",
      "┌────────────┬───────────────┬───────────────┬───────────────┬───────────────┬───────────────┐\n",
      "│ DATE       ┆ YX231113 Corp ┆ BS116983 Corp ┆ AV438089 Corp ┆ ZO860846 Corp ┆ LW375188 Corp │\n",
      "│ ---        ┆ ---           ┆ ---           ┆ ---           ┆ ---           ┆ ---           │\n",
      "│ date       ┆ f64           ┆ f64           ┆ f64           ┆ f64           ┆ f64           │\n",
      "╞════════════╪═══════════════╪═══════════════╪═══════════════╪═══════════════╪═══════════════╡\n",
      "│ 2024-11-17 ┆ null          ┆ null          ┆ null          ┆ null          ┆ null          │\n",
      "│ 2024-11-24 ┆ 0.001653      ┆ 0.051179      ┆ 0.020363      ┆ 0.001371      ┆ -0.002939     │\n",
      "│ 2024-12-01 ┆ 0.002837      ┆ 0.010405      ┆ -0.001466     ┆ 0.007275      ┆ 0.000581      │\n",
      "│ 2024-12-08 ┆ -0.000041     ┆ 0.016145      ┆ 0.000766      ┆ 0.024984      ┆ 0.000936      │\n",
      "│ 2024-12-15 ┆ 0.001495      ┆ -0.047        ┆ -0.000233     ┆ -0.043509     ┆ 0.002241      │\n",
      "│ 2024-12-17 ┆ 0.00008       ┆ -0.000004     ┆ -0.0035       ┆ -0.007937     ┆ 0.000064      │\n",
      "└────────────┴───────────────┴───────────────┴───────────────┴───────────────┴───────────────┘\n"
     ]
    }
   ],
   "source": [
    "# Total Return of GTN Bonds\n",
    "query = \"\"\"\n",
    "let(#rng = range(-1M, 0D);\n",
    "    #rets = return_series(calc_interval=#rng,per=W);)\n",
    "get(#rets)\n",
    "for(filter(bonds('GTN US Equity'), series() == '144A'))\n",
    "\"\"\"\n",
    "\n",
    "with BQuery() as bq:\n",
    "    results = bq.bql(query)\n",
    "    df = results[0].pivot(on=\"ID\", index=\"DATE\", values=\"#rets\")\n",
    "    print(df)"
   ]
  },
  {
   "cell_type": "code",
   "execution_count": null,
   "metadata": {},
   "outputs": [
    {
     "data": {
      "text/html": [
       "<div><style>\n",
       ".dataframe > thead > tr,\n",
       ".dataframe > tbody > tr {\n",
       "  text-align: right;\n",
       "  white-space: pre-wrap;\n",
       "}\n",
       "</style>\n",
       "<small>shape: (3, 33)</small><table border=\"1\" class=\"dataframe\"><thead><tr><th>ID</th><th>name</th><th>#ax</th><th>ASK_PRICE</th><th>BID_PRICE</th><th>ASK_DEPTH</th><th>BID_DEPTH</th><th>ASK_DEALER</th><th>BID_DEALER</th><th>ASK_SIZE</th><th>BID_SIZE</th><th>ASK_TOTAL_SIZE</th><th>BID_TOTAL_SIZE</th><th>ASK_PRICE_IS_DERIVED</th><th>BID_PRICE_IS_DERIVED</th><th>ASK_SPREAD</th><th>BID_SPREAD</th><th>ASK_SPREAD_IS_DERIVED</th><th>BID_SPREAD_IS_DERIVED</th><th>ASK_YIELD</th><th>BID_YIELD</th><th>ASK_YIELD_IS_DERIVED</th><th>BID_YIELD_IS_DERIVED</th><th>ASK_AXE_SOURCE</th><th>BID_AXE_SOURCE</th><th>ASK_BROKER</th><th>BID_BROKER</th><th>ASK_HIST_AGG_SIZE</th><th>BID_HIST_AGG_SIZE</th><th>amt_outstanding</th><th>CURRENCY_OF_ISSUE</th><th>MULTIPLIER</th><th>CURRENCY</th></tr><tr><td>str</td><td>str</td><td>str</td><td>f64</td><td>f64</td><td>i64</td><td>i64</td><td>str</td><td>str</td><td>f64</td><td>f64</td><td>f64</td><td>f64</td><td>bool</td><td>bool</td><td>f64</td><td>f64</td><td>bool</td><td>bool</td><td>f64</td><td>f64</td><td>bool</td><td>bool</td><td>str</td><td>str</td><td>str</td><td>str</td><td>f64</td><td>f64</td><td>f64</td><td>str</td><td>f64</td><td>str</td></tr></thead><tbody><tr><td>&quot;BM368057 Corp&quot;</td><td>&quot;ALVGR 2 ⅝ PERP&quot;</td><td>&quot;Y&quot;</td><td>88.034</td><td>87.427</td><td>5</td><td>1</td><td>&quot;BARC&quot;</td><td>&quot;IMI&quot;</td><td>1.2e6</td><td>1e6</td><td>7.2e6</td><td>1e6</td><td>null</td><td>null</td><td>287.031</td><td>300.046</td><td>true</td><td>true</td><td>4.854</td><td>4.976</td><td>true</td><td>true</td><td>&quot;ERUN&quot;</td><td>&quot;ERUN&quot;</td><td>&quot;BXOL&quot;</td><td>&quot;IMIC&quot;</td><td>6.68e6</td><td>8.92e6</td><td>1.2500e9</td><td>&quot;EUR&quot;</td><td>1.0</td><td>&quot;EUR&quot;</td></tr><tr><td>&quot;EK588238 Corp&quot;</td><td>&quot;ASSGEN 4.596 PERP&quot;</td><td>&quot;Y&quot;</td><td>101.0</td><td>100.13</td><td>4</td><td>6</td><td>&quot;MSAX&quot;</td><td>&quot;A2A&quot;</td><td>500000.0</td><td>100000.0</td><td>1.556e7</td><td>3.83e7</td><td>null</td><td>null</td><td>108.9</td><td>207.889</td><td>true</td><td>true</td><td>3.466</td><td>4.434</td><td>null</td><td>true</td><td>&quot;ERUN&quot;</td><td>&quot;BBX&quot;</td><td>&quot;MSAX&quot;</td><td>&quot;A2A&quot;</td><td>1.70424e7</td><td>3.17e7</td><td>1.0004e9</td><td>&quot;EUR&quot;</td><td>1.0</td><td>&quot;EUR&quot;</td></tr><tr><td>&quot;BR244025 Corp&quot;</td><td>&quot;ALVGR 3.2 PERP&quot;</td><td>&quot;Y&quot;</td><td>88.0</td><td>86.875</td><td>3</td><td>4</td><td>&quot;UBS&quot;</td><td>&quot;DB&quot;</td><td>5e6</td><td>1e6</td><td>1.1e7</td><td>1.4e7</td><td>null</td><td>null</td><td>49.33</td><td>414.602</td><td>true</td><td>true</td><td>7.34258</td><td>8.553</td><td>null</td><td>true</td><td>&quot;ERUN&quot;</td><td>&quot;ERUN&quot;</td><td>&quot;UBSW&quot;</td><td>&quot;DABC&quot;</td><td>1.6876e6</td><td>3.6e7</td><td>1.2500e9</td><td>&quot;USD&quot;</td><td>1.0</td><td>&quot;USD&quot;</td></tr></tbody></table></div>"
      ],
      "text/plain": [
       "shape: (3, 33)\n",
       "┌─────────────┬────────────┬─────┬───────────┬───┬────────────┬────────────┬────────────┬──────────┐\n",
       "│ ID          ┆ name       ┆ #ax ┆ ASK_PRICE ┆ … ┆ amt_outsta ┆ CURRENCY_O ┆ MULTIPLIER ┆ CURRENCY │\n",
       "│ ---         ┆ ---        ┆ --- ┆ ---       ┆   ┆ nding      ┆ F_ISSUE    ┆ ---        ┆ ---      │\n",
       "│ str         ┆ str        ┆ str ┆ f64       ┆   ┆ ---        ┆ ---        ┆ f64        ┆ str      │\n",
       "│             ┆            ┆     ┆           ┆   ┆ f64        ┆ str        ┆            ┆          │\n",
       "╞═════════════╪════════════╪═════╪═══════════╪═══╪════════════╪════════════╪════════════╪══════════╡\n",
       "│ BM368057    ┆ ALVGR 2 ⅝  ┆ Y   ┆ 88.034    ┆ … ┆ 1.2500e9   ┆ EUR        ┆ 1.0        ┆ EUR      │\n",
       "│ Corp        ┆ PERP       ┆     ┆           ┆   ┆            ┆            ┆            ┆          │\n",
       "│ EK588238    ┆ ASSGEN     ┆ Y   ┆ 101.0     ┆ … ┆ 1.0004e9   ┆ EUR        ┆ 1.0        ┆ EUR      │\n",
       "│ Corp        ┆ 4.596 PERP ┆     ┆           ┆   ┆            ┆            ┆            ┆          │\n",
       "│ BR244025    ┆ ALVGR 3.2  ┆ Y   ┆ 88.0      ┆ … ┆ 1.2500e9   ┆ USD        ┆ 1.0        ┆ USD      │\n",
       "│ Corp        ┆ PERP       ┆     ┆           ┆   ┆            ┆            ┆            ┆          │\n",
       "└─────────────┴────────────┴─────┴───────────┴───┴────────────┴────────────┴────────────┴──────────┘"
      ]
     },
     "execution_count": 22,
     "metadata": {},
     "output_type": "execute_result"
    }
   ],
   "source": [
    "# RT1 Axes with all columns\n",
    "query = \"\"\"\n",
    "let(#ax=axes();)\n",
    "get(name, #ax, amt_outstanding)\n",
    "for(filter(bondsuniv(ACTIVE),\n",
    "    crncy() in ['USD', 'EUR'] and\n",
    "    solvency_ii_designation() == 'Restricted Tier 1' and\n",
    "    amt_outstanding() > 7.5e8 and\n",
    "    is_axed('Bid') == True))\n",
    "preferences(addcols=all)\n",
    "\"\"\"\n",
    "\n",
    "with BQuery() as bq:\n",
    "    results = bq.bql(query)\n",
    "results.combine()"
   ]
  },
  {
   "cell_type": "code",
   "execution_count": 23,
   "metadata": {},
   "outputs": [
    {
     "name": "stdout",
     "output_type": "stream",
     "text": [
      "shape: (5, 5)\n",
      "┌─────────────────┬──────────────┬──────────────────────┬────────┬────────────┐\n",
      "│ PERIOD_END_DATE ┆ Broadcasting ┆ Production Companies ┆ Other  ┆ Adjustment │\n",
      "│ ---             ┆ ---          ┆ ---                  ┆ ---    ┆ ---        │\n",
      "│ date            ┆ f64          ┆ f64                  ┆ f64    ┆ f64        │\n",
      "╞═════════════════╪══════════════╪══════════════════════╪════════╪════════════╡\n",
      "│ 2023-09-30      ┆ 7.83e8       ┆ 2e7                  ┆ 1.6e7  ┆ null       │\n",
      "│ 2023-12-31      ┆ 8.13e8       ┆ 3.2e7                ┆ 1.9e7  ┆ null       │\n",
      "│ 2024-03-31      ┆ 7.8e8        ┆ 2.4e7                ┆ 1.9e7  ┆ null       │\n",
      "│ 2024-06-30      ┆ 8.08e8       ┆ 1.8e7                ┆ 0.0    ┆ null       │\n",
      "│ 2024-09-30      ┆ 9.24e8       ┆ 2.6e7                ┆ 1.7e7  ┆ null       │\n",
      "└─────────────────┴──────────────┴──────────────────────┴────────┴────────────┘\n"
     ]
    }
   ],
   "source": [
    "# revenue per segment\n",
    "query = \"\"\"\n",
    "    let(#segment=segment_name();\n",
    "        #revenue=sales_Rev_turn(fpt=q, fpr=range(2023Q3, 2024Q3));\n",
    "        )\n",
    "    get(#segment, #revenue)\n",
    "    for(segments('GTN US Equity',type=reported,hierarchy=PRODUCT, level=1))\n",
    "\"\"\"\n",
    "with BQuery() as bq:\n",
    "    results = bq.bql(query)\n",
    "    df = results.combine().pivot(\n",
    "        index=\"PERIOD_END_DATE\", on=\"#segment\", values=\"#revenue\"\n",
    "    )\n",
    "    print(df)"
   ]
  },
  {
   "cell_type": "code",
   "execution_count": 38,
   "metadata": {},
   "outputs": [
    {
     "name": "stdout",
     "output_type": "stream",
     "text": [
      "shape: (5, 11)\n",
      "┌──────────┬───────────┬───────────┬───────────┬───┬───────────┬───────────┬───────────┬───────────┐\n",
      "│ maturity ┆ Basic     ┆ Consumer, ┆ Energy    ┆ … ┆ Financial ┆ Technolog ┆ Utilities ┆ Diversifi │\n",
      "│ ---      ┆ Materials ┆ Non-cycli ┆ ---       ┆   ┆ ---       ┆ y         ┆ ---       ┆ ed        │\n",
      "│ i64      ┆ ---       ┆ cal       ┆ f64       ┆   ┆ f64       ┆ ---       ┆ f64       ┆ ---       │\n",
      "│          ┆ f64       ┆ ---       ┆           ┆   ┆           ┆ f64       ┆           ┆ f64       │\n",
      "│          ┆           ┆ f64       ┆           ┆   ┆           ┆           ┆           ┆           │\n",
      "╞══════════╪═══════════╪═══════════╪═══════════╪═══╪═══════════╪═══════════╪═══════════╪═══════════╡\n",
      "│ 2025     ┆ 1.5e8     ┆ 5.34916e8 ┆ 5e8       ┆ … ┆ null      ┆ null      ┆ null      ┆ null      │\n",
      "│ 2026     ┆ 4.4013e9  ┆ 9.3293e9  ┆ 8.2931e9  ┆ … ┆ 1.3524e10 ┆ 4.0608e9  ┆ 2.5202e9  ┆ null      │\n",
      "│ 2027     ┆ 8.3921e9  ┆ 2.3409e10 ┆ 1.2427e10 ┆ … ┆ 1.9430e10 ┆ 4.3367e9  ┆ 3.6620e9  ┆ null      │\n",
      "│ 2028     ┆ 1.4701e10 ┆ 3.7457e10 ┆ 2.2442e10 ┆ … ┆ 2.3341e10 ┆ 9.9143e9  ┆ 7.6388e9  ┆ 5e8       │\n",
      "│ 2029     ┆ 1.6512e10 ┆ 5.7381e10 ┆ 3.9286e10 ┆ … ┆ 4.2337e10 ┆ 2.2660e10 ┆ 5.8558e9  ┆ null      │\n",
      "└──────────┴───────────┴───────────┴───────────┴───┴───────────┴───────────┴───────────┴───────────┘\n"
     ]
    },
    {
     "data": {
      "image/svg+xml": [
       "<svg xmlns=\"http://www.w3.org/2000/svg\" xmlns:xlink=\"http://www.w3.org/1999/xlink\" version=\"1.1\" class=\"marks\" width=\"397\" height=\"377\" viewBox=\"0 0 397 377\"><rect width=\"397\" height=\"377\" fill=\"white\"/><g fill=\"none\" stroke-miterlimit=\"10\" transform=\"translate(52,27)\"><g class=\"mark-group role-frame root\" role=\"graphics-object\" aria-roledescription=\"group mark container\"><g transform=\"translate(0,0)\"><path class=\"background\" aria-hidden=\"true\" d=\"M0.5,0.5h200v300h-200Z\" stroke=\"#ddd\"/><g><g class=\"mark-group role-axis\" aria-hidden=\"true\"><g transform=\"translate(0.5,0.5)\"><path class=\"background\" aria-hidden=\"true\" d=\"M0,0h0v0h0Z\" pointer-events=\"none\"/><g><g class=\"mark-rule role-axis-grid\" pointer-events=\"none\"><line transform=\"translate(0,300)\" x2=\"200\" y2=\"0\" stroke=\"#ddd\" stroke-width=\"1\" opacity=\"1\"/><line transform=\"translate(0,257)\" x2=\"200\" y2=\"0\" stroke=\"#ddd\" stroke-width=\"1\" opacity=\"1\"/><line transform=\"translate(0,214)\" x2=\"200\" y2=\"0\" stroke=\"#ddd\" stroke-width=\"1\" opacity=\"1\"/><line transform=\"translate(0,171)\" x2=\"200\" y2=\"0\" stroke=\"#ddd\" stroke-width=\"1\" opacity=\"1\"/><line transform=\"translate(0,129)\" x2=\"200\" y2=\"0\" stroke=\"#ddd\" stroke-width=\"1\" opacity=\"1\"/><line transform=\"translate(0,86)\" x2=\"200\" y2=\"0\" stroke=\"#ddd\" stroke-width=\"1\" opacity=\"1\"/><line transform=\"translate(0,43)\" x2=\"200\" y2=\"0\" stroke=\"#ddd\" stroke-width=\"1\" opacity=\"1\"/><line transform=\"translate(0,0)\" x2=\"200\" y2=\"0\" stroke=\"#ddd\" stroke-width=\"1\" opacity=\"1\"/></g></g><path class=\"foreground\" aria-hidden=\"true\" d=\"\" pointer-events=\"none\" display=\"none\"/></g></g><g class=\"mark-group role-axis\" role=\"graphics-symbol\" aria-roledescription=\"axis\" aria-label=\"X-axis titled 'maturity' for a discrete scale with 10 values: 2025, 2026, 2027, 2028, 2029, ending with 2034\"><g transform=\"translate(0.5,300.5)\"><path class=\"background\" aria-hidden=\"true\" d=\"M0,0h0v0h0Z\" pointer-events=\"none\"/><g><g class=\"mark-rule role-axis-tick\" pointer-events=\"none\"><line transform=\"translate(10,0)\" x2=\"0\" y2=\"5\" stroke=\"#888\" stroke-width=\"1\" opacity=\"1\"/><line transform=\"translate(30,0)\" x2=\"0\" y2=\"5\" stroke=\"#888\" stroke-width=\"1\" opacity=\"1\"/><line transform=\"translate(50,0)\" x2=\"0\" y2=\"5\" stroke=\"#888\" stroke-width=\"1\" opacity=\"1\"/><line transform=\"translate(70,0)\" x2=\"0\" y2=\"5\" stroke=\"#888\" stroke-width=\"1\" opacity=\"1\"/><line transform=\"translate(90,0)\" x2=\"0\" y2=\"5\" stroke=\"#888\" stroke-width=\"1\" opacity=\"1\"/><line transform=\"translate(110,0)\" x2=\"0\" y2=\"5\" stroke=\"#888\" stroke-width=\"1\" opacity=\"1\"/><line transform=\"translate(130,0)\" x2=\"0\" y2=\"5\" stroke=\"#888\" stroke-width=\"1\" opacity=\"1\"/><line transform=\"translate(150,0)\" x2=\"0\" y2=\"5\" stroke=\"#888\" stroke-width=\"1\" opacity=\"1\"/><line transform=\"translate(170,0)\" x2=\"0\" y2=\"5\" stroke=\"#888\" stroke-width=\"1\" opacity=\"1\"/><line transform=\"translate(190,0)\" x2=\"0\" y2=\"5\" stroke=\"#888\" stroke-width=\"1\" opacity=\"1\"/></g><g class=\"mark-text role-axis-label\" pointer-events=\"none\"><text text-anchor=\"end\" transform=\"translate(9.5,7) rotate(270) translate(0,3)\" font-family=\"sans-serif\" font-size=\"10px\" fill=\"#000\" opacity=\"1\">2025</text><text text-anchor=\"end\" transform=\"translate(29.5,7) rotate(270) translate(0,3)\" font-family=\"sans-serif\" font-size=\"10px\" fill=\"#000\" opacity=\"1\">2026</text><text text-anchor=\"end\" transform=\"translate(49.5,7) rotate(270) translate(0,3)\" font-family=\"sans-serif\" font-size=\"10px\" fill=\"#000\" opacity=\"1\">2027</text><text text-anchor=\"end\" transform=\"translate(69.5,7) rotate(270) translate(0,3)\" font-family=\"sans-serif\" font-size=\"10px\" fill=\"#000\" opacity=\"1\">2028</text><text text-anchor=\"end\" transform=\"translate(89.5,7) rotate(270) translate(0,3)\" font-family=\"sans-serif\" font-size=\"10px\" fill=\"#000\" opacity=\"1\">2029</text><text text-anchor=\"end\" transform=\"translate(109.5,7) rotate(270) translate(0,3)\" font-family=\"sans-serif\" font-size=\"10px\" fill=\"#000\" opacity=\"1\">2030</text><text text-anchor=\"end\" transform=\"translate(129.5,7) rotate(270) translate(0,3)\" font-family=\"sans-serif\" font-size=\"10px\" fill=\"#000\" opacity=\"1\">2031</text><text text-anchor=\"end\" transform=\"translate(149.5,7) rotate(270) translate(0,3)\" font-family=\"sans-serif\" font-size=\"10px\" fill=\"#000\" opacity=\"1\">2032</text><text text-anchor=\"end\" transform=\"translate(169.5,7) rotate(270) translate(0,3)\" font-family=\"sans-serif\" font-size=\"10px\" fill=\"#000\" opacity=\"1\">2033</text><text text-anchor=\"end\" transform=\"translate(189.5,7) rotate(270) translate(0,3)\" font-family=\"sans-serif\" font-size=\"10px\" fill=\"#000\" opacity=\"1\">2034</text></g><g class=\"mark-rule role-axis-domain\" pointer-events=\"none\"><line transform=\"translate(0,0)\" x2=\"200\" y2=\"0\" stroke=\"#888\" stroke-width=\"1\" opacity=\"1\"/></g><g class=\"mark-text role-axis-title\" pointer-events=\"none\"><text text-anchor=\"middle\" transform=\"translate(100,42.24609375)\" font-family=\"sans-serif\" font-size=\"11px\" font-weight=\"bold\" fill=\"#000\" opacity=\"1\">maturity</text></g></g><path class=\"foreground\" aria-hidden=\"true\" d=\"\" pointer-events=\"none\" display=\"none\"/></g></g><g class=\"mark-group role-axis\" role=\"graphics-symbol\" aria-roledescription=\"axis\" aria-label=\"Y-axis titled 'Amount Outstanding [USD]' for a linear scale with values from 0G to 350G\"><g transform=\"translate(0.5,0.5)\"><path class=\"background\" aria-hidden=\"true\" d=\"M0,0h0v0h0Z\" pointer-events=\"none\"/><g><g class=\"mark-rule role-axis-tick\" pointer-events=\"none\"><line transform=\"translate(0,300)\" x2=\"-5\" y2=\"0\" stroke=\"#888\" stroke-width=\"1\" opacity=\"1\"/><line transform=\"translate(0,257)\" x2=\"-5\" y2=\"0\" stroke=\"#888\" stroke-width=\"1\" opacity=\"1\"/><line transform=\"translate(0,214)\" x2=\"-5\" y2=\"0\" stroke=\"#888\" stroke-width=\"1\" opacity=\"1\"/><line transform=\"translate(0,171)\" x2=\"-5\" y2=\"0\" stroke=\"#888\" stroke-width=\"1\" opacity=\"1\"/><line transform=\"translate(0,129)\" x2=\"-5\" y2=\"0\" stroke=\"#888\" stroke-width=\"1\" opacity=\"1\"/><line transform=\"translate(0,86)\" x2=\"-5\" y2=\"0\" stroke=\"#888\" stroke-width=\"1\" opacity=\"1\"/><line transform=\"translate(0,43)\" x2=\"-5\" y2=\"0\" stroke=\"#888\" stroke-width=\"1\" opacity=\"1\"/><line transform=\"translate(0,0)\" x2=\"-5\" y2=\"0\" stroke=\"#888\" stroke-width=\"1\" opacity=\"1\"/></g><g class=\"mark-text role-axis-label\" pointer-events=\"none\"><text text-anchor=\"end\" transform=\"translate(-7,303)\" font-family=\"sans-serif\" font-size=\"10px\" fill=\"#000\" opacity=\"1\">0G</text><text text-anchor=\"end\" transform=\"translate(-7,260.14285714285717)\" font-family=\"sans-serif\" font-size=\"10px\" fill=\"#000\" opacity=\"1\">50G</text><text text-anchor=\"end\" transform=\"translate(-7,217.28571428571428)\" font-family=\"sans-serif\" font-size=\"10px\" fill=\"#000\" opacity=\"1\">100G</text><text text-anchor=\"end\" transform=\"translate(-7,174.42857142857142)\" font-family=\"sans-serif\" font-size=\"10px\" fill=\"#000\" opacity=\"1\">150G</text><text text-anchor=\"end\" transform=\"translate(-7,131.57142857142858)\" font-family=\"sans-serif\" font-size=\"10px\" fill=\"#000\" opacity=\"1\">200G</text><text text-anchor=\"end\" transform=\"translate(-7,88.71428571428571)\" font-family=\"sans-serif\" font-size=\"10px\" fill=\"#000\" opacity=\"1\">250G</text><text text-anchor=\"end\" transform=\"translate(-7,45.85714285714287)\" font-family=\"sans-serif\" font-size=\"10px\" fill=\"#000\" opacity=\"1\">300G</text><text text-anchor=\"end\" transform=\"translate(-7,3)\" font-family=\"sans-serif\" font-size=\"10px\" fill=\"#000\" opacity=\"1\">350G</text></g><g class=\"mark-rule role-axis-domain\" pointer-events=\"none\"><line transform=\"translate(0,300)\" x2=\"0\" y2=\"-300\" stroke=\"#888\" stroke-width=\"1\" opacity=\"1\"/></g><g class=\"mark-text role-axis-title\" pointer-events=\"none\"><text text-anchor=\"middle\" transform=\"translate(-35.462890625,150) rotate(-90) translate(0,-2)\" font-family=\"sans-serif\" font-size=\"11px\" font-weight=\"bold\" fill=\"#000\" opacity=\"1\">Amount Outstanding [USD]</text></g></g><path class=\"foreground\" aria-hidden=\"true\" d=\"\" pointer-events=\"none\" display=\"none\"/></g></g><g class=\"mark-rect role-mark marks\" role=\"graphics-object\" aria-roledescription=\"rect mark container\"><path aria-label=\"maturity: 2025; Amount Outstanding [USD]: 150M; sector: Basic Materials\" role=\"graphics-symbol\" aria-roledescription=\"bar\" d=\"M1,298.79810228571426h18v0.12857142857143344h-18Z\" fill=\"#4c78a8\"/><path aria-label=\"maturity: 2025; Amount Outstanding [USD]: 534.916M; sector: Consumer, Non-cyclical\" role=\"graphics-symbol\" aria-roledescription=\"bar\" d=\"M1,298.9266737142857h18v0.4584994285714288h-18Z\" fill=\"#72b7b2\"/><path aria-label=\"maturity: 2025; Amount Outstanding [USD]: 500M; sector: Energy\" role=\"graphics-symbol\" aria-roledescription=\"bar\" d=\"M1,299.3851731428571h18v0.4285714285714448h-18Z\" fill=\"#eeca3b\"/><path aria-label=\"maturity: 2025; Amount Outstanding [USD]: 217.298M; sector: Industrial\" role=\"graphics-symbol\" aria-roledescription=\"bar\" d=\"M1,299.8137445714286h18v0.18625542857142818h-18Z\" fill=\"#ff9da6\"/><path aria-label=\"maturity: 2026; Amount Outstanding [USD]: 4.40132G; sector: Basic Materials\" role=\"graphics-symbol\" aria-roledescription=\"bar\" d=\"M21,218.44446307086h18v3.772557428571446h-18Z\" fill=\"#4c78a8\"/><path aria-label=\"maturity: 2026; Amount Outstanding [USD]: 14.3474G; sector: Communications\" role=\"graphics-symbol\" aria-roledescription=\"bar\" d=\"M21,222.21702049943144h18v12.297793662857117h-18Z\" fill=\"#f58518\"/><path aria-label=\"maturity: 2026; Amount Outstanding [USD]: 28.6349G; sector: Consumer, Cyclical\" role=\"graphics-symbol\" aria-roledescription=\"bar\" d=\"M21,234.51481416228856h18v24.544173744857147h-18Z\" fill=\"#e45756\"/><path aria-label=\"maturity: 2026; Amount Outstanding [USD]: 9.3293G; sector: Consumer, Non-cyclical\" role=\"graphics-symbol\" aria-roledescription=\"bar\" d=\"M21,259.0589879071457h18v7.996538571428573h-18Z\" fill=\"#72b7b2\"/><path aria-label=\"maturity: 2026; Amount Outstanding [USD]: 8.29315G; sector: Energy\" role=\"graphics-symbol\" aria-roledescription=\"bar\" d=\"M21,267.0555264785743h18v7.108412988282851h-18Z\" fill=\"#eeca3b\"/><path aria-label=\"maturity: 2026; Amount Outstanding [USD]: 13.5242G; sector: Financial\" role=\"graphics-symbol\" aria-roledescription=\"bar\" d=\"M21,274.16393946685713h18v11.592201383142879h-18Z\" fill=\"#b279a2\"/><path aria-label=\"maturity: 2026; Amount Outstanding [USD]: 10.0368G; sector: Industrial\" role=\"graphics-symbol\" aria-roledescription=\"bar\" d=\"M21,285.75614085h18v8.60299943571431h-18Z\" fill=\"#ff9da6\"/><path aria-label=\"maturity: 2026; Amount Outstanding [USD]: 4.06081G; sector: Technology\" role=\"graphics-symbol\" aria-roledescription=\"bar\" d=\"M21,294.3591402857143h18v3.4806942857142644h-18Z\" fill=\"#9d755d\"/><path aria-label=\"maturity: 2026; Amount Outstanding [USD]: 2.52019G; sector: Utilities\" role=\"graphics-symbol\" aria-roledescription=\"bar\" d=\"M21,297.8398345714286h18v2.1601654285714176h-18Z\" fill=\"#bab0ac\"/><path aria-label=\"maturity: 2027; Amount Outstanding [USD]: 8.39211G; sector: Basic Materials\" role=\"graphics-symbol\" aria-roledescription=\"bar\" d=\"M41,155.2055853385714h18v7.193238857142887h-18Z\" fill=\"#4c78a8\"/><path aria-label=\"maturity: 2027; Amount Outstanding [USD]: 38.3334G; sector: Communications\" role=\"graphics-symbol\" aria-roledescription=\"bar\" d=\"M41,162.3988241957143h18v32.857234283142844h-18Z\" fill=\"#f58518\"/><path aria-label=\"maturity: 2027; Amount Outstanding [USD]: 35.2468G; sector: Consumer, Cyclical\" role=\"graphics-symbol\" aria-roledescription=\"bar\" d=\"M41,195.25605847885714h18v30.21155675657141h-18Z\" fill=\"#e45756\"/><path aria-label=\"maturity: 2027; Amount Outstanding [USD]: 23.4088G; sector: Consumer, Non-cyclical\" role=\"graphics-symbol\" aria-roledescription=\"bar\" d=\"M41,225.46761523542855h18v20.06470285714289h-18Z\" fill=\"#72b7b2\"/><path aria-label=\"maturity: 2027; Amount Outstanding [USD]: 12.4267G; sector: Energy\" role=\"graphics-symbol\" aria-roledescription=\"bar\" d=\"M41,245.53231809257144h18v10.651451142857155h-18Z\" fill=\"#eeca3b\"/><path aria-label=\"maturity: 2027; Amount Outstanding [USD]: 19.4296G; sector: Financial\" role=\"graphics-symbol\" aria-roledescription=\"bar\" d=\"M41,256.1837692354286h18v16.653963428571387h-18Z\" fill=\"#b279a2\"/><path aria-label=\"maturity: 2027; Amount Outstanding [USD]: 23.6907G; sector: Industrial\" role=\"graphics-symbol\" aria-roledescription=\"bar\" d=\"M41,272.837732664h18v20.306305621714273h-18Z\" fill=\"#ff9da6\"/><path aria-label=\"maturity: 2027; Amount Outstanding [USD]: 4.33667G; sector: Technology\" role=\"graphics-symbol\" aria-roledescription=\"bar\" d=\"M41,293.14403828571426h18v3.7171431428571395h-18Z\" fill=\"#9d755d\"/><path aria-label=\"maturity: 2027; Amount Outstanding [USD]: 3.66196G; sector: Utilities\" role=\"graphics-symbol\" aria-roledescription=\"bar\" d=\"M41,296.8611814285714h18v3.138818571428601h-18Z\" fill=\"#bab0ac\"/><path aria-label=\"maturity: 2028; Amount Outstanding [USD]: 14.7008G; sector: Basic Materials\" role=\"graphics-symbol\" aria-roledescription=\"bar\" d=\"M61,99.95920809716571h18v12.600657428571424h-18Z\" fill=\"#4c78a8\"/><path aria-label=\"maturity: 2028; Amount Outstanding [USD]: 40.0079G; sector: Communications\" role=\"graphics-symbol\" aria-roledescription=\"bar\" d=\"M61,112.55986552573714h18v34.29251883428569h-18Z\" fill=\"#f58518\"/><path aria-label=\"maturity: 2028; Amount Outstanding [USD]: 46.5321G; sector: Consumer, Cyclical\" role=\"graphics-symbol\" aria-roledescription=\"bar\" d=\"M61,146.85238436002282h18v39.88465917054859h-18Z\" fill=\"#e45756\"/><path aria-label=\"maturity: 2028; Amount Outstanding [USD]: 37.4568G; sector: Consumer, Non-cyclical\" role=\"graphics-symbol\" aria-roledescription=\"bar\" d=\"M61,186.7370435305714h18v32.105833062000016h-18Z\" fill=\"#72b7b2\"/><path aria-label=\"maturity: 2028; Amount Outstanding [USD]: 500M; sector: Diversified\" role=\"graphics-symbol\" aria-roledescription=\"bar\" d=\"M61,218.84287659257143h18v0.4285714285714164h-18Z\" fill=\"#54a24b\"/><path aria-label=\"maturity: 2028; Amount Outstanding [USD]: 22.4425G; sector: Energy\" role=\"graphics-symbol\" aria-roledescription=\"bar\" d=\"M61,219.27144802114285h18v19.236401142857176h-18Z\" fill=\"#eeca3b\"/><path aria-label=\"maturity: 2028; Amount Outstanding [USD]: 23.3412G; sector: Financial\" role=\"graphics-symbol\" aria-roledescription=\"bar\" d=\"M61,238.50784916400002h18v20.006761972285716h-18Z\" fill=\"#b279a2\"/><path aria-label=\"maturity: 2028; Amount Outstanding [USD]: 30.8465G; sector: Industrial\" role=\"graphics-symbol\" aria-roledescription=\"bar\" d=\"M61,258.51461113628574h18v26.43983057142856h-18Z\" fill=\"#ff9da6\"/><path aria-label=\"maturity: 2028; Amount Outstanding [USD]: 9.91431G; sector: Technology\" role=\"graphics-symbol\" aria-roledescription=\"bar\" d=\"M61,284.9544417077143h18v8.497982863714299h-18Z\" fill=\"#9d755d\"/><path aria-label=\"maturity: 2028; Amount Outstanding [USD]: 7.63884G; sector: Utilities\" role=\"graphics-symbol\" aria-roledescription=\"bar\" d=\"M61,293.4524245714286h18v6.547575428571406h-18Z\" fill=\"#bab0ac\"/><path aria-label=\"maturity: 2029; Amount Outstanding [USD]: 16.5125G; sector: Basic Materials\" role=\"graphics-symbol\" aria-roledescription=\"bar\" d=\"M81,4.658391210857149h18v14.153544000000009h-18Z\" fill=\"#4c78a8\"/><path aria-label=\"maturity: 2029; Amount Outstanding [USD]: 54.7014G; sector: Communications\" role=\"graphics-symbol\" aria-roledescription=\"bar\" d=\"M81,18.811935210857158h18v46.88694621771428h-18Z\" fill=\"#f58518\"/><path aria-label=\"maturity: 2029; Amount Outstanding [USD]: 73.7231G; sector: Consumer, Cyclical\" role=\"graphics-symbol\" aria-roledescription=\"bar\" d=\"M81,65.69888142857144h18v63.191217428571434h-18Z\" fill=\"#e45756\"/><path aria-label=\"maturity: 2029; Amount Outstanding [USD]: 57.3809G; sector: Consumer, Non-cyclical\" role=\"graphics-symbol\" aria-roledescription=\"bar\" d=\"M81,128.89009885714287h18v49.18360114285716h-18Z\" fill=\"#72b7b2\"/><path aria-label=\"maturity: 2029; Amount Outstanding [USD]: 39.2856G; sector: Energy\" role=\"graphics-symbol\" aria-roledescription=\"bar\" d=\"M81,178.07370000000003h18v33.673385142857114h-18Z\" fill=\"#eeca3b\"/><path aria-label=\"maturity: 2029; Amount Outstanding [USD]: 42.3365G; sector: Financial\" role=\"graphics-symbol\" aria-roledescription=\"bar\" d=\"M81,211.74708514285715h18v36.28843628571428h-18Z\" fill=\"#b279a2\"/><path aria-label=\"maturity: 2029; Amount Outstanding [USD]: 32.1096G; sector: Industrial\" role=\"graphics-symbol\" aria-roledescription=\"bar\" d=\"M81,248.03552142857143h18v27.522534000000007h-18Z\" fill=\"#ff9da6\"/><path aria-label=\"maturity: 2029; Amount Outstanding [USD]: 22.6598G; sector: Technology\" role=\"graphics-symbol\" aria-roledescription=\"bar\" d=\"M81,275.55805542857144h18v19.42270542857142h-18Z\" fill=\"#9d755d\"/><path aria-label=\"maturity: 2029; Amount Outstanding [USD]: 5.85578G; sector: Utilities\" role=\"graphics-symbol\" aria-roledescription=\"bar\" d=\"M81,294.98076085714285h18v5.0192391428571455h-18Z\" fill=\"#bab0ac\"/><path aria-label=\"maturity: 2030; Amount Outstanding [USD]: 8.59632G; sector: Basic Materials\" role=\"graphics-symbol\" aria-roledescription=\"bar\" d=\"M101,144.91878620639145h18v7.368275142857129h-18Z\" fill=\"#4c78a8\"/><path aria-label=\"maturity: 2030; Amount Outstanding [USD]: 35.087G; sector: Communications\" role=\"graphics-symbol\" aria-roledescription=\"bar\" d=\"M101,152.28706134924857h18v30.074608813714292h-18Z\" fill=\"#f58518\"/><path aria-label=\"maturity: 2030; Amount Outstanding [USD]: 29.5993G; sector: Consumer, Cyclical\" role=\"graphics-symbol\" aria-roledescription=\"bar\" d=\"M101,182.36167016296287h18v25.370852801999973h-18Z\" fill=\"#e45756\"/><path aria-label=\"maturity: 2030; Amount Outstanding [USD]: 30.9015G; sector: Consumer, Non-cyclical\" role=\"graphics-symbol\" aria-roledescription=\"bar\" d=\"M101,207.73252296496284h18v26.487035497894283h-18Z\" fill=\"#72b7b2\"/><path aria-label=\"maturity: 2030; Amount Outstanding [USD]: 22.7158G; sector: Energy\" role=\"graphics-symbol\" aria-roledescription=\"bar\" d=\"M101,234.21955846285712h18v19.470717428571447h-18Z\" fill=\"#eeca3b\"/><path aria-label=\"maturity: 2030; Amount Outstanding [USD]: 21.523G; sector: Financial\" role=\"graphics-symbol\" aria-roledescription=\"bar\" d=\"M101,253.69027589142857h18v18.448295537142855h-18Z\" fill=\"#b279a2\"/><path aria-label=\"maturity: 2030; Amount Outstanding [USD]: 22.24G; sector: Industrial\" role=\"graphics-symbol\" aria-roledescription=\"bar\" d=\"M101,272.1385714285714h18v19.062857142857126h-18Z\" fill=\"#ff9da6\"/><path aria-label=\"maturity: 2030; Amount Outstanding [USD]: 8.065G; sector: Technology\" role=\"graphics-symbol\" aria-roledescription=\"bar\" d=\"M101,291.20142857142855h18v6.912857142857149h-18Z\" fill=\"#9d755d\"/><path aria-label=\"maturity: 2030; Amount Outstanding [USD]: 2.2G; sector: Utilities\" role=\"graphics-symbol\" aria-roledescription=\"bar\" d=\"M101,298.1142857142857h18v1.8857142857143003h-18Z\" fill=\"#bab0ac\"/><path aria-label=\"maturity: 2031; Amount Outstanding [USD]: 10.0802G; sector: Basic Materials\" role=\"graphics-symbol\" aria-roledescription=\"bar\" d=\"M121,162.99451987971426h18v8.640132857142873h-18Z\" fill=\"#4c78a8\"/><path aria-label=\"maturity: 2031; Amount Outstanding [USD]: 22.8383G; sector: Communications\" role=\"graphics-symbol\" aria-roledescription=\"bar\" d=\"M121,171.63465273685713h18v19.575723428571422h-18Z\" fill=\"#f58518\"/><path aria-label=\"maturity: 2031; Amount Outstanding [USD]: 29.8264G; sector: Consumer, Cyclical\" role=\"graphics-symbol\" aria-roledescription=\"bar\" d=\"M121,191.21037616542856h18v25.56547072885715h-18Z\" fill=\"#e45756\"/><path aria-label=\"maturity: 2031; Amount Outstanding [USD]: 27.1523G; sector: Consumer, Non-cyclical\" role=\"graphics-symbol\" aria-roledescription=\"bar\" d=\"M121,216.7758468942857h18v23.27335824857144h-18Z\" fill=\"#72b7b2\"/><path aria-label=\"maturity: 2031; Amount Outstanding [USD]: 1.1G; sector: Diversified\" role=\"graphics-symbol\" aria-roledescription=\"bar\" d=\"M121,240.04920514285715h18v0.9428571428571502h-18Z\" fill=\"#54a24b\"/><path aria-label=\"maturity: 2031; Amount Outstanding [USD]: 15.3873G; sector: Energy\" role=\"graphics-symbol\" aria-roledescription=\"bar\" d=\"M121,240.9920622857143h18v13.18911085714285h-18Z\" fill=\"#eeca3b\"/><path aria-label=\"maturity: 2031; Amount Outstanding [USD]: 27.5625G; sector: Financial\" role=\"graphics-symbol\" aria-roledescription=\"bar\" d=\"M121,254.18117314285715h18v23.624963142857126h-18Z\" fill=\"#b279a2\"/><path aria-label=\"maturity: 2031; Amount Outstanding [USD]: 14.875G; sector: Industrial\" role=\"graphics-symbol\" aria-roledescription=\"bar\" d=\"M121,277.8061362857143h18v12.75h-18Z\" fill=\"#ff9da6\"/><path aria-label=\"maturity: 2031; Amount Outstanding [USD]: 5.17534G; sector: Technology\" role=\"graphics-symbol\" aria-roledescription=\"bar\" d=\"M121,290.5561362857143h18v4.43600657142855h-18Z\" fill=\"#9d755d\"/><path aria-label=\"maturity: 2031; Amount Outstanding [USD]: 5.8425G; sector: Utilities\" role=\"graphics-symbol\" aria-roledescription=\"bar\" d=\"M121,294.9921428571428h18v5.007857142857176h-18Z\" fill=\"#bab0ac\"/><path aria-label=\"maturity: 2032; Amount Outstanding [USD]: 3.475G; sector: Basic Materials\" role=\"graphics-symbol\" aria-roledescription=\"bar\" d=\"M141,202.4267704885714h18v2.978571428571456h-18Z\" fill=\"#4c78a8\"/><path aria-label=\"maturity: 2032; Amount Outstanding [USD]: 9.15742G; sector: Communications\" role=\"graphics-symbol\" aria-roledescription=\"bar\" d=\"M141,205.40534191714286h18v7.849216139999982h-18Z\" fill=\"#f58518\"/><path aria-label=\"maturity: 2032; Amount Outstanding [USD]: 21.575G; sector: Consumer, Cyclical\" role=\"graphics-symbol\" aria-roledescription=\"bar\" d=\"M141,213.25455805714284h18v18.49285714285716h-18Z\" fill=\"#e45756\"/><path aria-label=\"maturity: 2032; Amount Outstanding [USD]: 21.293G; sector: Consumer, Non-cyclical\" role=\"graphics-symbol\" aria-roledescription=\"bar\" d=\"M141,231.7474152h18v18.251156571428567h-18Z\" fill=\"#72b7b2\"/><path aria-label=\"maturity: 2032; Amount Outstanding [USD]: 17.035G; sector: Energy\" role=\"graphics-symbol\" aria-roledescription=\"bar\" d=\"M141,249.99857177142857h18v14.601428571428556h-18Z\" fill=\"#eeca3b\"/><path aria-label=\"maturity: 2032; Amount Outstanding [USD]: 13.62G; sector: Financial\" role=\"graphics-symbol\" aria-roledescription=\"bar\" d=\"M141,264.60000034285713h18v11.674285714285702h-18Z\" fill=\"#b279a2\"/><path aria-label=\"maturity: 2032; Amount Outstanding [USD]: 17.305G; sector: Industrial\" role=\"graphics-symbol\" aria-roledescription=\"bar\" d=\"M141,276.27428605714283h18v14.832857142857165h-18Z\" fill=\"#ff9da6\"/><path aria-label=\"maturity: 2032; Amount Outstanding [USD]: 5.3G; sector: Technology\" role=\"graphics-symbol\" aria-roledescription=\"bar\" d=\"M141,291.1071432h18v4.542856800000038h-18Z\" fill=\"#9d755d\"/><path aria-label=\"maturity: 2032; Amount Outstanding [USD]: 5.075G; sector: Utilities\" role=\"graphics-symbol\" aria-roledescription=\"bar\" d=\"M141,295.65000000000003h18v4.349999999999966h-18Z\" fill=\"#bab0ac\"/><path aria-label=\"maturity: 2033; Amount Outstanding [USD]: 2.1G; sector: Basic Materials\" role=\"graphics-symbol\" aria-roledescription=\"bar\" d=\"M161,279.0229705714286h18v1.7999999999999545h-18Z\" fill=\"#4c78a8\"/><path aria-label=\"maturity: 2033; Amount Outstanding [USD]: 3.2932G; sector: Communications\" role=\"graphics-symbol\" aria-roledescription=\"bar\" d=\"M161,280.8229705714285h18v2.8227445714285864h-18Z\" fill=\"#f58518\"/><path aria-label=\"maturity: 2033; Amount Outstanding [USD]: 4.81101G; sector: Consumer, Cyclical\" role=\"graphics-symbol\" aria-roledescription=\"bar\" d=\"M161,283.6457151428571h18v4.123722857142923h-18Z\" fill=\"#e45756\"/><path aria-label=\"maturity: 2033; Amount Outstanding [USD]: 2.95G; sector: Consumer, Non-cyclical\" role=\"graphics-symbol\" aria-roledescription=\"bar\" d=\"M161,287.76943800000004h18v2.528571428571354h-18Z\" fill=\"#72b7b2\"/><path aria-label=\"maturity: 2033; Amount Outstanding [USD]: 5.25G; sector: Energy\" role=\"graphics-symbol\" aria-roledescription=\"bar\" d=\"M161,290.2980094285714h18v4.5h-18Z\" fill=\"#eeca3b\"/><path aria-label=\"maturity: 2033; Amount Outstanding [USD]: 2.69399G; sector: Financial\" role=\"graphics-symbol\" aria-roledescription=\"bar\" d=\"M161,294.7980094285714h18v2.3091334285714424h-18Z\" fill=\"#b279a2\"/><path aria-label=\"maturity: 2033; Amount Outstanding [USD]: 2.45G; sector: Industrial\" role=\"graphics-symbol\" aria-roledescription=\"bar\" d=\"M161,297.10714285714283h18v2.1000000000000227h-18Z\" fill=\"#ff9da6\"/><path aria-label=\"maturity: 2033; Amount Outstanding [USD]: 925M; sector: Utilities\" role=\"graphics-symbol\" aria-roledescription=\"bar\" d=\"M161,299.20714285714286h18v0.7928571428571445h-18Z\" fill=\"#bab0ac\"/><path aria-label=\"maturity: 2034; Amount Outstanding [USD]: 3G; sector: Communications\" role=\"graphics-symbol\" aria-roledescription=\"bar\" d=\"M181,289.2495068571429h18v2.571428571428555h-18Z\" fill=\"#f58518\"/><path aria-label=\"maturity: 2034; Amount Outstanding [USD]: 1.25052G; sector: Consumer, Cyclical\" role=\"graphics-symbol\" aria-roledescription=\"bar\" d=\"M181,291.82093542857143h18v1.0718777142857334h-18Z\" fill=\"#e45756\"/><path aria-label=\"maturity: 2034; Amount Outstanding [USD]: 2.7G; sector: Consumer, Non-cyclical\" role=\"graphics-symbol\" aria-roledescription=\"bar\" d=\"M181,292.89281314285716h18v2.3142857142856883h-18Z\" fill=\"#72b7b2\"/><path aria-label=\"maturity: 2034; Amount Outstanding [USD]: 500M; sector: Energy\" role=\"graphics-symbol\" aria-roledescription=\"bar\" d=\"M181,295.20709885714285h18v0.4285714285714448h-18Z\" fill=\"#eeca3b\"/><path aria-label=\"maturity: 2034; Amount Outstanding [USD]: 1.84172G; sector: Financial\" role=\"graphics-symbol\" aria-roledescription=\"bar\" d=\"M181,295.6356702857143h18v1.5786154285714247h-18Z\" fill=\"#b279a2\"/><path aria-label=\"maturity: 2034; Amount Outstanding [USD]: 1.81G; sector: Industrial\" role=\"graphics-symbol\" aria-roledescription=\"bar\" d=\"M181,297.2142857142857h18v1.5514285714285734h-18Z\" fill=\"#ff9da6\"/><path aria-label=\"maturity: 2034; Amount Outstanding [USD]: 490M; sector: Technology\" role=\"graphics-symbol\" aria-roledescription=\"bar\" d=\"M181,298.7657142857143h18v0.4200000000000159h-18Z\" fill=\"#9d755d\"/><path aria-label=\"maturity: 2034; Amount Outstanding [USD]: 950M; sector: Utilities\" role=\"graphics-symbol\" aria-roledescription=\"bar\" d=\"M181,299.1857142857143h18v0.8142857142856883h-18Z\" fill=\"#bab0ac\"/></g><g class=\"mark-group role-legend\" role=\"graphics-symbol\" aria-roledescription=\"legend\" aria-label=\"Symbol legend titled 'sector' for fill color with 10 values: Basic Materials, Communications, Consumer, Cyclical, Consumer, Non-cyclical, Diversified, ending with Utilities\"><g transform=\"translate(218,0)\"><path class=\"background\" aria-hidden=\"true\" d=\"M0,0h122v144h-122Z\" pointer-events=\"none\"/><g><g class=\"mark-group role-legend-entry\"><g transform=\"translate(0,16)\"><path class=\"background\" aria-hidden=\"true\" d=\"M0,0h0v0h0Z\" pointer-events=\"none\"/><g><g class=\"mark-group role-scope\" role=\"graphics-object\" aria-roledescription=\"group mark container\"><g transform=\"translate(0,0)\"><path class=\"background\" aria-hidden=\"true\" d=\"M0,0h121.0341796875v11h-121.0341796875Z\" pointer-events=\"none\" opacity=\"1\"/><g><g class=\"mark-symbol role-legend-symbol\" pointer-events=\"none\"><path transform=\"translate(6,6)\" d=\"M-5,-5h10v10h-10Z\" fill=\"#4c78a8\" stroke-width=\"1.5\" opacity=\"1\"/></g><g class=\"mark-text role-legend-label\" pointer-events=\"none\"><text text-anchor=\"start\" transform=\"translate(16,9)\" font-family=\"sans-serif\" font-size=\"10px\" fill=\"#000\" opacity=\"1\">Basic Materials</text></g></g><path class=\"foreground\" aria-hidden=\"true\" d=\"\" pointer-events=\"none\" display=\"none\"/></g><g transform=\"translate(0,13)\"><path class=\"background\" aria-hidden=\"true\" d=\"M0,0h121.0341796875v11h-121.0341796875Z\" pointer-events=\"none\" opacity=\"1\"/><g><g class=\"mark-symbol role-legend-symbol\" pointer-events=\"none\"><path transform=\"translate(6,6)\" d=\"M-5,-5h10v10h-10Z\" fill=\"#f58518\" stroke-width=\"1.5\" opacity=\"1\"/></g><g class=\"mark-text role-legend-label\" pointer-events=\"none\"><text text-anchor=\"start\" transform=\"translate(16,9)\" font-family=\"sans-serif\" font-size=\"10px\" fill=\"#000\" opacity=\"1\">Communications</text></g></g><path class=\"foreground\" aria-hidden=\"true\" d=\"\" pointer-events=\"none\" display=\"none\"/></g><g transform=\"translate(0,26)\"><path class=\"background\" aria-hidden=\"true\" d=\"M0,0h121.0341796875v11h-121.0341796875Z\" pointer-events=\"none\" opacity=\"1\"/><g><g class=\"mark-symbol role-legend-symbol\" pointer-events=\"none\"><path transform=\"translate(6,6)\" d=\"M-5,-5h10v10h-10Z\" fill=\"#e45756\" stroke-width=\"1.5\" opacity=\"1\"/></g><g class=\"mark-text role-legend-label\" pointer-events=\"none\"><text text-anchor=\"start\" transform=\"translate(16,9)\" font-family=\"sans-serif\" font-size=\"10px\" fill=\"#000\" opacity=\"1\">Consumer, Cyclical</text></g></g><path class=\"foreground\" aria-hidden=\"true\" d=\"\" pointer-events=\"none\" display=\"none\"/></g><g transform=\"translate(0,39)\"><path class=\"background\" aria-hidden=\"true\" d=\"M0,0h121.0341796875v11h-121.0341796875Z\" pointer-events=\"none\" opacity=\"1\"/><g><g class=\"mark-symbol role-legend-symbol\" pointer-events=\"none\"><path transform=\"translate(6,6)\" d=\"M-5,-5h10v10h-10Z\" fill=\"#72b7b2\" stroke-width=\"1.5\" opacity=\"1\"/></g><g class=\"mark-text role-legend-label\" pointer-events=\"none\"><text text-anchor=\"start\" transform=\"translate(16,9)\" font-family=\"sans-serif\" font-size=\"10px\" fill=\"#000\" opacity=\"1\">Consumer, Non-cyclical</text></g></g><path class=\"foreground\" aria-hidden=\"true\" d=\"\" pointer-events=\"none\" display=\"none\"/></g><g transform=\"translate(0,52)\"><path class=\"background\" aria-hidden=\"true\" d=\"M0,0h121.0341796875v11h-121.0341796875Z\" pointer-events=\"none\" opacity=\"1\"/><g><g class=\"mark-symbol role-legend-symbol\" pointer-events=\"none\"><path transform=\"translate(6,6)\" d=\"M-5,-5h10v10h-10Z\" fill=\"#54a24b\" stroke-width=\"1.5\" opacity=\"1\"/></g><g class=\"mark-text role-legend-label\" pointer-events=\"none\"><text text-anchor=\"start\" transform=\"translate(16,9)\" font-family=\"sans-serif\" font-size=\"10px\" fill=\"#000\" opacity=\"1\">Diversified</text></g></g><path class=\"foreground\" aria-hidden=\"true\" d=\"\" pointer-events=\"none\" display=\"none\"/></g><g transform=\"translate(0,65)\"><path class=\"background\" aria-hidden=\"true\" d=\"M0,0h121.0341796875v11h-121.0341796875Z\" pointer-events=\"none\" opacity=\"1\"/><g><g class=\"mark-symbol role-legend-symbol\" pointer-events=\"none\"><path transform=\"translate(6,6)\" d=\"M-5,-5h10v10h-10Z\" fill=\"#eeca3b\" stroke-width=\"1.5\" opacity=\"1\"/></g><g class=\"mark-text role-legend-label\" pointer-events=\"none\"><text text-anchor=\"start\" transform=\"translate(16,9)\" font-family=\"sans-serif\" font-size=\"10px\" fill=\"#000\" opacity=\"1\">Energy</text></g></g><path class=\"foreground\" aria-hidden=\"true\" d=\"\" pointer-events=\"none\" display=\"none\"/></g><g transform=\"translate(0,78)\"><path class=\"background\" aria-hidden=\"true\" d=\"M0,0h121.0341796875v11h-121.0341796875Z\" pointer-events=\"none\" opacity=\"1\"/><g><g class=\"mark-symbol role-legend-symbol\" pointer-events=\"none\"><path transform=\"translate(6,6)\" d=\"M-5,-5h10v10h-10Z\" fill=\"#b279a2\" stroke-width=\"1.5\" opacity=\"1\"/></g><g class=\"mark-text role-legend-label\" pointer-events=\"none\"><text text-anchor=\"start\" transform=\"translate(16,9)\" font-family=\"sans-serif\" font-size=\"10px\" fill=\"#000\" opacity=\"1\">Financial</text></g></g><path class=\"foreground\" aria-hidden=\"true\" d=\"\" pointer-events=\"none\" display=\"none\"/></g><g transform=\"translate(0,91)\"><path class=\"background\" aria-hidden=\"true\" d=\"M0,0h121.0341796875v11h-121.0341796875Z\" pointer-events=\"none\" opacity=\"1\"/><g><g class=\"mark-symbol role-legend-symbol\" pointer-events=\"none\"><path transform=\"translate(6,6)\" d=\"M-5,-5h10v10h-10Z\" fill=\"#ff9da6\" stroke-width=\"1.5\" opacity=\"1\"/></g><g class=\"mark-text role-legend-label\" pointer-events=\"none\"><text text-anchor=\"start\" transform=\"translate(16,9)\" font-family=\"sans-serif\" font-size=\"10px\" fill=\"#000\" opacity=\"1\">Industrial</text></g></g><path class=\"foreground\" aria-hidden=\"true\" d=\"\" pointer-events=\"none\" display=\"none\"/></g><g transform=\"translate(0,104)\"><path class=\"background\" aria-hidden=\"true\" d=\"M0,0h121.0341796875v11h-121.0341796875Z\" pointer-events=\"none\" opacity=\"1\"/><g><g class=\"mark-symbol role-legend-symbol\" pointer-events=\"none\"><path transform=\"translate(6,6)\" d=\"M-5,-5h10v10h-10Z\" fill=\"#9d755d\" stroke-width=\"1.5\" opacity=\"1\"/></g><g class=\"mark-text role-legend-label\" pointer-events=\"none\"><text text-anchor=\"start\" transform=\"translate(16,9)\" font-family=\"sans-serif\" font-size=\"10px\" fill=\"#000\" opacity=\"1\">Technology</text></g></g><path class=\"foreground\" aria-hidden=\"true\" d=\"\" pointer-events=\"none\" display=\"none\"/></g><g transform=\"translate(0,117)\"><path class=\"background\" aria-hidden=\"true\" d=\"M0,0h121.0341796875v11h-121.0341796875Z\" pointer-events=\"none\" opacity=\"1\"/><g><g class=\"mark-symbol role-legend-symbol\" pointer-events=\"none\"><path transform=\"translate(6,6)\" d=\"M-5,-5h10v10h-10Z\" fill=\"#bab0ac\" stroke-width=\"1.5\" opacity=\"1\"/></g><g class=\"mark-text role-legend-label\" pointer-events=\"none\"><text text-anchor=\"start\" transform=\"translate(16,9)\" font-family=\"sans-serif\" font-size=\"10px\" fill=\"#000\" opacity=\"1\">Utilities</text></g></g><path class=\"foreground\" aria-hidden=\"true\" d=\"\" pointer-events=\"none\" display=\"none\"/></g></g></g><path class=\"foreground\" aria-hidden=\"true\" d=\"\" pointer-events=\"none\" display=\"none\"/></g></g><g class=\"mark-text role-legend-title\" pointer-events=\"none\"><text text-anchor=\"start\" transform=\"translate(0,9)\" font-family=\"sans-serif\" font-size=\"11px\" font-weight=\"bold\" fill=\"#000\" opacity=\"1\">sector</text></g></g><path class=\"foreground\" aria-hidden=\"true\" d=\"\" pointer-events=\"none\" display=\"none\"/></g></g><g class=\"mark-group role-title\"><g transform=\"translate(100,-22)\"><path class=\"background\" aria-hidden=\"true\" d=\"M0,0h0v0h0Z\" pointer-events=\"none\"/><g><g class=\"mark-text role-title-text\" role=\"graphics-symbol\" aria-roledescription=\"title\" aria-label=\"Title text 'US HY Maturity Wall'\" pointer-events=\"none\"><text text-anchor=\"middle\" transform=\"translate(0,10)\" font-family=\"sans-serif\" font-size=\"13px\" font-weight=\"bold\" fill=\"#000\" opacity=\"1\">US HY Maturity Wall</text></g></g><path class=\"foreground\" aria-hidden=\"true\" d=\"\" pointer-events=\"none\" display=\"none\"/></g></g></g><path class=\"foreground\" aria-hidden=\"true\" d=\"\" display=\"none\"/></g></g></g></svg>"
      ],
      "text/plain": [
       "alt.Chart(...)"
      ]
     },
     "execution_count": 38,
     "metadata": {},
     "output_type": "execute_result"
    }
   ],
   "source": [
    "# Maturity Wall for US HY bonds\n",
    "query = \"\"\"\n",
    "let(#mv=sum(group(amt_outstanding(currency=USD),\n",
    "                  by=[year(maturity()), industry_sector()]));)\n",
    "get(#mv)\n",
    "for(members('LF98TRUU Index'))\n",
    "\"\"\"\n",
    "with BQuery() as bq:\n",
    "    results = bq.bql(query)\n",
    "df = results.combine().rename(\n",
    "    {\"YEAR(MATURITY())\": \"maturity\", \"INDUSTRY_SECTOR()\": \"sector\", \"#mv\": \"mv\"}\n",
    ")\n",
    "\n",
    "print(df.pivot(index=\"maturity\", on=\"sector\", values=\"mv\").head())\n",
    "\n",
    "alt.Chart(df.drop_nulls(subset=[\"maturity\"]), title=\"US HY Maturity Wall\").mark_bar().encode(\n",
    "    x=alt.X(\"maturity:O\"),\n",
    "    y=alt.Y(\"mv:Q\").axis(format=\"~s\").title(\"Amount Outstanding [USD]\"),\n",
    "    color=alt.Color(\"sector:N\"),\n",
    ").transform_filter(alt.datum.maturity < 2035)  # noqa: PLR2004"
   ]
  },
  {
   "cell_type": "code",
   "execution_count": 31,
   "metadata": {},
   "outputs": [
    {
     "name": "stdout",
     "output_type": "stream",
     "text": [
      "shape: (5, 11)\n",
      "┌──────────┬───────────┬───────────┬───────────┬───┬───────────┬───────────┬───────────┬───────────┐\n",
      "│ maturity ┆ Consumer, ┆ Consumer, ┆ Financial ┆ … ┆ Energy    ┆ Technolog ┆ Utilities ┆ Diversifi │\n",
      "│ ---      ┆ Cyclical  ┆ Non-cycli ┆ ---       ┆   ┆ ---       ┆ y         ┆ ---       ┆ ed        │\n",
      "│ i64      ┆ ---       ┆ cal       ┆ f64       ┆   ┆ f64       ┆ ---       ┆ f64       ┆ ---       │\n",
      "│          ┆ f64       ┆ ---       ┆           ┆   ┆           ┆ f64       ┆           ┆ f64       │\n",
      "│          ┆           ┆ f64       ┆           ┆   ┆           ┆           ┆           ┆           │\n",
      "╞══════════╪═══════════╪═══════════╪═══════════╪═══╪═══════════╪═══════════╪═══════════╪═══════════╡\n",
      "│ 2025     ┆ 2e8       ┆ 1.2989e8  ┆ 3e8       ┆ … ┆ null      ┆ null      ┆ null      ┆ null      │\n",
      "│ 2026     ┆ 1.6235e10 ┆ 1.0756e10 ┆ 7.8707e9  ┆ … ┆ 6.21491e8 ┆ 2.7272925 ┆ 1.6850e9  ┆ null      │\n",
      "│          ┆           ┆           ┆           ┆   ┆           ┆ e8        ┆           ┆           │\n",
      "│ 2027     ┆ 1.3460e10 ┆ 1.0245e10 ┆ 8.1880e9  ┆ … ┆ 1.0156e9  ┆ 3.38e8    ┆ 1.2457e9  ┆ null      │\n",
      "│ 2028     ┆ 1.7655e10 ┆ 1.6420e10 ┆ 6.9913e9  ┆ … ┆ 5e8       ┆ 1.2400e9  ┆ 2.9832e9  ┆ 8.5e8     │\n",
      "│ 2029     ┆ 1.6805e10 ┆ 1.4954e10 ┆ 6.8198e9  ┆ … ┆ 4.65e8    ┆ 2.0500e9  ┆ 2.0500e9  ┆ 3e8       │\n",
      "└──────────┴───────────┴───────────┴───────────┴───┴───────────┴───────────┴───────────┴───────────┘\n"
     ]
    },
    {
     "data": {
      "image/svg+xml": [
       "<svg xmlns=\"http://www.w3.org/2000/svg\" xmlns:xlink=\"http://www.w3.org/1999/xlink\" version=\"1.1\" class=\"marks\" width=\"391\" height=\"377\" viewBox=\"0 0 391 377\"><rect width=\"391\" height=\"377\" fill=\"white\"/><g fill=\"none\" stroke-miterlimit=\"10\" transform=\"translate(46,27)\"><g class=\"mark-group role-frame root\" role=\"graphics-object\" aria-roledescription=\"group mark container\"><g transform=\"translate(0,0)\"><path class=\"background\" aria-hidden=\"true\" d=\"M0.5,0.5h200v300h-200Z\" stroke=\"#ddd\"/><g><g class=\"mark-group role-axis\" aria-hidden=\"true\"><g transform=\"translate(0.5,0.5)\"><path class=\"background\" aria-hidden=\"true\" d=\"M0,0h0v0h0Z\" pointer-events=\"none\"/><g><g class=\"mark-rule role-axis-grid\" pointer-events=\"none\"><line transform=\"translate(0,300)\" x2=\"200\" y2=\"0\" stroke=\"#ddd\" stroke-width=\"1\" opacity=\"1\"/><line transform=\"translate(0,263)\" x2=\"200\" y2=\"0\" stroke=\"#ddd\" stroke-width=\"1\" opacity=\"1\"/><line transform=\"translate(0,225)\" x2=\"200\" y2=\"0\" stroke=\"#ddd\" stroke-width=\"1\" opacity=\"1\"/><line transform=\"translate(0,188)\" x2=\"200\" y2=\"0\" stroke=\"#ddd\" stroke-width=\"1\" opacity=\"1\"/><line transform=\"translate(0,150)\" x2=\"200\" y2=\"0\" stroke=\"#ddd\" stroke-width=\"1\" opacity=\"1\"/><line transform=\"translate(0,113)\" x2=\"200\" y2=\"0\" stroke=\"#ddd\" stroke-width=\"1\" opacity=\"1\"/><line transform=\"translate(0,75)\" x2=\"200\" y2=\"0\" stroke=\"#ddd\" stroke-width=\"1\" opacity=\"1\"/><line transform=\"translate(0,38)\" x2=\"200\" y2=\"0\" stroke=\"#ddd\" stroke-width=\"1\" opacity=\"1\"/><line transform=\"translate(0,0)\" x2=\"200\" y2=\"0\" stroke=\"#ddd\" stroke-width=\"1\" opacity=\"1\"/></g></g><path class=\"foreground\" aria-hidden=\"true\" d=\"\" pointer-events=\"none\" display=\"none\"/></g></g><g class=\"mark-group role-axis\" role=\"graphics-symbol\" aria-roledescription=\"axis\" aria-label=\"X-axis titled 'maturity' for a discrete scale with 10 values: 2025, 2026, 2027, 2028, 2029, ending with 2034\"><g transform=\"translate(0.5,300.5)\"><path class=\"background\" aria-hidden=\"true\" d=\"M0,0h0v0h0Z\" pointer-events=\"none\"/><g><g class=\"mark-rule role-axis-tick\" pointer-events=\"none\"><line transform=\"translate(10,0)\" x2=\"0\" y2=\"5\" stroke=\"#888\" stroke-width=\"1\" opacity=\"1\"/><line transform=\"translate(30,0)\" x2=\"0\" y2=\"5\" stroke=\"#888\" stroke-width=\"1\" opacity=\"1\"/><line transform=\"translate(50,0)\" x2=\"0\" y2=\"5\" stroke=\"#888\" stroke-width=\"1\" opacity=\"1\"/><line transform=\"translate(70,0)\" x2=\"0\" y2=\"5\" stroke=\"#888\" stroke-width=\"1\" opacity=\"1\"/><line transform=\"translate(90,0)\" x2=\"0\" y2=\"5\" stroke=\"#888\" stroke-width=\"1\" opacity=\"1\"/><line transform=\"translate(110,0)\" x2=\"0\" y2=\"5\" stroke=\"#888\" stroke-width=\"1\" opacity=\"1\"/><line transform=\"translate(130,0)\" x2=\"0\" y2=\"5\" stroke=\"#888\" stroke-width=\"1\" opacity=\"1\"/><line transform=\"translate(150,0)\" x2=\"0\" y2=\"5\" stroke=\"#888\" stroke-width=\"1\" opacity=\"1\"/><line transform=\"translate(170,0)\" x2=\"0\" y2=\"5\" stroke=\"#888\" stroke-width=\"1\" opacity=\"1\"/><line transform=\"translate(190,0)\" x2=\"0\" y2=\"5\" stroke=\"#888\" stroke-width=\"1\" opacity=\"1\"/></g><g class=\"mark-text role-axis-label\" pointer-events=\"none\"><text text-anchor=\"end\" transform=\"translate(9.5,7) rotate(270) translate(0,3)\" font-family=\"sans-serif\" font-size=\"10px\" fill=\"#000\" opacity=\"1\">2025</text><text text-anchor=\"end\" transform=\"translate(29.5,7) rotate(270) translate(0,3)\" font-family=\"sans-serif\" font-size=\"10px\" fill=\"#000\" opacity=\"1\">2026</text><text text-anchor=\"end\" transform=\"translate(49.5,7) rotate(270) translate(0,3)\" font-family=\"sans-serif\" font-size=\"10px\" fill=\"#000\" opacity=\"1\">2027</text><text text-anchor=\"end\" transform=\"translate(69.5,7) rotate(270) translate(0,3)\" font-family=\"sans-serif\" font-size=\"10px\" fill=\"#000\" opacity=\"1\">2028</text><text text-anchor=\"end\" transform=\"translate(89.5,7) rotate(270) translate(0,3)\" font-family=\"sans-serif\" font-size=\"10px\" fill=\"#000\" opacity=\"1\">2029</text><text text-anchor=\"end\" transform=\"translate(109.5,7) rotate(270) translate(0,3)\" font-family=\"sans-serif\" font-size=\"10px\" fill=\"#000\" opacity=\"1\">2030</text><text text-anchor=\"end\" transform=\"translate(129.5,7) rotate(270) translate(0,3)\" font-family=\"sans-serif\" font-size=\"10px\" fill=\"#000\" opacity=\"1\">2031</text><text text-anchor=\"end\" transform=\"translate(149.5,7) rotate(270) translate(0,3)\" font-family=\"sans-serif\" font-size=\"10px\" fill=\"#000\" opacity=\"1\">2032</text><text text-anchor=\"end\" transform=\"translate(169.5,7) rotate(270) translate(0,3)\" font-family=\"sans-serif\" font-size=\"10px\" fill=\"#000\" opacity=\"1\">2033</text><text text-anchor=\"end\" transform=\"translate(189.5,7) rotate(270) translate(0,3)\" font-family=\"sans-serif\" font-size=\"10px\" fill=\"#000\" opacity=\"1\">2034</text></g><g class=\"mark-rule role-axis-domain\" pointer-events=\"none\"><line transform=\"translate(0,0)\" x2=\"200\" y2=\"0\" stroke=\"#888\" stroke-width=\"1\" opacity=\"1\"/></g><g class=\"mark-text role-axis-title\" pointer-events=\"none\"><text text-anchor=\"middle\" transform=\"translate(100,42.24609375)\" font-family=\"sans-serif\" font-size=\"11px\" font-weight=\"bold\" fill=\"#000\" opacity=\"1\">maturity</text></g></g><path class=\"foreground\" aria-hidden=\"true\" d=\"\" pointer-events=\"none\" display=\"none\"/></g></g><g class=\"mark-group role-axis\" role=\"graphics-symbol\" aria-roledescription=\"axis\" aria-label=\"Y-axis titled 'Amount Outstanding [EUR]' for a linear scale with values from 0G to 80G\"><g transform=\"translate(0.5,0.5)\"><path class=\"background\" aria-hidden=\"true\" d=\"M0,0h0v0h0Z\" pointer-events=\"none\"/><g><g class=\"mark-rule role-axis-tick\" pointer-events=\"none\"><line transform=\"translate(0,300)\" x2=\"-5\" y2=\"0\" stroke=\"#888\" stroke-width=\"1\" opacity=\"1\"/><line transform=\"translate(0,263)\" x2=\"-5\" y2=\"0\" stroke=\"#888\" stroke-width=\"1\" opacity=\"1\"/><line transform=\"translate(0,225)\" x2=\"-5\" y2=\"0\" stroke=\"#888\" stroke-width=\"1\" opacity=\"1\"/><line transform=\"translate(0,188)\" x2=\"-5\" y2=\"0\" stroke=\"#888\" stroke-width=\"1\" opacity=\"1\"/><line transform=\"translate(0,150)\" x2=\"-5\" y2=\"0\" stroke=\"#888\" stroke-width=\"1\" opacity=\"1\"/><line transform=\"translate(0,113)\" x2=\"-5\" y2=\"0\" stroke=\"#888\" stroke-width=\"1\" opacity=\"1\"/><line transform=\"translate(0,75)\" x2=\"-5\" y2=\"0\" stroke=\"#888\" stroke-width=\"1\" opacity=\"1\"/><line transform=\"translate(0,38)\" x2=\"-5\" y2=\"0\" stroke=\"#888\" stroke-width=\"1\" opacity=\"1\"/><line transform=\"translate(0,0)\" x2=\"-5\" y2=\"0\" stroke=\"#888\" stroke-width=\"1\" opacity=\"1\"/></g><g class=\"mark-text role-axis-label\" pointer-events=\"none\"><text text-anchor=\"end\" transform=\"translate(-7,303)\" font-family=\"sans-serif\" font-size=\"10px\" fill=\"#000\" opacity=\"1\">0G</text><text text-anchor=\"end\" transform=\"translate(-7,265.5)\" font-family=\"sans-serif\" font-size=\"10px\" fill=\"#000\" opacity=\"1\">10G</text><text text-anchor=\"end\" transform=\"translate(-7,228)\" font-family=\"sans-serif\" font-size=\"10px\" fill=\"#000\" opacity=\"1\">20G</text><text text-anchor=\"end\" transform=\"translate(-7,190.5)\" font-family=\"sans-serif\" font-size=\"10px\" fill=\"#000\" opacity=\"1\">30G</text><text text-anchor=\"end\" transform=\"translate(-7,153)\" font-family=\"sans-serif\" font-size=\"10px\" fill=\"#000\" opacity=\"1\">40G</text><text text-anchor=\"end\" transform=\"translate(-7,115.5)\" font-family=\"sans-serif\" font-size=\"10px\" fill=\"#000\" opacity=\"1\">50G</text><text text-anchor=\"end\" transform=\"translate(-7,78)\" font-family=\"sans-serif\" font-size=\"10px\" fill=\"#000\" opacity=\"1\">60G</text><text text-anchor=\"end\" transform=\"translate(-7,40.5)\" font-family=\"sans-serif\" font-size=\"10px\" fill=\"#000\" opacity=\"1\">70G</text><text text-anchor=\"end\" transform=\"translate(-7,3)\" font-family=\"sans-serif\" font-size=\"10px\" fill=\"#000\" opacity=\"1\">80G</text></g><g class=\"mark-rule role-axis-domain\" pointer-events=\"none\"><line transform=\"translate(0,300)\" x2=\"0\" y2=\"-300\" stroke=\"#888\" stroke-width=\"1\" opacity=\"1\"/></g><g class=\"mark-text role-axis-title\" pointer-events=\"none\"><text text-anchor=\"middle\" transform=\"translate(-29.9013671875,150) rotate(-90) translate(0,-2)\" font-family=\"sans-serif\" font-size=\"11px\" font-weight=\"bold\" fill=\"#000\" opacity=\"1\">Amount Outstanding [EUR]</text></g></g><path class=\"foreground\" aria-hidden=\"true\" d=\"\" pointer-events=\"none\" display=\"none\"/></g></g><g class=\"mark-rect role-mark marks\" role=\"graphics-object\" aria-roledescription=\"rect mark container\"><path aria-label=\"maturity: 2025; Amount Outstanding [EUR]: 200M; sector: Consumer, Cyclical\" role=\"graphics-symbol\" aria-roledescription=\"bar\" d=\"M1,296.96286087711377h18v0.75h-18Z\" fill=\"#e45756\"/><path aria-label=\"maturity: 2025; Amount Outstanding [EUR]: 129.893M; sector: Consumer, Non-cyclical\" role=\"graphics-symbol\" aria-roledescription=\"bar\" d=\"M1,297.71286087711377h18v0.4870978728862383h-18Z\" fill=\"#72b7b2\"/><path aria-label=\"maturity: 2025; Amount Outstanding [EUR]: 300M; sector: Financial\" role=\"graphics-symbol\" aria-roledescription=\"bar\" d=\"M1,298.19995875h18v1.125h-18Z\" fill=\"#b279a2\"/><path aria-label=\"maturity: 2025; Amount Outstanding [EUR]: 180.011M; sector: Industrial\" role=\"graphics-symbol\" aria-roledescription=\"bar\" d=\"M1,299.32495875h18v0.6750412499999925h-18Z\" fill=\"#ff9da6\"/><path aria-label=\"maturity: 2026; Amount Outstanding [EUR]: 1.99115G; sector: Basic Materials\" role=\"graphics-symbol\" aria-roledescription=\"bar\" d=\"M21,98.89078824051373h18v7.466819999999984h-18Z\" fill=\"#4c78a8\"/><path aria-label=\"maturity: 2026; Amount Outstanding [EUR]: 6.37448G; sector: Communications\" role=\"graphics-symbol\" aria-roledescription=\"bar\" d=\"M21,106.35760824051371h18v23.904311899350034h-18Z\" fill=\"#f58518\"/><path aria-label=\"maturity: 2026; Amount Outstanding [EUR]: 16.2348G; sector: Consumer, Cyclical\" role=\"graphics-symbol\" aria-roledescription=\"bar\" d=\"M21,130.26192013986375h18v60.88043400000001h-18Z\" fill=\"#e45756\"/><path aria-label=\"maturity: 2026; Amount Outstanding [EUR]: 10.7557G; sector: Consumer, Non-cyclical\" role=\"graphics-symbol\" aria-roledescription=\"bar\" d=\"M21,191.14235413986376h18v40.333979976787475h-18Z\" fill=\"#72b7b2\"/><path aria-label=\"maturity: 2026; Amount Outstanding [EUR]: 621.491M; sector: Energy\" role=\"graphics-symbol\" aria-roledescription=\"bar\" d=\"M21,231.47633411665123h18v2.3305912499999977h-18Z\" fill=\"#eeca3b\"/><path aria-label=\"maturity: 2026; Amount Outstanding [EUR]: 7.87073G; sector: Financial\" role=\"graphics-symbol\" aria-roledescription=\"bar\" d=\"M21,233.80692536665123h18v29.51523079459878h-18Z\" fill=\"#b279a2\"/><path aria-label=\"maturity: 2026; Amount Outstanding [EUR]: 7.82303G; sector: Industrial\" role=\"graphics-symbol\" aria-roledescription=\"bar\" d=\"M21,263.32215616125h18v29.336359151250008h-18Z\" fill=\"#ff9da6\"/><path aria-label=\"maturity: 2026; Amount Outstanding [EUR]: 272.729M; sector: Technology\" role=\"graphics-symbol\" aria-roledescription=\"bar\" d=\"M21,292.6585153125h18v1.0227346874999625h-18Z\" fill=\"#9d755d\"/><path aria-label=\"maturity: 2026; Amount Outstanding [EUR]: 1.685G; sector: Utilities\" role=\"graphics-symbol\" aria-roledescription=\"bar\" d=\"M21,293.68125h18v6.318750000000023h-18Z\" fill=\"#bab0ac\"/><path aria-label=\"maturity: 2027; Amount Outstanding [EUR]: 1.11813G; sector: Basic Materials\" role=\"graphics-symbol\" aria-roledescription=\"bar\" d=\"M41,104.9657735334375h18v4.192987499999987h-18Z\" fill=\"#4c78a8\"/><path aria-label=\"maturity: 2027; Amount Outstanding [EUR]: 10.3296G; sector: Communications\" role=\"graphics-symbol\" aria-roledescription=\"bar\" d=\"M41,109.15876103343749h18v38.73608704725001h-18Z\" fill=\"#f58518\"/><path aria-label=\"maturity: 2027; Amount Outstanding [EUR]: 13.4602G; sector: Consumer, Cyclical\" role=\"graphics-symbol\" aria-roledescription=\"bar\" d=\"M41,147.8948480806875h18v50.475605891812506h-18Z\" fill=\"#e45756\"/><path aria-label=\"maturity: 2027; Amount Outstanding [EUR]: 10.2446G; sector: Consumer, Non-cyclical\" role=\"graphics-symbol\" aria-roledescription=\"bar\" d=\"M41,198.3704539725h18v38.41712596125001h-18Z\" fill=\"#72b7b2\"/><path aria-label=\"maturity: 2027; Amount Outstanding [EUR]: 1.0156G; sector: Energy\" role=\"graphics-symbol\" aria-roledescription=\"bar\" d=\"M41,236.78757993375h18v3.8084912774999964h-18Z\" fill=\"#eeca3b\"/><path aria-label=\"maturity: 2027; Amount Outstanding [EUR]: 8.18799G; sector: Financial\" role=\"graphics-symbol\" aria-roledescription=\"bar\" d=\"M41,240.59607121125h18v30.704954625h-18Z\" fill=\"#b279a2\"/><path aria-label=\"maturity: 2027; Amount Outstanding [EUR]: 6.06932G; sector: Industrial\" role=\"graphics-symbol\" aria-roledescription=\"bar\" d=\"M41,271.30102583625h18v22.759967913750017h-18Z\" fill=\"#ff9da6\"/><path aria-label=\"maturity: 2027; Amount Outstanding [EUR]: 338M; sector: Technology\" role=\"graphics-symbol\" aria-roledescription=\"bar\" d=\"M41,294.06099375h18v1.267499999999984h-18Z\" fill=\"#9d755d\"/><path aria-label=\"maturity: 2027; Amount Outstanding [EUR]: 1.24574G; sector: Utilities\" role=\"graphics-symbol\" aria-roledescription=\"bar\" d=\"M41,295.32849375h18v4.671506249999993h-18Z\" fill=\"#bab0ac\"/><path aria-label=\"maturity: 2028; Amount Outstanding [EUR]: 4.6G; sector: Basic Materials\" role=\"graphics-symbol\" aria-roledescription=\"bar\" d=\"M61,29.39765297625001h18v17.249999999999996h-18Z\" fill=\"#4c78a8\"/><path aria-label=\"maturity: 2028; Amount Outstanding [EUR]: 12.4632G; sector: Communications\" role=\"graphics-symbol\" aria-roledescription=\"bar\" d=\"M61,46.64765297625001h18v46.73705249999998h-18Z\" fill=\"#f58518\"/><path aria-label=\"maturity: 2028; Amount Outstanding [EUR]: 17.6545G; sector: Consumer, Cyclical\" role=\"graphics-symbol\" aria-roledescription=\"bar\" d=\"M61,93.38470547624999h18v66.20450812500005h-18Z\" fill=\"#e45756\"/><path aria-label=\"maturity: 2028; Amount Outstanding [EUR]: 16.4201G; sector: Consumer, Non-cyclical\" role=\"graphics-symbol\" aria-roledescription=\"bar\" d=\"M61,159.58921360125004h18v61.575550961249945h-18Z\" fill=\"#72b7b2\"/><path aria-label=\"maturity: 2028; Amount Outstanding [EUR]: 850M; sector: Diversified\" role=\"graphics-symbol\" aria-roledescription=\"bar\" d=\"M61,221.16476456249998h18v3.1875h-18Z\" fill=\"#54a24b\"/><path aria-label=\"maturity: 2028; Amount Outstanding [EUR]: 500M; sector: Energy\" role=\"graphics-symbol\" aria-roledescription=\"bar\" d=\"M61,224.35226456249998h18v1.8750000000000284h-18Z\" fill=\"#eeca3b\"/><path aria-label=\"maturity: 2028; Amount Outstanding [EUR]: 6.99126G; sector: Financial\" role=\"graphics-symbol\" aria-roledescription=\"bar\" d=\"M61,226.2272645625h18v26.217238124999994h-18Z\" fill=\"#b279a2\"/><path aria-label=\"maturity: 2028; Amount Outstanding [EUR]: 8.4583G; sector: Industrial\" role=\"graphics-symbol\" aria-roledescription=\"bar\" d=\"M61,252.4445026875h18v31.718624999999975h-18Z\" fill=\"#ff9da6\"/><path aria-label=\"maturity: 2028; Amount Outstanding [EUR]: 1.24G; sector: Technology\" role=\"graphics-symbol\" aria-roledescription=\"bar\" d=\"M61,284.1631276875h18v4.650000000000034h-18Z\" fill=\"#9d755d\"/><path aria-label=\"maturity: 2028; Amount Outstanding [EUR]: 2.98317G; sector: Utilities\" role=\"graphics-symbol\" aria-roledescription=\"bar\" d=\"M61,288.8131276875h18v11.186872312499986h-18Z\" fill=\"#bab0ac\"/><path aria-label=\"maturity: 2029; Amount Outstanding [EUR]: 5.02617G; sector: Basic Materials\" role=\"graphics-symbol\" aria-roledescription=\"bar\" d=\"M81,41.75746913013748h18v18.848152500000005h-18Z\" fill=\"#4c78a8\"/><path aria-label=\"maturity: 2029; Amount Outstanding [EUR]: 13.9889G; sector: Communications\" role=\"graphics-symbol\" aria-roledescription=\"bar\" d=\"M81,60.605621630137485h18v52.4583034073625h-18Z\" fill=\"#f58518\"/><path aria-label=\"maturity: 2029; Amount Outstanding [EUR]: 16.8047G; sector: Consumer, Cyclical\" role=\"graphics-symbol\" aria-roledescription=\"bar\" d=\"M81,113.06392503749998h18v63.01757175000003h-18Z\" fill=\"#e45756\"/><path aria-label=\"maturity: 2029; Amount Outstanding [EUR]: 14.9539G; sector: Consumer, Non-cyclical\" role=\"graphics-symbol\" aria-roledescription=\"bar\" d=\"M81,176.08149678750001h18v56.077011374999984h-18Z\" fill=\"#72b7b2\"/><path aria-label=\"maturity: 2029; Amount Outstanding [EUR]: 300M; sector: Diversified\" role=\"graphics-symbol\" aria-roledescription=\"bar\" d=\"M81,232.1585081625h18v1.125h-18Z\" fill=\"#54a24b\"/><path aria-label=\"maturity: 2029; Amount Outstanding [EUR]: 465M; sector: Energy\" role=\"graphics-symbol\" aria-roledescription=\"bar\" d=\"M81,233.2835081625h18v1.7437499999999773h-18Z\" fill=\"#eeca3b\"/><path aria-label=\"maturity: 2029; Amount Outstanding [EUR]: 6.81978G; sector: Financial\" role=\"graphics-symbol\" aria-roledescription=\"bar\" d=\"M81,235.02725816249998h18v25.57418718750003h-18Z\" fill=\"#b279a2\"/><path aria-label=\"maturity: 2029; Amount Outstanding [EUR]: 6.40628G; sector: Industrial\" role=\"graphics-symbol\" aria-roledescription=\"bar\" d=\"M81,260.60144535h18v24.023554649999994h-18Z\" fill=\"#ff9da6\"/><path aria-label=\"maturity: 2029; Amount Outstanding [EUR]: 2.05G; sector: Technology\" role=\"graphics-symbol\" aria-roledescription=\"bar\" d=\"M81,284.625h18v7.6875h-18Z\" fill=\"#9d755d\"/><path aria-label=\"maturity: 2029; Amount Outstanding [EUR]: 2.05G; sector: Utilities\" role=\"graphics-symbol\" aria-roledescription=\"bar\" d=\"M81,292.3125h18v7.6875h-18Z\" fill=\"#bab0ac\"/><path aria-label=\"maturity: 2030; Amount Outstanding [EUR]: 675M; sector: Basic Materials\" role=\"graphics-symbol\" aria-roledescription=\"bar\" d=\"M101,177.4811315625h18v2.53125h-18Z\" fill=\"#4c78a8\"/><path aria-label=\"maturity: 2030; Amount Outstanding [EUR]: 5.31245G; sector: Communications\" role=\"graphics-symbol\" aria-roledescription=\"bar\" d=\"M101,180.0123815625h18v19.921686562500014h-18Z\" fill=\"#f58518\"/><path aria-label=\"maturity: 2030; Amount Outstanding [EUR]: 9.52383G; sector: Consumer, Cyclical\" role=\"graphics-symbol\" aria-roledescription=\"bar\" d=\"M101,199.934068125h18v35.71436812499999h-18Z\" fill=\"#e45756\"/><path aria-label=\"maturity: 2030; Amount Outstanding [EUR]: 7.23607G; sector: Consumer, Non-cyclical\" role=\"graphics-symbol\" aria-roledescription=\"bar\" d=\"M101,235.64843625h18v27.135271874999972h-18Z\" fill=\"#72b7b2\"/><path aria-label=\"maturity: 2030; Amount Outstanding [EUR]: 500M; sector: Energy\" role=\"graphics-symbol\" aria-roledescription=\"bar\" d=\"M101,262.783708125h18v1.875h-18Z\" fill=\"#eeca3b\"/><path aria-label=\"maturity: 2030; Amount Outstanding [EUR]: 5.59934G; sector: Financial\" role=\"graphics-symbol\" aria-roledescription=\"bar\" d=\"M101,264.658708125h18v20.997541875000024h-18Z\" fill=\"#b279a2\"/><path aria-label=\"maturity: 2030; Amount Outstanding [EUR]: 3.1G; sector: Industrial\" role=\"graphics-symbol\" aria-roledescription=\"bar\" d=\"M101,285.65625h18v11.625h-18Z\" fill=\"#ff9da6\"/><path aria-label=\"maturity: 2030; Amount Outstanding [EUR]: 725M; sector: Technology\" role=\"graphics-symbol\" aria-roledescription=\"bar\" d=\"M101,297.28125h18v2.71875h-18Z\" fill=\"#9d755d\"/><path aria-label=\"maturity: 2031; Amount Outstanding [EUR]: 250M; sector: Basic Materials\" role=\"graphics-symbol\" aria-roledescription=\"bar\" d=\"M121,207.80099343749998h18v0.9375000000000284h-18Z\" fill=\"#4c78a8\"/><path aria-label=\"maturity: 2031; Amount Outstanding [EUR]: 4.45922G; sector: Communications\" role=\"graphics-symbol\" aria-roledescription=\"bar\" d=\"M121,208.7384934375h18v16.722062812500013h-18Z\" fill=\"#f58518\"/><path aria-label=\"maturity: 2031; Amount Outstanding [EUR]: 5.1746G; sector: Consumer, Cyclical\" role=\"graphics-symbol\" aria-roledescription=\"bar\" d=\"M121,225.46055625000002h18v19.40474062499996h-18Z\" fill=\"#e45756\"/><path aria-label=\"maturity: 2031; Amount Outstanding [EUR]: 2.99358G; sector: Consumer, Non-cyclical\" role=\"graphics-symbol\" aria-roledescription=\"bar\" d=\"M121,244.86529687499998h18v11.225932500000027h-18Z\" fill=\"#72b7b2\"/><path aria-label=\"maturity: 2031; Amount Outstanding [EUR]: 450M; sector: Diversified\" role=\"graphics-symbol\" aria-roledescription=\"bar\" d=\"M121,256.091229375h18v1.6875h-18Z\" fill=\"#54a24b\"/><path aria-label=\"maturity: 2031; Amount Outstanding [EUR]: 5.1075G; sector: Financial\" role=\"graphics-symbol\" aria-roledescription=\"bar\" d=\"M121,257.778729375h18v19.15312499999999h-18Z\" fill=\"#b279a2\"/><path aria-label=\"maturity: 2031; Amount Outstanding [EUR]: 3.66465G; sector: Industrial\" role=\"graphics-symbol\" aria-roledescription=\"bar\" d=\"M121,276.931854375h18v13.742432812499999h-18Z\" fill=\"#ff9da6\"/><path aria-label=\"maturity: 2031; Amount Outstanding [EUR]: 350M; sector: Technology\" role=\"graphics-symbol\" aria-roledescription=\"bar\" d=\"M121,290.6742871875h18v1.3125h-18Z\" fill=\"#9d755d\"/><path aria-label=\"maturity: 2031; Amount Outstanding [EUR]: 2.13686G; sector: Utilities\" role=\"graphics-symbol\" aria-roledescription=\"bar\" d=\"M121,291.9867871875h18v8.0132128125h-18Z\" fill=\"#bab0ac\"/><path aria-label=\"maturity: 2032; Amount Outstanding [EUR]: 300M; sector: Basic Materials\" role=\"graphics-symbol\" aria-roledescription=\"bar\" d=\"M141,259.55183999999997h18v1.125h-18Z\" fill=\"#4c78a8\"/><path aria-label=\"maturity: 2032; Amount Outstanding [EUR]: 2.82793G; sector: Communications\" role=\"graphics-symbol\" aria-roledescription=\"bar\" d=\"M141,260.67683999999997h18v10.604733750000037h-18Z\" fill=\"#f58518\"/><path aria-label=\"maturity: 2032; Amount Outstanding [EUR]: 500M; sector: Consumer, Cyclical\" role=\"graphics-symbol\" aria-roledescription=\"bar\" d=\"M141,271.28157375h18v1.875h-18Z\" fill=\"#e45756\"/><path aria-label=\"maturity: 2032; Amount Outstanding [EUR]: 350M; sector: Consumer, Non-cyclical\" role=\"graphics-symbol\" aria-roledescription=\"bar\" d=\"M141,273.15657375h18v1.3125h-18Z\" fill=\"#72b7b2\"/><path aria-label=\"maturity: 2032; Amount Outstanding [EUR]: 5.11692G; sector: Financial\" role=\"graphics-symbol\" aria-roledescription=\"bar\" d=\"M141,274.46907375h18v19.188435000000027h-18Z\" fill=\"#b279a2\"/><path aria-label=\"maturity: 2032; Amount Outstanding [EUR]: 1.69133G; sector: Utilities\" role=\"graphics-symbol\" aria-roledescription=\"bar\" d=\"M141,293.65750875000003h18v6.342491249999966h-18Z\" fill=\"#bab0ac\"/><path aria-label=\"maturity: 2033; Amount Outstanding [EUR]: 1.015G; sector: Communications\" role=\"graphics-symbol\" aria-roledescription=\"bar\" d=\"M161,286.692375h18v3.8062499999999773h-18Z\" fill=\"#f58518\"/><path aria-label=\"maturity: 2033; Amount Outstanding [EUR]: 2.5337G; sector: Financial\" role=\"graphics-symbol\" aria-roledescription=\"bar\" d=\"M161,290.498625h18v9.501374999999996h-18Z\" fill=\"#b279a2\"/><path aria-label=\"maturity: 2034; Amount Outstanding [EUR]: 750M; sector: Consumer, Cyclical\" role=\"graphics-symbol\" aria-roledescription=\"bar\" d=\"M181,265.68141937499996h18v2.8125h-18Z\" fill=\"#e45756\"/><path aria-label=\"maturity: 2034; Amount Outstanding [EUR]: 8.02825G; sector: Financial\" role=\"graphics-symbol\" aria-roledescription=\"bar\" d=\"M181,268.49391937499996h18v30.105939375000048h-18Z\" fill=\"#b279a2\"/><path aria-label=\"maturity: 2034; Amount Outstanding [EUR]: 373.371M; sector: Utilities\" role=\"graphics-symbol\" aria-roledescription=\"bar\" d=\"M181,298.59985875h18v1.4001412499999901h-18Z\" fill=\"#bab0ac\"/></g><g class=\"mark-group role-legend\" role=\"graphics-symbol\" aria-roledescription=\"legend\" aria-label=\"Symbol legend titled 'sector' for fill color with 10 values: Basic Materials, Communications, Consumer, Cyclical, Consumer, Non-cyclical, Diversified, ending with Utilities\"><g transform=\"translate(218,0)\"><path class=\"background\" aria-hidden=\"true\" d=\"M0,0h122v144h-122Z\" pointer-events=\"none\"/><g><g class=\"mark-group role-legend-entry\"><g transform=\"translate(0,16)\"><path class=\"background\" aria-hidden=\"true\" d=\"M0,0h0v0h0Z\" pointer-events=\"none\"/><g><g class=\"mark-group role-scope\" role=\"graphics-object\" aria-roledescription=\"group mark container\"><g transform=\"translate(0,0)\"><path class=\"background\" aria-hidden=\"true\" d=\"M0,0h121.0341796875v11h-121.0341796875Z\" pointer-events=\"none\" opacity=\"1\"/><g><g class=\"mark-symbol role-legend-symbol\" pointer-events=\"none\"><path transform=\"translate(6,6)\" d=\"M-5,-5h10v10h-10Z\" fill=\"#4c78a8\" stroke-width=\"1.5\" opacity=\"1\"/></g><g class=\"mark-text role-legend-label\" pointer-events=\"none\"><text text-anchor=\"start\" transform=\"translate(16,9)\" font-family=\"sans-serif\" font-size=\"10px\" fill=\"#000\" opacity=\"1\">Basic Materials</text></g></g><path class=\"foreground\" aria-hidden=\"true\" d=\"\" pointer-events=\"none\" display=\"none\"/></g><g transform=\"translate(0,13)\"><path class=\"background\" aria-hidden=\"true\" d=\"M0,0h121.0341796875v11h-121.0341796875Z\" pointer-events=\"none\" opacity=\"1\"/><g><g class=\"mark-symbol role-legend-symbol\" pointer-events=\"none\"><path transform=\"translate(6,6)\" d=\"M-5,-5h10v10h-10Z\" fill=\"#f58518\" stroke-width=\"1.5\" opacity=\"1\"/></g><g class=\"mark-text role-legend-label\" pointer-events=\"none\"><text text-anchor=\"start\" transform=\"translate(16,9)\" font-family=\"sans-serif\" font-size=\"10px\" fill=\"#000\" opacity=\"1\">Communications</text></g></g><path class=\"foreground\" aria-hidden=\"true\" d=\"\" pointer-events=\"none\" display=\"none\"/></g><g transform=\"translate(0,26)\"><path class=\"background\" aria-hidden=\"true\" d=\"M0,0h121.0341796875v11h-121.0341796875Z\" pointer-events=\"none\" opacity=\"1\"/><g><g class=\"mark-symbol role-legend-symbol\" pointer-events=\"none\"><path transform=\"translate(6,6)\" d=\"M-5,-5h10v10h-10Z\" fill=\"#e45756\" stroke-width=\"1.5\" opacity=\"1\"/></g><g class=\"mark-text role-legend-label\" pointer-events=\"none\"><text text-anchor=\"start\" transform=\"translate(16,9)\" font-family=\"sans-serif\" font-size=\"10px\" fill=\"#000\" opacity=\"1\">Consumer, Cyclical</text></g></g><path class=\"foreground\" aria-hidden=\"true\" d=\"\" pointer-events=\"none\" display=\"none\"/></g><g transform=\"translate(0,39)\"><path class=\"background\" aria-hidden=\"true\" d=\"M0,0h121.0341796875v11h-121.0341796875Z\" pointer-events=\"none\" opacity=\"1\"/><g><g class=\"mark-symbol role-legend-symbol\" pointer-events=\"none\"><path transform=\"translate(6,6)\" d=\"M-5,-5h10v10h-10Z\" fill=\"#72b7b2\" stroke-width=\"1.5\" opacity=\"1\"/></g><g class=\"mark-text role-legend-label\" pointer-events=\"none\"><text text-anchor=\"start\" transform=\"translate(16,9)\" font-family=\"sans-serif\" font-size=\"10px\" fill=\"#000\" opacity=\"1\">Consumer, Non-cyclical</text></g></g><path class=\"foreground\" aria-hidden=\"true\" d=\"\" pointer-events=\"none\" display=\"none\"/></g><g transform=\"translate(0,52)\"><path class=\"background\" aria-hidden=\"true\" d=\"M0,0h121.0341796875v11h-121.0341796875Z\" pointer-events=\"none\" opacity=\"1\"/><g><g class=\"mark-symbol role-legend-symbol\" pointer-events=\"none\"><path transform=\"translate(6,6)\" d=\"M-5,-5h10v10h-10Z\" fill=\"#54a24b\" stroke-width=\"1.5\" opacity=\"1\"/></g><g class=\"mark-text role-legend-label\" pointer-events=\"none\"><text text-anchor=\"start\" transform=\"translate(16,9)\" font-family=\"sans-serif\" font-size=\"10px\" fill=\"#000\" opacity=\"1\">Diversified</text></g></g><path class=\"foreground\" aria-hidden=\"true\" d=\"\" pointer-events=\"none\" display=\"none\"/></g><g transform=\"translate(0,65)\"><path class=\"background\" aria-hidden=\"true\" d=\"M0,0h121.0341796875v11h-121.0341796875Z\" pointer-events=\"none\" opacity=\"1\"/><g><g class=\"mark-symbol role-legend-symbol\" pointer-events=\"none\"><path transform=\"translate(6,6)\" d=\"M-5,-5h10v10h-10Z\" fill=\"#eeca3b\" stroke-width=\"1.5\" opacity=\"1\"/></g><g class=\"mark-text role-legend-label\" pointer-events=\"none\"><text text-anchor=\"start\" transform=\"translate(16,9)\" font-family=\"sans-serif\" font-size=\"10px\" fill=\"#000\" opacity=\"1\">Energy</text></g></g><path class=\"foreground\" aria-hidden=\"true\" d=\"\" pointer-events=\"none\" display=\"none\"/></g><g transform=\"translate(0,78)\"><path class=\"background\" aria-hidden=\"true\" d=\"M0,0h121.0341796875v11h-121.0341796875Z\" pointer-events=\"none\" opacity=\"1\"/><g><g class=\"mark-symbol role-legend-symbol\" pointer-events=\"none\"><path transform=\"translate(6,6)\" d=\"M-5,-5h10v10h-10Z\" fill=\"#b279a2\" stroke-width=\"1.5\" opacity=\"1\"/></g><g class=\"mark-text role-legend-label\" pointer-events=\"none\"><text text-anchor=\"start\" transform=\"translate(16,9)\" font-family=\"sans-serif\" font-size=\"10px\" fill=\"#000\" opacity=\"1\">Financial</text></g></g><path class=\"foreground\" aria-hidden=\"true\" d=\"\" pointer-events=\"none\" display=\"none\"/></g><g transform=\"translate(0,91)\"><path class=\"background\" aria-hidden=\"true\" d=\"M0,0h121.0341796875v11h-121.0341796875Z\" pointer-events=\"none\" opacity=\"1\"/><g><g class=\"mark-symbol role-legend-symbol\" pointer-events=\"none\"><path transform=\"translate(6,6)\" d=\"M-5,-5h10v10h-10Z\" fill=\"#ff9da6\" stroke-width=\"1.5\" opacity=\"1\"/></g><g class=\"mark-text role-legend-label\" pointer-events=\"none\"><text text-anchor=\"start\" transform=\"translate(16,9)\" font-family=\"sans-serif\" font-size=\"10px\" fill=\"#000\" opacity=\"1\">Industrial</text></g></g><path class=\"foreground\" aria-hidden=\"true\" d=\"\" pointer-events=\"none\" display=\"none\"/></g><g transform=\"translate(0,104)\"><path class=\"background\" aria-hidden=\"true\" d=\"M0,0h121.0341796875v11h-121.0341796875Z\" pointer-events=\"none\" opacity=\"1\"/><g><g class=\"mark-symbol role-legend-symbol\" pointer-events=\"none\"><path transform=\"translate(6,6)\" d=\"M-5,-5h10v10h-10Z\" fill=\"#9d755d\" stroke-width=\"1.5\" opacity=\"1\"/></g><g class=\"mark-text role-legend-label\" pointer-events=\"none\"><text text-anchor=\"start\" transform=\"translate(16,9)\" font-family=\"sans-serif\" font-size=\"10px\" fill=\"#000\" opacity=\"1\">Technology</text></g></g><path class=\"foreground\" aria-hidden=\"true\" d=\"\" pointer-events=\"none\" display=\"none\"/></g><g transform=\"translate(0,117)\"><path class=\"background\" aria-hidden=\"true\" d=\"M0,0h121.0341796875v11h-121.0341796875Z\" pointer-events=\"none\" opacity=\"1\"/><g><g class=\"mark-symbol role-legend-symbol\" pointer-events=\"none\"><path transform=\"translate(6,6)\" d=\"M-5,-5h10v10h-10Z\" fill=\"#bab0ac\" stroke-width=\"1.5\" opacity=\"1\"/></g><g class=\"mark-text role-legend-label\" pointer-events=\"none\"><text text-anchor=\"start\" transform=\"translate(16,9)\" font-family=\"sans-serif\" font-size=\"10px\" fill=\"#000\" opacity=\"1\">Utilities</text></g></g><path class=\"foreground\" aria-hidden=\"true\" d=\"\" pointer-events=\"none\" display=\"none\"/></g></g></g><path class=\"foreground\" aria-hidden=\"true\" d=\"\" pointer-events=\"none\" display=\"none\"/></g></g><g class=\"mark-text role-legend-title\" pointer-events=\"none\"><text text-anchor=\"start\" transform=\"translate(0,9)\" font-family=\"sans-serif\" font-size=\"11px\" font-weight=\"bold\" fill=\"#000\" opacity=\"1\">sector</text></g></g><path class=\"foreground\" aria-hidden=\"true\" d=\"\" pointer-events=\"none\" display=\"none\"/></g></g><g class=\"mark-group role-title\"><g transform=\"translate(100,-22)\"><path class=\"background\" aria-hidden=\"true\" d=\"M0,0h0v0h0Z\" pointer-events=\"none\"/><g><g class=\"mark-text role-title-text\" role=\"graphics-symbol\" aria-roledescription=\"title\" aria-label=\"Title text 'Pan-EU HY Maturity Wall'\" pointer-events=\"none\"><text text-anchor=\"middle\" transform=\"translate(0,10)\" font-family=\"sans-serif\" font-size=\"13px\" font-weight=\"bold\" fill=\"#000\" opacity=\"1\">Pan-EU HY Maturity Wall</text></g></g><path class=\"foreground\" aria-hidden=\"true\" d=\"\" pointer-events=\"none\" display=\"none\"/></g></g></g><path class=\"foreground\" aria-hidden=\"true\" d=\"\" display=\"none\"/></g></g></g></svg>"
      ],
      "text/plain": [
       "alt.Chart(...)"
      ]
     },
     "execution_count": 31,
     "metadata": {},
     "output_type": "execute_result"
    }
   ],
   "source": [
    "# Maturity Wall for EU HY bonds\n",
    "query = \"\"\"\n",
    "let(#mv=sum(group(amt_outstanding(currency=EUR),\n",
    "                  by=[year(maturity()), industry_sector()]));)\n",
    "get(#mv)\n",
    "for(members('LP01TREU Index'))\n",
    "\"\"\"\n",
    "with BQuery() as bq:\n",
    "    results = bq.bql(query)\n",
    "df = results.combine().rename(\n",
    "    {\"YEAR(MATURITY())\": \"maturity\", \"INDUSTRY_SECTOR()\": \"sector\", \"#mv\": \"mv\"}\n",
    ")\n",
    "\n",
    "print(df.pivot(index=\"maturity\", on=\"sector\", values=\"mv\").head())\n",
    "\n",
    "alt.Chart(df.drop_nulls(subset=[\"maturity\"]), title=\"Pan-EU HY Maturity Wall\").mark_bar().encode(\n",
    "    x=alt.X(\"maturity:O\"),\n",
    "    y=alt.Y(\"mv:Q\").axis(format=\"~s\").title(\"Amount Outstanding [EUR]\"),\n",
    "    color=alt.Color(\"sector:N\"),\n",
    ").transform_filter(alt.datum.maturity < 2035)  # noqa: PLR2004"
   ]
  },
  {
   "cell_type": "code",
   "execution_count": null,
   "metadata": {},
   "outputs": [],
   "source": []
  }
 ],
 "metadata": {
  "kernelspec": {
   "display_name": "v312",
   "language": "python",
   "name": "python3"
  },
  "language_info": {
   "codemirror_mode": {
    "name": "ipython",
    "version": 3
   },
   "file_extension": ".py",
   "mimetype": "text/x-python",
   "name": "python",
   "nbconvert_exporter": "python",
   "pygments_lexer": "ipython3",
   "version": "3.12.8"
  }
 },
 "nbformat": 4,
 "nbformat_minor": 2
}
