{
 "cells": [
  {
   "cell_type": "markdown",
   "metadata": {},
   "source": [
    "# BQL Examples"
   ]
  },
  {
   "cell_type": "code",
   "execution_count": 8,
   "metadata": {},
   "outputs": [],
   "source": [
    "# Imports\n",
    "from polars_bloomberg import BQuery"
   ]
  },
  {
   "cell_type": "code",
   "execution_count": 9,
   "metadata": {},
   "outputs": [
    {
     "data": {
      "text/html": [
       "<div><style>\n",
       ".dataframe > thead > tr,\n",
       ".dataframe > tbody > tr {\n",
       "  text-align: right;\n",
       "  white-space: pre-wrap;\n",
       "}\n",
       "</style>\n",
       "<small>shape: (2, 4)</small><table border=\"1\" class=\"dataframe\"><thead><tr><th>ID</th><th>px_last</th><th>DATE</th><th>CURRENCY</th></tr><tr><td>str</td><td>f64</td><td>date</td><td>str</td></tr></thead><tbody><tr><td>&quot;IBM US Equity&quot;</td><td>230.82</td><td>2024-12-14</td><td>&quot;USD&quot;</td></tr><tr><td>&quot;OMX Index&quot;</td><td>2556.343</td><td>2024-12-14</td><td>&quot;SEK&quot;</td></tr></tbody></table></div>"
      ],
      "text/plain": [
       "shape: (2, 4)\n",
       "┌───────────────┬──────────┬────────────┬──────────┐\n",
       "│ ID            ┆ px_last  ┆ DATE       ┆ CURRENCY │\n",
       "│ ---           ┆ ---      ┆ ---        ┆ ---      │\n",
       "│ str           ┆ f64      ┆ date       ┆ str      │\n",
       "╞═══════════════╪══════════╪════════════╪══════════╡\n",
       "│ IBM US Equity ┆ 230.82   ┆ 2024-12-14 ┆ USD      │\n",
       "│ OMX Index     ┆ 2556.343 ┆ 2024-12-14 ┆ SEK      │\n",
       "└───────────────┴──────────┴────────────┴──────────┘"
      ]
     },
     "execution_count": 9,
     "metadata": {},
     "output_type": "execute_result"
    }
   ],
   "source": [
    "# Basic example with signle data point\n",
    "with BQuery() as bq:\n",
    "    df_lst = bq.bql(\"get(px_last) for(['IBM US Equity', 'OMX Index'])\")\n",
    "df_lst[0]"
   ]
  },
  {
   "cell_type": "code",
   "execution_count": 10,
   "metadata": {},
   "outputs": [
    {
     "data": {
      "text/html": [
       "<div><style>\n",
       ".dataframe > thead > tr,\n",
       ".dataframe > tbody > tr {\n",
       "  text-align: right;\n",
       "  white-space: pre-wrap;\n",
       "}\n",
       "</style>\n",
       "<small>shape: (5, 7)</small><table border=\"1\" class=\"dataframe\"><thead><tr><th>ID</th><th>#avg_pe</th><th>REVISION_DATE</th><th>AS_OF_DATE</th><th>PERIOD_END_DATE</th><th>ORIG_IDS</th><th>GICS_SECTOR_NAME()</th></tr><tr><td>str</td><td>f64</td><td>date</td><td>date</td><td>date</td><td>str</td><td>str</td></tr></thead><tbody><tr><td>&quot;Communication Services&quot;</td><td>26.251735</td><td>2024-11-14</td><td>2024-12-14</td><td>2024-09-30</td><td>null</td><td>&quot;Communication Services&quot;</td></tr><tr><td>&quot;Consumer Discretionary&quot;</td><td>26.453212</td><td>2024-12-11</td><td>2024-12-14</td><td>2024-11-23</td><td>null</td><td>&quot;Consumer Discretionary&quot;</td></tr><tr><td>&quot;Consumer Staples&quot;</td><td>19.49465</td><td>2024-12-13</td><td>2024-12-14</td><td>2024-11-24</td><td>null</td><td>&quot;Consumer Staples&quot;</td></tr><tr><td>&quot;Energy&quot;</td><td>18.427215</td><td>2024-11-12</td><td>2024-12-14</td><td>2024-09-30</td><td>null</td><td>&quot;Energy&quot;</td></tr><tr><td>&quot;Financials&quot;</td><td>37.082801</td><td>2024-11-26</td><td>2024-12-14</td><td>2024-09-30</td><td>null</td><td>&quot;Financials&quot;</td></tr></tbody></table></div>"
      ],
      "text/plain": [
       "shape: (5, 7)\n",
       "┌───────────────┬───────────┬───────────────┬────────────┬───────────────┬──────────┬──────────────┐\n",
       "│ ID            ┆ #avg_pe   ┆ REVISION_DATE ┆ AS_OF_DATE ┆ PERIOD_END_DA ┆ ORIG_IDS ┆ GICS_SECTOR_ │\n",
       "│ ---           ┆ ---       ┆ ---           ┆ ---        ┆ TE            ┆ ---      ┆ NAME()       │\n",
       "│ str           ┆ f64       ┆ date          ┆ date       ┆ ---           ┆ str      ┆ ---          │\n",
       "│               ┆           ┆               ┆            ┆ date          ┆          ┆ str          │\n",
       "╞═══════════════╪═══════════╪═══════════════╪════════════╪═══════════════╪══════════╪══════════════╡\n",
       "│ Communication ┆ 26.251735 ┆ 2024-11-14    ┆ 2024-12-14 ┆ 2024-09-30    ┆ null     ┆ Communicatio │\n",
       "│ Services      ┆           ┆               ┆            ┆               ┆          ┆ n Services   │\n",
       "│ Consumer      ┆ 26.453212 ┆ 2024-12-11    ┆ 2024-12-14 ┆ 2024-11-23    ┆ null     ┆ Consumer Dis │\n",
       "│ Discretionary ┆           ┆               ┆            ┆               ┆          ┆ cretionary   │\n",
       "│ Consumer      ┆ 19.49465  ┆ 2024-12-13    ┆ 2024-12-14 ┆ 2024-11-24    ┆ null     ┆ Consumer     │\n",
       "│ Staples       ┆           ┆               ┆            ┆               ┆          ┆ Staples      │\n",
       "│ Energy        ┆ 18.427215 ┆ 2024-11-12    ┆ 2024-12-14 ┆ 2024-09-30    ┆ null     ┆ Energy       │\n",
       "│ Financials    ┆ 37.082801 ┆ 2024-11-26    ┆ 2024-12-14 ┆ 2024-09-30    ┆ null     ┆ Financials   │\n",
       "└───────────────┴───────────┴───────────────┴────────────┴───────────────┴──────────┴──────────────┘"
      ]
     },
     "execution_count": 10,
     "metadata": {},
     "output_type": "execute_result"
    }
   ],
   "source": [
    "# Average PE ratio per sector\n",
    "query = \"\"\"\n",
    "let(#avg_pe=avg(group(pe_ratio(), gics_sector_name()));)\n",
    "get(#avg_pe)\n",
    "for(members('SPX Index'))\n",
    "\"\"\"\n",
    "with BQuery() as bq:\n",
    "    df_lst = bq.bql(query)\n",
    "df_lst[0].head()"
   ]
  },
  {
   "cell_type": "code",
   "execution_count": 11,
   "metadata": {},
   "outputs": [
    {
     "data": {
      "text/html": [
       "<div><style>\n",
       ".dataframe > thead > tr,\n",
       ".dataframe > tbody > tr {\n",
       "  text-align: right;\n",
       "  white-space: pre-wrap;\n",
       "}\n",
       "</style>\n",
       "<small>shape: (6, 5)</small><table border=\"1\" class=\"dataframe\"><thead><tr><th>ID</th><th>name()</th><th>#dur</th><th>DATE</th><th>#zsprd</th></tr><tr><td>str</td><td>str</td><td>f64</td><td>date</td><td>f64</td></tr></thead><tbody><tr><td>&quot;YU819930 Corp&quot;</td><td>&quot;SEB 6 ¾ PERP&quot;</td><td>5.37363</td><td>2024-12-14</td><td>308.810572</td></tr><tr><td>&quot;ZQ349286 Corp&quot;</td><td>&quot;SEB 5 ⅛ PERP&quot;</td><td>0.395636</td><td>2024-12-14</td><td>185.980438</td></tr><tr><td>&quot;ZO703315 Corp&quot;</td><td>&quot;SHBASS 4 ⅜ PERP&quot;</td><td>1.956536</td><td>2024-12-14</td><td>213.358921</td></tr><tr><td>&quot;ZO703956 Corp&quot;</td><td>&quot;SHBASS 4 ¾ PERP&quot;</td><td>4.946231</td><td>2024-12-14</td><td>255.85428</td></tr><tr><td>&quot;BW924993 Corp&quot;</td><td>&quot;SEB 6 ⅞ PERP&quot;</td><td>2.231859</td><td>2024-12-14</td><td>211.55125</td></tr><tr><td>&quot;YV402592 Corp&quot;</td><td>&quot;SEB Float PERP&quot;</td><td>0.212973</td><td>2024-12-14</td><td>232.71</td></tr></tbody></table></div>"
      ],
      "text/plain": [
       "shape: (6, 5)\n",
       "┌───────────────┬─────────────────┬──────────┬────────────┬────────────┐\n",
       "│ ID            ┆ name()          ┆ #dur     ┆ DATE       ┆ #zsprd     │\n",
       "│ ---           ┆ ---             ┆ ---      ┆ ---        ┆ ---        │\n",
       "│ str           ┆ str             ┆ f64      ┆ date       ┆ f64        │\n",
       "╞═══════════════╪═════════════════╪══════════╪════════════╪════════════╡\n",
       "│ YU819930 Corp ┆ SEB 6 ¾ PERP    ┆ 5.37363  ┆ 2024-12-14 ┆ 308.810572 │\n",
       "│ ZQ349286 Corp ┆ SEB 5 ⅛ PERP    ┆ 0.395636 ┆ 2024-12-14 ┆ 185.980438 │\n",
       "│ ZO703315 Corp ┆ SHBASS 4 ⅜ PERP ┆ 1.956536 ┆ 2024-12-14 ┆ 213.358921 │\n",
       "│ ZO703956 Corp ┆ SHBASS 4 ¾ PERP ┆ 4.946231 ┆ 2024-12-14 ┆ 255.85428  │\n",
       "│ BW924993 Corp ┆ SEB 6 ⅞ PERP    ┆ 2.231859 ┆ 2024-12-14 ┆ 211.55125  │\n",
       "│ YV402592 Corp ┆ SEB Float PERP  ┆ 0.212973 ┆ 2024-12-14 ┆ 232.71     │\n",
       "└───────────────┴─────────────────┴──────────┴────────────┴────────────┘"
      ]
     },
     "execution_count": 11,
     "metadata": {},
     "output_type": "execute_result"
    }
   ],
   "source": [
    "# Duration and ZSpread for search results\n",
    "query = \"\"\"\n",
    "let(#dur=duration(duration_type=MODIFIED);\n",
    "    #zsprd=spread(spread_type=Z);)\n",
    "get(name(), #dur, #zsprd)\n",
    "for(filter(screenresults(type=SRCH, screen_name='@COCO'),\n",
    "           ticker in ['SEB', 'SHBASS']))\n",
    "\"\"\"\n",
    "\n",
    "with BQuery() as bq:\n",
    "    df_lst = bq.bql(query)\n",
    "df = df_lst[0].join(df_lst[1], on=\"ID\").join(df_lst[2], on=[\"ID\", \"DATE\"])\n",
    "df"
   ]
  },
  {
   "cell_type": "code",
   "execution_count": 12,
   "metadata": {},
   "outputs": [
    {
     "data": {
      "text/html": [
       "<div><style>\n",
       ".dataframe > thead > tr,\n",
       ".dataframe > tbody > tr {\n",
       "  text-align: right;\n",
       "  white-space: pre-wrap;\n",
       "}\n",
       "</style>\n",
       "<small>shape: (5, 5)</small><table border=\"1\" class=\"dataframe\"><thead><tr><th>ID</th><th>#average_spread</th><th>DATE</th><th>ORIG_IDS</th><th>#BINS</th></tr><tr><td>str</td><td>f64</td><td>date</td><td>str</td><td>str</td></tr></thead><tbody><tr><td>&quot;(1) 0-3&quot;</td><td>31.195689</td><td>2024-12-14</td><td>&quot;QZ552396 Corp&quot;</td><td>&quot;(1) 0-3&quot;</td></tr><tr><td>&quot;(2) 3-9&quot;</td><td>59.580383</td><td>2024-12-14</td><td>null</td><td>&quot;(2) 3-9&quot;</td></tr><tr><td>&quot;(3) 9-18&quot;</td><td>110.614416</td><td>2024-12-14</td><td>&quot;BH393780 Corp&quot;</td><td>&quot;(3) 9-18&quot;</td></tr><tr><td>&quot;(4) 18-30&quot;</td><td>135.160279</td><td>2024-12-14</td><td>&quot;BH393781 Corp&quot;</td><td>&quot;(4) 18-30&quot;</td></tr><tr><td>&quot;(5) 30+&quot;</td><td>150.713405</td><td>2024-12-14</td><td>&quot;BH393782 Corp&quot;</td><td>&quot;(5) 30+&quot;</td></tr></tbody></table></div>"
      ],
      "text/plain": [
       "shape: (5, 5)\n",
       "┌───────────┬─────────────────┬────────────┬───────────────┬───────────┐\n",
       "│ ID        ┆ #average_spread ┆ DATE       ┆ ORIG_IDS      ┆ #BINS     │\n",
       "│ ---       ┆ ---             ┆ ---        ┆ ---           ┆ ---       │\n",
       "│ str       ┆ f64             ┆ date       ┆ str           ┆ str       │\n",
       "╞═══════════╪═════════════════╪════════════╪═══════════════╪═══════════╡\n",
       "│ (1) 0-3   ┆ 31.195689       ┆ 2024-12-14 ┆ QZ552396 Corp ┆ (1) 0-3   │\n",
       "│ (2) 3-9   ┆ 59.580383       ┆ 2024-12-14 ┆ null          ┆ (2) 3-9   │\n",
       "│ (3) 9-18  ┆ 110.614416      ┆ 2024-12-14 ┆ BH393780 Corp ┆ (3) 9-18  │\n",
       "│ (4) 18-30 ┆ 135.160279      ┆ 2024-12-14 ┆ BH393781 Corp ┆ (4) 18-30 │\n",
       "│ (5) 30+   ┆ 150.713405      ┆ 2024-12-14 ┆ BH393782 Corp ┆ (5) 30+   │\n",
       "└───────────┴─────────────────┴────────────┴───────────────┴───────────┘"
      ]
     },
     "execution_count": 12,
     "metadata": {},
     "output_type": "execute_result"
    }
   ],
   "source": [
    "# Average OAS spread for Nvidia bonds per maturity bucket\n",
    "query = \"\"\"\n",
    "let(\n",
    "    #bins = bins(maturity_years,\n",
    "                 [3,9,18,30],\n",
    "                 ['(1) 0-3','(2) 3-9','(3) 9-18','(4) 18-30','(5) 30+']);\n",
    "    #average_spread = avg(group(spread(st=oas),#bins));\n",
    ")\n",
    "get(#average_spread)\n",
    "for(filter(bonds('NVDA US Equity', issuedby = 'ENTITY'),\n",
    "           maturity_years != NA))\n",
    "\"\"\"\n",
    "\n",
    "with BQuery() as bq:\n",
    "    df_lst = bq.bql(query)\n",
    "df_lst[0]"
   ]
  },
  {
   "cell_type": "code",
   "execution_count": 13,
   "metadata": {},
   "outputs": [
    {
     "data": {
      "text/html": [
       "<div><style>\n",
       ".dataframe > thead > tr,\n",
       ".dataframe > tbody > tr {\n",
       "  text-align: right;\n",
       "  white-space: pre-wrap;\n",
       "}\n",
       "</style>\n",
       "<small>shape: (5, 7)</small><table border=\"1\" class=\"dataframe\"><thead><tr><th>ID</th><th>name()</th><th>#ema20</th><th>DATE</th><th>CURRENCY</th><th>#ema200</th><th>#rsi</th></tr><tr><td>str</td><td>str</td><td>f64</td><td>date</td><td>str</td><td>f64</td><td>f64</td></tr></thead><tbody><tr><td>&quot;ERICB SS Equity&quot;</td><td>&quot;Telefonaktiebolaget LM Ericsso&quot;</td><td>90.094984</td><td>2024-12-14</td><td>&quot;SEK&quot;</td><td>74.917219</td><td>57.454412</td></tr><tr><td>&quot;SKFB SS Equity&quot;</td><td>&quot;SKF AB&quot;</td><td>214.383743</td><td>2024-12-14</td><td>&quot;SEK&quot;</td><td>205.174139</td><td>58.403269</td></tr><tr><td>&quot;SEBA SS Equity&quot;</td><td>&quot;Skandinaviska Enskilda Banken&quot;</td><td>153.680261</td><td>2024-12-14</td><td>&quot;SEK&quot;</td><td>150.720922</td><td>57.692703</td></tr><tr><td>&quot;ASSAB SS Equity&quot;</td><td>&quot;Assa Abloy AB&quot;</td><td>338.829971</td><td>2024-12-14</td><td>&quot;SEK&quot;</td><td>316.8212</td><td>55.467329</td></tr><tr><td>&quot;SWEDA SS Equity&quot;</td><td>&quot;Swedbank AB&quot;</td><td>217.380431</td><td>2024-12-14</td><td>&quot;SEK&quot;</td><td>213.776784</td><td>56.303481</td></tr></tbody></table></div>"
      ],
      "text/plain": [
       "shape: (5, 7)\n",
       "┌─────────────────┬──────────────────┬────────────┬────────────┬──────────┬────────────┬───────────┐\n",
       "│ ID              ┆ name()           ┆ #ema20     ┆ DATE       ┆ CURRENCY ┆ #ema200    ┆ #rsi      │\n",
       "│ ---             ┆ ---              ┆ ---        ┆ ---        ┆ ---      ┆ ---        ┆ ---       │\n",
       "│ str             ┆ str              ┆ f64        ┆ date       ┆ str      ┆ f64        ┆ f64       │\n",
       "╞═════════════════╪══════════════════╪════════════╪════════════╪══════════╪════════════╪═══════════╡\n",
       "│ ERICB SS Equity ┆ Telefonaktiebola ┆ 90.094984  ┆ 2024-12-14 ┆ SEK      ┆ 74.917219  ┆ 57.454412 │\n",
       "│                 ┆ get LM Ericsso   ┆            ┆            ┆          ┆            ┆           │\n",
       "│ SKFB SS Equity  ┆ SKF AB           ┆ 214.383743 ┆ 2024-12-14 ┆ SEK      ┆ 205.174139 ┆ 58.403269 │\n",
       "│ SEBA SS Equity  ┆ Skandinaviska    ┆ 153.680261 ┆ 2024-12-14 ┆ SEK      ┆ 150.720922 ┆ 57.692703 │\n",
       "│                 ┆ Enskilda Banken  ┆            ┆            ┆          ┆            ┆           │\n",
       "│ ASSAB SS Equity ┆ Assa Abloy AB    ┆ 338.829971 ┆ 2024-12-14 ┆ SEK      ┆ 316.8212   ┆ 55.467329 │\n",
       "│ SWEDA SS Equity ┆ Swedbank AB      ┆ 217.380431 ┆ 2024-12-14 ┆ SEK      ┆ 213.776784 ┆ 56.303481 │\n",
       "└─────────────────┴──────────────────┴────────────┴────────────┴──────────┴────────────┴───────────┘"
      ]
     },
     "execution_count": 13,
     "metadata": {},
     "output_type": "execute_result"
    }
   ],
   "source": [
    "# stocks with 20d EMA above 200d EMA and RSI > 70\n",
    "with BQuery() as bq:\n",
    "    df_lst = bq.bql(\n",
    "        \"\"\"\n",
    "        let(#ema20=emavg(period=20);\n",
    "            #ema200=emavg(period=200);\n",
    "            #rsi=rsi(close=px_last());)\n",
    "        get(name(), #ema20, #ema200, #rsi)\n",
    "        for(filter(members('OMX Index'),\n",
    "                    and(#ema20 > #ema200, #rsi > 55)))\n",
    "        with(fill=PREV)\n",
    "        \"\"\"\n",
    "    )\n",
    "df = (\n",
    "    df_lst[0]\n",
    "    .join(df_lst[1], on=\"ID\")\n",
    "    .join(df_lst[2], on=[\"ID\", \"DATE\", \"CURRENCY\"])\n",
    "    .join(df_lst[3], on=[\"ID\", \"DATE\"])\n",
    ")\n",
    "df"
   ]
  },
  {
   "cell_type": "code",
   "execution_count": 14,
   "metadata": {},
   "outputs": [
    {
     "ename": "IndexError",
     "evalue": "list index out of range",
     "output_type": "error",
     "traceback": [
      "\u001b[1;31m---------------------------------------------------------------------------\u001b[0m",
      "\u001b[1;31mIndexError\u001b[0m                                Traceback (most recent call last)",
      "Cell \u001b[1;32mIn[14], line 14\u001b[0m\n\u001b[0;32m     12\u001b[0m \u001b[38;5;28;01mwith\u001b[39;00m BQuery() \u001b[38;5;28;01mas\u001b[39;00m bq:\n\u001b[0;32m     13\u001b[0m     df_lst \u001b[38;5;241m=\u001b[39m bq\u001b[38;5;241m.\u001b[39mbql(query)\n\u001b[1;32m---> 14\u001b[0m df \u001b[38;5;241m=\u001b[39m \u001b[43mdf_lst\u001b[49m\u001b[43m[\u001b[49m\u001b[38;5;241;43m0\u001b[39;49m\u001b[43m]\u001b[49m\u001b[38;5;241m.\u001b[39mjoin(df_lst[\u001b[38;5;241m1\u001b[39m], on\u001b[38;5;241m=\u001b[39m\u001b[38;5;124m\"\u001b[39m\u001b[38;5;124mID\u001b[39m\u001b[38;5;124m\"\u001b[39m)\n\u001b[0;32m     15\u001b[0m df\u001b[38;5;241m.\u001b[39mhead()\n",
      "\u001b[1;31mIndexError\u001b[0m: list index out of range"
     ]
    }
   ],
   "source": [
    "# Axes for Swedish AT1 bonds with bids\n",
    "query = \"\"\"\n",
    "let(#ax=axes();)\n",
    "get(name, #ax)\n",
    "for(filter(bondsuniv(ACTIVE),\n",
    "    crncy()=='USD' and\n",
    "    basel_iii_designation() == 'Additional Tier 1' and\n",
    "    country_iso() == 'SE' and\n",
    "    is_axed('Bid') == True))\n",
    "\"\"\"\n",
    "\n",
    "with BQuery() as bq:\n",
    "    df_lst = bq.bql(query)\n",
    "df = df_lst[0].join(df_lst[1], on=\"ID\")\n",
    "df.head()"
   ]
  },
  {
   "cell_type": "code",
   "execution_count": null,
   "metadata": {},
   "outputs": [
    {
     "data": {
      "text/html": [
       "<div><style>\n",
       ".dataframe > thead > tr,\n",
       ".dataframe > tbody > tr {\n",
       "  text-align: right;\n",
       "  white-space: pre-wrap;\n",
       "}\n",
       "</style>\n",
       "<small>shape: (5, 6)</small><table border=\"1\" class=\"dataframe\"><thead><tr><th>ID</th><th>name()</th><th>#rank</th><th>#nxt_call</th><th>#oas</th><th>DATE</th></tr><tr><td>str</td><td>str</td><td>str</td><td>date</td><td>f64</td><td>date</td></tr></thead><tbody><tr><td>&quot;YX231113 Corp&quot;</td><td>&quot;GTN 10 ½ 07/15/29&quot;</td><td>&quot;1st Lien Secured&quot;</td><td>2026-07-15</td><td>612.527259</td><td>2024-12-11</td></tr><tr><td>&quot;BS116983 Corp&quot;</td><td>&quot;GTN 5 ⅜ 11/15/31&quot;</td><td>&quot;Sr Unsecured&quot;</td><td>2026-11-15</td><td>1164.436869</td><td>2024-12-11</td></tr><tr><td>&quot;AV438089 Corp&quot;</td><td>&quot;GTN 7 05/15/27&quot;</td><td>&quot;Sr Unsecured&quot;</td><td>2024-12-17</td><td>397.46361</td><td>2024-12-11</td></tr><tr><td>&quot;ZO860846 Corp&quot;</td><td>&quot;GTN 4 ¾ 10/15/30&quot;</td><td>&quot;Sr Unsecured&quot;</td><td>2025-10-15</td><td>1202.244214</td><td>2024-12-11</td></tr><tr><td>&quot;LW375188 Corp&quot;</td><td>&quot;GTN 5 ⅞ 07/15/26&quot;</td><td>&quot;Sr Unsecured&quot;</td><td>2025-01-06</td><td>184.717971</td><td>2024-12-11</td></tr></tbody></table></div>"
      ],
      "text/plain": [
       "shape: (5, 6)\n",
       "┌───────────────┬───────────────────┬──────────────────┬────────────┬─────────────┬────────────┐\n",
       "│ ID            ┆ name()            ┆ #rank            ┆ #nxt_call  ┆ #oas        ┆ DATE       │\n",
       "│ ---           ┆ ---               ┆ ---              ┆ ---        ┆ ---         ┆ ---        │\n",
       "│ str           ┆ str               ┆ str              ┆ date       ┆ f64         ┆ date       │\n",
       "╞═══════════════╪═══════════════════╪══════════════════╪════════════╪═════════════╪════════════╡\n",
       "│ YX231113 Corp ┆ GTN 10 ½ 07/15/29 ┆ 1st Lien Secured ┆ 2026-07-15 ┆ 612.527259  ┆ 2024-12-11 │\n",
       "│ BS116983 Corp ┆ GTN 5 ⅜ 11/15/31  ┆ Sr Unsecured     ┆ 2026-11-15 ┆ 1164.436869 ┆ 2024-12-11 │\n",
       "│ AV438089 Corp ┆ GTN 7 05/15/27    ┆ Sr Unsecured     ┆ 2024-12-17 ┆ 397.46361   ┆ 2024-12-11 │\n",
       "│ ZO860846 Corp ┆ GTN 4 ¾ 10/15/30  ┆ Sr Unsecured     ┆ 2025-10-15 ┆ 1202.244214 ┆ 2024-12-11 │\n",
       "│ LW375188 Corp ┆ GTN 5 ⅞ 07/15/26  ┆ Sr Unsecured     ┆ 2025-01-06 ┆ 184.717971  ┆ 2024-12-11 │\n",
       "└───────────────┴───────────────────┴──────────────────┴────────────┴─────────────┴────────────┘"
      ]
     },
     "execution_count": 49,
     "metadata": {},
     "output_type": "execute_result"
    }
   ],
   "source": [
    "# Get Bond Universe from Equity Ticker\n",
    "query = \"\"\"\n",
    "let(#rank=normalized_payment_rank();\n",
    "    #oas=spread(st=oas);\n",
    "    #nxt_call=nxt_call_dt();\n",
    "    )\n",
    "get(name(), #rank, #nxt_call, #oas)\n",
    "for(filter(bonds('GTN US Equity'), series() == '144A'))\n",
    "\"\"\"\n",
    "\n",
    "with BQuery() as bq:\n",
    "    df_lst = bq.bql(query)\n",
    "df = df_lst[0].join(df_lst[1], on=\"ID\").join(df_lst[2], on=\"ID\").join(df_lst[3], on=\"ID\")\n",
    "df.head()"
   ]
  },
  {
   "cell_type": "code",
   "execution_count": null,
   "metadata": {},
   "outputs": [
    {
     "data": {
      "text/html": [
       "<div><style>\n",
       ".dataframe > thead > tr,\n",
       ".dataframe > tbody > tr {\n",
       "  text-align: right;\n",
       "  white-space: pre-wrap;\n",
       "}\n",
       "</style>\n",
       "<small>shape: (5, 6)</small><table border=\"1\" class=\"dataframe\"><thead><tr><th>DATE</th><th>YX231113 Corp</th><th>BS116983 Corp</th><th>AV438089 Corp</th><th>ZO860846 Corp</th><th>LW375188 Corp</th></tr><tr><td>date</td><td>f64</td><td>f64</td><td>f64</td><td>f64</td><td>f64</td></tr></thead><tbody><tr><td>2024-11-13</td><td>-0.01427</td><td>-0.03175</td><td>-0.01165</td><td>-0.030335</td><td>0.001243</td></tr><tr><td>2024-11-20</td><td>-0.002037</td><td>-0.018293</td><td>0.0044</td><td>-0.012467</td><td>-0.002927</td></tr><tr><td>2024-11-27</td><td>0.006718</td><td>0.044034</td><td>0.016076</td><td>0.038166</td><td>0.000209</td></tr><tr><td>2024-12-04</td><td>0.001222</td><td>0.016511</td><td>-0.000664</td><td>0.013262</td><td>0.001091</td></tr><tr><td>2024-12-11</td><td>-0.000379</td><td>-0.021545</td><td>0.004619</td><td>-0.026725</td><td>0.001306</td></tr></tbody></table></div>"
      ],
      "text/plain": [
       "shape: (5, 6)\n",
       "┌────────────┬───────────────┬───────────────┬───────────────┬───────────────┬───────────────┐\n",
       "│ DATE       ┆ YX231113 Corp ┆ BS116983 Corp ┆ AV438089 Corp ┆ ZO860846 Corp ┆ LW375188 Corp │\n",
       "│ ---        ┆ ---           ┆ ---           ┆ ---           ┆ ---           ┆ ---           │\n",
       "│ date       ┆ f64           ┆ f64           ┆ f64           ┆ f64           ┆ f64           │\n",
       "╞════════════╪═══════════════╪═══════════════╪═══════════════╪═══════════════╪═══════════════╡\n",
       "│ 2024-11-13 ┆ -0.01427      ┆ -0.03175      ┆ -0.01165      ┆ -0.030335     ┆ 0.001243      │\n",
       "│ 2024-11-20 ┆ -0.002037     ┆ -0.018293     ┆ 0.0044        ┆ -0.012467     ┆ -0.002927     │\n",
       "│ 2024-11-27 ┆ 0.006718      ┆ 0.044034      ┆ 0.016076      ┆ 0.038166      ┆ 0.000209      │\n",
       "│ 2024-12-04 ┆ 0.001222      ┆ 0.016511      ┆ -0.000664     ┆ 0.013262      ┆ 0.001091      │\n",
       "│ 2024-12-11 ┆ -0.000379     ┆ -0.021545     ┆ 0.004619      ┆ -0.026725     ┆ 0.001306      │\n",
       "└────────────┴───────────────┴───────────────┴───────────────┴───────────────┴───────────────┘"
      ]
     },
     "execution_count": 54,
     "metadata": {},
     "output_type": "execute_result"
    }
   ],
   "source": [
    "# Total Return of GTN Bonds\n",
    "query = \"\"\"\n",
    "let(#rng = range(-3M, 0D);\n",
    "    #rets = return_series(calc_interval=#rng,per=W);\n",
    "    )\n",
    "get(#rets)\n",
    "for(filter(bonds('GTN US Equity'), series() == '144A'))\n",
    "\"\"\"\n",
    "\n",
    "with BQuery() as bq:\n",
    "    df_lst = bq.bql(query)\n",
    "df = df_lst[0].pivot(on=\"ID\", index=\"DATE\", values=\"#rets\")\n",
    "df.tail()"
   ]
  },
  {
   "cell_type": "code",
   "execution_count": null,
   "metadata": {},
   "outputs": [
    {
     "data": {
      "text/html": [
       "<div><style>\n",
       ".dataframe > thead > tr,\n",
       ".dataframe > tbody > tr {\n",
       "  text-align: right;\n",
       "  white-space: pre-wrap;\n",
       "}\n",
       "</style>\n",
       "<small>shape: (5, 5)</small><table border=\"1\" class=\"dataframe\"><thead><tr><th>PERIOD_END_DATE</th><th>Broadcasting</th><th>Production Companies</th><th>Other </th><th>Adjustment</th></tr><tr><td>date</td><td>f64</td><td>f64</td><td>f64</td><td>f64</td></tr></thead><tbody><tr><td>2023-09-30</td><td>7.83e8</td><td>2e7</td><td>1.6e7</td><td>null</td></tr><tr><td>2023-12-31</td><td>8.13e8</td><td>3.2e7</td><td>1.9e7</td><td>null</td></tr><tr><td>2024-03-31</td><td>7.8e8</td><td>2.4e7</td><td>1.9e7</td><td>null</td></tr><tr><td>2024-06-30</td><td>8.08e8</td><td>1.8e7</td><td>0.0</td><td>null</td></tr><tr><td>2024-09-30</td><td>9.24e8</td><td>2.6e7</td><td>1.7e7</td><td>null</td></tr></tbody></table></div>"
      ],
      "text/plain": [
       "shape: (5, 5)\n",
       "┌─────────────────┬──────────────┬──────────────────────┬────────┬────────────┐\n",
       "│ PERIOD_END_DATE ┆ Broadcasting ┆ Production Companies ┆ Other  ┆ Adjustment │\n",
       "│ ---             ┆ ---          ┆ ---                  ┆ ---    ┆ ---        │\n",
       "│ date            ┆ f64          ┆ f64                  ┆ f64    ┆ f64        │\n",
       "╞═════════════════╪══════════════╪══════════════════════╪════════╪════════════╡\n",
       "│ 2023-09-30      ┆ 7.83e8       ┆ 2e7                  ┆ 1.6e7  ┆ null       │\n",
       "│ 2023-12-31      ┆ 8.13e8       ┆ 3.2e7                ┆ 1.9e7  ┆ null       │\n",
       "│ 2024-03-31      ┆ 7.8e8        ┆ 2.4e7                ┆ 1.9e7  ┆ null       │\n",
       "│ 2024-06-30      ┆ 8.08e8       ┆ 1.8e7                ┆ 0.0    ┆ null       │\n",
       "│ 2024-09-30      ┆ 9.24e8       ┆ 2.6e7                ┆ 1.7e7  ┆ null       │\n",
       "└─────────────────┴──────────────┴──────────────────────┴────────┴────────────┘"
      ]
     },
     "execution_count": 60,
     "metadata": {},
     "output_type": "execute_result"
    }
   ],
   "source": [
    "# Revenue per segment\n",
    "query = \"\"\"\n",
    "    let(#segment=segment_name();\n",
    "        #revenue=sales_Rev_turn(fpt=q, fpr=range(2023Q3, 2024Q3));\n",
    "        )\n",
    "    get(#segment, #revenue)\n",
    "    for(segments('GTN US Equity',type=reported,hierarchy=PRODUCT, level=1))\n",
    "\"\"\"\n",
    "with BQuery() as bq:\n",
    "    df_lst = bq.bql(query)\n",
    "df = (\n",
    "    df_lst[1]\n",
    "    .join(df_lst[0].select(\"ID\", \"#segment\"), on=\"ID\")\n",
    "    .pivot(on=\"#segment\", index=\"PERIOD_END_DATE\", values=\"#revenue\")\n",
    ")\n",
    "df"
   ]
  }
 ],
 "metadata": {
  "kernelspec": {
   "display_name": ".venv",
   "language": "python",
   "name": "python3"
  },
  "language_info": {
   "codemirror_mode": {
    "name": "ipython",
    "version": 3
   },
   "file_extension": ".py",
   "mimetype": "text/x-python",
   "name": "python",
   "nbconvert_exporter": "python",
   "pygments_lexer": "ipython3",
   "version": "3.12.0"
  }
 },
 "nbformat": 4,
 "nbformat_minor": 2
}
