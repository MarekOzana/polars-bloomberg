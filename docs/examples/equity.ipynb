{
 "cells": [
  {
   "cell_type": "markdown",
   "metadata": {},
   "source": [
    "# Equity Examples\n",
    "(c) Marek Ozana\n",
    "\n",
    "Example usage of polars-bloomberg in Equity space"
   ]
  },
  {
   "cell_type": "code",
   "execution_count": 1,
   "metadata": {},
   "outputs": [],
   "source": [
    "# imports\n",
    "import altair as alt\n",
    "\n",
    "from polars_bloomberg import BQuery\n"
   ]
  },
  {
   "cell_type": "markdown",
   "metadata": {},
   "source": [
    "## S&P Annual Price Returns"
   ]
  },
  {
   "cell_type": "code",
   "execution_count": 5,
   "metadata": {},
   "outputs": [
    {
     "data": {
      "text/html": [
       "\n",
       "<style>\n",
       "  #altair-viz-48c88008bd8748ffbc1ae7c5339fce71.vega-embed {\n",
       "    width: 100%;\n",
       "    display: flex;\n",
       "  }\n",
       "\n",
       "  #altair-viz-48c88008bd8748ffbc1ae7c5339fce71.vega-embed details,\n",
       "  #altair-viz-48c88008bd8748ffbc1ae7c5339fce71.vega-embed details summary {\n",
       "    position: relative;\n",
       "  }\n",
       "</style>\n",
       "<div id=\"altair-viz-48c88008bd8748ffbc1ae7c5339fce71\"></div>\n",
       "<script type=\"text/javascript\">\n",
       "  var VEGA_DEBUG = (typeof VEGA_DEBUG == \"undefined\") ? {} : VEGA_DEBUG;\n",
       "  (function(spec, embedOpt){\n",
       "    let outputDiv = document.currentScript.previousElementSibling;\n",
       "    if (outputDiv.id !== \"altair-viz-48c88008bd8748ffbc1ae7c5339fce71\") {\n",
       "      outputDiv = document.getElementById(\"altair-viz-48c88008bd8748ffbc1ae7c5339fce71\");\n",
       "    }\n",
       "\n",
       "    const paths = {\n",
       "      \"vega\": \"https://cdn.jsdelivr.net/npm/vega@5?noext\",\n",
       "      \"vega-lib\": \"https://cdn.jsdelivr.net/npm/vega-lib?noext\",\n",
       "      \"vega-lite\": \"https://cdn.jsdelivr.net/npm/vega-lite@5.20.1?noext\",\n",
       "      \"vega-embed\": \"https://cdn.jsdelivr.net/npm/vega-embed@6?noext\",\n",
       "    };\n",
       "\n",
       "    function maybeLoadScript(lib, version) {\n",
       "      var key = `${lib.replace(\"-\", \"\")}_version`;\n",
       "      return (VEGA_DEBUG[key] == version) ?\n",
       "        Promise.resolve(paths[lib]) :\n",
       "        new Promise(function(resolve, reject) {\n",
       "          var s = document.createElement('script');\n",
       "          document.getElementsByTagName(\"head\")[0].appendChild(s);\n",
       "          s.async = true;\n",
       "          s.onload = () => {\n",
       "            VEGA_DEBUG[key] = version;\n",
       "            return resolve(paths[lib]);\n",
       "          };\n",
       "          s.onerror = () => reject(`Error loading script: ${paths[lib]}`);\n",
       "          s.src = paths[lib];\n",
       "        });\n",
       "    }\n",
       "\n",
       "    function showError(err) {\n",
       "      outputDiv.innerHTML = `<div class=\"error\" style=\"color:red;\">${err}</div>`;\n",
       "      throw err;\n",
       "    }\n",
       "\n",
       "    function displayChart(vegaEmbed) {\n",
       "      vegaEmbed(outputDiv, spec, embedOpt)\n",
       "        .catch(err => showError(`Javascript Error: ${err.message}<br>This usually means there's a typo in your chart specification. See the javascript console for the full traceback.`));\n",
       "    }\n",
       "\n",
       "    if(typeof define === \"function\" && define.amd) {\n",
       "      requirejs.config({paths});\n",
       "      let deps = [\"vega-embed\"];\n",
       "      require(deps, displayChart, err => showError(`Error loading script: ${err.message}`));\n",
       "    } else {\n",
       "      maybeLoadScript(\"vega\", \"5\")\n",
       "        .then(() => maybeLoadScript(\"vega-lite\", \"5.20.1\"))\n",
       "        .then(() => maybeLoadScript(\"vega-embed\", \"6\"))\n",
       "        .catch(showError)\n",
       "        .then(() => displayChart(vegaEmbed));\n",
       "    }\n",
       "  })({\"config\": {\"view\": {\"continuousWidth\": 300, \"continuousHeight\": 300}}, \"layer\": [{\"mark\": {\"type\": \"bar\"}, \"encoding\": {\"color\": {\"field\": \"#YEAR\", \"legend\": null, \"scale\": {\"scheme\": \"blueorange\", \"reverse\": true}, \"type\": \"ordinal\"}, \"x\": {\"field\": \"#bins\", \"sort\": [\"< -50\", \"-50 to -40\", \"-40 to -30\", \"-30 to -20\", \"-20 to -10\", \"-10 to 0\", \"0 to 10\", \"10 to 20\", \"20 to 30\", \"30 to 40\", \"40 to 50\", \"> 50\"], \"title\": \"Annual Returns (%)\", \"type\": \"ordinal\"}, \"y\": {\"aggregate\": \"count\", \"stack\": \"zero\", \"title\": \"Count\", \"type\": \"quantitative\"}}, \"title\": \"S&P 500 Annual Price Returns\"}, {\"mark\": {\"type\": \"text\", \"dy\": 7}, \"encoding\": {\"text\": {\"field\": \"#YEAR\", \"type\": \"ordinal\"}, \"x\": {\"field\": \"#bins\", \"sort\": [\"< -50\", \"-50 to -40\", \"-40 to -30\", \"-30 to -20\", \"-20 to -10\", \"-10 to 0\", \"0 to 10\", \"10 to 20\", \"20 to 30\", \"30 to 40\", \"40 to 50\", \"> 50\"], \"title\": \"Annual Returns (%)\", \"type\": \"ordinal\"}, \"y\": {\"aggregate\": \"count\", \"stack\": \"zero\", \"title\": \"Count\", \"type\": \"quantitative\"}}, \"title\": \"S&P 500 Annual Price Returns\"}], \"data\": {\"name\": \"data-02f7bb828f2c065c157111a17547d546\"}, \"height\": 400, \"width\": 600, \"$schema\": \"https://vega.github.io/schema/vega-lite/v5.20.1.json\", \"datasets\": {\"data-02f7bb828f2c065c157111a17547d546\": [{\"ID\": \"1927.0\", \"#rets\": 0.0, \"DATE\": \"1927-12-30T00:00:00\", \"CURRENCY\": null, \"ORIG_IDS\": \"SPX Index\", \"#YEAR\": 1927, \"#bins\": \"0 to 10\"}, {\"ID\": \"1928.0\", \"#rets\": 35.78708946772367, \"DATE\": \"1928-12-28T00:00:00\", \"CURRENCY\": null, \"ORIG_IDS\": \"SPX Index\", \"#YEAR\": 1928, \"#bins\": \"30 to 40\"}, {\"ID\": \"1929.0\", \"#rets\": -16.21730382293763, \"DATE\": \"1929-12-27T00:00:00\", \"CURRENCY\": null, \"ORIG_IDS\": \"SPX Index\", \"#YEAR\": 1929, \"#bins\": \"-20 to -10\"}, {\"ID\": \"1930.0\", \"#rets\": -30.05181347150259, \"DATE\": \"1930-12-26T00:00:00\", \"CURRENCY\": null, \"ORIG_IDS\": \"SPX Index\", \"#YEAR\": 1930, \"#bins\": \"-40 to -30\"}, {\"ID\": \"1931.0\", \"#rets\": -49.77917981072555, \"DATE\": \"1931-12-25T00:00:00\", \"CURRENCY\": null, \"ORIG_IDS\": \"SPX Index\", \"#YEAR\": 1931, \"#bins\": \"-50 to -40\"}, {\"ID\": \"1932.0\", \"#rets\": -14.778325123152703, \"DATE\": \"1932-12-30T00:00:00\", \"CURRENCY\": null, \"ORIG_IDS\": \"SPX Index\", \"#YEAR\": 1932, \"#bins\": \"-20 to -10\"}, {\"ID\": \"1933.0\", \"#rets\": 37.89764868603043, \"DATE\": \"1933-12-29T00:00:00\", \"CURRENCY\": null, \"ORIG_IDS\": \"SPX Index\", \"#YEAR\": 1933, \"#bins\": \"30 to 40\"}, {\"ID\": \"1934.0\", \"#rets\": -4.0774719673802275, \"DATE\": \"1934-12-28T00:00:00\", \"CURRENCY\": null, \"ORIG_IDS\": \"SPX Index\", \"#YEAR\": 1934, \"#bins\": \"-10 to 0\"}, {\"ID\": \"1935.0\", \"#rets\": 37.85488958990536, \"DATE\": \"1935-12-27T00:00:00\", \"CURRENCY\": null, \"ORIG_IDS\": \"SPX Index\", \"#YEAR\": 1935, \"#bins\": \"30 to 40\"}, {\"ID\": \"1936.0\", \"#rets\": 25.90405904059039, \"DATE\": \"1936-12-25T00:00:00\", \"CURRENCY\": null, \"ORIG_IDS\": \"SPX Index\", \"#YEAR\": 1936, \"#bins\": \"20 to 30\"}, {\"ID\": \"1937.0\", \"#rets\": -38.59138533178113, \"DATE\": \"1937-12-31T00:00:00\", \"CURRENCY\": null, \"ORIG_IDS\": \"SPX Index\", \"#YEAR\": 1937, \"#bins\": \"-40 to -30\"}, {\"ID\": \"1938.0\", \"#rets\": 16.077738515901064, \"DATE\": \"1938-12-30T00:00:00\", \"CURRENCY\": null, \"ORIG_IDS\": \"SPX Index\", \"#YEAR\": 1938, \"#bins\": \"10 to 20\"}, {\"ID\": \"1939.0\", \"#rets\": -4.6671767406273865, \"DATE\": \"1939-12-29T00:00:00\", \"CURRENCY\": null, \"ORIG_IDS\": \"SPX Index\", \"#YEAR\": 1939, \"#bins\": \"-10 to 0\"}, {\"ID\": \"1940.0\", \"#rets\": -17.535545023696688, \"DATE\": \"1940-12-27T00:00:00\", \"CURRENCY\": null, \"ORIG_IDS\": \"SPX Index\", \"#YEAR\": 1940, \"#bins\": \"-20 to -10\"}, {\"ID\": \"1941.0\", \"#rets\": -21.45522388059702, \"DATE\": \"1941-12-26T00:00:00\", \"CURRENCY\": null, \"ORIG_IDS\": \"SPX Index\", \"#YEAR\": 1941, \"#bins\": \"-30 to -20\"}, {\"ID\": \"1942.0\", \"#rets\": 9.561304836895383, \"DATE\": \"1942-12-25T00:00:00\", \"CURRENCY\": null, \"ORIG_IDS\": \"SPX Index\", \"#YEAR\": 1942, \"#bins\": \"0 to 10\"}, {\"ID\": \"1943.0\", \"#rets\": 19.44728761514842, \"DATE\": \"1943-12-31T00:00:00\", \"CURRENCY\": null, \"ORIG_IDS\": \"SPX Index\", \"#YEAR\": 1943, \"#bins\": \"10 to 20\"}, {\"ID\": \"1944.0\", \"#rets\": 11.878685762426286, \"DATE\": \"1944-12-29T00:00:00\", \"CURRENCY\": null, \"ORIG_IDS\": \"SPX Index\", \"#YEAR\": 1944, \"#bins\": \"10 to 20\"}, {\"ID\": \"1945.0\", \"#rets\": 28.60326894502227, \"DATE\": \"1945-12-28T00:00:00\", \"CURRENCY\": null, \"ORIG_IDS\": \"SPX Index\", \"#YEAR\": 1945, \"#bins\": \"20 to 30\"}, {\"ID\": \"1946.0\", \"#rets\": -11.839814277423104, \"DATE\": \"1946-12-27T00:00:00\", \"CURRENCY\": null, \"ORIG_IDS\": \"SPX Index\", \"#YEAR\": 1946, \"#bins\": \"-20 to -10\"}, {\"ID\": \"1947.0\", \"#rets\": -0.9174311926605542, \"DATE\": \"1947-12-26T00:00:00\", \"CURRENCY\": null, \"ORIG_IDS\": \"SPX Index\", \"#YEAR\": 1947, \"#bins\": \"-10 to 0\"}, {\"ID\": \"1948.0\", \"#rets\": -0.9126466753585435, \"DATE\": \"1948-12-31T00:00:00\", \"CURRENCY\": null, \"ORIG_IDS\": \"SPX Index\", \"#YEAR\": 1948, \"#bins\": \"-10 to 0\"}, {\"ID\": \"1949.0\", \"#rets\": 7.559256886611145, \"DATE\": \"1949-12-30T00:00:00\", \"CURRENCY\": null, \"ORIG_IDS\": \"SPX Index\", \"#YEAR\": 1949, \"#bins\": \"0 to 10\"}, {\"ID\": \"1950.0\", \"#rets\": 20.318021201413423, \"DATE\": \"1950-12-29T00:00:00\", \"CURRENCY\": null, \"ORIG_IDS\": \"SPX Index\", \"#YEAR\": 1950, \"#bins\": \"20 to 30\"}, {\"ID\": \"1951.0\", \"#rets\": 13.51221849544801, \"DATE\": \"1951-12-28T00:00:00\", \"CURRENCY\": null, \"ORIG_IDS\": \"SPX Index\", \"#YEAR\": 1951, \"#bins\": \"10 to 20\"}, {\"ID\": \"1952.0\", \"#rets\": 9.740802675585277, \"DATE\": \"1952-12-26T00:00:00\", \"CURRENCY\": null, \"ORIG_IDS\": \"SPX Index\", \"#YEAR\": 1952, \"#bins\": \"0 to 10\"}, {\"ID\": \"1953.0\", \"#rets\": -6.55614167294649, \"DATE\": \"1953-12-25T00:00:00\", \"CURRENCY\": null, \"ORIG_IDS\": \"SPX Index\", \"#YEAR\": 1953, \"#bins\": \"-10 to 0\"}, {\"ID\": \"1954.0\", \"#rets\": 45.02216848045143, \"DATE\": \"1954-12-31T00:00:00\", \"CURRENCY\": null, \"ORIG_IDS\": \"SPX Index\", \"#YEAR\": 1954, \"#bins\": \"40 to 50\"}, {\"ID\": \"1955.0\", \"#rets\": 28.729125389187654, \"DATE\": \"1955-12-30T00:00:00\", \"CURRENCY\": null, \"ORIG_IDS\": \"SPX Index\", \"#YEAR\": 1955, \"#bins\": \"20 to 30\"}, {\"ID\": \"1956.0\", \"#rets\": 3.145768719539215, \"DATE\": \"1956-12-28T00:00:00\", \"CURRENCY\": null, \"ORIG_IDS\": \"SPX Index\", \"#YEAR\": 1956, \"#bins\": \"0 to 10\"}, {\"ID\": \"1957.0\", \"#rets\": -14.744963566223737, \"DATE\": \"1957-12-27T00:00:00\", \"CURRENCY\": null, \"ORIG_IDS\": \"SPX Index\", \"#YEAR\": 1957, \"#bins\": \"-20 to -10\"}, {\"ID\": \"1958.0\", \"#rets\": 32.395400048935656, \"DATE\": \"1958-12-26T00:00:00\", \"CURRENCY\": null, \"ORIG_IDS\": \"SPX Index\", \"#YEAR\": 1958, \"#bins\": \"30 to 40\"}, {\"ID\": \"1959.0\", \"#rets\": 6.421356421356425, \"DATE\": \"1959-12-25T00:00:00\", \"CURRENCY\": null, \"ORIG_IDS\": \"SPX Index\", \"#YEAR\": 1959, \"#bins\": \"0 to 10\"}, {\"ID\": \"1960.0\", \"#rets\": -2.97211554516614, \"DATE\": \"1960-12-30T00:00:00\", \"CURRENCY\": null, \"ORIG_IDS\": \"SPX Index\", \"#YEAR\": 1960, \"#bins\": \"-10 to 0\"}, {\"ID\": \"1961.0\", \"#rets\": 22.34952120383037, \"DATE\": \"1961-12-29T00:00:00\", \"CURRENCY\": null, \"ORIG_IDS\": \"SPX Index\", \"#YEAR\": 1961, \"#bins\": \"20 to 30\"}, {\"ID\": \"1962.0\", \"#rets\": -9.61814527706, \"DATE\": \"1962-12-28T00:00:00\", \"CURRENCY\": null, \"ORIG_IDS\": \"SPX Index\", \"#YEAR\": 1962, \"#bins\": \"-10 to 0\"}, {\"ID\": \"1963.0\", \"#rets\": 16.076719164197726, \"DATE\": \"1963-12-27T00:00:00\", \"CURRENCY\": null, \"ORIG_IDS\": \"SPX Index\", \"#YEAR\": 1963, \"#bins\": \"10 to 20\"}, {\"ID\": \"1964.0\", \"#rets\": 11.456953642384113, \"DATE\": \"1964-12-25T00:00:00\", \"CURRENCY\": null, \"ORIG_IDS\": \"SPX Index\", \"#YEAR\": 1964, \"#bins\": \"10 to 20\"}, {\"ID\": \"1965.0\", \"#rets\": 9.061946902654876, \"DATE\": \"1965-12-31T00:00:00\", \"CURRENCY\": null, \"ORIG_IDS\": \"SPX Index\", \"#YEAR\": 1965, \"#bins\": \"0 to 10\"}, {\"ID\": \"1966.0\", \"#rets\": -13.753489370839599, \"DATE\": \"1966-12-30T00:00:00\", \"CURRENCY\": null, \"ORIG_IDS\": \"SPX Index\", \"#YEAR\": 1966, \"#bins\": \"-20 to -10\"}, {\"ID\": \"1967.0\", \"#rets\": 17.388659041129216, \"DATE\": \"1967-12-29T00:00:00\", \"CURRENCY\": null, \"ORIG_IDS\": \"SPX Index\", \"#YEAR\": 1967, \"#bins\": \"10 to 20\"}, {\"ID\": \"1968.0\", \"#rets\": 9.172399416301854, \"DATE\": \"1968-12-27T00:00:00\", \"CURRENCY\": null, \"ORIG_IDS\": \"SPX Index\", \"#YEAR\": 1968, \"#bins\": \"0 to 10\"}, {\"ID\": \"1969.0\", \"#rets\": -11.635734205212035, \"DATE\": \"1969-12-26T00:00:00\", \"CURRENCY\": null, \"ORIG_IDS\": \"SPX Index\", \"#YEAR\": 1969, \"#bins\": \"-20 to -10\"}, {\"ID\": \"1970.0\", \"#rets\": -2.5698924731182804, \"DATE\": \"1970-12-25T00:00:00\", \"CURRENCY\": null, \"ORIG_IDS\": \"SPX Index\", \"#YEAR\": 1970, \"#bins\": \"-10 to 0\"}, {\"ID\": \"1971.0\", \"#rets\": 10.786760716223545, \"DATE\": \"1971-12-31T00:00:00\", \"CURRENCY\": null, \"ORIG_IDS\": \"SPX Index\", \"#YEAR\": 1971, \"#bins\": \"10 to 20\"}, {\"ID\": \"1972.0\", \"#rets\": 14.091040881414902, \"DATE\": \"1972-12-29T00:00:00\", \"CURRENCY\": null, \"ORIG_IDS\": \"SPX Index\", \"#YEAR\": 1972, \"#bins\": \"10 to 20\"}, {\"ID\": \"1973.0\", \"#rets\": -18.628514223742386, \"DATE\": \"1973-12-28T00:00:00\", \"CURRENCY\": null, \"ORIG_IDS\": \"SPX Index\", \"#YEAR\": 1973, \"#bins\": \"-20 to -10\"}, {\"ID\": \"1974.0\", \"#rets\": -32.11324570273003, \"DATE\": \"1974-12-27T00:00:00\", \"CURRENCY\": null, \"ORIG_IDS\": \"SPX Index\", \"#YEAR\": 1974, \"#bins\": \"-40 to -30\"}, {\"ID\": \"1975.0\", \"#rets\": 27.633998020082036, \"DATE\": \"1975-12-26T00:00:00\", \"CURRENCY\": null, \"ORIG_IDS\": \"SPX Index\", \"#YEAR\": 1975, \"#bins\": \"20 to 30\"}, {\"ID\": \"1976.0\", \"#rets\": 18.217821782178202, \"DATE\": \"1976-12-31T00:00:00\", \"CURRENCY\": null, \"ORIG_IDS\": \"SPX Index\", \"#YEAR\": 1976, \"#bins\": \"10 to 20\"}, {\"ID\": \"1977.0\", \"#rets\": -9.43719645748025, \"DATE\": \"1977-12-30T00:00:00\", \"CURRENCY\": null, \"ORIG_IDS\": \"SPX Index\", \"#YEAR\": 1977, \"#bins\": \"-10 to 0\"}, {\"ID\": \"1978.0\", \"#rets\": 4.9006767081423215, \"DATE\": \"1978-12-29T00:00:00\", \"CURRENCY\": null, \"ORIG_IDS\": \"SPX Index\", \"#YEAR\": 1978, \"#bins\": \"0 to 10\"}, {\"ID\": \"1979.0\", \"#rets\": 8.786442045798456, \"DATE\": \"1979-12-28T00:00:00\", \"CURRENCY\": null, \"ORIG_IDS\": \"SPX Index\", \"#YEAR\": 1979, \"#bins\": \"0 to 10\"}, {\"ID\": \"1980.0\", \"#rets\": 28.210664663912876, \"DATE\": \"1980-12-26T00:00:00\", \"CURRENCY\": null, \"ORIG_IDS\": \"SPX Index\", \"#YEAR\": 1980, \"#bins\": \"20 to 30\"}, {\"ID\": \"1981.0\", \"#rets\": -10.12175443743582, \"DATE\": \"1981-12-25T00:00:00\", \"CURRENCY\": null, \"ORIG_IDS\": \"SPX Index\", \"#YEAR\": 1981, \"#bins\": \"-20 to -10\"}, {\"ID\": \"1982.0\", \"#rets\": 14.761321909424716, \"DATE\": \"1982-12-31T00:00:00\", \"CURRENCY\": null, \"ORIG_IDS\": \"SPX Index\", \"#YEAR\": 1982, \"#bins\": \"10 to 20\"}, {\"ID\": \"1983.0\", \"#rets\": 13.603802176608347, \"DATE\": \"1983-12-30T00:00:00\", \"CURRENCY\": null, \"ORIG_IDS\": \"SPX Index\", \"#YEAR\": 1983, \"#bins\": \"10 to 20\"}, {\"ID\": \"1984.0\", \"#rets\": -1.7840264650283613, \"DATE\": \"1984-12-28T00:00:00\", \"CURRENCY\": null, \"ORIG_IDS\": \"SPX Index\", \"#YEAR\": 1984, \"#bins\": \"-10 to 0\"}, {\"ID\": \"1985.0\", \"#rets\": 28.0608504398827, \"DATE\": \"1985-12-27T00:00:00\", \"CURRENCY\": null, \"ORIG_IDS\": \"SPX Index\", \"#YEAR\": 1985, \"#bins\": \"20 to 30\"}, {\"ID\": \"1986.0\", \"#rets\": 17.09028831562974, \"DATE\": \"1986-12-26T00:00:00\", \"CURRENCY\": null, \"ORIG_IDS\": \"SPX Index\", \"#YEAR\": 1986, \"#bins\": \"10 to 20\"}, {\"ID\": \"1987.0\", \"#rets\": 2.2600933252181057, \"DATE\": \"1987-12-25T00:00:00\", \"CURRENCY\": null, \"ORIG_IDS\": \"SPX Index\", \"#YEAR\": 1987, \"#bins\": \"0 to 10\"}, {\"ID\": \"1988.0\", \"#rets\": 12.40084183260483, \"DATE\": \"1988-12-30T00:00:00\", \"CURRENCY\": null, \"ORIG_IDS\": \"SPX Index\", \"#YEAR\": 1988, \"#bins\": \"10 to 20\"}, {\"ID\": \"1989.0\", \"#rets\": 25.912993907435762, \"DATE\": \"1989-12-29T00:00:00\", \"CURRENCY\": null, \"ORIG_IDS\": \"SPX Index\", \"#YEAR\": 1989, \"#bins\": \"20 to 30\"}, {\"ID\": \"1990.0\", \"#rets\": -6.666666666666655, \"DATE\": \"1990-12-28T00:00:00\", \"CURRENCY\": null, \"ORIG_IDS\": \"SPX Index\", \"#YEAR\": 1990, \"#bins\": \"-10 to 0\"}, {\"ID\": \"1991.0\", \"#rets\": 26.623052959501553, \"DATE\": \"1991-12-27T00:00:00\", \"CURRENCY\": null, \"ORIG_IDS\": \"SPX Index\", \"#YEAR\": 1991, \"#bins\": \"20 to 30\"}, {\"ID\": \"1992.0\", \"#rets\": 4.8719416225497225, \"DATE\": \"1992-12-25T00:00:00\", \"CURRENCY\": null, \"ORIG_IDS\": \"SPX Index\", \"#YEAR\": 1992, \"#bins\": \"0 to 10\"}, {\"ID\": \"1993.0\", \"#rets\": 7.055151362144548, \"DATE\": \"1993-12-31T00:00:00\", \"CURRENCY\": null, \"ORIG_IDS\": \"SPX Index\", \"#YEAR\": 1993, \"#bins\": \"0 to 10\"}, {\"ID\": \"1994.0\", \"#rets\": -2.2621834432858043, \"DATE\": \"1994-12-30T00:00:00\", \"CURRENCY\": null, \"ORIG_IDS\": \"SPX Index\", \"#YEAR\": 1994, \"#bins\": \"-10 to 0\"}, {\"ID\": \"1995.0\", \"#rets\": 33.70018233915081, \"DATE\": \"1995-12-29T00:00:00\", \"CURRENCY\": null, \"ORIG_IDS\": \"SPX Index\", \"#YEAR\": 1995, \"#bins\": \"30 to 40\"}, {\"ID\": \"1996.0\", \"#rets\": 22.71407955116666, \"DATE\": \"1996-12-27T00:00:00\", \"CURRENCY\": null, \"ORIG_IDS\": \"SPX Index\", \"#YEAR\": 1996, \"#bins\": \"20 to 30\"}, {\"ID\": \"1997.0\", \"#rets\": 25.190166169806034, \"DATE\": \"1997-12-26T00:00:00\", \"CURRENCY\": null, \"ORIG_IDS\": \"SPX Index\", \"#YEAR\": 1997, \"#bins\": \"20 to 30\"}, {\"ID\": \"1998.0\", \"#rets\": 25.76612241549065, \"DATE\": \"1998-12-25T00:00:00\", \"CURRENCY\": null, \"ORIG_IDS\": \"SPX Index\", \"#YEAR\": 1998, \"#bins\": \"20 to 30\"}, {\"ID\": \"1999.0\", \"#rets\": 19.526044759727633, \"DATE\": \"1999-12-31T00:00:00\", \"CURRENCY\": null, \"ORIG_IDS\": \"SPX Index\", \"#YEAR\": 1999, \"#bins\": \"10 to 20\"}, {\"ID\": \"2000.0\", \"#rets\": -8.407389678591997, \"DATE\": \"2000-12-29T00:00:00\", \"CURRENCY\": null, \"ORIG_IDS\": \"SPX Index\", \"#YEAR\": 2000, \"#bins\": \"-10 to 0\"}, {\"ID\": \"2001.0\", \"#rets\": -10.577271151846569, \"DATE\": \"2001-12-28T00:00:00\", \"CURRENCY\": null, \"ORIG_IDS\": \"SPX Index\", \"#YEAR\": 2001, \"#bins\": \"-20 to -10\"}, {\"ID\": \"2002.0\", \"#rets\": -25.339655951761607, \"DATE\": \"2002-12-27T00:00:00\", \"CURRENCY\": null, \"ORIG_IDS\": \"SPX Index\", \"#YEAR\": 2002, \"#bins\": \"-30 to -20\"}, {\"ID\": \"2003.0\", \"#rets\": 20.614358511539866, \"DATE\": \"2003-12-26T00:00:00\", \"CURRENCY\": null, \"ORIG_IDS\": \"SPX Index\", \"#YEAR\": 2003, \"#bins\": \"20 to 30\"}, {\"ID\": \"2004.0\", \"#rets\": 9.3316974595843, \"DATE\": \"2004-12-31T00:00:00\", \"CURRENCY\": null, \"ORIG_IDS\": \"SPX Index\", \"#YEAR\": 2004, \"#bins\": \"0 to 10\"}, {\"ID\": \"2005.0\", \"#rets\": 5.235248990465263, \"DATE\": \"2005-12-30T00:00:00\", \"CURRENCY\": null, \"ORIG_IDS\": \"SPX Index\", \"#YEAR\": 2005, \"#bins\": \"0 to 10\"}, {\"ID\": \"2006.0\", \"#rets\": 10.334902174335827, \"DATE\": \"2006-12-29T00:00:00\", \"CURRENCY\": null, \"ORIG_IDS\": \"SPX Index\", \"#YEAR\": 2006, \"#bins\": \"10 to 20\"}, {\"ID\": \"2007.0\", \"#rets\": 4.879017670300982, \"DATE\": \"2007-12-28T00:00:00\", \"CURRENCY\": null, \"ORIG_IDS\": \"SPX Index\", \"#YEAR\": 2007, \"#bins\": \"0 to 10\"}, {\"ID\": \"2008.0\", \"#rets\": -38.17076712736341, \"DATE\": \"2008-12-26T00:00:00\", \"CURRENCY\": null, \"ORIG_IDS\": \"SPX Index\", \"#YEAR\": 2008, \"#bins\": \"-40 to -30\"}, {\"ID\": \"2009.0\", \"#rets\": 20.89289547113115, \"DATE\": \"2009-12-25T00:00:00\", \"CURRENCY\": null, \"ORIG_IDS\": \"SPX Index\", \"#YEAR\": 2009, \"#bins\": \"20 to 30\"}, {\"ID\": \"2010.0\", \"#rets\": 12.782710070845681, \"DATE\": \"2010-12-31T00:00:00\", \"CURRENCY\": null, \"ORIG_IDS\": \"SPX Index\", \"#YEAR\": 2010, \"#bins\": \"10 to 20\"}, {\"ID\": \"2011.0\", \"#rets\": -1.0924105387337868, \"DATE\": \"2011-12-30T00:00:00\", \"CURRENCY\": null, \"ORIG_IDS\": \"SPX Index\", \"#YEAR\": 2011, \"#bins\": \"-10 to 0\"}, {\"ID\": \"2012.0\", \"#rets\": 9.752623629491092, \"DATE\": \"2012-12-28T00:00:00\", \"CURRENCY\": null, \"ORIG_IDS\": \"SPX Index\", \"#YEAR\": 2012, \"#bins\": \"0 to 10\"}, {\"ID\": \"2013.0\", \"#rets\": 25.566837371374803, \"DATE\": \"2013-12-27T00:00:00\", \"CURRENCY\": null, \"ORIG_IDS\": \"SPX Index\", \"#YEAR\": 2013, \"#bins\": \"20 to 30\"}, {\"ID\": \"2014.0\", \"#rets\": 14.055051682620121, \"DATE\": \"2014-12-26T00:00:00\", \"CURRENCY\": null, \"ORIG_IDS\": \"SPX Index\", \"#YEAR\": 2014, \"#bins\": \"10 to 20\"}, {\"ID\": \"2015.0\", \"#rets\": 0.13555533961713942, \"DATE\": \"2015-12-25T00:00:00\", \"CURRENCY\": null, \"ORIG_IDS\": \"SPX Index\", \"#YEAR\": 2015, \"#bins\": \"0 to 10\"}, {\"ID\": \"2016.0\", \"#rets\": 9.535015704961978, \"DATE\": \"2016-12-30T00:00:00\", \"CURRENCY\": null, \"ORIG_IDS\": \"SPX Index\", \"#YEAR\": 2016, \"#bins\": \"0 to 10\"}, {\"ID\": \"2017.0\", \"#rets\": 17.4191253326775, \"DATE\": \"2017-12-29T00:00:00\", \"CURRENCY\": null, \"ORIG_IDS\": \"SPX Index\", \"#YEAR\": 2017, \"#bins\": \"10 to 20\"}, {\"ID\": \"2018.0\", \"#rets\": -9.383737673842127, \"DATE\": \"2018-12-28T00:00:00\", \"CURRENCY\": null, \"ORIG_IDS\": \"SPX Index\", \"#YEAR\": 2018, \"#bins\": \"-10 to 0\"}, {\"ID\": \"2019.0\", \"#rets\": 27.965907564950193, \"DATE\": \"2019-12-27T00:00:00\", \"CURRENCY\": null, \"ORIG_IDS\": \"SPX Index\", \"#YEAR\": 2019, \"#bins\": \"20 to 30\"}, {\"ID\": \"2020.0\", \"#rets\": 14.473932330710854, \"DATE\": \"2020-12-25T00:00:00\", \"CURRENCY\": null, \"ORIG_IDS\": \"SPX Index\", \"#YEAR\": 2020, \"#bins\": \"10 to 20\"}, {\"ID\": \"2021.0\", \"#rets\": 26.8927362908572, \"DATE\": \"2021-12-31T00:00:00\", \"CURRENCY\": null, \"ORIG_IDS\": \"SPX Index\", \"#YEAR\": 2021, \"#bins\": \"20 to 30\"}, {\"ID\": \"2022.0\", \"#rets\": -17.907304421823248, \"DATE\": \"2022-12-30T00:00:00\", \"CURRENCY\": null, \"ORIG_IDS\": \"SPX Index\", \"#YEAR\": 2022, \"#bins\": \"-20 to -10\"}, {\"ID\": \"2023.0\", \"#rets\": 22.45781858138986, \"DATE\": \"2023-12-29T00:00:00\", \"CURRENCY\": null, \"ORIG_IDS\": \"SPX Index\", \"#YEAR\": 2023, \"#bins\": \"20 to 30\"}, {\"ID\": \"2024.0\", \"#rets\": 26.262443477446347, \"DATE\": \"2024-12-22T00:00:00\", \"CURRENCY\": null, \"ORIG_IDS\": \"SPX Index\", \"#YEAR\": 2024, \"#bins\": \"20 to 30\"}]}}, {\"mode\": \"vega-lite\"});\n",
       "</script>"
      ],
      "text/plain": [
       "alt.LayerChart(...)"
      ]
     },
     "execution_count": 5,
     "metadata": {},
     "output_type": "execute_result"
    }
   ],
   "source": [
    "# get S&P annual price returns\n",
    "# todo: not exactly correct, since pct_change should include previous period.\n",
    "query = \"\"\"\n",
    "let(\n",
    "    #year = year(px_last(dates=range(-100Y, 0D), fill=prev, per=W).date);\n",
    "    #rets = pct_chg(group(px_last(dates=range(-100Y, 0D), fill=prev, per=W),\n",
    "                          by=#year));\n",
    "    #bins = bins(#rets,\n",
    "                 [-50, -40, -30, -20, -10, 0, 10, 20, 30, 40, 50],\n",
    "                 ['< -50', '-50 to -40', '-40 to -30', '-30 to -20',\n",
    "                  '-20 to -10', '-10 to 0', '0 to 10', '10 to 20',\n",
    "                  '20 to 30', '30 to 40', '40 to 50', '> 50']);\n",
    "     )\n",
    "get(#rets, #bins)\n",
    "for('SPX Index')\n",
    "\"\"\"\n",
    "with BQuery() as bq:\n",
    "    df = bq.bql(query).combine()\n",
    "\n",
    "# Create Chart\n",
    "base = alt.Chart(df, title=\"S&P 500 Annual Price Returns\").encode(\n",
    "    x=alt.X(\"#bins:O\", title=\"Annual Returns (%)\").sort(\n",
    "        [\n",
    "            \"< -50\",\n",
    "            \"-50 to -40\",\n",
    "            \"-40 to -30\",\n",
    "            \"-30 to -20\",\n",
    "            \"-20 to -10\",\n",
    "            \"-10 to 0\",\n",
    "            \"0 to 10\",\n",
    "            \"10 to 20\",\n",
    "            \"20 to 30\",\n",
    "            \"30 to 40\",\n",
    "            \"40 to 50\",\n",
    "            \"> 50\",\n",
    "        ]\n",
    "    ),\n",
    "    y=alt.Y(\"count()\", title=\"Count\").stack(\"zero\"),\n",
    ")\n",
    "bars = base.mark_bar().encode(\n",
    "    color=alt.Color(\"#YEAR:O\").scale(scheme=\"blueorange\", reverse=True).legend(None)\n",
    ")\n",
    "txt = base.mark_text(dy=7).encode(text=alt.Text(\"#YEAR:O\"))\n",
    "\n",
    "(bars + txt).properties(width=600, height=400)"
   ]
  }
 ],
 "metadata": {
  "kernelspec": {
   "display_name": ".venv",
   "language": "python",
   "name": "python3"
  },
  "language_info": {
   "codemirror_mode": {
    "name": "ipython",
    "version": 3
   },
   "file_extension": ".py",
   "mimetype": "text/x-python",
   "name": "python",
   "nbconvert_exporter": "python",
   "pygments_lexer": "ipython3",
   "version": "3.12.8"
  }
 },
 "nbformat": 4,
 "nbformat_minor": 2
}
