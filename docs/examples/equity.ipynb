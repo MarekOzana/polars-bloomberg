{
 "cells": [
  {
   "cell_type": "markdown",
   "metadata": {},
   "source": [
    "# Equity Examples\n",
    "(c) Marek Ozana\n",
    "\n",
    "Example usage of polars-bloomberg in Equity space"
   ]
  },
  {
   "cell_type": "code",
   "execution_count": 1,
   "metadata": {},
   "outputs": [],
   "source": [
    "# imports\n",
    "import altair as alt\n",
    "\n",
    "from polars_bloomberg import BQuery\n"
   ]
  },
  {
   "cell_type": "markdown",
   "metadata": {},
   "source": [
    "## S&P Annual Price Returns"
   ]
  },
  {
   "cell_type": "code",
   "execution_count": 2,
   "metadata": {},
   "outputs": [
    {
     "data": {
      "text/html": [
       "\n",
       "<style>\n",
       "  #altair-viz-16dde0ec23c2467bb21e85798cf70483.vega-embed {\n",
       "    width: 100%;\n",
       "    display: flex;\n",
       "  }\n",
       "\n",
       "  #altair-viz-16dde0ec23c2467bb21e85798cf70483.vega-embed details,\n",
       "  #altair-viz-16dde0ec23c2467bb21e85798cf70483.vega-embed details summary {\n",
       "    position: relative;\n",
       "  }\n",
       "</style>\n",
       "<div id=\"altair-viz-16dde0ec23c2467bb21e85798cf70483\"></div>\n",
       "<script type=\"text/javascript\">\n",
       "  var VEGA_DEBUG = (typeof VEGA_DEBUG == \"undefined\") ? {} : VEGA_DEBUG;\n",
       "  (function(spec, embedOpt){\n",
       "    let outputDiv = document.currentScript.previousElementSibling;\n",
       "    if (outputDiv.id !== \"altair-viz-16dde0ec23c2467bb21e85798cf70483\") {\n",
       "      outputDiv = document.getElementById(\"altair-viz-16dde0ec23c2467bb21e85798cf70483\");\n",
       "    }\n",
       "\n",
       "    const paths = {\n",
       "      \"vega\": \"https://cdn.jsdelivr.net/npm/vega@5?noext\",\n",
       "      \"vega-lib\": \"https://cdn.jsdelivr.net/npm/vega-lib?noext\",\n",
       "      \"vega-lite\": \"https://cdn.jsdelivr.net/npm/vega-lite@5.20.1?noext\",\n",
       "      \"vega-embed\": \"https://cdn.jsdelivr.net/npm/vega-embed@6?noext\",\n",
       "    };\n",
       "\n",
       "    function maybeLoadScript(lib, version) {\n",
       "      var key = `${lib.replace(\"-\", \"\")}_version`;\n",
       "      return (VEGA_DEBUG[key] == version) ?\n",
       "        Promise.resolve(paths[lib]) :\n",
       "        new Promise(function(resolve, reject) {\n",
       "          var s = document.createElement('script');\n",
       "          document.getElementsByTagName(\"head\")[0].appendChild(s);\n",
       "          s.async = true;\n",
       "          s.onload = () => {\n",
       "            VEGA_DEBUG[key] = version;\n",
       "            return resolve(paths[lib]);\n",
       "          };\n",
       "          s.onerror = () => reject(`Error loading script: ${paths[lib]}`);\n",
       "          s.src = paths[lib];\n",
       "        });\n",
       "    }\n",
       "\n",
       "    function showError(err) {\n",
       "      outputDiv.innerHTML = `<div class=\"error\" style=\"color:red;\">${err}</div>`;\n",
       "      throw err;\n",
       "    }\n",
       "\n",
       "    function displayChart(vegaEmbed) {\n",
       "      vegaEmbed(outputDiv, spec, embedOpt)\n",
       "        .catch(err => showError(`Javascript Error: ${err.message}<br>This usually means there's a typo in your chart specification. See the javascript console for the full traceback.`));\n",
       "    }\n",
       "\n",
       "    if(typeof define === \"function\" && define.amd) {\n",
       "      requirejs.config({paths});\n",
       "      let deps = [\"vega-embed\"];\n",
       "      require(deps, displayChart, err => showError(`Error loading script: ${err.message}`));\n",
       "    } else {\n",
       "      maybeLoadScript(\"vega\", \"5\")\n",
       "        .then(() => maybeLoadScript(\"vega-lite\", \"5.20.1\"))\n",
       "        .then(() => maybeLoadScript(\"vega-embed\", \"6\"))\n",
       "        .catch(showError)\n",
       "        .then(() => displayChart(vegaEmbed));\n",
       "    }\n",
       "  })({\"config\": {\"view\": {\"continuousWidth\": 300, \"continuousHeight\": 300}, \"axisX\": {\"labelAngle\": 0}}, \"layer\": [{\"mark\": {\"type\": \"bar\"}, \"encoding\": {\"color\": {\"field\": \"DATE\", \"legend\": null, \"scale\": {\"scheme\": \"viridis\"}, \"timeUnit\": \"year\", \"type\": \"ordinal\"}, \"x\": {\"field\": \"#bins\", \"sort\": [\"< -50\", \"-50 to -40\", \"-40 to -30\", \"-30 to -20\", \"-20 to -10\", \"-10 to 0\", \"0 to 10\", \"10 to 20\", \"20 to 30\", \"30 to 40\", \"40 to 50\", \"> 50\"], \"title\": \"Annual Returns (%)\", \"type\": \"ordinal\"}, \"y\": {\"aggregate\": \"count\", \"stack\": \"zero\", \"title\": \"Count\", \"type\": \"quantitative\"}}, \"title\": \"S&P 500 Annual Price Returns\"}, {\"mark\": {\"type\": \"text\", \"dy\": 9}, \"encoding\": {\"text\": {\"field\": \"DATE\", \"timeUnit\": \"year\", \"type\": \"ordinal\"}, \"x\": {\"field\": \"#bins\", \"sort\": [\"< -50\", \"-50 to -40\", \"-40 to -30\", \"-30 to -20\", \"-20 to -10\", \"-10 to 0\", \"0 to 10\", \"10 to 20\", \"20 to 30\", \"30 to 40\", \"40 to 50\", \"> 50\"], \"title\": \"Annual Returns (%)\", \"type\": \"ordinal\"}, \"y\": {\"aggregate\": \"count\", \"stack\": \"zero\", \"title\": \"Count\", \"type\": \"quantitative\"}}, \"title\": \"S&P 500 Annual Price Returns\"}], \"data\": {\"name\": \"data-ca0f841192b547b83131bfb69316db31\"}, \"height\": 400, \"width\": 600, \"$schema\": \"https://vega.github.io/schema/vega-lite/v5.20.1.json\", \"datasets\": {\"data-ca0f841192b547b83131bfb69316db31\": [{\"ID\": \"SPX Index\", \"#rets\": 37.88221970554927, \"DATE\": \"1928-12-31T00:00:00\", \"#bins\": \"30 to 40\"}, {\"ID\": \"SPX Index\", \"#rets\": -11.90965092402465, \"DATE\": \"1929-12-31T00:00:00\", \"#bins\": \"-20 to -10\"}, {\"ID\": \"SPX Index\", \"#rets\": -28.484848484848484, \"DATE\": \"1930-12-31T00:00:00\", \"#bins\": \"-30 to -20\"}, {\"ID\": \"SPX Index\", \"#rets\": -47.0664928292047, \"DATE\": \"1931-12-31T00:00:00\", \"#bins\": \"-50 to -40\"}, {\"ID\": \"SPX Index\", \"#rets\": -15.147783251231523, \"DATE\": \"1932-12-30T00:00:00\", \"#bins\": \"-20 to -10\"}, {\"ID\": \"SPX Index\", \"#rets\": 46.58925979680697, \"DATE\": \"1933-12-29T00:00:00\", \"#bins\": \"40 to 50\"}, {\"ID\": \"SPX Index\", \"#rets\": -5.940594059405938, \"DATE\": \"1934-12-31T00:00:00\", \"#bins\": \"-10 to 0\"}, {\"ID\": \"SPX Index\", \"#rets\": 41.368421052631575, \"DATE\": \"1935-12-31T00:00:00\", \"#bins\": \"40 to 50\"}, {\"ID\": \"SPX Index\", \"#rets\": 27.922561429635145, \"DATE\": \"1936-12-31T00:00:00\", \"#bins\": \"20 to 30\"}, {\"ID\": \"SPX Index\", \"#rets\": -38.59138533178113, \"DATE\": \"1937-12-31T00:00:00\", \"#bins\": \"-40 to -30\"}, {\"ID\": \"SPX Index\", \"#rets\": 25.213270142180093, \"DATE\": \"1938-12-30T00:00:00\", \"#bins\": \"20 to 30\"}, {\"ID\": \"SPX Index\", \"#rets\": -5.450416351249058, \"DATE\": \"1939-12-29T00:00:00\", \"#bins\": \"-10 to 0\"}, {\"ID\": \"SPX Index\", \"#rets\": -15.292233787029625, \"DATE\": \"1940-12-31T00:00:00\", \"#bins\": \"-20 to -10\"}, {\"ID\": \"SPX Index\", \"#rets\": -17.863894139886582, \"DATE\": \"1941-12-31T00:00:00\", \"#bins\": \"-20 to -10\"}, {\"ID\": \"SPX Index\", \"#rets\": 12.428078250863063, \"DATE\": \"1942-12-31T00:00:00\", \"#bins\": \"10 to 20\"}, {\"ID\": \"SPX Index\", \"#rets\": 19.44728761514842, \"DATE\": \"1943-12-31T00:00:00\", \"#bins\": \"10 to 20\"}, {\"ID\": \"SPX Index\", \"#rets\": 13.796058269065975, \"DATE\": \"1944-12-29T00:00:00\", \"#bins\": \"10 to 20\"}, {\"ID\": \"SPX Index\", \"#rets\": 30.722891566265066, \"DATE\": \"1945-12-31T00:00:00\", \"#bins\": \"30 to 40\"}, {\"ID\": \"SPX Index\", \"#rets\": -11.866359447004601, \"DATE\": \"1946-12-31T00:00:00\", \"#bins\": \"-20 to -10\"}, {\"ID\": \"SPX Index\", \"#rets\": 0.0, \"DATE\": \"1947-12-31T00:00:00\", \"#bins\": \"0 to 10\"}, {\"ID\": \"SPX Index\", \"#rets\": -0.6535947712418394, \"DATE\": \"1948-12-31T00:00:00\", \"#bins\": \"-10 to 0\"}, {\"ID\": \"SPX Index\", \"#rets\": 10.263157894736857, \"DATE\": \"1949-12-30T00:00:00\", \"#bins\": \"10 to 20\"}, {\"ID\": \"SPX Index\", \"#rets\": 21.778042959427196, \"DATE\": \"1950-12-29T00:00:00\", \"#bins\": \"20 to 30\"}, {\"ID\": \"SPX Index\", \"#rets\": 16.462518373346395, \"DATE\": \"1951-12-31T00:00:00\", \"#bins\": \"10 to 20\"}, {\"ID\": \"SPX Index\", \"#rets\": 11.77955405973917, \"DATE\": \"1952-12-31T00:00:00\", \"#bins\": \"10 to 20\"}, {\"ID\": \"SPX Index\", \"#rets\": -6.624012043658267, \"DATE\": \"1953-12-31T00:00:00\", \"#bins\": \"-10 to 0\"}, {\"ID\": \"SPX Index\", \"#rets\": 45.02216848045143, \"DATE\": \"1954-12-31T00:00:00\", \"#bins\": \"40 to 50\"}, {\"ID\": \"SPX Index\", \"#rets\": 26.403557531962203, \"DATE\": \"1955-12-30T00:00:00\", \"#bins\": \"20 to 30\"}, {\"ID\": \"SPX Index\", \"#rets\": 2.6165347405453057, \"DATE\": \"1956-12-31T00:00:00\", \"#bins\": \"0 to 10\"}, {\"ID\": \"SPX Index\", \"#rets\": -14.313263338332973, \"DATE\": \"1957-12-31T00:00:00\", \"#bins\": \"-20 to -10\"}, {\"ID\": \"SPX Index\", \"#rets\": 38.059514878719675, \"DATE\": \"1958-12-31T00:00:00\", \"#bins\": \"30 to 40\"}, {\"ID\": \"SPX Index\", \"#rets\": 8.476725230936424, \"DATE\": \"1959-12-31T00:00:00\", \"#bins\": \"0 to 10\"}, {\"ID\": \"SPX Index\", \"#rets\": -2.97211554516614, \"DATE\": \"1960-12-30T00:00:00\", \"#bins\": \"-10 to 0\"}, {\"ID\": \"SPX Index\", \"#rets\": 23.128549303045943, \"DATE\": \"1961-12-29T00:00:00\", \"#bins\": \"20 to 30\"}, {\"ID\": \"SPX Index\", \"#rets\": -11.809923130677841, \"DATE\": \"1962-12-31T00:00:00\", \"#bins\": \"-20 to -10\"}, {\"ID\": \"SPX Index\", \"#rets\": 18.890649762282084, \"DATE\": \"1963-12-31T00:00:00\", \"#bins\": \"10 to 20\"}, {\"ID\": \"SPX Index\", \"#rets\": 12.969874700079984, \"DATE\": \"1964-12-31T00:00:00\", \"#bins\": \"10 to 20\"}, {\"ID\": \"SPX Index\", \"#rets\": 9.061946902654876, \"DATE\": \"1965-12-31T00:00:00\", \"#bins\": \"0 to 10\"}, {\"ID\": \"SPX Index\", \"#rets\": -13.090987774532087, \"DATE\": \"1966-12-30T00:00:00\", \"#bins\": \"-20 to -10\"}, {\"ID\": \"SPX Index\", \"#rets\": 20.09212000497946, \"DATE\": \"1967-12-29T00:00:00\", \"#bins\": \"20 to 30\"}, {\"ID\": \"SPX Index\", \"#rets\": 7.660412563491241, \"DATE\": \"1968-12-31T00:00:00\", \"#bins\": \"0 to 10\"}, {\"ID\": \"SPX Index\", \"#rets\": -11.361448103215865, \"DATE\": \"1969-12-31T00:00:00\", \"#bins\": \"-20 to -10\"}, {\"ID\": \"SPX Index\", \"#rets\": 0.0977623289159281, \"DATE\": \"1970-12-31T00:00:00\", \"#bins\": \"0 to 10\"}, {\"ID\": \"SPX Index\", \"#rets\": 10.786760716223545, \"DATE\": \"1971-12-31T00:00:00\", \"#bins\": \"10 to 20\"}, {\"ID\": \"SPX Index\", \"#rets\": 15.633264766382595, \"DATE\": \"1972-12-29T00:00:00\", \"#bins\": \"10 to 20\"}, {\"ID\": \"SPX Index\", \"#rets\": -17.36552308343922, \"DATE\": \"1973-12-31T00:00:00\", \"#bins\": \"-20 to -10\"}, {\"ID\": \"SPX Index\", \"#rets\": -29.71809328549461, \"DATE\": \"1974-12-31T00:00:00\", \"#bins\": \"-30 to -20\"}, {\"ID\": \"SPX Index\", \"#rets\": 31.549008168028, \"DATE\": \"1975-12-31T00:00:00\", \"#bins\": \"30 to 40\"}, {\"ID\": \"SPX Index\", \"#rets\": 19.148464353032484, \"DATE\": \"1976-12-31T00:00:00\", \"#bins\": \"10 to 20\"}, {\"ID\": \"SPX Index\", \"#rets\": -11.501954215522055, \"DATE\": \"1977-12-30T00:00:00\", \"#bins\": \"-20 to -10\"}, {\"ID\": \"SPX Index\", \"#rets\": 1.062039957939017, \"DATE\": \"1978-12-29T00:00:00\", \"#bins\": \"0 to 10\"}, {\"ID\": \"SPX Index\", \"#rets\": 12.3088128186453, \"DATE\": \"1979-12-31T00:00:00\", \"#bins\": \"10 to 20\"}, {\"ID\": \"SPX Index\", \"#rets\": 25.773577913655725, \"DATE\": \"1980-12-31T00:00:00\", \"#bins\": \"20 to 30\"}, {\"ID\": \"SPX Index\", \"#rets\": -9.73040659988214, \"DATE\": \"1981-12-31T00:00:00\", \"#bins\": \"-10 to 0\"}, {\"ID\": \"SPX Index\", \"#rets\": 14.761321909424716, \"DATE\": \"1982-12-31T00:00:00\", \"#bins\": \"10 to 20\"}, {\"ID\": \"SPX Index\", \"#rets\": 17.271046643913554, \"DATE\": \"1983-12-30T00:00:00\", \"#bins\": \"10 to 20\"}, {\"ID\": \"SPX Index\", \"#rets\": 1.4005941914751727, \"DATE\": \"1984-12-31T00:00:00\", \"#bins\": \"0 to 10\"}, {\"ID\": \"SPX Index\", \"#rets\": 26.333413059076772, \"DATE\": \"1985-12-31T00:00:00\", \"#bins\": \"20 to 30\"}, {\"ID\": \"SPX Index\", \"#rets\": 14.62040893600908, \"DATE\": \"1986-12-31T00:00:00\", \"#bins\": \"10 to 20\"}, {\"ID\": \"SPX Index\", \"#rets\": 2.027501342032467, \"DATE\": \"1987-12-31T00:00:00\", \"#bins\": \"0 to 10\"}, {\"ID\": \"SPX Index\", \"#rets\": 12.40084183260483, \"DATE\": \"1988-12-30T00:00:00\", \"#bins\": \"10 to 20\"}, {\"ID\": \"SPX Index\", \"#rets\": 27.250468097364234, \"DATE\": \"1989-12-29T00:00:00\", \"#bins\": \"20 to 30\"}, {\"ID\": \"SPX Index\", \"#rets\": -6.559139784946224, \"DATE\": \"1990-12-31T00:00:00\", \"#bins\": \"-10 to 0\"}, {\"ID\": \"SPX Index\", \"#rets\": 26.306704621161632, \"DATE\": \"1991-12-31T00:00:00\", \"#bins\": \"20 to 30\"}, {\"ID\": \"SPX Index\", \"#rets\": 4.464264307463618, \"DATE\": \"1992-12-31T00:00:00\", \"#bins\": \"0 to 10\"}, {\"ID\": \"SPX Index\", \"#rets\": 7.055151362144548, \"DATE\": \"1993-12-31T00:00:00\", \"#bins\": \"0 to 10\"}, {\"ID\": \"SPX Index\", \"#rets\": -1.5392860971165199, \"DATE\": \"1994-12-30T00:00:00\", \"#bins\": \"-10 to 0\"}, {\"ID\": \"SPX Index\", \"#rets\": 34.110653863740275, \"DATE\": \"1995-12-29T00:00:00\", \"#bins\": \"30 to 40\"}, {\"ID\": \"SPX Index\", \"#rets\": 20.263666325718845, \"DATE\": \"1996-12-31T00:00:00\", \"#bins\": \"20 to 30\"}, {\"ID\": \"SPX Index\", \"#rets\": 31.008181008181, \"DATE\": \"1997-12-31T00:00:00\", \"#bins\": \"30 to 40\"}, {\"ID\": \"SPX Index\", \"#rets\": 26.668590212586178, \"DATE\": \"1998-12-31T00:00:00\", \"#bins\": \"20 to 30\"}, {\"ID\": \"SPX Index\", \"#rets\": 19.526044759727633, \"DATE\": \"1999-12-31T00:00:00\", \"#bins\": \"10 to 20\"}, {\"ID\": \"SPX Index\", \"#rets\": -10.139186659860474, \"DATE\": \"2000-12-29T00:00:00\", \"#bins\": \"-20 to -10\"}, {\"ID\": \"SPX Index\", \"#rets\": -13.042687914684766, \"DATE\": \"2001-12-31T00:00:00\", \"#bins\": \"-20 to -10\"}, {\"ID\": \"SPX Index\", \"#rets\": -23.365967528395224, \"DATE\": \"2002-12-31T00:00:00\", \"#bins\": \"-30 to -20\"}, {\"ID\": \"SPX Index\", \"#rets\": 26.380395990088886, \"DATE\": \"2003-12-31T00:00:00\", \"#bins\": \"20 to 30\"}, {\"ID\": \"SPX Index\", \"#rets\": 8.99345276638607, \"DATE\": \"2004-12-31T00:00:00\", \"#bins\": \"0 to 10\"}, {\"ID\": \"SPX Index\", \"#rets\": 3.001023169846185, \"DATE\": \"2005-12-30T00:00:00\", \"#bins\": \"0 to 10\"}, {\"ID\": \"SPX Index\", \"#rets\": 13.619431382130752, \"DATE\": \"2006-12-29T00:00:00\", \"#bins\": \"10 to 20\"}, {\"ID\": \"SPX Index\", \"#rets\": 3.529577663399841, \"DATE\": \"2007-12-31T00:00:00\", \"#bins\": \"0 to 10\"}, {\"ID\": \"SPX Index\", \"#rets\": -38.48579367457571, \"DATE\": \"2008-12-31T00:00:00\", \"#bins\": \"-40 to -30\"}, {\"ID\": \"SPX Index\", \"#rets\": 23.454193191253793, \"DATE\": \"2009-12-31T00:00:00\", \"#bins\": \"20 to 30\"}, {\"ID\": \"SPX Index\", \"#rets\": 12.782710070845681, \"DATE\": \"2010-12-31T00:00:00\", \"#bins\": \"10 to 20\"}, {\"ID\": \"SPX Index\", \"#rets\": -0.0023854203110747186, \"DATE\": \"2011-12-30T00:00:00\", \"#bins\": \"-10 to 0\"}, {\"ID\": \"SPX Index\", \"#rets\": 13.404791628565308, \"DATE\": \"2012-12-31T00:00:00\", \"#bins\": \"10 to 20\"}, {\"ID\": \"SPX Index\", \"#rets\": 29.60124527587487, \"DATE\": \"2013-12-31T00:00:00\", \"#bins\": \"20 to 30\"}, {\"ID\": \"SPX Index\", \"#rets\": 11.39063818736611, \"DATE\": \"2014-12-31T00:00:00\", \"#bins\": \"10 to 20\"}, {\"ID\": \"SPX Index\", \"#rets\": -0.7266015833697623, \"DATE\": \"2015-12-31T00:00:00\", \"#bins\": \"-10 to 0\"}, {\"ID\": \"SPX Index\", \"#rets\": 9.535015704961978, \"DATE\": \"2016-12-30T00:00:00\", \"#bins\": \"0 to 10\"}, {\"ID\": \"SPX Index\", \"#rets\": 19.419964892376832, \"DATE\": \"2017-12-29T00:00:00\", \"#bins\": \"10 to 20\"}, {\"ID\": \"SPX Index\", \"#rets\": -6.237259734965093, \"DATE\": \"2018-12-31T00:00:00\", \"#bins\": \"-10 to 0\"}, {\"ID\": \"SPX Index\", \"#rets\": 28.878074077028952, \"DATE\": \"2019-12-31T00:00:00\", \"#bins\": \"20 to 30\"}, {\"ID\": \"SPX Index\", \"#rets\": 16.258921994069542, \"DATE\": \"2020-12-31T00:00:00\", \"#bins\": \"10 to 20\"}, {\"ID\": \"SPX Index\", \"#rets\": 26.8927362908572, \"DATE\": \"2021-12-31T00:00:00\", \"#bins\": \"20 to 30\"}, {\"ID\": \"SPX Index\", \"#rets\": -19.442824232404153, \"DATE\": \"2022-12-30T00:00:00\", \"#bins\": \"-20 to -10\"}, {\"ID\": \"SPX Index\", \"#rets\": 24.230498762859746, \"DATE\": \"2023-12-29T00:00:00\", \"#bins\": \"20 to 30\"}, {\"ID\": \"SPX Index\", \"#rets\": 24.673416033695126, \"DATE\": \"2024-12-23T00:00:00\", \"#bins\": \"20 to 30\"}]}}, {\"mode\": \"vega-lite\"});\n",
       "</script>"
      ],
      "text/plain": [
       "alt.LayerChart(...)"
      ]
     },
     "execution_count": 2,
     "metadata": {},
     "output_type": "execute_result"
    }
   ],
   "source": [
    "# get S&P annual price returns\n",
    "bin_names: list = [\n",
    "    \"< -50\",\n",
    "    \"-50 to -40\",\n",
    "    \"-40 to -30\",\n",
    "    \"-30 to -20\",\n",
    "    \"-20 to -10\",\n",
    "    \"-10 to 0\",\n",
    "    \"0 to 10\",\n",
    "    \"10 to 20\",\n",
    "    \"20 to 30\",\n",
    "    \"30 to 40\",\n",
    "    \"40 to 50\",\n",
    "    \"> 50\",\n",
    "]\n",
    "bins = list(range(-50, 60, 10))\n",
    "\n",
    "query = f\"\"\"\n",
    "let(\n",
    "    #rets = dropna(pct_diff(px_last(dates=range(-100Y, 0Y), per=Y)));\n",
    "    #bins = bins(#rets, {bins}, bin_names={bin_names});\n",
    ")\n",
    "get(#rets, #bins)\n",
    "for(['SPX Index'])\n",
    "\"\"\"\n",
    "with BQuery() as bq:\n",
    "    df = bq.bql(query).combine()\n",
    "\n",
    "# Create Chart\n",
    "base = alt.Chart(df, title=\"S&P 500 Annual Price Returns\").encode(\n",
    "    x=alt.X(\"#bins:O\", title=\"Annual Returns (%)\").sort(bin_names),\n",
    "    y=alt.Y(\"count()\", title=\"Count\").stack(\"zero\"),\n",
    ")\n",
    "bars = base.mark_bar().encode(\n",
    "    color=alt.Color(\"year(DATE):O\").scale(scheme=\"viridis\").legend(None)\n",
    ")\n",
    "txt = base.mark_text(dy=9).encode(\n",
    "    text=alt.Text(\"year(DATE):O\"),\n",
    ")\n",
    "\n",
    "(bars + txt).properties(width=600, height=400).configure_axisX(labelAngle=0)"
   ]
  }
 ],
 "metadata": {
  "kernelspec": {
   "display_name": ".venv",
   "language": "python",
   "name": "python3"
  },
  "language_info": {
   "codemirror_mode": {
    "name": "ipython",
    "version": 3
   },
   "file_extension": ".py",
   "mimetype": "text/x-python",
   "name": "python",
   "nbconvert_exporter": "python",
   "pygments_lexer": "ipython3",
   "version": "3.12.8"
  }
 },
 "nbformat": 4,
 "nbformat_minor": 2
}
