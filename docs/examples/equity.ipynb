{
 "cells": [
  {
   "cell_type": "markdown",
   "metadata": {},
   "source": [
    "# Equity Examples\n",
    "(c) Marek Ozana\n",
    "\n",
    "Example usage of polars-bloomberg in Equity space"
   ]
  },
  {
   "cell_type": "code",
   "execution_count": 12,
   "metadata": {},
   "outputs": [],
   "source": [
    "# imports\n",
    "import altair as alt\n",
    "import polars as pl\n",
    "\n",
    "from polars_bloomberg import BQuery\n"
   ]
  },
  {
   "cell_type": "markdown",
   "metadata": {},
   "source": [
    "## S&P Annual Price Returns"
   ]
  },
  {
   "cell_type": "code",
   "execution_count": 67,
   "metadata": {},
   "outputs": [
    {
     "data": {
      "text/html": [
       "\n",
       "<style>\n",
       "  #altair-viz-c1f97b9a2f6f44baa21beb3ac5e88440.vega-embed {\n",
       "    width: 100%;\n",
       "    display: flex;\n",
       "  }\n",
       "\n",
       "  #altair-viz-c1f97b9a2f6f44baa21beb3ac5e88440.vega-embed details,\n",
       "  #altair-viz-c1f97b9a2f6f44baa21beb3ac5e88440.vega-embed details summary {\n",
       "    position: relative;\n",
       "  }\n",
       "</style>\n",
       "<div id=\"altair-viz-c1f97b9a2f6f44baa21beb3ac5e88440\"></div>\n",
       "<script type=\"text/javascript\">\n",
       "  var VEGA_DEBUG = (typeof VEGA_DEBUG == \"undefined\") ? {} : VEGA_DEBUG;\n",
       "  (function(spec, embedOpt){\n",
       "    let outputDiv = document.currentScript.previousElementSibling;\n",
       "    if (outputDiv.id !== \"altair-viz-c1f97b9a2f6f44baa21beb3ac5e88440\") {\n",
       "      outputDiv = document.getElementById(\"altair-viz-c1f97b9a2f6f44baa21beb3ac5e88440\");\n",
       "    }\n",
       "\n",
       "    const paths = {\n",
       "      \"vega\": \"https://cdn.jsdelivr.net/npm/vega@5?noext\",\n",
       "      \"vega-lib\": \"https://cdn.jsdelivr.net/npm/vega-lib?noext\",\n",
       "      \"vega-lite\": \"https://cdn.jsdelivr.net/npm/vega-lite@5.20.1?noext\",\n",
       "      \"vega-embed\": \"https://cdn.jsdelivr.net/npm/vega-embed@6?noext\",\n",
       "    };\n",
       "\n",
       "    function maybeLoadScript(lib, version) {\n",
       "      var key = `${lib.replace(\"-\", \"\")}_version`;\n",
       "      return (VEGA_DEBUG[key] == version) ?\n",
       "        Promise.resolve(paths[lib]) :\n",
       "        new Promise(function(resolve, reject) {\n",
       "          var s = document.createElement('script');\n",
       "          document.getElementsByTagName(\"head\")[0].appendChild(s);\n",
       "          s.async = true;\n",
       "          s.onload = () => {\n",
       "            VEGA_DEBUG[key] = version;\n",
       "            return resolve(paths[lib]);\n",
       "          };\n",
       "          s.onerror = () => reject(`Error loading script: ${paths[lib]}`);\n",
       "          s.src = paths[lib];\n",
       "        });\n",
       "    }\n",
       "\n",
       "    function showError(err) {\n",
       "      outputDiv.innerHTML = `<div class=\"error\" style=\"color:red;\">${err}</div>`;\n",
       "      throw err;\n",
       "    }\n",
       "\n",
       "    function displayChart(vegaEmbed) {\n",
       "      vegaEmbed(outputDiv, spec, embedOpt)\n",
       "        .catch(err => showError(`Javascript Error: ${err.message}<br>This usually means there's a typo in your chart specification. See the javascript console for the full traceback.`));\n",
       "    }\n",
       "\n",
       "    if(typeof define === \"function\" && define.amd) {\n",
       "      requirejs.config({paths});\n",
       "      let deps = [\"vega-embed\"];\n",
       "      require(deps, displayChart, err => showError(`Error loading script: ${err.message}`));\n",
       "    } else {\n",
       "      maybeLoadScript(\"vega\", \"5\")\n",
       "        .then(() => maybeLoadScript(\"vega-lite\", \"5.20.1\"))\n",
       "        .then(() => maybeLoadScript(\"vega-embed\", \"6\"))\n",
       "        .catch(showError)\n",
       "        .then(() => displayChart(vegaEmbed));\n",
       "    }\n",
       "  })({\"config\": {\"view\": {\"continuousWidth\": 300, \"continuousHeight\": 300}, \"axisX\": {\"labelAngle\": 0}}, \"layer\": [{\"mark\": {\"type\": \"bar\"}, \"encoding\": {\"color\": {\"field\": \"year\", \"legend\": null, \"scale\": {\"scheme\": \"viridis\"}, \"type\": \"ordinal\"}, \"x\": {\"field\": \"bins\", \"sort\": [\"< -50\", \"-50 to -40\", \"-40 to -30\", \"-30 to -20\", \"-20 to -10\", \"-10 to 0\", \"0 to 10\", \"10 to 20\", \"20 to 30\", \"30 to 40\", \"40 to 50\", \"> 50\"], \"title\": \"Annual Returns (%)\", \"type\": \"ordinal\"}, \"y\": {\"aggregate\": \"count\", \"stack\": \"zero\", \"title\": \"Count\", \"type\": \"quantitative\"}}, \"title\": \"S&P 500 Annual Price Returns\"}, {\"mark\": {\"type\": \"text\", \"dy\": 9}, \"encoding\": {\"color\": {\"condition\": {\"test\": \"datum.year < 1960\", \"value\": \"white\"}, \"value\": \"black\"}, \"text\": {\"field\": \"year\", \"type\": \"ordinal\"}, \"x\": {\"field\": \"bins\", \"sort\": [\"< -50\", \"-50 to -40\", \"-40 to -30\", \"-30 to -20\", \"-20 to -10\", \"-10 to 0\", \"0 to 10\", \"10 to 20\", \"20 to 30\", \"30 to 40\", \"40 to 50\", \"> 50\"], \"title\": \"Annual Returns (%)\", \"type\": \"ordinal\"}, \"y\": {\"aggregate\": \"count\", \"stack\": \"zero\", \"title\": \"Count\", \"type\": \"quantitative\"}}, \"title\": \"S&P 500 Annual Price Returns\"}], \"data\": {\"name\": \"data-b68e4718184f86d7060bafb2579519d0\"}, \"height\": 400, \"width\": 600, \"$schema\": \"https://vega.github.io/schema/vega-lite/v5.20.1.json\", \"datasets\": {\"data-b68e4718184f86d7060bafb2579519d0\": [{\"ID\": \"SPX Index\", \"#px\": 24.35, \"DATE\": \"1928-12-31T00:00:00\", \"CURRENCY\": \"USD\", \"year\": 1928, \"rets\": 0.3788221970554927, \"bins\": \"30 to 40\"}, {\"ID\": \"SPX Index\", \"#px\": 21.45, \"DATE\": \"1929-12-31T00:00:00\", \"CURRENCY\": \"USD\", \"year\": 1929, \"rets\": -0.11909650924024649, \"bins\": \"-20 to -10\"}, {\"ID\": \"SPX Index\", \"#px\": 15.34, \"DATE\": \"1930-12-31T00:00:00\", \"CURRENCY\": \"USD\", \"year\": 1930, \"rets\": -0.28484848484848485, \"bins\": \"-30 to -20\"}, {\"ID\": \"SPX Index\", \"#px\": 8.12, \"DATE\": \"1931-12-31T00:00:00\", \"CURRENCY\": \"USD\", \"year\": 1931, \"rets\": -0.470664928292047, \"bins\": \"-50 to -40\"}, {\"ID\": \"SPX Index\", \"#px\": 6.89, \"DATE\": \"1932-12-30T00:00:00\", \"CURRENCY\": \"USD\", \"year\": 1932, \"rets\": -0.15147783251231522, \"bins\": \"-20 to -10\"}, {\"ID\": \"SPX Index\", \"#px\": 10.1, \"DATE\": \"1933-12-29T00:00:00\", \"CURRENCY\": \"USD\", \"year\": 1933, \"rets\": 0.4658925979680697, \"bins\": \"40 to 50\"}, {\"ID\": \"SPX Index\", \"#px\": 9.5, \"DATE\": \"1934-12-31T00:00:00\", \"CURRENCY\": \"USD\", \"year\": 1934, \"rets\": -0.059405940594059375, \"bins\": \"-10 to 0\"}, {\"ID\": \"SPX Index\", \"#px\": 13.43, \"DATE\": \"1935-12-31T00:00:00\", \"CURRENCY\": \"USD\", \"year\": 1935, \"rets\": 0.41368421052631577, \"bins\": \"40 to 50\"}, {\"ID\": \"SPX Index\", \"#px\": 17.18, \"DATE\": \"1936-12-31T00:00:00\", \"CURRENCY\": \"USD\", \"year\": 1936, \"rets\": 0.27922561429635145, \"bins\": \"20 to 30\"}, {\"ID\": \"SPX Index\", \"#px\": 10.55, \"DATE\": \"1937-12-31T00:00:00\", \"CURRENCY\": \"USD\", \"year\": 1937, \"rets\": -0.38591385331781136, \"bins\": \"-40 to -30\"}, {\"ID\": \"SPX Index\", \"#px\": 13.21, \"DATE\": \"1938-12-30T00:00:00\", \"CURRENCY\": \"USD\", \"year\": 1938, \"rets\": 0.25213270142180094, \"bins\": \"20 to 30\"}, {\"ID\": \"SPX Index\", \"#px\": 12.49, \"DATE\": \"1939-12-29T00:00:00\", \"CURRENCY\": \"USD\", \"year\": 1939, \"rets\": -0.05450416351249058, \"bins\": \"-10 to 0\"}, {\"ID\": \"SPX Index\", \"#px\": 10.58, \"DATE\": \"1940-12-31T00:00:00\", \"CURRENCY\": \"USD\", \"year\": 1940, \"rets\": -0.15292233787029624, \"bins\": \"-20 to -10\"}, {\"ID\": \"SPX Index\", \"#px\": 8.69, \"DATE\": \"1941-12-31T00:00:00\", \"CURRENCY\": \"USD\", \"year\": 1941, \"rets\": -0.17863894139886582, \"bins\": \"-20 to -10\"}, {\"ID\": \"SPX Index\", \"#px\": 9.77, \"DATE\": \"1942-12-31T00:00:00\", \"CURRENCY\": \"USD\", \"year\": 1942, \"rets\": 0.12428078250863063, \"bins\": \"10 to 20\"}, {\"ID\": \"SPX Index\", \"#px\": 11.67, \"DATE\": \"1943-12-31T00:00:00\", \"CURRENCY\": \"USD\", \"year\": 1943, \"rets\": 0.19447287615148418, \"bins\": \"10 to 20\"}, {\"ID\": \"SPX Index\", \"#px\": 13.28, \"DATE\": \"1944-12-29T00:00:00\", \"CURRENCY\": \"USD\", \"year\": 1944, \"rets\": 0.13796058269065975, \"bins\": \"10 to 20\"}, {\"ID\": \"SPX Index\", \"#px\": 17.36, \"DATE\": \"1945-12-31T00:00:00\", \"CURRENCY\": \"USD\", \"year\": 1945, \"rets\": 0.30722891566265065, \"bins\": \"30 to 40\"}, {\"ID\": \"SPX Index\", \"#px\": 15.3, \"DATE\": \"1946-12-31T00:00:00\", \"CURRENCY\": \"USD\", \"year\": 1946, \"rets\": -0.11866359447004601, \"bins\": \"-20 to -10\"}, {\"ID\": \"SPX Index\", \"#px\": 15.3, \"DATE\": \"1947-12-31T00:00:00\", \"CURRENCY\": \"USD\", \"year\": 1947, \"rets\": 0.0, \"bins\": \"-10 to 0\"}, {\"ID\": \"SPX Index\", \"#px\": 15.2, \"DATE\": \"1948-12-31T00:00:00\", \"CURRENCY\": \"USD\", \"year\": 1948, \"rets\": -0.006535947712418394, \"bins\": \"-10 to 0\"}, {\"ID\": \"SPX Index\", \"#px\": 16.76, \"DATE\": \"1949-12-30T00:00:00\", \"CURRENCY\": \"USD\", \"year\": 1949, \"rets\": 0.10263157894736857, \"bins\": \"10 to 20\"}, {\"ID\": \"SPX Index\", \"#px\": 20.41, \"DATE\": \"1950-12-29T00:00:00\", \"CURRENCY\": \"USD\", \"year\": 1950, \"rets\": 0.21778042959427196, \"bins\": \"20 to 30\"}, {\"ID\": \"SPX Index\", \"#px\": 23.77, \"DATE\": \"1951-12-31T00:00:00\", \"CURRENCY\": \"USD\", \"year\": 1951, \"rets\": 0.16462518373346396, \"bins\": \"10 to 20\"}, {\"ID\": \"SPX Index\", \"#px\": 26.57, \"DATE\": \"1952-12-31T00:00:00\", \"CURRENCY\": \"USD\", \"year\": 1952, \"rets\": 0.1177955405973917, \"bins\": \"10 to 20\"}, {\"ID\": \"SPX Index\", \"#px\": 24.81, \"DATE\": \"1953-12-31T00:00:00\", \"CURRENCY\": \"USD\", \"year\": 1953, \"rets\": -0.06624012043658267, \"bins\": \"-10 to 0\"}, {\"ID\": \"SPX Index\", \"#px\": 35.98, \"DATE\": \"1954-12-31T00:00:00\", \"CURRENCY\": \"USD\", \"year\": 1954, \"rets\": 0.45022168480451424, \"bins\": \"40 to 50\"}, {\"ID\": \"SPX Index\", \"#px\": 45.48, \"DATE\": \"1955-12-30T00:00:00\", \"CURRENCY\": \"USD\", \"year\": 1955, \"rets\": 0.264035575319622, \"bins\": \"20 to 30\"}, {\"ID\": \"SPX Index\", \"#px\": 46.67, \"DATE\": \"1956-12-31T00:00:00\", \"CURRENCY\": \"USD\", \"year\": 1956, \"rets\": 0.026165347405453055, \"bins\": \"0 to 10\"}, {\"ID\": \"SPX Index\", \"#px\": 39.99, \"DATE\": \"1957-12-31T00:00:00\", \"CURRENCY\": \"USD\", \"year\": 1957, \"rets\": -0.14313263338332974, \"bins\": \"-20 to -10\"}, {\"ID\": \"SPX Index\", \"#px\": 55.21, \"DATE\": \"1958-12-31T00:00:00\", \"CURRENCY\": \"USD\", \"year\": 1958, \"rets\": 0.38059514878719675, \"bins\": \"30 to 40\"}, {\"ID\": \"SPX Index\", \"#px\": 59.89, \"DATE\": \"1959-12-31T00:00:00\", \"CURRENCY\": \"USD\", \"year\": 1959, \"rets\": 0.08476725230936424, \"bins\": \"0 to 10\"}, {\"ID\": \"SPX Index\", \"#px\": 58.11, \"DATE\": \"1960-12-30T00:00:00\", \"CURRENCY\": \"USD\", \"year\": 1960, \"rets\": -0.0297211554516614, \"bins\": \"-10 to 0\"}, {\"ID\": \"SPX Index\", \"#px\": 71.55, \"DATE\": \"1961-12-29T00:00:00\", \"CURRENCY\": \"USD\", \"year\": 1961, \"rets\": 0.23128549303045945, \"bins\": \"20 to 30\"}, {\"ID\": \"SPX Index\", \"#px\": 63.1, \"DATE\": \"1962-12-31T00:00:00\", \"CURRENCY\": \"USD\", \"year\": 1962, \"rets\": -0.11809923130677842, \"bins\": \"-20 to -10\"}, {\"ID\": \"SPX Index\", \"#px\": 75.02, \"DATE\": \"1963-12-31T00:00:00\", \"CURRENCY\": \"USD\", \"year\": 1963, \"rets\": 0.18890649762282083, \"bins\": \"10 to 20\"}, {\"ID\": \"SPX Index\", \"#px\": 84.75, \"DATE\": \"1964-12-31T00:00:00\", \"CURRENCY\": \"USD\", \"year\": 1964, \"rets\": 0.12969874700079984, \"bins\": \"10 to 20\"}, {\"ID\": \"SPX Index\", \"#px\": 92.43, \"DATE\": \"1965-12-31T00:00:00\", \"CURRENCY\": \"USD\", \"year\": 1965, \"rets\": 0.09061946902654876, \"bins\": \"0 to 10\"}, {\"ID\": \"SPX Index\", \"#px\": 80.33, \"DATE\": \"1966-12-30T00:00:00\", \"CURRENCY\": \"USD\", \"year\": 1966, \"rets\": -0.13090987774532087, \"bins\": \"-20 to -10\"}, {\"ID\": \"SPX Index\", \"#px\": 96.47, \"DATE\": \"1967-12-29T00:00:00\", \"CURRENCY\": \"USD\", \"year\": 1967, \"rets\": 0.2009212000497946, \"bins\": \"20 to 30\"}, {\"ID\": \"SPX Index\", \"#px\": 103.86, \"DATE\": \"1968-12-31T00:00:00\", \"CURRENCY\": \"USD\", \"year\": 1968, \"rets\": 0.07660412563491241, \"bins\": \"0 to 10\"}, {\"ID\": \"SPX Index\", \"#px\": 92.06, \"DATE\": \"1969-12-31T00:00:00\", \"CURRENCY\": \"USD\", \"year\": 1969, \"rets\": -0.11361448103215865, \"bins\": \"-20 to -10\"}, {\"ID\": \"SPX Index\", \"#px\": 92.15, \"DATE\": \"1970-12-31T00:00:00\", \"CURRENCY\": \"USD\", \"year\": 1970, \"rets\": 0.000977623289159281, \"bins\": \"0 to 10\"}, {\"ID\": \"SPX Index\", \"#px\": 102.09, \"DATE\": \"1971-12-31T00:00:00\", \"CURRENCY\": \"USD\", \"year\": 1971, \"rets\": 0.10786760716223545, \"bins\": \"10 to 20\"}, {\"ID\": \"SPX Index\", \"#px\": 118.05, \"DATE\": \"1972-12-29T00:00:00\", \"CURRENCY\": \"USD\", \"year\": 1972, \"rets\": 0.15633264766382596, \"bins\": \"10 to 20\"}, {\"ID\": \"SPX Index\", \"#px\": 97.55, \"DATE\": \"1973-12-31T00:00:00\", \"CURRENCY\": \"USD\", \"year\": 1973, \"rets\": -0.17365523083439222, \"bins\": \"-20 to -10\"}, {\"ID\": \"SPX Index\", \"#px\": 68.56, \"DATE\": \"1974-12-31T00:00:00\", \"CURRENCY\": \"USD\", \"year\": 1974, \"rets\": -0.2971809328549461, \"bins\": \"-30 to -20\"}, {\"ID\": \"SPX Index\", \"#px\": 90.19, \"DATE\": \"1975-12-31T00:00:00\", \"CURRENCY\": \"USD\", \"year\": 1975, \"rets\": 0.31549008168028, \"bins\": \"30 to 40\"}, {\"ID\": \"SPX Index\", \"#px\": 107.46, \"DATE\": \"1976-12-31T00:00:00\", \"CURRENCY\": \"USD\", \"year\": 1976, \"rets\": 0.19148464353032482, \"bins\": \"10 to 20\"}, {\"ID\": \"SPX Index\", \"#px\": 95.1, \"DATE\": \"1977-12-30T00:00:00\", \"CURRENCY\": \"USD\", \"year\": 1977, \"rets\": -0.11501954215522055, \"bins\": \"-20 to -10\"}, {\"ID\": \"SPX Index\", \"#px\": 96.11, \"DATE\": \"1978-12-29T00:00:00\", \"CURRENCY\": \"USD\", \"year\": 1978, \"rets\": 0.01062039957939017, \"bins\": \"0 to 10\"}, {\"ID\": \"SPX Index\", \"#px\": 107.94, \"DATE\": \"1979-12-31T00:00:00\", \"CURRENCY\": \"USD\", \"year\": 1979, \"rets\": 0.12308812818645301, \"bins\": \"10 to 20\"}, {\"ID\": \"SPX Index\", \"#px\": 135.76, \"DATE\": \"1980-12-31T00:00:00\", \"CURRENCY\": \"USD\", \"year\": 1980, \"rets\": 0.25773577913655726, \"bins\": \"20 to 30\"}, {\"ID\": \"SPX Index\", \"#px\": 122.55, \"DATE\": \"1981-12-31T00:00:00\", \"CURRENCY\": \"USD\", \"year\": 1981, \"rets\": -0.09730406599882141, \"bins\": \"-10 to 0\"}, {\"ID\": \"SPX Index\", \"#px\": 140.64, \"DATE\": \"1982-12-31T00:00:00\", \"CURRENCY\": \"USD\", \"year\": 1982, \"rets\": 0.14761321909424716, \"bins\": \"10 to 20\"}, {\"ID\": \"SPX Index\", \"#px\": 164.93, \"DATE\": \"1983-12-30T00:00:00\", \"CURRENCY\": \"USD\", \"year\": 1983, \"rets\": 0.17271046643913554, \"bins\": \"10 to 20\"}, {\"ID\": \"SPX Index\", \"#px\": 167.24, \"DATE\": \"1984-12-31T00:00:00\", \"CURRENCY\": \"USD\", \"year\": 1984, \"rets\": 0.014005941914751727, \"bins\": \"0 to 10\"}, {\"ID\": \"SPX Index\", \"#px\": 211.28, \"DATE\": \"1985-12-31T00:00:00\", \"CURRENCY\": \"USD\", \"year\": 1985, \"rets\": 0.2633341305907677, \"bins\": \"20 to 30\"}, {\"ID\": \"SPX Index\", \"#px\": 242.17, \"DATE\": \"1986-12-31T00:00:00\", \"CURRENCY\": \"USD\", \"year\": 1986, \"rets\": 0.1462040893600908, \"bins\": \"10 to 20\"}, {\"ID\": \"SPX Index\", \"#px\": 247.08, \"DATE\": \"1987-12-31T00:00:00\", \"CURRENCY\": \"USD\", \"year\": 1987, \"rets\": 0.02027501342032467, \"bins\": \"0 to 10\"}, {\"ID\": \"SPX Index\", \"#px\": 277.72, \"DATE\": \"1988-12-30T00:00:00\", \"CURRENCY\": \"USD\", \"year\": 1988, \"rets\": 0.1240084183260483, \"bins\": \"10 to 20\"}, {\"ID\": \"SPX Index\", \"#px\": 353.4, \"DATE\": \"1989-12-29T00:00:00\", \"CURRENCY\": \"USD\", \"year\": 1989, \"rets\": 0.27250468097364233, \"bins\": \"20 to 30\"}, {\"ID\": \"SPX Index\", \"#px\": 330.22, \"DATE\": \"1990-12-31T00:00:00\", \"CURRENCY\": \"USD\", \"year\": 1990, \"rets\": -0.06559139784946223, \"bins\": \"-10 to 0\"}, {\"ID\": \"SPX Index\", \"#px\": 417.09, \"DATE\": \"1991-12-31T00:00:00\", \"CURRENCY\": \"USD\", \"year\": 1991, \"rets\": 0.2630670462116163, \"bins\": \"20 to 30\"}, {\"ID\": \"SPX Index\", \"#px\": 435.71, \"DATE\": \"1992-12-31T00:00:00\", \"CURRENCY\": \"USD\", \"year\": 1992, \"rets\": 0.04464264307463618, \"bins\": \"0 to 10\"}, {\"ID\": \"SPX Index\", \"#px\": 466.45, \"DATE\": \"1993-12-31T00:00:00\", \"CURRENCY\": \"USD\", \"year\": 1993, \"rets\": 0.07055151362144547, \"bins\": \"0 to 10\"}, {\"ID\": \"SPX Index\", \"#px\": 459.27, \"DATE\": \"1994-12-30T00:00:00\", \"CURRENCY\": \"USD\", \"year\": 1994, \"rets\": -0.015392860971165198, \"bins\": \"-10 to 0\"}, {\"ID\": \"SPX Index\", \"#px\": 615.93, \"DATE\": \"1995-12-29T00:00:00\", \"CURRENCY\": \"USD\", \"year\": 1995, \"rets\": 0.34110653863740276, \"bins\": \"30 to 40\"}, {\"ID\": \"SPX Index\", \"#px\": 740.74, \"DATE\": \"1996-12-31T00:00:00\", \"CURRENCY\": \"USD\", \"year\": 1996, \"rets\": 0.20263666325718843, \"bins\": \"20 to 30\"}, {\"ID\": \"SPX Index\", \"#px\": 970.43, \"DATE\": \"1997-12-31T00:00:00\", \"CURRENCY\": \"USD\", \"year\": 1997, \"rets\": 0.31008181008181, \"bins\": \"30 to 40\"}, {\"ID\": \"SPX Index\", \"#px\": 1229.23, \"DATE\": \"1998-12-31T00:00:00\", \"CURRENCY\": \"USD\", \"year\": 1998, \"rets\": 0.2666859021258618, \"bins\": \"20 to 30\"}, {\"ID\": \"SPX Index\", \"#px\": 1469.25, \"DATE\": \"1999-12-31T00:00:00\", \"CURRENCY\": \"USD\", \"year\": 1999, \"rets\": 0.19526044759727632, \"bins\": \"10 to 20\"}, {\"ID\": \"SPX Index\", \"#px\": 1320.28, \"DATE\": \"2000-12-29T00:00:00\", \"CURRENCY\": \"USD\", \"year\": 2000, \"rets\": -0.10139186659860475, \"bins\": \"-20 to -10\"}, {\"ID\": \"SPX Index\", \"#px\": 1148.08, \"DATE\": \"2001-12-31T00:00:00\", \"CURRENCY\": \"USD\", \"year\": 2001, \"rets\": -0.13042687914684767, \"bins\": \"-20 to -10\"}, {\"ID\": \"SPX Index\", \"#px\": 879.82, \"DATE\": \"2002-12-31T00:00:00\", \"CURRENCY\": \"USD\", \"year\": 2002, \"rets\": -0.23365967528395223, \"bins\": \"-30 to -20\"}, {\"ID\": \"SPX Index\", \"#px\": 1111.92, \"DATE\": \"2003-12-31T00:00:00\", \"CURRENCY\": \"USD\", \"year\": 2003, \"rets\": 0.26380395990088884, \"bins\": \"20 to 30\"}, {\"ID\": \"SPX Index\", \"#px\": 1211.92, \"DATE\": \"2004-12-31T00:00:00\", \"CURRENCY\": \"USD\", \"year\": 2004, \"rets\": 0.0899345276638607, \"bins\": \"0 to 10\"}, {\"ID\": \"SPX Index\", \"#px\": 1248.29, \"DATE\": \"2005-12-30T00:00:00\", \"CURRENCY\": \"USD\", \"year\": 2005, \"rets\": 0.030010231698461853, \"bins\": \"0 to 10\"}, {\"ID\": \"SPX Index\", \"#px\": 1418.3, \"DATE\": \"2006-12-29T00:00:00\", \"CURRENCY\": \"USD\", \"year\": 2006, \"rets\": 0.13619431382130753, \"bins\": \"10 to 20\"}, {\"ID\": \"SPX Index\", \"#px\": 1468.36, \"DATE\": \"2007-12-31T00:00:00\", \"CURRENCY\": \"USD\", \"year\": 2007, \"rets\": 0.03529577663399841, \"bins\": \"0 to 10\"}, {\"ID\": \"SPX Index\", \"#px\": 903.25, \"DATE\": \"2008-12-31T00:00:00\", \"CURRENCY\": \"USD\", \"year\": 2008, \"rets\": -0.38485793674575713, \"bins\": \"-40 to -30\"}, {\"ID\": \"SPX Index\", \"#px\": 1115.1, \"DATE\": \"2009-12-31T00:00:00\", \"CURRENCY\": \"USD\", \"year\": 2009, \"rets\": 0.23454193191253794, \"bins\": \"20 to 30\"}, {\"ID\": \"SPX Index\", \"#px\": 1257.64, \"DATE\": \"2010-12-31T00:00:00\", \"CURRENCY\": \"USD\", \"year\": 2010, \"rets\": 0.12782710070845682, \"bins\": \"10 to 20\"}, {\"ID\": \"SPX Index\", \"#px\": 1257.61, \"DATE\": \"2011-12-30T00:00:00\", \"CURRENCY\": \"USD\", \"year\": 2011, \"rets\": -2.3854203110747184e-05, \"bins\": \"-10 to 0\"}, {\"ID\": \"SPX Index\", \"#px\": 1426.19, \"DATE\": \"2012-12-31T00:00:00\", \"CURRENCY\": \"USD\", \"year\": 2012, \"rets\": 0.13404791628565307, \"bins\": \"10 to 20\"}, {\"ID\": \"SPX Index\", \"#px\": 1848.36, \"DATE\": \"2013-12-31T00:00:00\", \"CURRENCY\": \"USD\", \"year\": 2013, \"rets\": 0.2960124527587487, \"bins\": \"20 to 30\"}, {\"ID\": \"SPX Index\", \"#px\": 2058.9, \"DATE\": \"2014-12-31T00:00:00\", \"CURRENCY\": \"USD\", \"year\": 2014, \"rets\": 0.11390638187366109, \"bins\": \"10 to 20\"}, {\"ID\": \"SPX Index\", \"#px\": 2043.94, \"DATE\": \"2015-12-31T00:00:00\", \"CURRENCY\": \"USD\", \"year\": 2015, \"rets\": -0.007266015833697623, \"bins\": \"-10 to 0\"}, {\"ID\": \"SPX Index\", \"#px\": 2238.83, \"DATE\": \"2016-12-30T00:00:00\", \"CURRENCY\": \"USD\", \"year\": 2016, \"rets\": 0.09535015704961979, \"bins\": \"0 to 10\"}, {\"ID\": \"SPX Index\", \"#px\": 2673.61, \"DATE\": \"2017-12-29T00:00:00\", \"CURRENCY\": \"USD\", \"year\": 2017, \"rets\": 0.19419964892376831, \"bins\": \"10 to 20\"}, {\"ID\": \"SPX Index\", \"#px\": 2506.85, \"DATE\": \"2018-12-31T00:00:00\", \"CURRENCY\": \"USD\", \"year\": 2018, \"rets\": -0.06237259734965093, \"bins\": \"-10 to 0\"}, {\"ID\": \"SPX Index\", \"#px\": 3230.78, \"DATE\": \"2019-12-31T00:00:00\", \"CURRENCY\": \"USD\", \"year\": 2019, \"rets\": 0.28878074077028953, \"bins\": \"20 to 30\"}, {\"ID\": \"SPX Index\", \"#px\": 3756.07, \"DATE\": \"2020-12-31T00:00:00\", \"CURRENCY\": \"USD\", \"year\": 2020, \"rets\": 0.16258921994069542, \"bins\": \"10 to 20\"}, {\"ID\": \"SPX Index\", \"#px\": 4766.18, \"DATE\": \"2021-12-31T00:00:00\", \"CURRENCY\": \"USD\", \"year\": 2021, \"rets\": 0.268927362908572, \"bins\": \"20 to 30\"}, {\"ID\": \"SPX Index\", \"#px\": 3839.5, \"DATE\": \"2022-12-30T00:00:00\", \"CURRENCY\": \"USD\", \"year\": 2022, \"rets\": -0.19442824232404152, \"bins\": \"-20 to -10\"}, {\"ID\": \"SPX Index\", \"#px\": 4769.83, \"DATE\": \"2023-12-29T00:00:00\", \"CURRENCY\": \"USD\", \"year\": 2023, \"rets\": 0.24230498762859745, \"bins\": \"20 to 30\"}, {\"ID\": \"SPX Index\", \"#px\": 5930.85, \"DATE\": \"2024-12-23T00:00:00\", \"CURRENCY\": \"USD\", \"year\": 2024, \"rets\": 0.24340909424444906, \"bins\": \"20 to 30\"}]}}, {\"mode\": \"vega-lite\"});\n",
       "</script>"
      ],
      "text/plain": [
       "alt.LayerChart(...)"
      ]
     },
     "execution_count": 67,
     "metadata": {},
     "output_type": "execute_result"
    }
   ],
   "source": [
    "# get S&P annual price returns\n",
    "query = \"\"\"\n",
    "let(#px = px_last(dates=range(-100Y, 0D), fill=prev, per=Y);)\n",
    "get(#px)\n",
    "for('SPX Index')\n",
    "\"\"\"\n",
    "with BQuery() as bq:\n",
    "    df = bq.bql(query).combine()\n",
    "\n",
    "# Prepare data\n",
    "bins: list = [\n",
    "    \"< -50\",\n",
    "    \"-50 to -40\",\n",
    "    \"-40 to -30\",\n",
    "    \"-30 to -20\",\n",
    "    \"-20 to -10\",\n",
    "    \"-10 to 0\",\n",
    "    \"0 to 10\",\n",
    "    \"10 to 20\",\n",
    "    \"20 to 30\",\n",
    "    \"30 to 40\",\n",
    "    \"40 to 50\",\n",
    "    \"> 50\",\n",
    "]\n",
    "g_data: pl.DataFrame = df.with_columns(\n",
    "    pl.col(\"DATE\").dt.year().alias(\"year\"),\n",
    "    pl.col(\"#px\").pct_change().alias(\"rets\"),\n",
    "    pl.col(\"#px\")\n",
    "    .pct_change()\n",
    "    .mul(100)\n",
    "    .cut(\n",
    "        range(-50, 60, 10),\n",
    "        labels=bins,\n",
    "    )\n",
    "    .alias(\"bins\"),\n",
    ").drop_nulls()\n",
    "\n",
    "# Create Chart\n",
    "base = alt.Chart(g_data, title=\"S&P 500 Annual Price Returns\").encode(\n",
    "    x=alt.X(\"bins:O\", title=\"Annual Returns (%)\").sort(bins),\n",
    "    y=alt.Y(\"count()\", title=\"Count\").stack(\"zero\"),\n",
    ")\n",
    "bars = base.mark_bar().encode(\n",
    "    color=alt.Color(\"year:O\").scale(scheme=\"viridis\").legend(None)\n",
    ")\n",
    "txt = base.mark_text(dy=9).encode(\n",
    "    text=alt.Text(\"year:O\"),\n",
    "    color=alt.condition(\"datum.year < 1960\", alt.value(\"white\"), alt.value(\"black\")),\n",
    ")\n",
    "\n",
    "(bars + txt).properties(width=600, height=400).configure_axisX(labelAngle=0)\n"
   ]
  }
 ],
 "metadata": {
  "kernelspec": {
   "display_name": ".venv",
   "language": "python",
   "name": "python3"
  },
  "language_info": {
   "codemirror_mode": {
    "name": "ipython",
    "version": 3
   },
   "file_extension": ".py",
   "mimetype": "text/x-python",
   "name": "python",
   "nbconvert_exporter": "python",
   "pygments_lexer": "ipython3",
   "version": "3.12.8"
  }
 },
 "nbformat": 4,
 "nbformat_minor": 2
}
